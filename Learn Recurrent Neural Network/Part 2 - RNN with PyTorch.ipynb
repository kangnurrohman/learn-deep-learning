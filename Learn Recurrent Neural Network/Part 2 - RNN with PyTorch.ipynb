{
  "cells": [
    {
      "cell_type": "markdown",
      "metadata": {
        "id": "view-in-github",
        "colab_type": "text"
      },
      "source": [
        "<a href=\"https://colab.research.google.com/github/kangnurrohman/belajar-recurrent-neural-network/blob/main/materi/Part%202%20-%20RNN%20with%20PyTorch.ipynb\" target=\"_parent\"><img src=\"https://colab.research.google.com/assets/colab-badge.svg\" alt=\"Open In Colab\"/></a>"
      ]
    },
    {
      "cell_type": "code",
      "source": [
        "from google.colab import drive\n",
        "drive.mount('/content/drive')"
      ],
      "metadata": {
        "colab": {
          "base_uri": "https://localhost:8080/"
        },
        "id": "9W0vQINNS8Ds",
        "outputId": "1818af54-5eb6-4968-97b2-b29ed4584d4f"
      },
      "id": "9W0vQINNS8Ds",
      "execution_count": 1,
      "outputs": [
        {
          "output_type": "stream",
          "name": "stdout",
          "text": [
            "Mounted at /content/drive\n"
          ]
        }
      ]
    },
    {
      "cell_type": "code",
      "source": [
        "pip install jcopdl luwiji"
      ],
      "metadata": {
        "id": "Ydw3MUFdYj-L"
      },
      "id": "Ydw3MUFdYj-L",
      "execution_count": null,
      "outputs": []
    },
    {
      "cell_type": "code",
      "source": [
        "import zipfile\n",
        "zip_ref = zipfile.ZipFile(\"/content/drive/MyDrive/Colab Notebooks/data/data 4.zip\", 'r')\n",
        "zip_ref.extractall(\"data\")\n",
        "zip_ref.close()"
      ],
      "metadata": {
        "id": "C0fhFftrS8jU"
      },
      "id": "C0fhFftrS8jU",
      "execution_count": 3,
      "outputs": []
    },
    {
      "cell_type": "code",
      "source": [
        "import numpy as np\n",
        "import pandas as pd\n",
        "import matplotlib.pyplot as plt\n",
        "\n",
        "from sklearn.model_selection import train_test_split"
      ],
      "metadata": {
        "id": "XvtCR5eeTAtF"
      },
      "id": "XvtCR5eeTAtF",
      "execution_count": 4,
      "outputs": []
    },
    {
      "cell_type": "code",
      "source": [
        "import torch\n",
        "from torch import nn, optim\n",
        "from jcopdl.callback import Callback, set_config\n",
        "\n",
        "device = torch.device(\"cuda\" if torch.cuda.is_available() else \"cpu\")\n",
        "device"
      ],
      "metadata": {
        "colab": {
          "base_uri": "https://localhost:8080/"
        },
        "id": "LDhxJzLf7KGi",
        "outputId": "ace53143-f13e-4ff4-d74e-c6706ffd0eae"
      },
      "id": "LDhxJzLf7KGi",
      "execution_count": 5,
      "outputs": [
        {
          "output_type": "execute_result",
          "data": {
            "text/plain": [
              "device(type='cpu')"
            ]
          },
          "metadata": {},
          "execution_count": 5
        }
      ]
    },
    {
      "cell_type": "markdown",
      "source": [
        "## Import Data"
      ],
      "metadata": {
        "id": "fMElUhUqTh0W"
      },
      "id": "fMElUhUqTh0W"
    },
    {
      "cell_type": "code",
      "source": [
        "df = pd.read_csv(\"/content/data/daily_min_temp.csv\", index_col=\"Date\", parse_dates=[\"Date\"])\n",
        "df.head()"
      ],
      "metadata": {
        "colab": {
          "base_uri": "https://localhost:8080/",
          "height": 237
        },
        "id": "I5ZMcb1iTjQ5",
        "outputId": "d4368048-c83d-4caa-f74a-5453a392b3f9"
      },
      "id": "I5ZMcb1iTjQ5",
      "execution_count": 6,
      "outputs": [
        {
          "output_type": "execute_result",
          "data": {
            "text/plain": [
              "            Temp\n",
              "Date            \n",
              "1981-01-01  20.7\n",
              "1981-01-02  17.9\n",
              "1981-01-03  18.8\n",
              "1981-01-04  14.6\n",
              "1981-01-05  15.8"
            ],
            "text/html": [
              "\n",
              "  <div id=\"df-168a8c96-ddda-44b5-b58c-387eb580f1ea\">\n",
              "    <div class=\"colab-df-container\">\n",
              "      <div>\n",
              "<style scoped>\n",
              "    .dataframe tbody tr th:only-of-type {\n",
              "        vertical-align: middle;\n",
              "    }\n",
              "\n",
              "    .dataframe tbody tr th {\n",
              "        vertical-align: top;\n",
              "    }\n",
              "\n",
              "    .dataframe thead th {\n",
              "        text-align: right;\n",
              "    }\n",
              "</style>\n",
              "<table border=\"1\" class=\"dataframe\">\n",
              "  <thead>\n",
              "    <tr style=\"text-align: right;\">\n",
              "      <th></th>\n",
              "      <th>Temp</th>\n",
              "    </tr>\n",
              "    <tr>\n",
              "      <th>Date</th>\n",
              "      <th></th>\n",
              "    </tr>\n",
              "  </thead>\n",
              "  <tbody>\n",
              "    <tr>\n",
              "      <th>1981-01-01</th>\n",
              "      <td>20.7</td>\n",
              "    </tr>\n",
              "    <tr>\n",
              "      <th>1981-01-02</th>\n",
              "      <td>17.9</td>\n",
              "    </tr>\n",
              "    <tr>\n",
              "      <th>1981-01-03</th>\n",
              "      <td>18.8</td>\n",
              "    </tr>\n",
              "    <tr>\n",
              "      <th>1981-01-04</th>\n",
              "      <td>14.6</td>\n",
              "    </tr>\n",
              "    <tr>\n",
              "      <th>1981-01-05</th>\n",
              "      <td>15.8</td>\n",
              "    </tr>\n",
              "  </tbody>\n",
              "</table>\n",
              "</div>\n",
              "      <button class=\"colab-df-convert\" onclick=\"convertToInteractive('df-168a8c96-ddda-44b5-b58c-387eb580f1ea')\"\n",
              "              title=\"Convert this dataframe to an interactive table.\"\n",
              "              style=\"display:none;\">\n",
              "        \n",
              "  <svg xmlns=\"http://www.w3.org/2000/svg\" height=\"24px\"viewBox=\"0 0 24 24\"\n",
              "       width=\"24px\">\n",
              "    <path d=\"M0 0h24v24H0V0z\" fill=\"none\"/>\n",
              "    <path d=\"M18.56 5.44l.94 2.06.94-2.06 2.06-.94-2.06-.94-.94-2.06-.94 2.06-2.06.94zm-11 1L8.5 8.5l.94-2.06 2.06-.94-2.06-.94L8.5 2.5l-.94 2.06-2.06.94zm10 10l.94 2.06.94-2.06 2.06-.94-2.06-.94-.94-2.06-.94 2.06-2.06.94z\"/><path d=\"M17.41 7.96l-1.37-1.37c-.4-.4-.92-.59-1.43-.59-.52 0-1.04.2-1.43.59L10.3 9.45l-7.72 7.72c-.78.78-.78 2.05 0 2.83L4 21.41c.39.39.9.59 1.41.59.51 0 1.02-.2 1.41-.59l7.78-7.78 2.81-2.81c.8-.78.8-2.07 0-2.86zM5.41 20L4 18.59l7.72-7.72 1.47 1.35L5.41 20z\"/>\n",
              "  </svg>\n",
              "      </button>\n",
              "      \n",
              "  <style>\n",
              "    .colab-df-container {\n",
              "      display:flex;\n",
              "      flex-wrap:wrap;\n",
              "      gap: 12px;\n",
              "    }\n",
              "\n",
              "    .colab-df-convert {\n",
              "      background-color: #E8F0FE;\n",
              "      border: none;\n",
              "      border-radius: 50%;\n",
              "      cursor: pointer;\n",
              "      display: none;\n",
              "      fill: #1967D2;\n",
              "      height: 32px;\n",
              "      padding: 0 0 0 0;\n",
              "      width: 32px;\n",
              "    }\n",
              "\n",
              "    .colab-df-convert:hover {\n",
              "      background-color: #E2EBFA;\n",
              "      box-shadow: 0px 1px 2px rgba(60, 64, 67, 0.3), 0px 1px 3px 1px rgba(60, 64, 67, 0.15);\n",
              "      fill: #174EA6;\n",
              "    }\n",
              "\n",
              "    [theme=dark] .colab-df-convert {\n",
              "      background-color: #3B4455;\n",
              "      fill: #D2E3FC;\n",
              "    }\n",
              "\n",
              "    [theme=dark] .colab-df-convert:hover {\n",
              "      background-color: #434B5C;\n",
              "      box-shadow: 0px 1px 3px 1px rgba(0, 0, 0, 0.15);\n",
              "      filter: drop-shadow(0px 1px 2px rgba(0, 0, 0, 0.3));\n",
              "      fill: #FFFFFF;\n",
              "    }\n",
              "  </style>\n",
              "\n",
              "      <script>\n",
              "        const buttonEl =\n",
              "          document.querySelector('#df-168a8c96-ddda-44b5-b58c-387eb580f1ea button.colab-df-convert');\n",
              "        buttonEl.style.display =\n",
              "          google.colab.kernel.accessAllowed ? 'block' : 'none';\n",
              "\n",
              "        async function convertToInteractive(key) {\n",
              "          const element = document.querySelector('#df-168a8c96-ddda-44b5-b58c-387eb580f1ea');\n",
              "          const dataTable =\n",
              "            await google.colab.kernel.invokeFunction('convertToInteractive',\n",
              "                                                     [key], {});\n",
              "          if (!dataTable) return;\n",
              "\n",
              "          const docLinkHtml = 'Like what you see? Visit the ' +\n",
              "            '<a target=\"_blank\" href=https://colab.research.google.com/notebooks/data_table.ipynb>data table notebook</a>'\n",
              "            + ' to learn more about interactive tables.';\n",
              "          element.innerHTML = '';\n",
              "          dataTable['output_type'] = 'display_data';\n",
              "          await google.colab.output.renderOutput(dataTable, element);\n",
              "          const docLink = document.createElement('div');\n",
              "          docLink.innerHTML = docLinkHtml;\n",
              "          element.appendChild(docLink);\n",
              "        }\n",
              "      </script>\n",
              "    </div>\n",
              "  </div>\n",
              "  "
            ]
          },
          "metadata": {},
          "execution_count": 6
        }
      ]
    },
    {
      "cell_type": "code",
      "source": [
        "df.Temp.plot(figsize=(15, 6), color='red')"
      ],
      "metadata": {
        "colab": {
          "base_uri": "https://localhost:8080/",
          "height": 384
        },
        "id": "rGGOSYlTUQCG",
        "outputId": "c821a205-66f7-47c4-d23f-ed68e35dce90"
      },
      "id": "rGGOSYlTUQCG",
      "execution_count": 7,
      "outputs": [
        {
          "output_type": "execute_result",
          "data": {
            "text/plain": [
              "<matplotlib.axes._subplots.AxesSubplot at 0x7f8daa8aae10>"
            ]
          },
          "metadata": {},
          "execution_count": 7
        },
        {
          "output_type": "display_data",
          "data": {
            "text/plain": [
              "<Figure size 1080x432 with 1 Axes>"
            ],
            "image/png": "[encoded data removed]"
          },
          "metadata": {
            "needs_background": "light"
          }
        }
      ]
    },
    {
      "cell_type": "markdown",
      "source": [
        "## Dataset Spliting"
      ],
      "metadata": {
        "id": "h5dIwcCeUxrf"
      },
      "id": "h5dIwcCeUxrf"
    },
    {
      "cell_type": "code",
      "source": [
        "ts_train, ts_test = train_test_split(df, shuffle=False)\n",
        "ts_train.shape, ts_test.shape"
      ],
      "metadata": {
        "colab": {
          "base_uri": "https://localhost:8080/"
        },
        "id": "-mBi2WmTU0Eo",
        "outputId": "735bd9d3-25ef-4b70-e34e-052d07918545"
      },
      "id": "-mBi2WmTU0Eo",
      "execution_count": 8,
      "outputs": [
        {
          "output_type": "execute_result",
          "data": {
            "text/plain": [
              "((2737, 1), (913, 1))"
            ]
          },
          "metadata": {},
          "execution_count": 8
        }
      ]
    },
    {
      "cell_type": "markdown",
      "source": [
        "## Dataset & Dataloader"
      ],
      "metadata": {
        "id": "Td0ZcWT1YpFu"
      },
      "id": "Td0ZcWT1YpFu"
    },
    {
      "cell_type": "code",
      "source": [
        "from jcopdl.utils import TimeSeriesDataset\n",
        "from torch.utils.data import DataLoader"
      ],
      "metadata": {
        "id": "BZl-nJQuYrXD"
      },
      "id": "BZl-nJQuYrXD",
      "execution_count": 9,
      "outputs": []
    },
    {
      "cell_type": "code",
      "source": [
        "seq_len = 14\n",
        "bs = 32\n",
        "\n",
        "train_set = TimeSeriesDataset(ts_train, \"Temp\", seq_len)\n",
        "train_loader = DataLoader(train_set, batch_size=bs, num_workers=2)\n",
        "\n",
        "test_set = TimeSeriesDataset(ts_test, \"Temp\", seq_len)\n",
        "test_loader = DataLoader(test_set, batch_size=bs, num_workers=2)"
      ],
      "metadata": {
        "colab": {
          "base_uri": "https://localhost:8080/"
        },
        "id": "yfpE2GPXY7hQ",
        "outputId": "bb64dff5-f4bb-4b0e-f63a-e07a0d67e5aa"
      },
      "id": "yfpE2GPXY7hQ",
      "execution_count": 10,
      "outputs": [
        {
          "output_type": "stream",
          "name": "stdout",
          "text": [
            "(N, S, F): (195, 14, 1)\n",
            "Note: last \u001b[31m6 data excluded\u001b[0m\n",
            "\n",
            "(N, S, F): (65, 14, 1)\n",
            "Note: last \u001b[31m2 data excluded\u001b[0m\n",
            "\n"
          ]
        }
      ]
    },
    {
      "cell_type": "markdown",
      "source": [
        "## Arsitektur & Config"
      ],
      "metadata": {
        "id": "BhoAeI0B3Mo5"
      },
      "id": "BhoAeI0B3Mo5"
    },
    {
      "cell_type": "code",
      "source": [
        "class RNN(nn.Module):\n",
        "  def __init__(self, input_size, output_size, hidden_size, num_layers, dropout):\n",
        "    super().__init__()\n",
        "    self.rnn = nn.RNN(input_size, hidden_size, num_layers, dropout=dropout, batch_first=True)\n",
        "    self.fc = nn.Linear(hidden_size, output_size)\n",
        "\n",
        "  def forward(self, x, hidden):\n",
        "    x, hidden = self.rnn(x, hidden)\n",
        "    x = self.fc(x)\n",
        "    return x, hidden"
      ],
      "metadata": {
        "id": "A8yfxltJ3NaL"
      },
      "id": "A8yfxltJ3NaL",
      "execution_count": 11,
      "outputs": []
    },
    {
      "cell_type": "code",
      "source": [
        "config = set_config({\n",
        "    \"input_size\": train_set.n_feature,\n",
        "    \"seq_len\": train_set.n_seq,\n",
        "    \"output_size\": 1,\n",
        "    \"hidden_size\":64,\n",
        "    \"num_layers\": 2,\n",
        "    \"dropout\":0\n",
        "})"
      ],
      "metadata": {
        "id": "MP0jR2TkQ-ZJ"
      },
      "id": "MP0jR2TkQ-ZJ",
      "execution_count": 12,
      "outputs": []
    },
    {
      "cell_type": "markdown",
      "source": [
        "## Training Preparation -> MCOC"
      ],
      "metadata": {
        "id": "LkmJLGIpViUd"
      },
      "id": "LkmJLGIpViUd"
    },
    {
      "cell_type": "code",
      "source": [
        "model = RNN(config.input_size, config.output_size, config.hidden_size, config.num_layers, config.dropout).to(device)\n",
        "criterion = nn.MSELoss(reduction=\"mean\")\n",
        "optimizer = optim.AdamW(model.parameters(), lr=0.001)\n",
        "callback = Callback(model, config, outdir='/content/data/model/rnn')"
      ],
      "metadata": {
        "id": "KV3jIEVpSJa-"
      },
      "id": "KV3jIEVpSJa-",
      "execution_count": 13,
      "outputs": []
    },
    {
      "cell_type": "markdown",
      "source": [
        "## Training"
      ],
      "metadata": {
        "id": "WA55OK3MeG_u"
      },
      "id": "WA55OK3MeG_u"
    },
    {
      "cell_type": "code",
      "source": [
        "from tqdm import tqdm\n",
        "\n",
        "def loop_fn(mode, dataset, dataloader, model, criterion, optimizer, device):\n",
        "  if mode == 'train':\n",
        "    model.train()\n",
        "  elif mode == 'test':\n",
        "    model.eval()\n",
        "  cost = 0\n",
        "  for feature, target in tqdm(dataloader, desc=mode.title()):\n",
        "    feature, target = feature.to(device), target.to(device)\n",
        "    output, hidden = model(feature, None)\n",
        "    loss = criterion(output, target)\n",
        "\n",
        "    if mode == 'train':\n",
        "      loss.backward()\n",
        "      optimizer.step()\n",
        "      optimizer.zero_grad()\n",
        "\n",
        "    cost += loss.item() * feature.shape[0]\n",
        "  cost = cost / len(dataset)\n",
        "  return cost"
      ],
      "metadata": {
        "id": "Ak0uo89seHt4"
      },
      "id": "Ak0uo89seHt4",
      "execution_count": 14,
      "outputs": []
    },
    {
      "cell_type": "code",
      "source": [
        "while True:\n",
        "  train_cost = loop_fn(\"train\", train_set, train_loader, model, criterion, optimizer, device)\n",
        "  with torch.no_grad():\n",
        "    test_cost= loop_fn(\"test\", test_set, test_loader, model, criterion, optimizer, device)\n",
        "\n",
        "  #Logging\n",
        "  callback.log(train_cost, test_cost)\n",
        "\n",
        "  #Checkpoint\n",
        "  callback.save_checkpoint()\n",
        "\n",
        "  #Runtime_plotting\n",
        "  callback.cost_runtime_plotting()\n",
        "\n",
        "  #Early stopping\n",
        "  if callback.early_stopping(model, monitor=\"test_cost\"):\n",
        "        callback.plot_cost()\n",
        "        break"
      ],
      "metadata": {
        "colab": {
          "base_uri": "https://localhost:8080/",
          "height": 1000
        },
        "id": "iATDgvxOfaT2",
        "outputId": "47f85821-8727-40bf-f3ef-b19952fbad05"
      },
      "id": "iATDgvxOfaT2",
      "execution_count": 15,
      "outputs": [
        {
          "output_type": "stream",
          "name": "stderr",
          "text": [
            "Train: 100%|██████████| 7/7 [00:00<00:00, 34.83it/s]\n",
            "Test: 100%|██████████| 3/3 [00:00<00:00, 83.84it/s]\n"
          ]
        },
        {
          "output_type": "stream",
          "name": "stdout",
          "text": [
            "\n",
            "Epoch     1\n",
            "Train_cost  = 126.2981 | Test_cost  = 105.9732 | \n"
          ]
        },
        {
          "output_type": "stream",
          "name": "stderr",
          "text": [
            "Train: 100%|██████████| 7/7 [00:00<00:00, 86.40it/s]\n",
            "Test: 100%|██████████| 3/3 [00:00<00:00, 57.94it/s]\n"
          ]
        },
        {
          "output_type": "stream",
          "name": "stdout",
          "text": [
            "\n",
            "Epoch     2\n",
            "Train_cost  = 92.5375 | Test_cost  = 80.7612 | \n"
          ]
        },
        {
          "output_type": "stream",
          "name": "stderr",
          "text": [
            "Train: 100%|██████████| 7/7 [00:00<00:00, 47.71it/s]\n",
            "Test: 100%|██████████| 3/3 [00:00<00:00, 35.52it/s]\n"
          ]
        },
        {
          "output_type": "stream",
          "name": "stdout",
          "text": [
            "\n",
            "Epoch     3\n",
            "Train_cost  = 71.9821 | Test_cost  = 65.8725 | \n"
          ]
        },
        {
          "output_type": "stream",
          "name": "stderr",
          "text": [
            "Train: 100%|██████████| 7/7 [00:00<00:00, 74.54it/s]\n",
            "Test: 100%|██████████| 3/3 [00:00<00:00, 70.44it/s]\n"
          ]
        },
        {
          "output_type": "stream",
          "name": "stdout",
          "text": [
            "\n",
            "Epoch     4\n",
            "Train_cost  = 59.9259 | Test_cost  = 56.7950 | \n"
          ]
        },
        {
          "output_type": "stream",
          "name": "stderr",
          "text": [
            "Train: 100%|██████████| 7/7 [00:00<00:00, 84.62it/s]\n",
            "Test: 100%|██████████| 3/3 [00:00<00:00, 57.18it/s]\n"
          ]
        },
        {
          "output_type": "stream",
          "name": "stdout",
          "text": [
            "\n",
            "Epoch     5\n",
            "Train_cost  = 52.2034 | Test_cost  = 50.1872 | \n"
          ]
        },
        {
          "output_type": "stream",
          "name": "stderr",
          "text": [
            "Train: 100%|██████████| 7/7 [00:00<00:00, 88.06it/s]\n",
            "Test: 100%|██████████| 3/3 [00:00<00:00, 74.39it/s]\n"
          ]
        },
        {
          "output_type": "stream",
          "name": "stdout",
          "text": [
            "\n",
            "Epoch     6\n",
            "Train_cost  = 46.3157 | Test_cost  = 44.7744 | \n"
          ]
        },
        {
          "output_type": "stream",
          "name": "stderr",
          "text": [
            "Train: 100%|██████████| 7/7 [00:00<00:00, 100.53it/s]\n",
            "Test: 100%|██████████| 3/3 [00:00<00:00, 86.63it/s]\n"
          ]
        },
        {
          "output_type": "stream",
          "name": "stdout",
          "text": [
            "\n",
            "Epoch     7\n",
            "Train_cost  = 41.4245 | Test_cost  = 40.1661 | \n"
          ]
        },
        {
          "output_type": "stream",
          "name": "stderr",
          "text": [
            "Train: 100%|██████████| 7/7 [00:00<00:00, 76.90it/s]\n",
            "Test: 100%|██████████| 3/3 [00:00<00:00, 80.76it/s]\n"
          ]
        },
        {
          "output_type": "stream",
          "name": "stdout",
          "text": [
            "\n",
            "Epoch     8\n",
            "Train_cost  = 37.2594 | Test_cost  = 36.2129 | \n"
          ]
        },
        {
          "output_type": "stream",
          "name": "stderr",
          "text": [
            "Train: 100%|██████████| 7/7 [00:00<00:00, 100.84it/s]\n",
            "Test: 100%|██████████| 3/3 [00:00<00:00, 70.04it/s]\n"
          ]
        },
        {
          "output_type": "stream",
          "name": "stdout",
          "text": [
            "\n",
            "Epoch     9\n",
            "Train_cost  = 33.7033 | Test_cost  = 32.8296 | \n"
          ]
        },
        {
          "output_type": "stream",
          "name": "stderr",
          "text": [
            "Train: 100%|██████████| 7/7 [00:00<00:00, 83.51it/s]\n",
            "Test: 100%|██████████| 3/3 [00:00<00:00, 82.36it/s]\n"
          ]
        },
        {
          "output_type": "stream",
          "name": "stdout",
          "text": [
            "\n",
            "Epoch    10\n",
            "Train_cost  = 30.6795 | Test_cost  = 29.9481 | \n"
          ]
        },
        {
          "output_type": "stream",
          "name": "stderr",
          "text": [
            "Train: 100%|██████████| 7/7 [00:00<00:00, 91.39it/s]\n",
            "Test: 100%|██████████| 3/3 [00:00<00:00, 68.28it/s]\n"
          ]
        },
        {
          "output_type": "stream",
          "name": "stdout",
          "text": [
            "\n",
            "Epoch    11\n",
            "Train_cost  = 28.1231 | Test_cost  = 27.5075 | \n"
          ]
        },
        {
          "output_type": "stream",
          "name": "stderr",
          "text": [
            "Train: 100%|██████████| 7/7 [00:00<00:00, 95.56it/s]\n",
            "Test: 100%|██████████| 3/3 [00:00<00:00, 70.37it/s]\n"
          ]
        },
        {
          "output_type": "stream",
          "name": "stdout",
          "text": [
            "\n",
            "Epoch    12\n",
            "Train_cost  = 25.9757 | Test_cost  = 25.4522 | \n"
          ]
        },
        {
          "output_type": "stream",
          "name": "stderr",
          "text": [
            "Train: 100%|██████████| 7/7 [00:00<00:00, 94.76it/s]\n",
            "Test: 100%|██████████| 3/3 [00:00<00:00, 63.50it/s]\n"
          ]
        },
        {
          "output_type": "stream",
          "name": "stdout",
          "text": [
            "\n",
            "Epoch    13\n",
            "Train_cost  = 24.1835 | Test_cost  = 23.7316 | \n"
          ]
        },
        {
          "output_type": "stream",
          "name": "stderr",
          "text": [
            "Train: 100%|██████████| 7/7 [00:00<00:00, 79.48it/s]\n",
            "Test: 100%|██████████| 3/3 [00:00<00:00, 68.91it/s]\n"
          ]
        },
        {
          "output_type": "stream",
          "name": "stdout",
          "text": [
            "\n",
            "Epoch    14\n",
            "Train_cost  = 22.6981 | Test_cost  = 22.2996 | \n"
          ]
        },
        {
          "output_type": "stream",
          "name": "stderr",
          "text": [
            "Train: 100%|██████████| 7/7 [00:00<00:00, 87.23it/s]\n",
            "Test: 100%|██████████| 3/3 [00:00<00:00, 69.64it/s]\n"
          ]
        },
        {
          "output_type": "stream",
          "name": "stdout",
          "text": [
            "\n",
            "Epoch    15\n",
            "Train_cost  = 21.4754 | Test_cost  = 21.1148 | \n"
          ]
        },
        {
          "output_type": "stream",
          "name": "stderr",
          "text": [
            "Train: 100%|██████████| 7/7 [00:00<00:00, 97.72it/s]\n",
            "Test: 100%|██████████| 3/3 [00:00<00:00, 72.65it/s]\n"
          ]
        },
        {
          "output_type": "stream",
          "name": "stdout",
          "text": [
            "\n",
            "Epoch    16\n",
            "Train_cost  = 20.4759 | Test_cost  = 20.1400 | \n"
          ]
        },
        {
          "output_type": "stream",
          "name": "stderr",
          "text": [
            "Train: 100%|██████████| 7/7 [00:00<00:00, 77.21it/s]\n",
            "Test: 100%|██████████| 3/3 [00:00<00:00, 80.15it/s]\n"
          ]
        },
        {
          "output_type": "stream",
          "name": "stdout",
          "text": [
            "\n",
            "Epoch    17\n",
            "Train_cost  = 19.6644 | Test_cost  = 19.3424 | \n"
          ]
        },
        {
          "output_type": "stream",
          "name": "stderr",
          "text": [
            "Train: 100%|██████████| 7/7 [00:00<00:00, 92.19it/s]\n",
            "Test: 100%|██████████| 3/3 [00:00<00:00, 80.09it/s]\n"
          ]
        },
        {
          "output_type": "stream",
          "name": "stdout",
          "text": [
            "\n",
            "Epoch    18\n",
            "Train_cost  = 19.0099 | Test_cost  = 18.6929 | \n"
          ]
        },
        {
          "output_type": "stream",
          "name": "stderr",
          "text": [
            "Train: 100%|██████████| 7/7 [00:00<00:00, 45.52it/s]\n",
            "Test: 100%|██████████| 3/3 [00:00<00:00, 42.58it/s]\n"
          ]
        },
        {
          "output_type": "stream",
          "name": "stdout",
          "text": [
            "\n",
            "Epoch    19\n",
            "Train_cost  = 18.4854 | Test_cost  = 18.1665 | \n"
          ]
        },
        {
          "output_type": "stream",
          "name": "stderr",
          "text": [
            "Train: 100%|██████████| 7/7 [00:00<00:00, 79.96it/s]\n",
            "Test: 100%|██████████| 3/3 [00:00<00:00, 48.77it/s]\n"
          ]
        },
        {
          "output_type": "stream",
          "name": "stdout",
          "text": [
            "\n",
            "Epoch    20\n",
            "Train_cost  = 18.0674 | Test_cost  = 17.7415 | \n"
          ]
        },
        {
          "output_type": "display_data",
          "data": {
            "text/plain": [
              "<Figure size 576x360 with 1 Axes>"
            ],
            "image/png": "[encoded data removed]"
          },
          "metadata": {
            "needs_background": "light"
          }
        },
        {
          "output_type": "stream",
          "name": "stderr",
          "text": [
            "Train: 100%|██████████| 7/7 [00:00<00:00, 77.68it/s]\n",
            "Test: 100%|██████████| 3/3 [00:00<00:00, 60.55it/s]\n"
          ]
        },
        {
          "output_type": "stream",
          "name": "stdout",
          "text": [
            "\n",
            "Epoch    21\n",
            "Train_cost  = 17.7362 | Test_cost  = 17.3994 | \n"
          ]
        },
        {
          "output_type": "stream",
          "name": "stderr",
          "text": [
            "Train: 100%|██████████| 7/7 [00:00<00:00, 91.77it/s]\n",
            "Test: 100%|██████████| 3/3 [00:00<00:00, 63.29it/s]\n"
          ]
        },
        {
          "output_type": "stream",
          "name": "stdout",
          "text": [
            "\n",
            "Epoch    22\n",
            "Train_cost  = 17.4749 | Test_cost  = 17.1248 | \n"
          ]
        },
        {
          "output_type": "stream",
          "name": "stderr",
          "text": [
            "Train: 100%|██████████| 7/7 [00:00<00:00, 89.06it/s]\n",
            "Test: 100%|██████████| 3/3 [00:00<00:00, 66.71it/s]\n"
          ]
        },
        {
          "output_type": "stream",
          "name": "stdout",
          "text": [
            "\n",
            "Epoch    23\n",
            "Train_cost  = 17.2696 | Test_cost  = 16.9047 | \n"
          ]
        },
        {
          "output_type": "stream",
          "name": "stderr",
          "text": [
            "Train: 100%|██████████| 7/7 [00:00<00:00, 88.51it/s]\n",
            "Test: 100%|██████████| 3/3 [00:00<00:00, 60.85it/s]\n"
          ]
        },
        {
          "output_type": "stream",
          "name": "stdout",
          "text": [
            "\n",
            "Epoch    24\n",
            "Train_cost  = 17.1086 | Test_cost  = 16.7284 | \n"
          ]
        },
        {
          "output_type": "stream",
          "name": "stderr",
          "text": [
            "Train: 100%|██████████| 7/7 [00:00<00:00, 83.36it/s]\n",
            "Test: 100%|██████████| 3/3 [00:00<00:00, 68.02it/s]\n"
          ]
        },
        {
          "output_type": "stream",
          "name": "stdout",
          "text": [
            "\n",
            "Epoch    25\n",
            "Train_cost  = 16.9825 | Test_cost  = 16.5872 | \n"
          ]
        },
        {
          "output_type": "stream",
          "name": "stderr",
          "text": [
            "Train: 100%|██████████| 7/7 [00:00<00:00, 97.17it/s]\n",
            "Test: 100%|██████████| 3/3 [00:00<00:00, 58.79it/s]\n"
          ]
        },
        {
          "output_type": "stream",
          "name": "stdout",
          "text": [
            "\n",
            "Epoch    26\n",
            "Train_cost  = 16.8838 | Test_cost  = 16.4739 | \n"
          ]
        },
        {
          "output_type": "stream",
          "name": "stderr",
          "text": [
            "Train: 100%|██████████| 7/7 [00:00<00:00, 93.48it/s]\n",
            "Test: 100%|██████████| 3/3 [00:00<00:00, 51.96it/s]\n"
          ]
        },
        {
          "output_type": "stream",
          "name": "stdout",
          "text": [
            "\n",
            "Epoch    27\n",
            "Train_cost  = 16.8062 | Test_cost  = 16.3827 | \n"
          ]
        },
        {
          "output_type": "stream",
          "name": "stderr",
          "text": [
            "Train: 100%|██████████| 7/7 [00:00<00:00, 83.41it/s]\n",
            "Test: 100%|██████████| 3/3 [00:00<00:00, 72.00it/s]\n"
          ]
        },
        {
          "output_type": "stream",
          "name": "stdout",
          "text": [
            "\n",
            "Epoch    28\n",
            "Train_cost  = 16.7450 | Test_cost  = 16.3090 | \n"
          ]
        },
        {
          "output_type": "stream",
          "name": "stderr",
          "text": [
            "Train: 100%|██████████| 7/7 [00:00<00:00, 76.70it/s]\n",
            "Test: 100%|██████████| 3/3 [00:00<00:00, 59.31it/s]\n"
          ]
        },
        {
          "output_type": "stream",
          "name": "stdout",
          "text": [
            "\n",
            "Epoch    29\n",
            "Train_cost  = 16.6962 | Test_cost  = 16.2491 | \n"
          ]
        },
        {
          "output_type": "stream",
          "name": "stderr",
          "text": [
            "Train: 100%|██████████| 7/7 [00:00<00:00, 96.73it/s]\n",
            "Test: 100%|██████████| 3/3 [00:00<00:00, 72.26it/s]\n"
          ]
        },
        {
          "output_type": "stream",
          "name": "stdout",
          "text": [
            "\n",
            "Epoch    30\n",
            "Train_cost  = 16.6568 | Test_cost  = 16.1998 | \n"
          ]
        },
        {
          "output_type": "stream",
          "name": "stderr",
          "text": [
            "Train: 100%|██████████| 7/7 [00:00<00:00, 89.26it/s]\n",
            "Test: 100%|██████████| 3/3 [00:00<00:00, 79.62it/s]\n"
          ]
        },
        {
          "output_type": "stream",
          "name": "stdout",
          "text": [
            "\n",
            "Epoch    31\n",
            "Train_cost  = 16.6242 | Test_cost  = 16.1587 | \n"
          ]
        },
        {
          "output_type": "stream",
          "name": "stderr",
          "text": [
            "Train: 100%|██████████| 7/7 [00:00<00:00, 94.09it/s]\n",
            "Test: 100%|██████████| 3/3 [00:00<00:00, 65.46it/s]\n"
          ]
        },
        {
          "output_type": "stream",
          "name": "stdout",
          "text": [
            "\n",
            "Epoch    32\n",
            "Train_cost  = 16.5962 | Test_cost  = 16.1235 | \n"
          ]
        },
        {
          "output_type": "stream",
          "name": "stderr",
          "text": [
            "Train: 100%|██████████| 7/7 [00:00<00:00, 84.88it/s]\n",
            "Test: 100%|██████████| 3/3 [00:00<00:00, 70.09it/s]\n"
          ]
        },
        {
          "output_type": "stream",
          "name": "stdout",
          "text": [
            "\n",
            "Epoch    33\n",
            "Train_cost  = 16.5710 | Test_cost  = 16.0922 | \n"
          ]
        },
        {
          "output_type": "stream",
          "name": "stderr",
          "text": [
            "Train: 100%|██████████| 7/7 [00:00<00:00, 87.45it/s]\n",
            "Test: 100%|██████████| 3/3 [00:00<00:00, 72.34it/s]\n"
          ]
        },
        {
          "output_type": "stream",
          "name": "stdout",
          "text": [
            "\n",
            "Epoch    34\n",
            "Train_cost  = 16.5464 | Test_cost  = 16.0626 | \n"
          ]
        },
        {
          "output_type": "stream",
          "name": "stderr",
          "text": [
            "Train: 100%|██████████| 7/7 [00:00<00:00, 86.06it/s]\n",
            "Test: 100%|██████████| 3/3 [00:00<00:00, 58.96it/s]\n"
          ]
        },
        {
          "output_type": "stream",
          "name": "stdout",
          "text": [
            "\n",
            "Epoch    35\n",
            "Train_cost  = 16.5198 | Test_cost  = 16.0316 | \n"
          ]
        },
        {
          "output_type": "stream",
          "name": "stderr",
          "text": [
            "Train: 100%|██████████| 7/7 [00:00<00:00, 94.32it/s]\n",
            "Test: 100%|██████████| 3/3 [00:00<00:00, 71.36it/s]\n"
          ]
        },
        {
          "output_type": "stream",
          "name": "stdout",
          "text": [
            "\n",
            "Epoch    36\n",
            "Train_cost  = 16.4863 | Test_cost  = 15.9923 | \n"
          ]
        },
        {
          "output_type": "stream",
          "name": "stderr",
          "text": [
            "Train: 100%|██████████| 7/7 [00:00<00:00, 78.22it/s]\n",
            "Test: 100%|██████████| 3/3 [00:00<00:00, 58.15it/s]\n"
          ]
        },
        {
          "output_type": "stream",
          "name": "stdout",
          "text": [
            "\n",
            "Epoch    37\n",
            "Train_cost  = 16.4307 | Test_cost  = 15.9190 | \n"
          ]
        },
        {
          "output_type": "stream",
          "name": "stderr",
          "text": [
            "Train: 100%|██████████| 7/7 [00:00<00:00, 89.21it/s]\n",
            "Test: 100%|██████████| 3/3 [00:00<00:00, 59.41it/s]\n"
          ]
        },
        {
          "output_type": "stream",
          "name": "stdout",
          "text": [
            "\n",
            "Epoch    38\n",
            "Train_cost  = 16.2873 | Test_cost  = 15.6983 | \n"
          ]
        },
        {
          "output_type": "stream",
          "name": "stderr",
          "text": [
            "Train: 100%|██████████| 7/7 [00:00<00:00, 43.10it/s]\n",
            "Test: 100%|██████████| 3/3 [00:00<00:00, 38.15it/s]\n"
          ]
        },
        {
          "output_type": "stream",
          "name": "stdout",
          "text": [
            "\n",
            "Epoch    39\n",
            "Train_cost  = 15.8980 | Test_cost  = 15.4242 | \n"
          ]
        },
        {
          "output_type": "stream",
          "name": "stderr",
          "text": [
            "Train: 100%|██████████| 7/7 [00:00<00:00, 48.63it/s]\n",
            "Test: 100%|██████████| 3/3 [00:00<00:00, 40.55it/s]\n"
          ]
        },
        {
          "output_type": "stream",
          "name": "stdout",
          "text": [
            "\n",
            "Epoch    40\n",
            "Train_cost  = 15.1849 | Test_cost  = 14.3924 | \n"
          ]
        },
        {
          "output_type": "display_data",
          "data": {
            "text/plain": [
              "<Figure size 576x360 with 1 Axes>"
            ],
            "image/png": "[encoded data removed]"
          },
          "metadata": {
            "needs_background": "light"
          }
        },
        {
          "output_type": "stream",
          "name": "stderr",
          "text": [
            "Train: 100%|██████████| 7/7 [00:00<00:00, 53.76it/s]\n",
            "Test: 100%|██████████| 3/3 [00:00<00:00, 40.82it/s]\n"
          ]
        },
        {
          "output_type": "stream",
          "name": "stdout",
          "text": [
            "\n",
            "Epoch    41\n",
            "Train_cost  = 14.1960 | Test_cost  = 13.8147 | \n"
          ]
        },
        {
          "output_type": "stream",
          "name": "stderr",
          "text": [
            "Train: 100%|██████████| 7/7 [00:00<00:00, 47.38it/s]\n",
            "Test: 100%|██████████| 3/3 [00:00<00:00, 30.80it/s]\n"
          ]
        },
        {
          "output_type": "stream",
          "name": "stdout",
          "text": [
            "\n",
            "Epoch    42\n",
            "Train_cost  = 13.6029 | Test_cost  = 13.1660 | \n"
          ]
        },
        {
          "output_type": "stream",
          "name": "stderr",
          "text": [
            "Train: 100%|██████████| 7/7 [00:00<00:00, 43.42it/s]\n",
            "Test: 100%|██████████| 3/3 [00:00<00:00, 37.69it/s]\n"
          ]
        },
        {
          "output_type": "stream",
          "name": "stdout",
          "text": [
            "\n",
            "Epoch    43\n",
            "Train_cost  = 12.9197 | Test_cost  = 12.5423 | \n"
          ]
        },
        {
          "output_type": "stream",
          "name": "stderr",
          "text": [
            "Train: 100%|██████████| 7/7 [00:00<00:00, 51.42it/s]\n",
            "Test: 100%|██████████| 3/3 [00:00<00:00, 37.11it/s]\n"
          ]
        },
        {
          "output_type": "stream",
          "name": "stdout",
          "text": [
            "\n",
            "Epoch    44\n",
            "Train_cost  = 12.2596 | Test_cost  = 11.9780 | \n"
          ]
        },
        {
          "output_type": "stream",
          "name": "stderr",
          "text": [
            "Train: 100%|██████████| 7/7 [00:00<00:00, 41.14it/s]\n",
            "Test: 100%|██████████| 3/3 [00:00<00:00, 40.22it/s]\n"
          ]
        },
        {
          "output_type": "stream",
          "name": "stdout",
          "text": [
            "\n",
            "Epoch    45\n",
            "Train_cost  = 11.7529 | Test_cost  = 11.5148 | \n"
          ]
        },
        {
          "output_type": "stream",
          "name": "stderr",
          "text": [
            "Train: 100%|██████████| 7/7 [00:00<00:00, 47.24it/s]\n",
            "Test: 100%|██████████| 3/3 [00:00<00:00, 29.23it/s]\n"
          ]
        },
        {
          "output_type": "stream",
          "name": "stdout",
          "text": [
            "\n",
            "Epoch    46\n",
            "Train_cost  = 11.3018 | Test_cost  = 11.0929 | \n"
          ]
        },
        {
          "output_type": "stream",
          "name": "stderr",
          "text": [
            "Train: 100%|██████████| 7/7 [00:00<00:00, 53.16it/s]\n",
            "Test: 100%|██████████| 3/3 [00:00<00:00, 39.43it/s]\n"
          ]
        },
        {
          "output_type": "stream",
          "name": "stdout",
          "text": [
            "\n",
            "Epoch    47\n",
            "Train_cost  = 10.8823 | Test_cost  = 10.6967 | \n"
          ]
        },
        {
          "output_type": "stream",
          "name": "stderr",
          "text": [
            "Train: 100%|██████████| 7/7 [00:00<00:00, 35.45it/s]\n",
            "Test: 100%|██████████| 3/3 [00:00<00:00, 27.43it/s]\n"
          ]
        },
        {
          "output_type": "stream",
          "name": "stdout",
          "text": [
            "\n",
            "Epoch    48\n",
            "Train_cost  = 10.5062 | Test_cost  = 10.3257 | \n"
          ]
        },
        {
          "output_type": "stream",
          "name": "stderr",
          "text": [
            "Train: 100%|██████████| 7/7 [00:00<00:00, 37.06it/s]\n",
            "Test: 100%|██████████| 3/3 [00:00<00:00, 36.77it/s]\n"
          ]
        },
        {
          "output_type": "stream",
          "name": "stdout",
          "text": [
            "\n",
            "Epoch    49\n",
            "Train_cost  = 10.1534 | Test_cost  = 9.9795 | \n"
          ]
        },
        {
          "output_type": "stream",
          "name": "stderr",
          "text": [
            "Train: 100%|██████████| 7/7 [00:00<00:00, 45.34it/s]\n",
            "Test: 100%|██████████| 3/3 [00:00<00:00, 31.17it/s]\n"
          ]
        },
        {
          "output_type": "stream",
          "name": "stdout",
          "text": [
            "\n",
            "Epoch    50\n",
            "Train_cost  = 9.8342 | Test_cost  = 9.6674 | \n"
          ]
        },
        {
          "output_type": "stream",
          "name": "stderr",
          "text": [
            "Train: 100%|██████████| 7/7 [00:00<00:00, 49.61it/s]\n",
            "Test: 100%|██████████| 3/3 [00:00<00:00, 27.18it/s]\n"
          ]
        },
        {
          "output_type": "stream",
          "name": "stdout",
          "text": [
            "\n",
            "Epoch    51\n",
            "Train_cost  = 9.5630 | Test_cost  = 9.3939 | \n"
          ]
        },
        {
          "output_type": "stream",
          "name": "stderr",
          "text": [
            "Train: 100%|██████████| 7/7 [00:00<00:00, 44.17it/s]\n",
            "Test: 100%|██████████| 3/3 [00:00<00:00, 29.19it/s]\n"
          ]
        },
        {
          "output_type": "stream",
          "name": "stdout",
          "text": [
            "\n",
            "Epoch    52\n",
            "Train_cost  = 9.3334 | Test_cost  = 9.1547 | \n"
          ]
        },
        {
          "output_type": "stream",
          "name": "stderr",
          "text": [
            "Train: 100%|██████████| 7/7 [00:00<00:00, 52.92it/s]\n",
            "Test: 100%|██████████| 3/3 [00:00<00:00, 29.67it/s]\n"
          ]
        },
        {
          "output_type": "stream",
          "name": "stdout",
          "text": [
            "\n",
            "Epoch    53\n",
            "Train_cost  = 9.1306 | Test_cost  = 8.9438 | \n"
          ]
        },
        {
          "output_type": "stream",
          "name": "stderr",
          "text": [
            "Train: 100%|██████████| 7/7 [00:00<00:00, 31.88it/s]\n",
            "Test: 100%|██████████| 3/3 [00:00<00:00, 23.03it/s]\n"
          ]
        },
        {
          "output_type": "stream",
          "name": "stdout",
          "text": [
            "\n",
            "Epoch    54\n",
            "Train_cost  = 8.9464 | Test_cost  = 8.7602 | \n"
          ]
        },
        {
          "output_type": "stream",
          "name": "stderr",
          "text": [
            "Train: 100%|██████████| 7/7 [00:00<00:00, 47.75it/s]\n",
            "Test: 100%|██████████| 3/3 [00:00<00:00, 37.62it/s]\n"
          ]
        },
        {
          "output_type": "stream",
          "name": "stdout",
          "text": [
            "\n",
            "Epoch    55\n",
            "Train_cost  = 8.7825 | Test_cost  = 8.5958 | \n"
          ]
        },
        {
          "output_type": "stream",
          "name": "stderr",
          "text": [
            "Train: 100%|██████████| 7/7 [00:00<00:00, 39.32it/s]\n",
            "Test: 100%|██████████| 3/3 [00:00<00:00, 30.36it/s]\n"
          ]
        },
        {
          "output_type": "stream",
          "name": "stdout",
          "text": [
            "\n",
            "Epoch    56\n",
            "Train_cost  = 8.6402 | Test_cost  = 8.4449 | \n"
          ]
        },
        {
          "output_type": "stream",
          "name": "stderr",
          "text": [
            "Train: 100%|██████████| 7/7 [00:00<00:00, 40.26it/s]\n",
            "Test: 100%|██████████| 3/3 [00:00<00:00, 34.05it/s]\n"
          ]
        },
        {
          "output_type": "stream",
          "name": "stdout",
          "text": [
            "\n",
            "Epoch    57\n",
            "Train_cost  = 8.5109 | Test_cost  = 8.3066 | \n"
          ]
        },
        {
          "output_type": "stream",
          "name": "stderr",
          "text": [
            "Train: 100%|██████████| 7/7 [00:00<00:00, 50.08it/s]\n",
            "Test: 100%|██████████| 3/3 [00:00<00:00, 35.90it/s]\n"
          ]
        },
        {
          "output_type": "stream",
          "name": "stdout",
          "text": [
            "\n",
            "Epoch    58\n",
            "Train_cost  = 8.3868 | Test_cost  = 8.1788 | \n"
          ]
        },
        {
          "output_type": "stream",
          "name": "stderr",
          "text": [
            "Train: 100%|██████████| 7/7 [00:00<00:00, 45.24it/s]\n",
            "Test: 100%|██████████| 3/3 [00:00<00:00, 39.74it/s]\n"
          ]
        },
        {
          "output_type": "stream",
          "name": "stdout",
          "text": [
            "\n",
            "Epoch    59\n",
            "Train_cost  = 8.2670 | Test_cost  = 8.0606 | \n"
          ]
        },
        {
          "output_type": "stream",
          "name": "stderr",
          "text": [
            "Train: 100%|██████████| 7/7 [00:00<00:00, 53.07it/s]\n",
            "Test: 100%|██████████| 3/3 [00:00<00:00, 47.05it/s]\n"
          ]
        },
        {
          "output_type": "stream",
          "name": "stdout",
          "text": [
            "\n",
            "Epoch    60\n",
            "Train_cost  = 8.1561 | Test_cost  = 7.9493 | \n"
          ]
        },
        {
          "output_type": "display_data",
          "data": {
            "text/plain": [
              "<Figure size 576x360 with 1 Axes>"
            ],
            "image/png": "[encoded data removed]"
          },
          "metadata": {
            "needs_background": "light"
          }
        },
        {
          "output_type": "stream",
          "name": "stderr",
          "text": [
            "Train: 100%|██████████| 7/7 [00:00<00:00, 43.69it/s]\n",
            "Test: 100%|██████████| 3/3 [00:00<00:00, 28.65it/s]\n"
          ]
        },
        {
          "output_type": "stream",
          "name": "stdout",
          "text": [
            "\n",
            "Epoch    61\n",
            "Train_cost  = 8.0549 | Test_cost  = 7.8443 | \n"
          ]
        },
        {
          "output_type": "stream",
          "name": "stderr",
          "text": [
            "Train: 100%|██████████| 7/7 [00:00<00:00, 45.67it/s]\n",
            "Test: 100%|██████████| 3/3 [00:00<00:00, 39.46it/s]\n"
          ]
        },
        {
          "output_type": "stream",
          "name": "stdout",
          "text": [
            "\n",
            "Epoch    62\n",
            "Train_cost  = 7.9591 | Test_cost  = 7.7457 | \n"
          ]
        },
        {
          "output_type": "stream",
          "name": "stderr",
          "text": [
            "Train: 100%|██████████| 7/7 [00:00<00:00, 49.98it/s]\n",
            "Test: 100%|██████████| 3/3 [00:00<00:00, 27.79it/s]\n"
          ]
        },
        {
          "output_type": "stream",
          "name": "stdout",
          "text": [
            "\n",
            "Epoch    63\n",
            "Train_cost  = 7.8667 | Test_cost  = 7.6543 | \n"
          ]
        },
        {
          "output_type": "stream",
          "name": "stderr",
          "text": [
            "Train: 100%|██████████| 7/7 [00:00<00:00, 49.93it/s]\n",
            "Test: 100%|██████████| 3/3 [00:00<00:00, 30.99it/s]\n"
          ]
        },
        {
          "output_type": "stream",
          "name": "stdout",
          "text": [
            "\n",
            "Epoch    64\n",
            "Train_cost  = 7.7798 | Test_cost  = 7.5699 | \n"
          ]
        },
        {
          "output_type": "stream",
          "name": "stderr",
          "text": [
            "Train: 100%|██████████| 7/7 [00:00<00:00, 36.15it/s]\n",
            "Test: 100%|██████████| 3/3 [00:00<00:00, 50.66it/s]\n"
          ]
        },
        {
          "output_type": "stream",
          "name": "stdout",
          "text": [
            "\n",
            "Epoch    65\n",
            "Train_cost  = 7.6999 | Test_cost  = 7.4916 | \n"
          ]
        },
        {
          "output_type": "stream",
          "name": "stderr",
          "text": [
            "Train: 100%|██████████| 7/7 [00:00<00:00, 38.98it/s]\n",
            "Test: 100%|██████████| 3/3 [00:00<00:00, 29.45it/s]\n"
          ]
        },
        {
          "output_type": "stream",
          "name": "stdout",
          "text": [
            "\n",
            "Epoch    66\n",
            "Train_cost  = 7.6263 | Test_cost  = 7.4188 | \n"
          ]
        },
        {
          "output_type": "stream",
          "name": "stderr",
          "text": [
            "Train: 100%|██████████| 7/7 [00:00<00:00, 37.20it/s]\n",
            "Test: 100%|██████████| 3/3 [00:00<00:00, 27.58it/s]\n"
          ]
        },
        {
          "output_type": "stream",
          "name": "stdout",
          "text": [
            "\n",
            "Epoch    67\n",
            "Train_cost  = 7.5575 | Test_cost  = 7.3515 | \n"
          ]
        },
        {
          "output_type": "stream",
          "name": "stderr",
          "text": [
            "Train: 100%|██████████| 7/7 [00:00<00:00, 47.89it/s]\n",
            "Test: 100%|██████████| 3/3 [00:00<00:00, 42.65it/s]\n"
          ]
        },
        {
          "output_type": "stream",
          "name": "stdout",
          "text": [
            "\n",
            "Epoch    68\n",
            "Train_cost  = 7.4933 | Test_cost  = 7.2891 | \n"
          ]
        },
        {
          "output_type": "stream",
          "name": "stderr",
          "text": [
            "Train: 100%|██████████| 7/7 [00:00<00:00, 59.70it/s]\n",
            "Test: 100%|██████████| 3/3 [00:00<00:00, 33.44it/s]\n"
          ]
        },
        {
          "output_type": "stream",
          "name": "stdout",
          "text": [
            "\n",
            "Epoch    69\n",
            "Train_cost  = 7.4337 | Test_cost  = 7.2307 | \n"
          ]
        },
        {
          "output_type": "stream",
          "name": "stderr",
          "text": [
            "Train: 100%|██████████| 7/7 [00:00<00:00, 39.18it/s]\n",
            "Test: 100%|██████████| 3/3 [00:00<00:00, 26.79it/s]\n"
          ]
        },
        {
          "output_type": "stream",
          "name": "stdout",
          "text": [
            "\n",
            "Epoch    70\n",
            "Train_cost  = 7.3783 | Test_cost  = 7.1758 | \n"
          ]
        },
        {
          "output_type": "stream",
          "name": "stderr",
          "text": [
            "Train: 100%|██████████| 7/7 [00:00<00:00, 43.25it/s]\n",
            "Test: 100%|██████████| 3/3 [00:00<00:00, 41.62it/s]\n"
          ]
        },
        {
          "output_type": "stream",
          "name": "stdout",
          "text": [
            "\n",
            "Epoch    71\n",
            "Train_cost  = 7.3266 | Test_cost  = 7.1238 | \n"
          ]
        },
        {
          "output_type": "stream",
          "name": "stderr",
          "text": [
            "Train: 100%|██████████| 7/7 [00:00<00:00, 42.53it/s]\n",
            "Test: 100%|██████████| 3/3 [00:00<00:00, 38.64it/s]\n"
          ]
        },
        {
          "output_type": "stream",
          "name": "stdout",
          "text": [
            "\n",
            "Epoch    72\n",
            "Train_cost  = 7.2778 | Test_cost  = 7.0746 | \n"
          ]
        },
        {
          "output_type": "stream",
          "name": "stderr",
          "text": [
            "Train: 100%|██████████| 7/7 [00:00<00:00, 25.26it/s]\n",
            "Test: 100%|██████████| 3/3 [00:00<00:00, 32.77it/s]\n"
          ]
        },
        {
          "output_type": "stream",
          "name": "stdout",
          "text": [
            "\n",
            "Epoch    73\n",
            "Train_cost  = 7.2317 | Test_cost  = 7.0281 | \n"
          ]
        },
        {
          "output_type": "stream",
          "name": "stderr",
          "text": [
            "Train: 100%|██████████| 7/7 [00:00<00:00, 41.72it/s]\n",
            "Test: 100%|██████████| 3/3 [00:00<00:00, 38.54it/s]\n"
          ]
        },
        {
          "output_type": "stream",
          "name": "stdout",
          "text": [
            "\n",
            "Epoch    74\n",
            "Train_cost  = 7.1882 | Test_cost  = 6.9840 | \n"
          ]
        },
        {
          "output_type": "stream",
          "name": "stderr",
          "text": [
            "Train: 100%|██████████| 7/7 [00:00<00:00, 31.25it/s]\n",
            "Test: 100%|██████████| 3/3 [00:00<00:00, 42.83it/s]\n"
          ]
        },
        {
          "output_type": "stream",
          "name": "stdout",
          "text": [
            "\n",
            "Epoch    75\n",
            "Train_cost  = 7.1473 | Test_cost  = 6.9423 | \n"
          ]
        },
        {
          "output_type": "stream",
          "name": "stderr",
          "text": [
            "Train: 100%|██████████| 7/7 [00:00<00:00, 52.35it/s]\n",
            "Test: 100%|██████████| 3/3 [00:00<00:00, 42.41it/s]\n"
          ]
        },
        {
          "output_type": "stream",
          "name": "stdout",
          "text": [
            "\n",
            "Epoch    76\n",
            "Train_cost  = 7.1086 | Test_cost  = 6.9027 | \n"
          ]
        },
        {
          "output_type": "stream",
          "name": "stderr",
          "text": [
            "Train: 100%|██████████| 7/7 [00:00<00:00, 44.88it/s]\n",
            "Test: 100%|██████████| 3/3 [00:00<00:00, 31.51it/s]\n"
          ]
        },
        {
          "output_type": "stream",
          "name": "stdout",
          "text": [
            "\n",
            "Epoch    77\n",
            "Train_cost  = 7.0719 | Test_cost  = 6.8653 | \n"
          ]
        },
        {
          "output_type": "stream",
          "name": "stderr",
          "text": [
            "Train: 100%|██████████| 7/7 [00:00<00:00, 37.51it/s]\n",
            "Test: 100%|██████████| 3/3 [00:00<00:00, 32.40it/s]\n"
          ]
        },
        {
          "output_type": "stream",
          "name": "stdout",
          "text": [
            "\n",
            "Epoch    78\n",
            "Train_cost  = 7.0372 | Test_cost  = 6.8297 | \n"
          ]
        },
        {
          "output_type": "stream",
          "name": "stderr",
          "text": [
            "Train: 100%|██████████| 7/7 [00:00<00:00, 40.47it/s]\n",
            "Test: 100%|██████████| 3/3 [00:00<00:00, 36.37it/s]\n"
          ]
        },
        {
          "output_type": "stream",
          "name": "stdout",
          "text": [
            "\n",
            "Epoch    79\n",
            "Train_cost  = 7.0043 | Test_cost  = 6.7960 | \n"
          ]
        },
        {
          "output_type": "stream",
          "name": "stderr",
          "text": [
            "Train: 100%|██████████| 7/7 [00:00<00:00, 39.98it/s]\n",
            "Test: 100%|██████████| 3/3 [00:00<00:00, 28.97it/s]\n"
          ]
        },
        {
          "output_type": "stream",
          "name": "stdout",
          "text": [
            "\n",
            "Epoch    80\n",
            "Train_cost  = 6.9731 | Test_cost  = 6.7639 | \n"
          ]
        },
        {
          "output_type": "display_data",
          "data": {
            "text/plain": [
              "<Figure size 576x360 with 1 Axes>"
            ],
            "image/png": "[encoded data removed]"
          },
          "metadata": {
            "needs_background": "light"
          }
        },
        {
          "output_type": "stream",
          "name": "stderr",
          "text": [
            "Train: 100%|██████████| 7/7 [00:00<00:00, 47.76it/s]\n",
            "Test: 100%|██████████| 3/3 [00:00<00:00, 40.54it/s]\n"
          ]
        },
        {
          "output_type": "stream",
          "name": "stdout",
          "text": [
            "\n",
            "Epoch    81\n",
            "Train_cost  = 6.9435 | Test_cost  = 6.7332 | \n"
          ]
        },
        {
          "output_type": "stream",
          "name": "stderr",
          "text": [
            "Train: 100%|██████████| 7/7 [00:00<00:00, 26.45it/s]\n",
            "Test: 100%|██████████| 3/3 [00:00<00:00, 18.81it/s]\n"
          ]
        },
        {
          "output_type": "stream",
          "name": "stdout",
          "text": [
            "\n",
            "Epoch    82\n",
            "Train_cost  = 6.9153 | Test_cost  = 6.7040 | \n"
          ]
        },
        {
          "output_type": "stream",
          "name": "stderr",
          "text": [
            "Train: 100%|██████████| 7/7 [00:00<00:00, 27.87it/s]\n",
            "Test: 100%|██████████| 3/3 [00:00<00:00, 23.04it/s]\n"
          ]
        },
        {
          "output_type": "stream",
          "name": "stdout",
          "text": [
            "\n",
            "Epoch    83\n",
            "Train_cost  = 6.8885 | Test_cost  = 6.6761 | \n"
          ]
        },
        {
          "output_type": "stream",
          "name": "stderr",
          "text": [
            "Train: 100%|██████████| 7/7 [00:00<00:00, 46.84it/s]\n",
            "Test: 100%|██████████| 3/3 [00:00<00:00, 33.67it/s]\n"
          ]
        },
        {
          "output_type": "stream",
          "name": "stdout",
          "text": [
            "\n",
            "Epoch    84\n",
            "Train_cost  = 6.8630 | Test_cost  = 6.6494 | \n"
          ]
        },
        {
          "output_type": "stream",
          "name": "stderr",
          "text": [
            "Train: 100%|██████████| 7/7 [00:00<00:00, 30.21it/s]\n",
            "Test: 100%|██████████| 3/3 [00:00<00:00, 33.22it/s]\n"
          ]
        },
        {
          "output_type": "stream",
          "name": "stdout",
          "text": [
            "\n",
            "Epoch    85\n",
            "Train_cost  = 6.8387 | Test_cost  = 6.6238 | \n"
          ]
        },
        {
          "output_type": "stream",
          "name": "stderr",
          "text": [
            "Train: 100%|██████████| 7/7 [00:00<00:00, 48.14it/s]\n",
            "Test: 100%|██████████| 3/3 [00:00<00:00, 29.64it/s]\n"
          ]
        },
        {
          "output_type": "stream",
          "name": "stdout",
          "text": [
            "\n",
            "Epoch    86\n",
            "Train_cost  = 6.8154 | Test_cost  = 6.5992 | \n"
          ]
        },
        {
          "output_type": "stream",
          "name": "stderr",
          "text": [
            "Train: 100%|██████████| 7/7 [00:00<00:00, 29.92it/s]\n",
            "Test: 100%|██████████| 3/3 [00:00<00:00, 18.65it/s]\n"
          ]
        },
        {
          "output_type": "stream",
          "name": "stdout",
          "text": [
            "\n",
            "Epoch    87\n",
            "Train_cost  = 6.7932 | Test_cost  = 6.5756 | \n"
          ]
        },
        {
          "output_type": "stream",
          "name": "stderr",
          "text": [
            "Train: 100%|██████████| 7/7 [00:00<00:00, 32.50it/s]\n",
            "Test: 100%|██████████| 3/3 [00:00<00:00, 36.22it/s]\n"
          ]
        },
        {
          "output_type": "stream",
          "name": "stdout",
          "text": [
            "\n",
            "Epoch    88\n",
            "Train_cost  = 6.7720 | Test_cost  = 6.5529 | \n"
          ]
        },
        {
          "output_type": "stream",
          "name": "stderr",
          "text": [
            "Train: 100%|██████████| 7/7 [00:00<00:00, 83.23it/s]\n",
            "Test: 100%|██████████| 3/3 [00:00<00:00, 59.67it/s]\n"
          ]
        },
        {
          "output_type": "stream",
          "name": "stdout",
          "text": [
            "\n",
            "Epoch    89\n",
            "Train_cost  = 6.7517 | Test_cost  = 6.5310 | \n"
          ]
        },
        {
          "output_type": "stream",
          "name": "stderr",
          "text": [
            "Train: 100%|██████████| 7/7 [00:00<00:00, 87.91it/s]\n",
            "Test: 100%|██████████| 3/3 [00:00<00:00, 68.20it/s]\n"
          ]
        },
        {
          "output_type": "stream",
          "name": "stdout",
          "text": [
            "\n",
            "Epoch    90\n",
            "Train_cost  = 6.7322 | Test_cost  = 6.5099 | \n"
          ]
        },
        {
          "output_type": "stream",
          "name": "stderr",
          "text": [
            "Train: 100%|██████████| 7/7 [00:00<00:00, 93.40it/s]\n",
            "Test: 100%|██████████| 3/3 [00:00<00:00, 61.35it/s]\n"
          ]
        },
        {
          "output_type": "stream",
          "name": "stdout",
          "text": [
            "\n",
            "Epoch    91\n",
            "Train_cost  = 6.7135 | Test_cost  = 6.4896 | \n"
          ]
        },
        {
          "output_type": "stream",
          "name": "stderr",
          "text": [
            "Train: 100%|██████████| 7/7 [00:00<00:00, 75.22it/s]\n",
            "Test: 100%|██████████| 3/3 [00:00<00:00, 51.25it/s]\n"
          ]
        },
        {
          "output_type": "stream",
          "name": "stdout",
          "text": [
            "\n",
            "Epoch    92\n",
            "Train_cost  = 6.6956 | Test_cost  = 6.4699 | \n"
          ]
        },
        {
          "output_type": "stream",
          "name": "stderr",
          "text": [
            "Train: 100%|██████████| 7/7 [00:00<00:00, 91.48it/s]\n",
            "Test: 100%|██████████| 3/3 [00:00<00:00, 71.07it/s]\n"
          ]
        },
        {
          "output_type": "stream",
          "name": "stdout",
          "text": [
            "\n",
            "Epoch    93\n",
            "Train_cost  = 6.6783 | Test_cost  = 6.4509 | \n"
          ]
        },
        {
          "output_type": "stream",
          "name": "stderr",
          "text": [
            "Train: 100%|██████████| 7/7 [00:00<00:00, 89.95it/s]\n",
            "Test: 100%|██████████| 3/3 [00:00<00:00, 64.80it/s]\n"
          ]
        },
        {
          "output_type": "stream",
          "name": "stdout",
          "text": [
            "\n",
            "Epoch    94\n",
            "Train_cost  = 6.6617 | Test_cost  = 6.4325 | \n"
          ]
        },
        {
          "output_type": "stream",
          "name": "stderr",
          "text": [
            "Train: 100%|██████████| 7/7 [00:00<00:00, 81.82it/s]\n",
            "Test: 100%|██████████| 3/3 [00:00<00:00, 57.61it/s]\n"
          ]
        },
        {
          "output_type": "stream",
          "name": "stdout",
          "text": [
            "\n",
            "Epoch    95\n",
            "Train_cost  = 6.6457 | Test_cost  = 6.4147 | \n"
          ]
        },
        {
          "output_type": "stream",
          "name": "stderr",
          "text": [
            "Train: 100%|██████████| 7/7 [00:00<00:00, 91.61it/s]\n",
            "Test: 100%|██████████| 3/3 [00:00<00:00, 65.52it/s]\n"
          ]
        },
        {
          "output_type": "stream",
          "name": "stdout",
          "text": [
            "\n",
            "Epoch    96\n",
            "Train_cost  = 6.6303 | Test_cost  = 6.3975 | \n"
          ]
        },
        {
          "output_type": "stream",
          "name": "stderr",
          "text": [
            "Train: 100%|██████████| 7/7 [00:00<00:00, 88.46it/s]\n",
            "Test: 100%|██████████| 3/3 [00:00<00:00, 71.44it/s]\n"
          ]
        },
        {
          "output_type": "stream",
          "name": "stdout",
          "text": [
            "\n",
            "Epoch    97\n",
            "Train_cost  = 6.6155 | Test_cost  = 6.3808 | \n"
          ]
        },
        {
          "output_type": "stream",
          "name": "stderr",
          "text": [
            "Train: 100%|██████████| 7/7 [00:00<00:00, 87.37it/s]\n",
            "Test: 100%|██████████| 3/3 [00:00<00:00, 57.50it/s]\n"
          ]
        },
        {
          "output_type": "stream",
          "name": "stdout",
          "text": [
            "\n",
            "Epoch    98\n",
            "Train_cost  = 6.6011 | Test_cost  = 6.3645 | \n"
          ]
        },
        {
          "output_type": "stream",
          "name": "stderr",
          "text": [
            "Train: 100%|██████████| 7/7 [00:00<00:00, 89.13it/s]\n",
            "Test: 100%|██████████| 3/3 [00:00<00:00, 68.89it/s]\n"
          ]
        },
        {
          "output_type": "stream",
          "name": "stdout",
          "text": [
            "\n",
            "Epoch    99\n",
            "Train_cost  = 6.5872 | Test_cost  = 6.3488 | \n"
          ]
        },
        {
          "output_type": "stream",
          "name": "stderr",
          "text": [
            "Train: 100%|██████████| 7/7 [00:00<00:00, 91.42it/s]\n",
            "Test: 100%|██████████| 3/3 [00:00<00:00, 58.68it/s]\n"
          ]
        },
        {
          "output_type": "stream",
          "name": "stdout",
          "text": [
            "\n",
            "Epoch   100\n",
            "Train_cost  = 6.5738 | Test_cost  = 6.3335 | \n"
          ]
        },
        {
          "output_type": "display_data",
          "data": {
            "text/plain": [
              "<Figure size 576x360 with 1 Axes>"
            ],
            "image/png": "[encoded data removed]"
          },
          "metadata": {
            "needs_background": "light"
          }
        },
        {
          "output_type": "stream",
          "name": "stderr",
          "text": [
            "Train: 100%|██████████| 7/7 [00:00<00:00, 85.75it/s]\n",
            "Test: 100%|██████████| 3/3 [00:00<00:00, 63.72it/s]\n"
          ]
        },
        {
          "output_type": "stream",
          "name": "stdout",
          "text": [
            "\n",
            "Epoch   101\n",
            "Train_cost  = 6.5608 | Test_cost  = 6.3186 | \n"
          ]
        },
        {
          "output_type": "stream",
          "name": "stderr",
          "text": [
            "Train: 100%|██████████| 7/7 [00:00<00:00, 78.03it/s]\n",
            "Test: 100%|██████████| 3/3 [00:00<00:00, 56.50it/s]\n"
          ]
        },
        {
          "output_type": "stream",
          "name": "stdout",
          "text": [
            "\n",
            "Epoch   102\n",
            "Train_cost  = 6.5482 | Test_cost  = 6.3042 | \n"
          ]
        },
        {
          "output_type": "stream",
          "name": "stderr",
          "text": [
            "Train: 100%|██████████| 7/7 [00:00<00:00, 81.01it/s]\n",
            "Test: 100%|██████████| 3/3 [00:00<00:00, 55.89it/s]\n"
          ]
        },
        {
          "output_type": "stream",
          "name": "stdout",
          "text": [
            "\n",
            "Epoch   103\n",
            "Train_cost  = 6.5360 | Test_cost  = 6.2901 | \n"
          ]
        },
        {
          "output_type": "stream",
          "name": "stderr",
          "text": [
            "Train: 100%|██████████| 7/7 [00:00<00:00, 81.70it/s]\n",
            "Test: 100%|██████████| 3/3 [00:00<00:00, 67.54it/s]\n"
          ]
        },
        {
          "output_type": "stream",
          "name": "stdout",
          "text": [
            "\n",
            "Epoch   104\n",
            "Train_cost  = 6.5241 | Test_cost  = 6.2764 | \n"
          ]
        },
        {
          "output_type": "stream",
          "name": "stderr",
          "text": [
            "Train: 100%|██████████| 7/7 [00:00<00:00, 91.55it/s]\n",
            "Test: 100%|██████████| 3/3 [00:00<00:00, 65.09it/s]\n"
          ]
        },
        {
          "output_type": "stream",
          "name": "stdout",
          "text": [
            "\n",
            "Epoch   105\n",
            "Train_cost  = 6.5126 | Test_cost  = 6.2630 | \n"
          ]
        },
        {
          "output_type": "stream",
          "name": "stderr",
          "text": [
            "Train: 100%|██████████| 7/7 [00:00<00:00, 83.94it/s]\n",
            "Test: 100%|██████████| 3/3 [00:00<00:00, 64.96it/s]\n"
          ]
        },
        {
          "output_type": "stream",
          "name": "stdout",
          "text": [
            "\n",
            "Epoch   106\n",
            "Train_cost  = 6.5014 | Test_cost  = 6.2500 | \n"
          ]
        },
        {
          "output_type": "stream",
          "name": "stderr",
          "text": [
            "Train: 100%|██████████| 7/7 [00:00<00:00, 91.24it/s]\n",
            "Test: 100%|██████████| 3/3 [00:00<00:00, 64.75it/s]\n"
          ]
        },
        {
          "output_type": "stream",
          "name": "stdout",
          "text": [
            "\n",
            "Epoch   107\n",
            "Train_cost  = 6.4905 | Test_cost  = 6.2373 | \n"
          ]
        },
        {
          "output_type": "stream",
          "name": "stderr",
          "text": [
            "Train: 100%|██████████| 7/7 [00:00<00:00, 83.71it/s]\n",
            "Test: 100%|██████████| 3/3 [00:00<00:00, 63.21it/s]\n"
          ]
        },
        {
          "output_type": "stream",
          "name": "stdout",
          "text": [
            "\n",
            "Epoch   108\n",
            "Train_cost  = 6.4799 | Test_cost  = 6.2250 | \n"
          ]
        },
        {
          "output_type": "stream",
          "name": "stderr",
          "text": [
            "Train: 100%|██████████| 7/7 [00:00<00:00, 91.29it/s]\n",
            "Test: 100%|██████████| 3/3 [00:00<00:00, 62.84it/s]\n"
          ]
        },
        {
          "output_type": "stream",
          "name": "stdout",
          "text": [
            "\n",
            "Epoch   109\n",
            "Train_cost  = 6.4695 | Test_cost  = 6.2129 | \n"
          ]
        },
        {
          "output_type": "stream",
          "name": "stderr",
          "text": [
            "Train: 100%|██████████| 7/7 [00:00<00:00, 75.57it/s]\n",
            "Test: 100%|██████████| 3/3 [00:00<00:00, 65.62it/s]\n"
          ]
        },
        {
          "output_type": "stream",
          "name": "stdout",
          "text": [
            "\n",
            "Epoch   110\n",
            "Train_cost  = 6.4594 | Test_cost  = 6.2011 | \n"
          ]
        },
        {
          "output_type": "stream",
          "name": "stderr",
          "text": [
            "Train: 100%|██████████| 7/7 [00:00<00:00, 98.73it/s]\n",
            "Test: 100%|██████████| 3/3 [00:00<00:00, 67.87it/s]\n"
          ]
        },
        {
          "output_type": "stream",
          "name": "stdout",
          "text": [
            "\n",
            "Epoch   111\n",
            "Train_cost  = 6.4495 | Test_cost  = 6.1896 | \n"
          ]
        },
        {
          "output_type": "stream",
          "name": "stderr",
          "text": [
            "Train: 100%|██████████| 7/7 [00:00<00:00, 85.96it/s]\n",
            "Test: 100%|██████████| 3/3 [00:00<00:00, 51.54it/s]\n"
          ]
        },
        {
          "output_type": "stream",
          "name": "stdout",
          "text": [
            "\n",
            "Epoch   112\n",
            "Train_cost  = 6.4399 | Test_cost  = 6.1784 | \n"
          ]
        },
        {
          "output_type": "stream",
          "name": "stderr",
          "text": [
            "Train: 100%|██████████| 7/7 [00:00<00:00, 72.58it/s]\n",
            "Test: 100%|██████████| 3/3 [00:00<00:00, 57.67it/s]\n"
          ]
        },
        {
          "output_type": "stream",
          "name": "stdout",
          "text": [
            "\n",
            "Epoch   113\n",
            "Train_cost  = 6.4305 | Test_cost  = 6.1674 | \n"
          ]
        },
        {
          "output_type": "stream",
          "name": "stderr",
          "text": [
            "Train: 100%|██████████| 7/7 [00:00<00:00, 88.28it/s]\n",
            "Test: 100%|██████████| 3/3 [00:00<00:00, 64.94it/s]\n"
          ]
        },
        {
          "output_type": "stream",
          "name": "stdout",
          "text": [
            "\n",
            "Epoch   114\n",
            "Train_cost  = 6.4213 | Test_cost  = 6.1566 | \n"
          ]
        },
        {
          "output_type": "stream",
          "name": "stderr",
          "text": [
            "Train: 100%|██████████| 7/7 [00:00<00:00, 89.34it/s]\n",
            "Test: 100%|██████████| 3/3 [00:00<00:00, 67.96it/s]\n"
          ]
        },
        {
          "output_type": "stream",
          "name": "stdout",
          "text": [
            "\n",
            "Epoch   115\n",
            "Train_cost  = 6.4123 | Test_cost  = 6.1461 | \n"
          ]
        },
        {
          "output_type": "stream",
          "name": "stderr",
          "text": [
            "Train: 100%|██████████| 7/7 [00:00<00:00, 89.34it/s]\n",
            "Test: 100%|██████████| 3/3 [00:00<00:00, 51.82it/s]\n"
          ]
        },
        {
          "output_type": "stream",
          "name": "stdout",
          "text": [
            "\n",
            "Epoch   116\n",
            "Train_cost  = 6.4035 | Test_cost  = 6.1358 | \n"
          ]
        },
        {
          "output_type": "stream",
          "name": "stderr",
          "text": [
            "Train: 100%|██████████| 7/7 [00:00<00:00, 84.38it/s]\n",
            "Test: 100%|██████████| 3/3 [00:00<00:00, 60.81it/s]\n"
          ]
        },
        {
          "output_type": "stream",
          "name": "stdout",
          "text": [
            "\n",
            "Epoch   117\n",
            "Train_cost  = 6.3949 | Test_cost  = 6.1258 | \n"
          ]
        },
        {
          "output_type": "stream",
          "name": "stderr",
          "text": [
            "Train: 100%|██████████| 7/7 [00:00<00:00, 85.47it/s]\n",
            "Test: 100%|██████████| 3/3 [00:00<00:00, 54.04it/s]\n"
          ]
        },
        {
          "output_type": "stream",
          "name": "stdout",
          "text": [
            "\n",
            "Epoch   118\n",
            "Train_cost  = 6.3865 | Test_cost  = 6.1159 | \n"
          ]
        },
        {
          "output_type": "stream",
          "name": "stderr",
          "text": [
            "Train: 100%|██████████| 7/7 [00:00<00:00, 90.43it/s]\n",
            "Test: 100%|██████████| 3/3 [00:00<00:00, 60.56it/s]\n"
          ]
        },
        {
          "output_type": "stream",
          "name": "stdout",
          "text": [
            "\n",
            "Epoch   119\n",
            "Train_cost  = 6.3782 | Test_cost  = 6.1063 | \n"
          ]
        },
        {
          "output_type": "stream",
          "name": "stderr",
          "text": [
            "Train: 100%|██████████| 7/7 [00:00<00:00, 89.86it/s]\n",
            "Test: 100%|██████████| 3/3 [00:00<00:00, 69.52it/s]\n"
          ]
        },
        {
          "output_type": "stream",
          "name": "stdout",
          "text": [
            "\n",
            "Epoch   120\n",
            "Train_cost  = 6.3701 | Test_cost  = 6.0969 | \n"
          ]
        },
        {
          "output_type": "display_data",
          "data": {
            "text/plain": [
              "<Figure size 576x360 with 1 Axes>"
            ],
            "image/png": "[encoded data removed]"
          },
          "metadata": {
            "needs_background": "light"
          }
        },
        {
          "output_type": "stream",
          "name": "stderr",
          "text": [
            "Train: 100%|██████████| 7/7 [00:00<00:00, 86.14it/s]\n",
            "Test: 100%|██████████| 3/3 [00:00<00:00, 60.76it/s]\n"
          ]
        },
        {
          "output_type": "stream",
          "name": "stdout",
          "text": [
            "\n",
            "Epoch   121\n",
            "Train_cost  = 6.3622 | Test_cost  = 6.0876 | \n"
          ]
        },
        {
          "output_type": "stream",
          "name": "stderr",
          "text": [
            "Train: 100%|██████████| 7/7 [00:00<00:00, 91.93it/s]\n",
            "Test: 100%|██████████| 3/3 [00:00<00:00, 69.94it/s]\n"
          ]
        },
        {
          "output_type": "stream",
          "name": "stdout",
          "text": [
            "\n",
            "Epoch   122\n",
            "Train_cost  = 6.3544 | Test_cost  = 6.0786 | \n"
          ]
        },
        {
          "output_type": "stream",
          "name": "stderr",
          "text": [
            "Train: 100%|██████████| 7/7 [00:00<00:00, 79.31it/s]\n",
            "Test: 100%|██████████| 3/3 [00:00<00:00, 64.35it/s]\n"
          ]
        },
        {
          "output_type": "stream",
          "name": "stdout",
          "text": [
            "\n",
            "Epoch   123\n",
            "Train_cost  = 6.3467 | Test_cost  = 6.0697 | \n"
          ]
        },
        {
          "output_type": "stream",
          "name": "stderr",
          "text": [
            "Train: 100%|██████████| 7/7 [00:00<00:00, 89.29it/s]\n",
            "Test: 100%|██████████| 3/3 [00:00<00:00, 76.00it/s]\n"
          ]
        },
        {
          "output_type": "stream",
          "name": "stdout",
          "text": [
            "\n",
            "Epoch   124\n",
            "Train_cost  = 6.3392 | Test_cost  = 6.0611 | \n"
          ]
        },
        {
          "output_type": "stream",
          "name": "stderr",
          "text": [
            "Train: 100%|██████████| 7/7 [00:00<00:00, 98.29it/s]\n",
            "Test: 100%|██████████| 3/3 [00:00<00:00, 76.87it/s]\n"
          ]
        },
        {
          "output_type": "stream",
          "name": "stdout",
          "text": [
            "\n",
            "Epoch   125\n",
            "Train_cost  = 6.3319 | Test_cost  = 6.0526 | \n"
          ]
        },
        {
          "output_type": "stream",
          "name": "stderr",
          "text": [
            "Train: 100%|██████████| 7/7 [00:00<00:00, 95.27it/s]\n",
            "Test: 100%|██████████| 3/3 [00:00<00:00, 65.79it/s]\n"
          ]
        },
        {
          "output_type": "stream",
          "name": "stdout",
          "text": [
            "\n",
            "Epoch   126\n",
            "Train_cost  = 6.3247 | Test_cost  = 6.0442 | \n"
          ]
        },
        {
          "output_type": "stream",
          "name": "stderr",
          "text": [
            "Train: 100%|██████████| 7/7 [00:00<00:00, 87.38it/s]\n",
            "Test: 100%|██████████| 3/3 [00:00<00:00, 74.05it/s]\n"
          ]
        },
        {
          "output_type": "stream",
          "name": "stdout",
          "text": [
            "\n",
            "Epoch   127\n",
            "Train_cost  = 6.3176 | Test_cost  = 6.0361 | \n"
          ]
        },
        {
          "output_type": "stream",
          "name": "stderr",
          "text": [
            "Train: 100%|██████████| 7/7 [00:00<00:00, 81.26it/s]\n",
            "Test: 100%|██████████| 3/3 [00:00<00:00, 54.51it/s]\n"
          ]
        },
        {
          "output_type": "stream",
          "name": "stdout",
          "text": [
            "\n",
            "Epoch   128\n",
            "Train_cost  = 6.3107 | Test_cost  = 6.0280 | \n"
          ]
        },
        {
          "output_type": "stream",
          "name": "stderr",
          "text": [
            "Train: 100%|██████████| 7/7 [00:00<00:00, 81.98it/s]\n",
            "Test: 100%|██████████| 3/3 [00:00<00:00, 67.48it/s]\n"
          ]
        },
        {
          "output_type": "stream",
          "name": "stdout",
          "text": [
            "\n",
            "Epoch   129\n",
            "Train_cost  = 6.3039 | Test_cost  = 6.0202 | \n"
          ]
        },
        {
          "output_type": "stream",
          "name": "stderr",
          "text": [
            "Train: 100%|██████████| 7/7 [00:00<00:00, 74.51it/s]\n",
            "Test: 100%|██████████| 3/3 [00:00<00:00, 60.12it/s]\n"
          ]
        },
        {
          "output_type": "stream",
          "name": "stdout",
          "text": [
            "\n",
            "Epoch   130\n",
            "Train_cost  = 6.2972 | Test_cost  = 6.0125 | \n"
          ]
        },
        {
          "output_type": "stream",
          "name": "stderr",
          "text": [
            "Train: 100%|██████████| 7/7 [00:00<00:00, 84.85it/s]\n",
            "Test: 100%|██████████| 3/3 [00:00<00:00, 68.12it/s]\n"
          ]
        },
        {
          "output_type": "stream",
          "name": "stdout",
          "text": [
            "\n",
            "Epoch   131\n",
            "Train_cost  = 6.2906 | Test_cost  = 6.0049 | \n"
          ]
        },
        {
          "output_type": "stream",
          "name": "stderr",
          "text": [
            "Train: 100%|██████████| 7/7 [00:00<00:00, 86.30it/s]\n",
            "Test: 100%|██████████| 3/3 [00:00<00:00, 74.22it/s]\n"
          ]
        },
        {
          "output_type": "stream",
          "name": "stdout",
          "text": [
            "\n",
            "Epoch   132\n",
            "Train_cost  = 6.2842 | Test_cost  = 5.9975 | \n"
          ]
        },
        {
          "output_type": "stream",
          "name": "stderr",
          "text": [
            "Train: 100%|██████████| 7/7 [00:00<00:00, 92.63it/s]\n",
            "Test: 100%|██████████| 3/3 [00:00<00:00, 49.41it/s]\n"
          ]
        },
        {
          "output_type": "stream",
          "name": "stdout",
          "text": [
            "\n",
            "Epoch   133\n",
            "Train_cost  = 6.2779 | Test_cost  = 5.9903 | \n"
          ]
        },
        {
          "output_type": "stream",
          "name": "stderr",
          "text": [
            "Train: 100%|██████████| 7/7 [00:00<00:00, 75.61it/s]\n",
            "Test: 100%|██████████| 3/3 [00:00<00:00, 75.29it/s]\n"
          ]
        },
        {
          "output_type": "stream",
          "name": "stdout",
          "text": [
            "\n",
            "Epoch   134\n",
            "Train_cost  = 6.2717 | Test_cost  = 5.9831 | \n"
          ]
        },
        {
          "output_type": "stream",
          "name": "stderr",
          "text": [
            "Train: 100%|██████████| 7/7 [00:00<00:00, 72.39it/s]\n",
            "Test: 100%|██████████| 3/3 [00:00<00:00, 57.37it/s]\n"
          ]
        },
        {
          "output_type": "stream",
          "name": "stdout",
          "text": [
            "\n",
            "Epoch   135\n",
            "Train_cost  = 6.2655 | Test_cost  = 5.9761 | \n"
          ]
        },
        {
          "output_type": "stream",
          "name": "stderr",
          "text": [
            "Train: 100%|██████████| 7/7 [00:00<00:00, 86.51it/s]\n",
            "Test: 100%|██████████| 3/3 [00:00<00:00, 62.07it/s]\n"
          ]
        },
        {
          "output_type": "stream",
          "name": "stdout",
          "text": [
            "\n",
            "Epoch   136\n",
            "Train_cost  = 6.2596 | Test_cost  = 5.9692 | \n"
          ]
        },
        {
          "output_type": "stream",
          "name": "stderr",
          "text": [
            "Train: 100%|██████████| 7/7 [00:00<00:00, 84.86it/s]\n",
            "Test: 100%|██████████| 3/3 [00:00<00:00, 50.24it/s]\n"
          ]
        },
        {
          "output_type": "stream",
          "name": "stdout",
          "text": [
            "\n",
            "Epoch   137\n",
            "Train_cost  = 6.2537 | Test_cost  = 5.9624 | \n"
          ]
        },
        {
          "output_type": "stream",
          "name": "stderr",
          "text": [
            "Train: 100%|██████████| 7/7 [00:00<00:00, 88.87it/s]\n",
            "Test: 100%|██████████| 3/3 [00:00<00:00, 59.27it/s]\n"
          ]
        },
        {
          "output_type": "stream",
          "name": "stdout",
          "text": [
            "\n",
            "Epoch   138\n",
            "Train_cost  = 6.2479 | Test_cost  = 5.9558 | \n"
          ]
        },
        {
          "output_type": "stream",
          "name": "stderr",
          "text": [
            "Train: 100%|██████████| 7/7 [00:00<00:00, 81.94it/s]\n",
            "Test: 100%|██████████| 3/3 [00:00<00:00, 67.32it/s]\n"
          ]
        },
        {
          "output_type": "stream",
          "name": "stdout",
          "text": [
            "\n",
            "Epoch   139\n",
            "Train_cost  = 6.2422 | Test_cost  = 5.9492 | \n"
          ]
        },
        {
          "output_type": "stream",
          "name": "stderr",
          "text": [
            "Train: 100%|██████████| 7/7 [00:00<00:00, 84.92it/s]\n",
            "Test: 100%|██████████| 3/3 [00:00<00:00, 61.28it/s]\n"
          ]
        },
        {
          "output_type": "stream",
          "name": "stdout",
          "text": [
            "\n",
            "Epoch   140\n",
            "Train_cost  = 6.2366 | Test_cost  = 5.9428 | \n"
          ]
        },
        {
          "output_type": "display_data",
          "data": {
            "text/plain": [
              "<Figure size 576x360 with 1 Axes>"
            ],
            "image/png": "[encoded data removed]"
          },
          "metadata": {
            "needs_background": "light"
          }
        },
        {
          "output_type": "stream",
          "name": "stderr",
          "text": [
            "Train: 100%|██████████| 7/7 [00:00<00:00, 59.42it/s]\n",
            "Test: 100%|██████████| 3/3 [00:00<00:00, 44.41it/s]\n"
          ]
        },
        {
          "output_type": "stream",
          "name": "stdout",
          "text": [
            "\n",
            "Epoch   141\n",
            "Train_cost  = 6.2311 | Test_cost  = 5.9365 | \n"
          ]
        },
        {
          "output_type": "stream",
          "name": "stderr",
          "text": [
            "Train: 100%|██████████| 7/7 [00:00<00:00, 49.92it/s]\n",
            "Test: 100%|██████████| 3/3 [00:00<00:00, 37.60it/s]\n"
          ]
        },
        {
          "output_type": "stream",
          "name": "stdout",
          "text": [
            "\n",
            "Epoch   142\n",
            "Train_cost  = 6.2256 | Test_cost  = 5.9303 | \n"
          ]
        },
        {
          "output_type": "stream",
          "name": "stderr",
          "text": [
            "Train: 100%|██████████| 7/7 [00:00<00:00, 54.65it/s]\n",
            "Test: 100%|██████████| 3/3 [00:00<00:00, 38.26it/s]\n"
          ]
        },
        {
          "output_type": "stream",
          "name": "stdout",
          "text": [
            "\n",
            "Epoch   143\n",
            "Train_cost  = 6.2203 | Test_cost  = 5.9242 | \n"
          ]
        },
        {
          "output_type": "stream",
          "name": "stderr",
          "text": [
            "Train: 100%|██████████| 7/7 [00:00<00:00, 49.22it/s]\n",
            "Test: 100%|██████████| 3/3 [00:00<00:00, 33.09it/s]\n"
          ]
        },
        {
          "output_type": "stream",
          "name": "stdout",
          "text": [
            "\n",
            "Epoch   144\n",
            "Train_cost  = 6.2150 | Test_cost  = 5.9182 | \n"
          ]
        },
        {
          "output_type": "stream",
          "name": "stderr",
          "text": [
            "Train: 100%|██████████| 7/7 [00:00<00:00, 56.56it/s]\n",
            "Test: 100%|██████████| 3/3 [00:00<00:00, 42.07it/s]\n"
          ]
        },
        {
          "output_type": "stream",
          "name": "stdout",
          "text": [
            "\n",
            "Epoch   145\n",
            "Train_cost  = 6.2099 | Test_cost  = 5.9123 | \n"
          ]
        },
        {
          "output_type": "stream",
          "name": "stderr",
          "text": [
            "Train: 100%|██████████| 7/7 [00:00<00:00, 51.11it/s]\n",
            "Test: 100%|██████████| 3/3 [00:00<00:00, 38.96it/s]\n"
          ]
        },
        {
          "output_type": "stream",
          "name": "stdout",
          "text": [
            "\n",
            "Epoch   146\n",
            "Train_cost  = 6.2048 | Test_cost  = 5.9065 | \n"
          ]
        },
        {
          "output_type": "stream",
          "name": "stderr",
          "text": [
            "Train: 100%|██████████| 7/7 [00:00<00:00, 54.45it/s]\n",
            "Test: 100%|██████████| 3/3 [00:00<00:00, 52.99it/s]\n"
          ]
        },
        {
          "output_type": "stream",
          "name": "stdout",
          "text": [
            "\n",
            "Epoch   147\n",
            "Train_cost  = 6.1997 | Test_cost  = 5.9008 | \n"
          ]
        },
        {
          "output_type": "stream",
          "name": "stderr",
          "text": [
            "Train: 100%|██████████| 7/7 [00:00<00:00, 80.06it/s]\n",
            "Test: 100%|██████████| 3/3 [00:00<00:00, 49.05it/s]\n"
          ]
        },
        {
          "output_type": "stream",
          "name": "stdout",
          "text": [
            "\n",
            "Epoch   148\n",
            "Train_cost  = 6.1948 | Test_cost  = 5.8952 | \n"
          ]
        },
        {
          "output_type": "stream",
          "name": "stderr",
          "text": [
            "Train: 100%|██████████| 7/7 [00:00<00:00, 89.44it/s]\n",
            "Test: 100%|██████████| 3/3 [00:00<00:00, 46.73it/s]\n"
          ]
        },
        {
          "output_type": "stream",
          "name": "stdout",
          "text": [
            "\n",
            "Epoch   149\n",
            "Train_cost  = 6.1899 | Test_cost  = 5.8897 | \n"
          ]
        },
        {
          "output_type": "stream",
          "name": "stderr",
          "text": [
            "Train: 100%|██████████| 7/7 [00:00<00:00, 89.45it/s]\n",
            "Test: 100%|██████████| 3/3 [00:00<00:00, 56.67it/s]\n"
          ]
        },
        {
          "output_type": "stream",
          "name": "stdout",
          "text": [
            "\n",
            "Epoch   150\n",
            "Train_cost  = 6.1851 | Test_cost  = 5.8842 | \n"
          ]
        },
        {
          "output_type": "stream",
          "name": "stderr",
          "text": [
            "Train: 100%|██████████| 7/7 [00:00<00:00, 82.80it/s]\n",
            "Test: 100%|██████████| 3/3 [00:00<00:00, 48.64it/s]\n"
          ]
        },
        {
          "output_type": "stream",
          "name": "stdout",
          "text": [
            "\n",
            "Epoch   151\n",
            "Train_cost  = 6.1804 | Test_cost  = 5.8789 | \n"
          ]
        },
        {
          "output_type": "stream",
          "name": "stderr",
          "text": [
            "Train: 100%|██████████| 7/7 [00:00<00:00, 81.93it/s]\n",
            "Test: 100%|██████████| 3/3 [00:00<00:00, 72.06it/s]\n"
          ]
        },
        {
          "output_type": "stream",
          "name": "stdout",
          "text": [
            "\n",
            "Epoch   152\n",
            "Train_cost  = 6.1757 | Test_cost  = 5.8736 | \n"
          ]
        },
        {
          "output_type": "stream",
          "name": "stderr",
          "text": [
            "Train: 100%|██████████| 7/7 [00:00<00:00, 82.52it/s]\n",
            "Test: 100%|██████████| 3/3 [00:00<00:00, 65.33it/s]\n"
          ]
        },
        {
          "output_type": "stream",
          "name": "stdout",
          "text": [
            "\n",
            "Epoch   153\n",
            "Train_cost  = 6.1710 | Test_cost  = 5.8685 | \n"
          ]
        },
        {
          "output_type": "stream",
          "name": "stderr",
          "text": [
            "Train: 100%|██████████| 7/7 [00:00<00:00, 71.32it/s]\n",
            "Test: 100%|██████████| 3/3 [00:00<00:00, 62.93it/s]\n"
          ]
        },
        {
          "output_type": "stream",
          "name": "stdout",
          "text": [
            "\n",
            "Epoch   154\n",
            "Train_cost  = 6.1665 | Test_cost  = 5.8634 | \n"
          ]
        },
        {
          "output_type": "stream",
          "name": "stderr",
          "text": [
            "Train: 100%|██████████| 7/7 [00:00<00:00, 83.21it/s]\n",
            "Test: 100%|██████████| 3/3 [00:00<00:00, 53.43it/s]\n"
          ]
        },
        {
          "output_type": "stream",
          "name": "stdout",
          "text": [
            "\n",
            "Epoch   155\n",
            "Train_cost  = 6.1620 | Test_cost  = 5.8584 | \n"
          ]
        },
        {
          "output_type": "stream",
          "name": "stderr",
          "text": [
            "Train: 100%|██████████| 7/7 [00:00<00:00, 78.37it/s]\n",
            "Test: 100%|██████████| 3/3 [00:00<00:00, 73.24it/s]\n"
          ]
        },
        {
          "output_type": "stream",
          "name": "stdout",
          "text": [
            "\n",
            "Epoch   156\n",
            "Train_cost  = 6.1575 | Test_cost  = 5.8535 | \n"
          ]
        },
        {
          "output_type": "stream",
          "name": "stderr",
          "text": [
            "Train: 100%|██████████| 7/7 [00:00<00:00, 75.30it/s]\n",
            "Test: 100%|██████████| 3/3 [00:00<00:00, 68.16it/s]\n"
          ]
        },
        {
          "output_type": "stream",
          "name": "stdout",
          "text": [
            "\n",
            "Epoch   157\n",
            "Train_cost  = 6.1531 | Test_cost  = 5.8487 | \n"
          ]
        },
        {
          "output_type": "stream",
          "name": "stderr",
          "text": [
            "Train: 100%|██████████| 7/7 [00:00<00:00, 87.54it/s]\n",
            "Test: 100%|██████████| 3/3 [00:00<00:00, 64.27it/s]\n"
          ]
        },
        {
          "output_type": "stream",
          "name": "stdout",
          "text": [
            "\n",
            "Epoch   158\n",
            "Train_cost  = 6.1488 | Test_cost  = 5.8439 | \n"
          ]
        },
        {
          "output_type": "stream",
          "name": "stderr",
          "text": [
            "Train: 100%|██████████| 7/7 [00:00<00:00, 83.11it/s]\n",
            "Test: 100%|██████████| 3/3 [00:00<00:00, 43.42it/s]\n"
          ]
        },
        {
          "output_type": "stream",
          "name": "stdout",
          "text": [
            "\n",
            "Epoch   159\n",
            "Train_cost  = 6.1445 | Test_cost  = 5.8392 | \n"
          ]
        },
        {
          "output_type": "stream",
          "name": "stderr",
          "text": [
            "Train: 100%|██████████| 7/7 [00:00<00:00, 88.84it/s]\n",
            "Test: 100%|██████████| 3/3 [00:00<00:00, 64.05it/s]\n"
          ]
        },
        {
          "output_type": "stream",
          "name": "stdout",
          "text": [
            "\n",
            "Epoch   160\n",
            "Train_cost  = 6.1402 | Test_cost  = 5.8346 | \n"
          ]
        },
        {
          "output_type": "display_data",
          "data": {
            "text/plain": [
              "<Figure size 576x360 with 1 Axes>"
            ],
            "image/png": "[encoded data removed]"
          },
          "metadata": {
            "needs_background": "light"
          }
        },
        {
          "output_type": "stream",
          "name": "stderr",
          "text": [
            "Train: 100%|██████████| 7/7 [00:00<00:00, 84.64it/s]\n",
            "Test: 100%|██████████| 3/3 [00:00<00:00, 48.92it/s]\n"
          ]
        },
        {
          "output_type": "stream",
          "name": "stdout",
          "text": [
            "\n",
            "Epoch   161\n",
            "Train_cost  = 6.1360 | Test_cost  = 5.8301 | \n"
          ]
        },
        {
          "output_type": "stream",
          "name": "stderr",
          "text": [
            "Train: 100%|██████████| 7/7 [00:00<00:00, 86.96it/s]\n",
            "Test: 100%|██████████| 3/3 [00:00<00:00, 59.37it/s]\n"
          ]
        },
        {
          "output_type": "stream",
          "name": "stdout",
          "text": [
            "\n",
            "Epoch   162\n",
            "Train_cost  = 6.1318 | Test_cost  = 5.8257 | \n"
          ]
        },
        {
          "output_type": "stream",
          "name": "stderr",
          "text": [
            "Train: 100%|██████████| 7/7 [00:00<00:00, 84.36it/s]\n",
            "Test: 100%|██████████| 3/3 [00:00<00:00, 62.18it/s]\n"
          ]
        },
        {
          "output_type": "stream",
          "name": "stdout",
          "text": [
            "\n",
            "Epoch   163\n",
            "Train_cost  = 6.1277 | Test_cost  = 5.8213 | \n"
          ]
        },
        {
          "output_type": "stream",
          "name": "stderr",
          "text": [
            "Train: 100%|██████████| 7/7 [00:00<00:00, 81.09it/s]\n",
            "Test: 100%|██████████| 3/3 [00:00<00:00, 60.80it/s]\n"
          ]
        },
        {
          "output_type": "stream",
          "name": "stdout",
          "text": [
            "\n",
            "Epoch   164\n",
            "Train_cost  = 6.1236 | Test_cost  = 5.8170 | \n"
          ]
        },
        {
          "output_type": "stream",
          "name": "stderr",
          "text": [
            "Train: 100%|██████████| 7/7 [00:00<00:00, 83.95it/s]\n",
            "Test: 100%|██████████| 3/3 [00:00<00:00, 61.17it/s]\n"
          ]
        },
        {
          "output_type": "stream",
          "name": "stdout",
          "text": [
            "\n",
            "Epoch   165\n",
            "Train_cost  = 6.1196 | Test_cost  = 5.8128 | \n"
          ]
        },
        {
          "output_type": "stream",
          "name": "stderr",
          "text": [
            "Train: 100%|██████████| 7/7 [00:00<00:00, 80.38it/s]\n",
            "Test: 100%|██████████| 3/3 [00:00<00:00, 59.91it/s]\n"
          ]
        },
        {
          "output_type": "stream",
          "name": "stdout",
          "text": [
            "\n",
            "Epoch   166\n",
            "Train_cost  = 6.1155 | Test_cost  = 5.8086 | \n"
          ]
        },
        {
          "output_type": "stream",
          "name": "stderr",
          "text": [
            "Train: 100%|██████████| 7/7 [00:00<00:00, 81.25it/s]\n",
            "Test: 100%|██████████| 3/3 [00:00<00:00, 56.86it/s]\n"
          ]
        },
        {
          "output_type": "stream",
          "name": "stdout",
          "text": [
            "\n",
            "Epoch   167\n",
            "Train_cost  = 6.1116 | Test_cost  = 5.8045 | \n"
          ]
        },
        {
          "output_type": "stream",
          "name": "stderr",
          "text": [
            "Train: 100%|██████████| 7/7 [00:00<00:00, 87.83it/s]\n",
            "Test: 100%|██████████| 3/3 [00:00<00:00, 59.77it/s]\n"
          ]
        },
        {
          "output_type": "stream",
          "name": "stdout",
          "text": [
            "\n",
            "Epoch   168\n",
            "Train_cost  = 6.1076 | Test_cost  = 5.8005 | \n"
          ]
        },
        {
          "output_type": "stream",
          "name": "stderr",
          "text": [
            "Train: 100%|██████████| 7/7 [00:00<00:00, 79.03it/s]\n",
            "Test: 100%|██████████| 3/3 [00:00<00:00, 60.84it/s]\n"
          ]
        },
        {
          "output_type": "stream",
          "name": "stdout",
          "text": [
            "\n",
            "Epoch   169\n",
            "Train_cost  = 6.1037 | Test_cost  = 5.7966 | \n"
          ]
        },
        {
          "output_type": "stream",
          "name": "stderr",
          "text": [
            "Train: 100%|██████████| 7/7 [00:00<00:00, 87.87it/s]\n",
            "Test: 100%|██████████| 3/3 [00:00<00:00, 65.87it/s]\n"
          ]
        },
        {
          "output_type": "stream",
          "name": "stdout",
          "text": [
            "\n",
            "Epoch   170\n",
            "Train_cost  = 6.0998 | Test_cost  = 5.7927 | \n"
          ]
        },
        {
          "output_type": "stream",
          "name": "stderr",
          "text": [
            "Train: 100%|██████████| 7/7 [00:00<00:00, 94.56it/s]\n",
            "Test: 100%|██████████| 3/3 [00:00<00:00, 52.04it/s]\n"
          ]
        },
        {
          "output_type": "stream",
          "name": "stdout",
          "text": [
            "\n",
            "Epoch   171\n",
            "Train_cost  = 6.0960 | Test_cost  = 5.7889 | \n"
          ]
        },
        {
          "output_type": "stream",
          "name": "stderr",
          "text": [
            "Train: 100%|██████████| 7/7 [00:00<00:00, 91.29it/s]\n",
            "Test: 100%|██████████| 3/3 [00:00<00:00, 70.21it/s]\n"
          ]
        },
        {
          "output_type": "stream",
          "name": "stdout",
          "text": [
            "\n",
            "Epoch   172\n",
            "Train_cost  = 6.0921 | Test_cost  = 5.7852 | \n"
          ]
        },
        {
          "output_type": "stream",
          "name": "stderr",
          "text": [
            "Train: 100%|██████████| 7/7 [00:00<00:00, 82.86it/s]\n",
            "Test: 100%|██████████| 3/3 [00:00<00:00, 62.59it/s]\n"
          ]
        },
        {
          "output_type": "stream",
          "name": "stdout",
          "text": [
            "\n",
            "Epoch   173\n",
            "Train_cost  = 6.0883 | Test_cost  = 5.7815 | \n"
          ]
        },
        {
          "output_type": "stream",
          "name": "stderr",
          "text": [
            "Train: 100%|██████████| 7/7 [00:00<00:00, 74.16it/s]\n",
            "Test: 100%|██████████| 3/3 [00:00<00:00, 43.49it/s]\n"
          ]
        },
        {
          "output_type": "stream",
          "name": "stdout",
          "text": [
            "\n",
            "Epoch   174\n",
            "Train_cost  = 6.0845 | Test_cost  = 5.7779 | \n"
          ]
        },
        {
          "output_type": "stream",
          "name": "stderr",
          "text": [
            "Train: 100%|██████████| 7/7 [00:00<00:00, 74.97it/s]\n",
            "Test: 100%|██████████| 3/3 [00:00<00:00, 63.75it/s]\n"
          ]
        },
        {
          "output_type": "stream",
          "name": "stdout",
          "text": [
            "\n",
            "Epoch   175\n",
            "Train_cost  = 6.0808 | Test_cost  = 5.7744 | \n"
          ]
        },
        {
          "output_type": "stream",
          "name": "stderr",
          "text": [
            "Train: 100%|██████████| 7/7 [00:00<00:00, 85.77it/s]\n",
            "Test: 100%|██████████| 3/3 [00:00<00:00, 62.07it/s]\n"
          ]
        },
        {
          "output_type": "stream",
          "name": "stdout",
          "text": [
            "\n",
            "Epoch   176\n",
            "Train_cost  = 6.0770 | Test_cost  = 5.7710 | \n"
          ]
        },
        {
          "output_type": "stream",
          "name": "stderr",
          "text": [
            "Train: 100%|██████████| 7/7 [00:00<00:00, 78.07it/s]\n",
            "Test: 100%|██████████| 3/3 [00:00<00:00, 62.59it/s]\n"
          ]
        },
        {
          "output_type": "stream",
          "name": "stdout",
          "text": [
            "\n",
            "Epoch   177\n",
            "Train_cost  = 6.0733 | Test_cost  = 5.7676 | \n"
          ]
        },
        {
          "output_type": "stream",
          "name": "stderr",
          "text": [
            "Train: 100%|██████████| 7/7 [00:00<00:00, 83.91it/s]\n",
            "Test: 100%|██████████| 3/3 [00:00<00:00, 55.17it/s]\n"
          ]
        },
        {
          "output_type": "stream",
          "name": "stdout",
          "text": [
            "\n",
            "Epoch   178\n",
            "Train_cost  = 6.0696 | Test_cost  = 5.7643 | \n"
          ]
        },
        {
          "output_type": "stream",
          "name": "stderr",
          "text": [
            "Train: 100%|██████████| 7/7 [00:00<00:00, 80.98it/s]\n",
            "Test: 100%|██████████| 3/3 [00:00<00:00, 64.74it/s]\n"
          ]
        },
        {
          "output_type": "stream",
          "name": "stdout",
          "text": [
            "\n",
            "Epoch   179\n",
            "Train_cost  = 6.0659 | Test_cost  = 5.7610 | \n"
          ]
        },
        {
          "output_type": "stream",
          "name": "stderr",
          "text": [
            "Train: 100%|██████████| 7/7 [00:00<00:00, 78.52it/s]\n",
            "Test: 100%|██████████| 3/3 [00:00<00:00, 48.73it/s]\n"
          ]
        },
        {
          "output_type": "stream",
          "name": "stdout",
          "text": [
            "\n",
            "Epoch   180\n",
            "Train_cost  = 6.0623 | Test_cost  = 5.7578 | \n"
          ]
        },
        {
          "output_type": "display_data",
          "data": {
            "text/plain": [
              "<Figure size 576x360 with 1 Axes>"
            ],
            "image/png": "[encoded data removed]"
          },
          "metadata": {
            "needs_background": "light"
          }
        },
        {
          "output_type": "stream",
          "name": "stderr",
          "text": [
            "Train: 100%|██████████| 7/7 [00:00<00:00, 88.07it/s]\n",
            "Test: 100%|██████████| 3/3 [00:00<00:00, 46.72it/s]\n"
          ]
        },
        {
          "output_type": "stream",
          "name": "stdout",
          "text": [
            "\n",
            "Epoch   181\n",
            "Train_cost  = 6.0586 | Test_cost  = 5.7547 | \n"
          ]
        },
        {
          "output_type": "stream",
          "name": "stderr",
          "text": [
            "Train: 100%|██████████| 7/7 [00:00<00:00, 73.58it/s]\n",
            "Test: 100%|██████████| 3/3 [00:00<00:00, 56.26it/s]\n"
          ]
        },
        {
          "output_type": "stream",
          "name": "stdout",
          "text": [
            "\n",
            "Epoch   182\n",
            "Train_cost  = 6.0550 | Test_cost  = 5.7516 | \n"
          ]
        },
        {
          "output_type": "stream",
          "name": "stderr",
          "text": [
            "Train: 100%|██████████| 7/7 [00:00<00:00, 75.55it/s]\n",
            "Test: 100%|██████████| 3/3 [00:00<00:00, 58.85it/s]\n"
          ]
        },
        {
          "output_type": "stream",
          "name": "stdout",
          "text": [
            "\n",
            "Epoch   183\n",
            "Train_cost  = 6.0514 | Test_cost  = 5.7486 | \n"
          ]
        },
        {
          "output_type": "stream",
          "name": "stderr",
          "text": [
            "Train: 100%|██████████| 7/7 [00:00<00:00, 77.15it/s]\n",
            "Test: 100%|██████████| 3/3 [00:00<00:00, 51.63it/s]\n"
          ]
        },
        {
          "output_type": "stream",
          "name": "stdout",
          "text": [
            "\n",
            "Epoch   184\n",
            "Train_cost  = 6.0478 | Test_cost  = 5.7456 | \n"
          ]
        },
        {
          "output_type": "stream",
          "name": "stderr",
          "text": [
            "Train: 100%|██████████| 7/7 [00:00<00:00, 72.06it/s]\n",
            "Test: 100%|██████████| 3/3 [00:00<00:00, 60.75it/s]\n"
          ]
        },
        {
          "output_type": "stream",
          "name": "stdout",
          "text": [
            "\n",
            "Epoch   185\n",
            "Train_cost  = 6.0442 | Test_cost  = 5.7427 | \n"
          ]
        },
        {
          "output_type": "stream",
          "name": "stderr",
          "text": [
            "Train: 100%|██████████| 7/7 [00:00<00:00, 79.93it/s]\n",
            "Test: 100%|██████████| 3/3 [00:00<00:00, 53.20it/s]\n"
          ]
        },
        {
          "output_type": "stream",
          "name": "stdout",
          "text": [
            "\n",
            "Epoch   186\n",
            "Train_cost  = 6.0406 | Test_cost  = 5.7399 | \n"
          ]
        },
        {
          "output_type": "stream",
          "name": "stderr",
          "text": [
            "Train: 100%|██████████| 7/7 [00:00<00:00, 78.34it/s]\n",
            "Test: 100%|██████████| 3/3 [00:00<00:00, 62.78it/s]\n"
          ]
        },
        {
          "output_type": "stream",
          "name": "stdout",
          "text": [
            "\n",
            "Epoch   187\n",
            "Train_cost  = 6.0370 | Test_cost  = 5.7371 | \n"
          ]
        },
        {
          "output_type": "stream",
          "name": "stderr",
          "text": [
            "Train: 100%|██████████| 7/7 [00:00<00:00, 85.10it/s]\n",
            "Test: 100%|██████████| 3/3 [00:00<00:00, 59.49it/s]\n"
          ]
        },
        {
          "output_type": "stream",
          "name": "stdout",
          "text": [
            "\n",
            "Epoch   188\n",
            "Train_cost  = 6.0334 | Test_cost  = 5.7344 | \n"
          ]
        },
        {
          "output_type": "stream",
          "name": "stderr",
          "text": [
            "Train: 100%|██████████| 7/7 [00:00<00:00, 87.59it/s]\n",
            "Test: 100%|██████████| 3/3 [00:00<00:00, 60.70it/s]\n"
          ]
        },
        {
          "output_type": "stream",
          "name": "stdout",
          "text": [
            "\n",
            "Epoch   189\n",
            "Train_cost  = 6.0299 | Test_cost  = 5.7317 | \n"
          ]
        },
        {
          "output_type": "stream",
          "name": "stderr",
          "text": [
            "Train: 100%|██████████| 7/7 [00:00<00:00, 79.53it/s]\n",
            "Test: 100%|██████████| 3/3 [00:00<00:00, 58.02it/s]\n"
          ]
        },
        {
          "output_type": "stream",
          "name": "stdout",
          "text": [
            "\n",
            "Epoch   190\n",
            "Train_cost  = 6.0263 | Test_cost  = 5.7291 | \n"
          ]
        },
        {
          "output_type": "stream",
          "name": "stderr",
          "text": [
            "Train: 100%|██████████| 7/7 [00:00<00:00, 69.75it/s]\n",
            "Test: 100%|██████████| 3/3 [00:00<00:00, 63.97it/s]\n"
          ]
        },
        {
          "output_type": "stream",
          "name": "stdout",
          "text": [
            "\n",
            "Epoch   191\n",
            "Train_cost  = 6.0227 | Test_cost  = 5.7265 | \n"
          ]
        },
        {
          "output_type": "stream",
          "name": "stderr",
          "text": [
            "Train: 100%|██████████| 7/7 [00:00<00:00, 88.37it/s]\n",
            "Test: 100%|██████████| 3/3 [00:00<00:00, 51.64it/s]\n"
          ]
        },
        {
          "output_type": "stream",
          "name": "stdout",
          "text": [
            "\n",
            "Epoch   192\n",
            "Train_cost  = 6.0192 | Test_cost  = 5.7239 | \n"
          ]
        },
        {
          "output_type": "stream",
          "name": "stderr",
          "text": [
            "Train: 100%|██████████| 7/7 [00:00<00:00, 77.95it/s]\n",
            "Test: 100%|██████████| 3/3 [00:00<00:00, 47.57it/s]\n"
          ]
        },
        {
          "output_type": "stream",
          "name": "stdout",
          "text": [
            "\n",
            "Epoch   193\n",
            "Train_cost  = 6.0156 | Test_cost  = 5.7214 | \n"
          ]
        },
        {
          "output_type": "stream",
          "name": "stderr",
          "text": [
            "Train: 100%|██████████| 7/7 [00:00<00:00, 75.93it/s]\n",
            "Test: 100%|██████████| 3/3 [00:00<00:00, 51.69it/s]\n"
          ]
        },
        {
          "output_type": "stream",
          "name": "stdout",
          "text": [
            "\n",
            "Epoch   194\n",
            "Train_cost  = 6.0121 | Test_cost  = 5.7189 | \n"
          ]
        },
        {
          "output_type": "stream",
          "name": "stderr",
          "text": [
            "Train: 100%|██████████| 7/7 [00:00<00:00, 75.64it/s]\n",
            "Test: 100%|██████████| 3/3 [00:00<00:00, 50.29it/s]\n"
          ]
        },
        {
          "output_type": "stream",
          "name": "stdout",
          "text": [
            "\n",
            "Epoch   195\n",
            "Train_cost  = 6.0086 | Test_cost  = 5.7165 | \n"
          ]
        },
        {
          "output_type": "stream",
          "name": "stderr",
          "text": [
            "Train: 100%|██████████| 7/7 [00:00<00:00, 83.54it/s]\n",
            "Test: 100%|██████████| 3/3 [00:00<00:00, 56.11it/s]\n"
          ]
        },
        {
          "output_type": "stream",
          "name": "stdout",
          "text": [
            "\n",
            "Epoch   196\n",
            "Train_cost  = 6.0050 | Test_cost  = 5.7141 | \n"
          ]
        },
        {
          "output_type": "stream",
          "name": "stderr",
          "text": [
            "Train: 100%|██████████| 7/7 [00:00<00:00, 73.25it/s]\n",
            "Test: 100%|██████████| 3/3 [00:00<00:00, 59.14it/s]\n"
          ]
        },
        {
          "output_type": "stream",
          "name": "stdout",
          "text": [
            "\n",
            "Epoch   197\n",
            "Train_cost  = 6.0015 | Test_cost  = 5.7117 | \n"
          ]
        },
        {
          "output_type": "stream",
          "name": "stderr",
          "text": [
            "Train: 100%|██████████| 7/7 [00:00<00:00, 77.14it/s]\n",
            "Test: 100%|██████████| 3/3 [00:00<00:00, 54.46it/s]\n"
          ]
        },
        {
          "output_type": "stream",
          "name": "stdout",
          "text": [
            "\n",
            "Epoch   198\n",
            "Train_cost  = 5.9980 | Test_cost  = 5.7094 | \n"
          ]
        },
        {
          "output_type": "stream",
          "name": "stderr",
          "text": [
            "Train: 100%|██████████| 7/7 [00:00<00:00, 76.82it/s]\n",
            "Test: 100%|██████████| 3/3 [00:00<00:00, 59.09it/s]\n"
          ]
        },
        {
          "output_type": "stream",
          "name": "stdout",
          "text": [
            "\n",
            "Epoch   199\n",
            "Train_cost  = 5.9944 | Test_cost  = 5.7070 | \n"
          ]
        },
        {
          "output_type": "stream",
          "name": "stderr",
          "text": [
            "Train: 100%|██████████| 7/7 [00:00<00:00, 86.38it/s]\n",
            "Test: 100%|██████████| 3/3 [00:00<00:00, 56.77it/s]\n"
          ]
        },
        {
          "output_type": "stream",
          "name": "stdout",
          "text": [
            "\n",
            "Epoch   200\n",
            "Train_cost  = 5.9909 | Test_cost  = 5.7047 | \n"
          ]
        },
        {
          "output_type": "display_data",
          "data": {
            "text/plain": [
              "<Figure size 576x360 with 1 Axes>"
            ],
            "image/png": "[encoded data removed]"
          },
          "metadata": {
            "needs_background": "light"
          }
        },
        {
          "output_type": "stream",
          "name": "stderr",
          "text": [
            "Train: 100%|██████████| 7/7 [00:00<00:00, 92.42it/s]\n",
            "Test: 100%|██████████| 3/3 [00:00<00:00, 59.61it/s]\n"
          ]
        },
        {
          "output_type": "stream",
          "name": "stdout",
          "text": [
            "\n",
            "Epoch   201\n",
            "Train_cost  = 5.9874 | Test_cost  = 5.7025 | \n"
          ]
        },
        {
          "output_type": "stream",
          "name": "stderr",
          "text": [
            "Train: 100%|██████████| 7/7 [00:00<00:00, 75.55it/s]\n",
            "Test: 100%|██████████| 3/3 [00:00<00:00, 57.04it/s]\n"
          ]
        },
        {
          "output_type": "stream",
          "name": "stdout",
          "text": [
            "\n",
            "Epoch   202\n",
            "Train_cost  = 5.9838 | Test_cost  = 5.7002 | \n"
          ]
        },
        {
          "output_type": "stream",
          "name": "stderr",
          "text": [
            "Train: 100%|██████████| 7/7 [00:00<00:00, 85.15it/s]\n",
            "Test: 100%|██████████| 3/3 [00:00<00:00, 65.33it/s]\n"
          ]
        },
        {
          "output_type": "stream",
          "name": "stdout",
          "text": [
            "\n",
            "Epoch   203\n",
            "Train_cost  = 5.9803 | Test_cost  = 5.6979 | \n"
          ]
        },
        {
          "output_type": "stream",
          "name": "stderr",
          "text": [
            "Train: 100%|██████████| 7/7 [00:00<00:00, 81.83it/s]\n",
            "Test: 100%|██████████| 3/3 [00:00<00:00, 54.64it/s]\n"
          ]
        },
        {
          "output_type": "stream",
          "name": "stdout",
          "text": [
            "\n",
            "Epoch   204\n",
            "Train_cost  = 5.9768 | Test_cost  = 5.6957 | \n"
          ]
        },
        {
          "output_type": "stream",
          "name": "stderr",
          "text": [
            "Train: 100%|██████████| 7/7 [00:00<00:00, 85.89it/s]\n",
            "Test: 100%|██████████| 3/3 [00:00<00:00, 50.72it/s]\n"
          ]
        },
        {
          "output_type": "stream",
          "name": "stdout",
          "text": [
            "\n",
            "Epoch   205\n",
            "Train_cost  = 5.9733 | Test_cost  = 5.6935 | \n"
          ]
        },
        {
          "output_type": "stream",
          "name": "stderr",
          "text": [
            "Train: 100%|██████████| 7/7 [00:00<00:00, 83.63it/s]\n",
            "Test: 100%|██████████| 3/3 [00:00<00:00, 49.17it/s]\n"
          ]
        },
        {
          "output_type": "stream",
          "name": "stdout",
          "text": [
            "\n",
            "Epoch   206\n",
            "Train_cost  = 5.9697 | Test_cost  = 5.6913 | \n"
          ]
        },
        {
          "output_type": "stream",
          "name": "stderr",
          "text": [
            "Train: 100%|██████████| 7/7 [00:00<00:00, 82.57it/s]\n",
            "Test: 100%|██████████| 3/3 [00:00<00:00, 54.27it/s]\n"
          ]
        },
        {
          "output_type": "stream",
          "name": "stdout",
          "text": [
            "\n",
            "Epoch   207\n",
            "Train_cost  = 5.9662 | Test_cost  = 5.6891 | \n"
          ]
        },
        {
          "output_type": "stream",
          "name": "stderr",
          "text": [
            "Train: 100%|██████████| 7/7 [00:00<00:00, 75.84it/s]\n",
            "Test: 100%|██████████| 3/3 [00:00<00:00, 51.21it/s]\n"
          ]
        },
        {
          "output_type": "stream",
          "name": "stdout",
          "text": [
            "\n",
            "Epoch   208\n",
            "Train_cost  = 5.9627 | Test_cost  = 5.6869 | \n"
          ]
        },
        {
          "output_type": "stream",
          "name": "stderr",
          "text": [
            "Train: 100%|██████████| 7/7 [00:00<00:00, 82.59it/s]\n",
            "Test: 100%|██████████| 3/3 [00:00<00:00, 54.21it/s]\n"
          ]
        },
        {
          "output_type": "stream",
          "name": "stdout",
          "text": [
            "\n",
            "Epoch   209\n",
            "Train_cost  = 5.9591 | Test_cost  = 5.6846 | \n"
          ]
        },
        {
          "output_type": "stream",
          "name": "stderr",
          "text": [
            "Train: 100%|██████████| 7/7 [00:00<00:00, 81.83it/s]\n",
            "Test: 100%|██████████| 3/3 [00:00<00:00, 57.51it/s]\n"
          ]
        },
        {
          "output_type": "stream",
          "name": "stdout",
          "text": [
            "\n",
            "Epoch   210\n",
            "Train_cost  = 5.9556 | Test_cost  = 5.6824 | \n"
          ]
        },
        {
          "output_type": "stream",
          "name": "stderr",
          "text": [
            "Train: 100%|██████████| 7/7 [00:00<00:00, 69.94it/s]\n",
            "Test: 100%|██████████| 3/3 [00:00<00:00, 52.34it/s]\n"
          ]
        },
        {
          "output_type": "stream",
          "name": "stdout",
          "text": [
            "\n",
            "Epoch   211\n",
            "Train_cost  = 5.9520 | Test_cost  = 5.6802 | \n"
          ]
        },
        {
          "output_type": "stream",
          "name": "stderr",
          "text": [
            "Train: 100%|██████████| 7/7 [00:00<00:00, 81.35it/s]\n",
            "Test: 100%|██████████| 3/3 [00:00<00:00, 56.69it/s]\n"
          ]
        },
        {
          "output_type": "stream",
          "name": "stdout",
          "text": [
            "\n",
            "Epoch   212\n",
            "Train_cost  = 5.9485 | Test_cost  = 5.6780 | \n"
          ]
        },
        {
          "output_type": "stream",
          "name": "stderr",
          "text": [
            "Train: 100%|██████████| 7/7 [00:00<00:00, 78.43it/s]\n",
            "Test: 100%|██████████| 3/3 [00:00<00:00, 52.40it/s]\n"
          ]
        },
        {
          "output_type": "stream",
          "name": "stdout",
          "text": [
            "\n",
            "Epoch   213\n",
            "Train_cost  = 5.9449 | Test_cost  = 5.6758 | \n"
          ]
        },
        {
          "output_type": "stream",
          "name": "stderr",
          "text": [
            "Train: 100%|██████████| 7/7 [00:00<00:00, 73.66it/s]\n",
            "Test: 100%|██████████| 3/3 [00:00<00:00, 56.15it/s]\n"
          ]
        },
        {
          "output_type": "stream",
          "name": "stdout",
          "text": [
            "\n",
            "Epoch   214\n",
            "Train_cost  = 5.9414 | Test_cost  = 5.6736 | \n"
          ]
        },
        {
          "output_type": "stream",
          "name": "stderr",
          "text": [
            "Train: 100%|██████████| 7/7 [00:00<00:00, 81.47it/s]\n",
            "Test: 100%|██████████| 3/3 [00:00<00:00, 50.47it/s]\n"
          ]
        },
        {
          "output_type": "stream",
          "name": "stdout",
          "text": [
            "\n",
            "Epoch   215\n",
            "Train_cost  = 5.9378 | Test_cost  = 5.6714 | \n"
          ]
        },
        {
          "output_type": "stream",
          "name": "stderr",
          "text": [
            "Train: 100%|██████████| 7/7 [00:00<00:00, 84.08it/s]\n",
            "Test: 100%|██████████| 3/3 [00:00<00:00, 59.39it/s]\n"
          ]
        },
        {
          "output_type": "stream",
          "name": "stdout",
          "text": [
            "\n",
            "Epoch   216\n",
            "Train_cost  = 5.9342 | Test_cost  = 5.6691 | \n"
          ]
        },
        {
          "output_type": "stream",
          "name": "stderr",
          "text": [
            "Train: 100%|██████████| 7/7 [00:00<00:00, 86.16it/s]\n",
            "Test: 100%|██████████| 3/3 [00:00<00:00, 52.44it/s]\n"
          ]
        },
        {
          "output_type": "stream",
          "name": "stdout",
          "text": [
            "\n",
            "Epoch   217\n",
            "Train_cost  = 5.9306 | Test_cost  = 5.6669 | \n"
          ]
        },
        {
          "output_type": "stream",
          "name": "stderr",
          "text": [
            "Train: 100%|██████████| 7/7 [00:00<00:00, 77.79it/s]\n",
            "Test: 100%|██████████| 3/3 [00:00<00:00, 59.17it/s]\n"
          ]
        },
        {
          "output_type": "stream",
          "name": "stdout",
          "text": [
            "\n",
            "Epoch   218\n",
            "Train_cost  = 5.9270 | Test_cost  = 5.6646 | \n"
          ]
        },
        {
          "output_type": "stream",
          "name": "stderr",
          "text": [
            "Train: 100%|██████████| 7/7 [00:00<00:00, 82.89it/s]\n",
            "Test: 100%|██████████| 3/3 [00:00<00:00, 54.24it/s]\n"
          ]
        },
        {
          "output_type": "stream",
          "name": "stdout",
          "text": [
            "\n",
            "Epoch   219\n",
            "Train_cost  = 5.9233 | Test_cost  = 5.6624 | \n"
          ]
        },
        {
          "output_type": "stream",
          "name": "stderr",
          "text": [
            "Train: 100%|██████████| 7/7 [00:00<00:00, 82.23it/s]\n",
            "Test: 100%|██████████| 3/3 [00:00<00:00, 48.24it/s]\n"
          ]
        },
        {
          "output_type": "stream",
          "name": "stdout",
          "text": [
            "\n",
            "Epoch   220\n",
            "Train_cost  = 5.9197 | Test_cost  = 5.6601 | \n"
          ]
        },
        {
          "output_type": "display_data",
          "data": {
            "text/plain": [
              "<Figure size 576x360 with 1 Axes>"
            ],
            "image/png": "[encoded data removed]"
          },
          "metadata": {
            "needs_background": "light"
          }
        },
        {
          "output_type": "stream",
          "name": "stderr",
          "text": [
            "Train: 100%|██████████| 7/7 [00:00<00:00, 87.99it/s]\n",
            "Test: 100%|██████████| 3/3 [00:00<00:00, 56.88it/s]\n"
          ]
        },
        {
          "output_type": "stream",
          "name": "stdout",
          "text": [
            "\n",
            "Epoch   221\n",
            "Train_cost  = 5.9160 | Test_cost  = 5.6579 | \n"
          ]
        },
        {
          "output_type": "stream",
          "name": "stderr",
          "text": [
            "Train: 100%|██████████| 7/7 [00:00<00:00, 83.04it/s]\n",
            "Test: 100%|██████████| 3/3 [00:00<00:00, 51.37it/s]\n"
          ]
        },
        {
          "output_type": "stream",
          "name": "stdout",
          "text": [
            "\n",
            "Epoch   222\n",
            "Train_cost  = 5.9122 | Test_cost  = 5.6556 | \n"
          ]
        },
        {
          "output_type": "stream",
          "name": "stderr",
          "text": [
            "Train: 100%|██████████| 7/7 [00:00<00:00, 85.00it/s]\n",
            "Test: 100%|██████████| 3/3 [00:00<00:00, 59.10it/s]\n"
          ]
        },
        {
          "output_type": "stream",
          "name": "stdout",
          "text": [
            "\n",
            "Epoch   223\n",
            "Train_cost  = 5.9085 | Test_cost  = 5.6534 | \n"
          ]
        },
        {
          "output_type": "stream",
          "name": "stderr",
          "text": [
            "Train: 100%|██████████| 7/7 [00:00<00:00, 75.10it/s]\n",
            "Test: 100%|██████████| 3/3 [00:00<00:00, 54.62it/s]\n"
          ]
        },
        {
          "output_type": "stream",
          "name": "stdout",
          "text": [
            "\n",
            "Epoch   224\n",
            "Train_cost  = 5.9046 | Test_cost  = 5.6511 | \n"
          ]
        },
        {
          "output_type": "stream",
          "name": "stderr",
          "text": [
            "Train: 100%|██████████| 7/7 [00:00<00:00, 69.33it/s]\n",
            "Test: 100%|██████████| 3/3 [00:00<00:00, 45.33it/s]\n"
          ]
        },
        {
          "output_type": "stream",
          "name": "stdout",
          "text": [
            "\n",
            "Epoch   225\n",
            "Train_cost  = 5.9008 | Test_cost  = 5.6489 | \n"
          ]
        },
        {
          "output_type": "stream",
          "name": "stderr",
          "text": [
            "Train: 100%|██████████| 7/7 [00:00<00:00, 86.21it/s]\n",
            "Test: 100%|██████████| 3/3 [00:00<00:00, 61.83it/s]\n"
          ]
        },
        {
          "output_type": "stream",
          "name": "stdout",
          "text": [
            "\n",
            "Epoch   226\n",
            "Train_cost  = 5.8968 | Test_cost  = 5.6467 | \n"
          ]
        },
        {
          "output_type": "stream",
          "name": "stderr",
          "text": [
            "Train: 100%|██████████| 7/7 [00:00<00:00, 78.80it/s]\n",
            "Test: 100%|██████████| 3/3 [00:00<00:00, 50.83it/s]\n"
          ]
        },
        {
          "output_type": "stream",
          "name": "stdout",
          "text": [
            "\n",
            "Epoch   227\n",
            "Train_cost  = 5.8928 | Test_cost  = 5.6446 | \n"
          ]
        },
        {
          "output_type": "stream",
          "name": "stderr",
          "text": [
            "Train: 100%|██████████| 7/7 [00:00<00:00, 71.87it/s]\n",
            "Test: 100%|██████████| 3/3 [00:00<00:00, 62.42it/s]\n"
          ]
        },
        {
          "output_type": "stream",
          "name": "stdout",
          "text": [
            "\n",
            "Epoch   228\n",
            "Train_cost  = 5.8887 | Test_cost  = 5.6425 | \n"
          ]
        },
        {
          "output_type": "stream",
          "name": "stderr",
          "text": [
            "Train: 100%|██████████| 7/7 [00:00<00:00, 77.34it/s]\n",
            "Test: 100%|██████████| 3/3 [00:00<00:00, 52.58it/s]\n"
          ]
        },
        {
          "output_type": "stream",
          "name": "stdout",
          "text": [
            "\n",
            "Epoch   229\n",
            "Train_cost  = 5.8846 | Test_cost  = 5.6404 | \n"
          ]
        },
        {
          "output_type": "stream",
          "name": "stderr",
          "text": [
            "Train: 100%|██████████| 7/7 [00:00<00:00, 80.99it/s]\n",
            "Test: 100%|██████████| 3/3 [00:00<00:00, 54.08it/s]\n"
          ]
        },
        {
          "output_type": "stream",
          "name": "stdout",
          "text": [
            "\n",
            "Epoch   230\n",
            "Train_cost  = 5.8804 | Test_cost  = 5.6384 | \n"
          ]
        },
        {
          "output_type": "stream",
          "name": "stderr",
          "text": [
            "Train: 100%|██████████| 7/7 [00:00<00:00, 73.81it/s]\n",
            "Test: 100%|██████████| 3/3 [00:00<00:00, 56.80it/s]\n"
          ]
        },
        {
          "output_type": "stream",
          "name": "stdout",
          "text": [
            "\n",
            "Epoch   231\n",
            "Train_cost  = 5.8762 | Test_cost  = 5.6365 | \n"
          ]
        },
        {
          "output_type": "stream",
          "name": "stderr",
          "text": [
            "Train: 100%|██████████| 7/7 [00:00<00:00, 76.65it/s]\n",
            "Test: 100%|██████████| 3/3 [00:00<00:00, 52.77it/s]\n"
          ]
        },
        {
          "output_type": "stream",
          "name": "stdout",
          "text": [
            "\n",
            "Epoch   232\n",
            "Train_cost  = 5.8720 | Test_cost  = 5.6345 | \n"
          ]
        },
        {
          "output_type": "stream",
          "name": "stderr",
          "text": [
            "Train: 100%|██████████| 7/7 [00:00<00:00, 83.09it/s]\n",
            "Test: 100%|██████████| 3/3 [00:00<00:00, 51.34it/s]\n"
          ]
        },
        {
          "output_type": "stream",
          "name": "stdout",
          "text": [
            "\n",
            "Epoch   233\n",
            "Train_cost  = 5.8677 | Test_cost  = 5.6326 | \n"
          ]
        },
        {
          "output_type": "stream",
          "name": "stderr",
          "text": [
            "Train: 100%|██████████| 7/7 [00:00<00:00, 80.11it/s]\n",
            "Test: 100%|██████████| 3/3 [00:00<00:00, 52.10it/s]\n"
          ]
        },
        {
          "output_type": "stream",
          "name": "stdout",
          "text": [
            "\n",
            "Epoch   234\n",
            "Train_cost  = 5.8634 | Test_cost  = 5.6308 | \n"
          ]
        },
        {
          "output_type": "stream",
          "name": "stderr",
          "text": [
            "Train: 100%|██████████| 7/7 [00:00<00:00, 76.32it/s]\n",
            "Test: 100%|██████████| 3/3 [00:00<00:00, 51.20it/s]\n"
          ]
        },
        {
          "output_type": "stream",
          "name": "stdout",
          "text": [
            "\n",
            "Epoch   235\n",
            "Train_cost  = 5.8591 | Test_cost  = 5.6290 | \n"
          ]
        },
        {
          "output_type": "stream",
          "name": "stderr",
          "text": [
            "Train: 100%|██████████| 7/7 [00:00<00:00, 75.45it/s]\n",
            "Test: 100%|██████████| 3/3 [00:00<00:00, 61.85it/s]\n"
          ]
        },
        {
          "output_type": "stream",
          "name": "stdout",
          "text": [
            "\n",
            "Epoch   236\n",
            "Train_cost  = 5.8548 | Test_cost  = 5.6274 | \n"
          ]
        },
        {
          "output_type": "stream",
          "name": "stderr",
          "text": [
            "Train: 100%|██████████| 7/7 [00:00<00:00, 83.28it/s]\n",
            "Test: 100%|██████████| 3/3 [00:00<00:00, 58.65it/s]\n"
          ]
        },
        {
          "output_type": "stream",
          "name": "stdout",
          "text": [
            "\n",
            "Epoch   237\n",
            "Train_cost  = 5.8504 | Test_cost  = 5.6258 | \n"
          ]
        },
        {
          "output_type": "stream",
          "name": "stderr",
          "text": [
            "Train: 100%|██████████| 7/7 [00:00<00:00, 80.34it/s]\n",
            "Test: 100%|██████████| 3/3 [00:00<00:00, 47.85it/s]\n"
          ]
        },
        {
          "output_type": "stream",
          "name": "stdout",
          "text": [
            "\n",
            "Epoch   238\n",
            "Train_cost  = 5.8460 | Test_cost  = 5.6244 | \n"
          ]
        },
        {
          "output_type": "stream",
          "name": "stderr",
          "text": [
            "Train: 100%|██████████| 7/7 [00:00<00:00, 78.82it/s]\n",
            "Test: 100%|██████████| 3/3 [00:00<00:00, 57.33it/s]\n"
          ]
        },
        {
          "output_type": "stream",
          "name": "stdout",
          "text": [
            "\n",
            "Epoch   239\n",
            "Train_cost  = 5.8415 | Test_cost  = 5.6230 | \n"
          ]
        },
        {
          "output_type": "stream",
          "name": "stderr",
          "text": [
            "Train: 100%|██████████| 7/7 [00:00<00:00, 81.41it/s]\n",
            "Test: 100%|██████████| 3/3 [00:00<00:00, 56.68it/s]\n"
          ]
        },
        {
          "output_type": "stream",
          "name": "stdout",
          "text": [
            "\n",
            "Epoch   240\n",
            "Train_cost  = 5.8369 | Test_cost  = 5.6217 | \n"
          ]
        },
        {
          "output_type": "display_data",
          "data": {
            "text/plain": [
              "<Figure size 576x360 with 1 Axes>"
            ],
            "image/png": "[encoded data removed]"
          },
          "metadata": {
            "needs_background": "light"
          }
        },
        {
          "output_type": "stream",
          "name": "stderr",
          "text": [
            "Train: 100%|██████████| 7/7 [00:00<00:00, 92.80it/s]\n",
            "Test: 100%|██████████| 3/3 [00:00<00:00, 54.92it/s]\n"
          ]
        },
        {
          "output_type": "stream",
          "name": "stdout",
          "text": [
            "\n",
            "Epoch   241\n",
            "Train_cost  = 5.8322 | Test_cost  = 5.6204 | \n"
          ]
        },
        {
          "output_type": "stream",
          "name": "stderr",
          "text": [
            "Train: 100%|██████████| 7/7 [00:00<00:00, 70.24it/s]\n",
            "Test: 100%|██████████| 3/3 [00:00<00:00, 56.04it/s]\n"
          ]
        },
        {
          "output_type": "stream",
          "name": "stdout",
          "text": [
            "\n",
            "Epoch   242\n",
            "Train_cost  = 5.8275 | Test_cost  = 5.6191 | \n"
          ]
        },
        {
          "output_type": "stream",
          "name": "stderr",
          "text": [
            "Train: 100%|██████████| 7/7 [00:00<00:00, 78.98it/s]\n",
            "Test: 100%|██████████| 3/3 [00:00<00:00, 52.86it/s]\n"
          ]
        },
        {
          "output_type": "stream",
          "name": "stdout",
          "text": [
            "\n",
            "Epoch   243\n",
            "Train_cost  = 5.8227 | Test_cost  = 5.6179 | \n"
          ]
        },
        {
          "output_type": "stream",
          "name": "stderr",
          "text": [
            "Train: 100%|██████████| 7/7 [00:00<00:00, 77.17it/s]\n",
            "Test: 100%|██████████| 3/3 [00:00<00:00, 54.24it/s]\n"
          ]
        },
        {
          "output_type": "stream",
          "name": "stdout",
          "text": [
            "\n",
            "Epoch   244\n",
            "Train_cost  = 5.8178 | Test_cost  = 5.6168 | \n"
          ]
        },
        {
          "output_type": "stream",
          "name": "stderr",
          "text": [
            "Train: 100%|██████████| 7/7 [00:00<00:00, 78.24it/s]\n",
            "Test: 100%|██████████| 3/3 [00:00<00:00, 65.13it/s]\n"
          ]
        },
        {
          "output_type": "stream",
          "name": "stdout",
          "text": [
            "\n",
            "Epoch   245\n",
            "Train_cost  = 5.8129 | Test_cost  = 5.6158 | \n"
          ]
        },
        {
          "output_type": "stream",
          "name": "stderr",
          "text": [
            "Train: 100%|██████████| 7/7 [00:00<00:00, 74.93it/s]\n",
            "Test: 100%|██████████| 3/3 [00:00<00:00, 57.63it/s]\n"
          ]
        },
        {
          "output_type": "stream",
          "name": "stdout",
          "text": [
            "\n",
            "Epoch   246\n",
            "Train_cost  = 5.8079 | Test_cost  = 5.6148 | \n"
          ]
        },
        {
          "output_type": "stream",
          "name": "stderr",
          "text": [
            "Train: 100%|██████████| 7/7 [00:00<00:00, 84.35it/s]\n",
            "Test: 100%|██████████| 3/3 [00:00<00:00, 49.31it/s]\n"
          ]
        },
        {
          "output_type": "stream",
          "name": "stdout",
          "text": [
            "\n",
            "Epoch   247\n",
            "Train_cost  = 5.8028 | Test_cost  = 5.6138 | \n"
          ]
        },
        {
          "output_type": "stream",
          "name": "stderr",
          "text": [
            "Train: 100%|██████████| 7/7 [00:00<00:00, 66.56it/s]\n",
            "Test: 100%|██████████| 3/3 [00:00<00:00, 48.32it/s]\n"
          ]
        },
        {
          "output_type": "stream",
          "name": "stdout",
          "text": [
            "\n",
            "Epoch   248\n",
            "Train_cost  = 5.7977 | Test_cost  = 5.6130 | \n"
          ]
        },
        {
          "output_type": "stream",
          "name": "stderr",
          "text": [
            "Train: 100%|██████████| 7/7 [00:00<00:00, 76.97it/s]\n",
            "Test: 100%|██████████| 3/3 [00:00<00:00, 58.23it/s]\n"
          ]
        },
        {
          "output_type": "stream",
          "name": "stdout",
          "text": [
            "\n",
            "Epoch   249\n",
            "Train_cost  = 5.7924 | Test_cost  = 5.6122 | \n"
          ]
        },
        {
          "output_type": "stream",
          "name": "stderr",
          "text": [
            "Train: 100%|██████████| 7/7 [00:00<00:00, 73.00it/s]\n",
            "Test: 100%|██████████| 3/3 [00:00<00:00, 57.58it/s]\n"
          ]
        },
        {
          "output_type": "stream",
          "name": "stdout",
          "text": [
            "\n",
            "Epoch   250\n",
            "Train_cost  = 5.7871 | Test_cost  = 5.6114 | \n"
          ]
        },
        {
          "output_type": "stream",
          "name": "stderr",
          "text": [
            "Train: 100%|██████████| 7/7 [00:00<00:00, 80.72it/s]\n",
            "Test: 100%|██████████| 3/3 [00:00<00:00, 51.51it/s]\n"
          ]
        },
        {
          "output_type": "stream",
          "name": "stdout",
          "text": [
            "\n",
            "Epoch   251\n",
            "Train_cost  = 5.7817 | Test_cost  = 5.6108 | \n"
          ]
        },
        {
          "output_type": "stream",
          "name": "stderr",
          "text": [
            "Train: 100%|██████████| 7/7 [00:00<00:00, 76.89it/s]\n",
            "Test: 100%|██████████| 3/3 [00:00<00:00, 48.00it/s]\n"
          ]
        },
        {
          "output_type": "stream",
          "name": "stdout",
          "text": [
            "\n",
            "Epoch   252\n",
            "Train_cost  = 5.7762 | Test_cost  = 5.6102 | \n"
          ]
        },
        {
          "output_type": "stream",
          "name": "stderr",
          "text": [
            "Train: 100%|██████████| 7/7 [00:00<00:00, 68.28it/s]\n",
            "Test: 100%|██████████| 3/3 [00:00<00:00, 44.85it/s]\n"
          ]
        },
        {
          "output_type": "stream",
          "name": "stdout",
          "text": [
            "\n",
            "Epoch   253\n",
            "Train_cost  = 5.7707 | Test_cost  = 5.6097 | \n"
          ]
        },
        {
          "output_type": "stream",
          "name": "stderr",
          "text": [
            "Train: 100%|██████████| 7/7 [00:00<00:00, 80.70it/s]\n",
            "Test: 100%|██████████| 3/3 [00:00<00:00, 53.78it/s]\n"
          ]
        },
        {
          "output_type": "stream",
          "name": "stdout",
          "text": [
            "\n",
            "Epoch   254\n",
            "Train_cost  = 5.7650 | Test_cost  = 5.6093 | \n"
          ]
        },
        {
          "output_type": "stream",
          "name": "stderr",
          "text": [
            "Train: 100%|██████████| 7/7 [00:00<00:00, 86.48it/s]\n",
            "Test: 100%|██████████| 3/3 [00:00<00:00, 55.58it/s]\n"
          ]
        },
        {
          "output_type": "stream",
          "name": "stdout",
          "text": [
            "\n",
            "Epoch   255\n",
            "Train_cost  = 5.7592 | Test_cost  = 5.6090 | \n"
          ]
        },
        {
          "output_type": "stream",
          "name": "stderr",
          "text": [
            "Train: 100%|██████████| 7/7 [00:00<00:00, 79.95it/s]\n",
            "Test: 100%|██████████| 3/3 [00:00<00:00, 53.92it/s]\n"
          ]
        },
        {
          "output_type": "stream",
          "name": "stdout",
          "text": [
            "\n",
            "Epoch   256\n",
            "Train_cost  = 5.7534 | Test_cost  = 5.6088 | \n"
          ]
        },
        {
          "output_type": "stream",
          "name": "stderr",
          "text": [
            "Train: 100%|██████████| 7/7 [00:00<00:00, 78.78it/s]\n",
            "Test: 100%|██████████| 3/3 [00:00<00:00, 47.41it/s]\n"
          ]
        },
        {
          "output_type": "stream",
          "name": "stdout",
          "text": [
            "\n",
            "Epoch   257\n",
            "Train_cost  = 5.7474 | Test_cost  = 5.6087 | \n"
          ]
        },
        {
          "output_type": "stream",
          "name": "stderr",
          "text": [
            "Train: 100%|██████████| 7/7 [00:00<00:00, 70.46it/s]\n",
            "Test: 100%|██████████| 3/3 [00:00<00:00, 48.29it/s]\n"
          ]
        },
        {
          "output_type": "stream",
          "name": "stdout",
          "text": [
            "\n",
            "Epoch   258\n",
            "Train_cost  = 5.7414 | Test_cost  = 5.6086 | \n"
          ]
        },
        {
          "output_type": "stream",
          "name": "stderr",
          "text": [
            "Train: 100%|██████████| 7/7 [00:00<00:00, 85.58it/s]\n",
            "Test: 100%|██████████| 3/3 [00:00<00:00, 46.71it/s]\n"
          ]
        },
        {
          "output_type": "stream",
          "name": "stdout",
          "text": [
            "\n",
            "Epoch   259\n",
            "Train_cost  = 5.7352 | Test_cost  = 5.6087 | \n",
            "\u001b[31m==> EarlyStop patience =  1 | Best test_cost: 5.6086\u001b[0m\n"
          ]
        },
        {
          "output_type": "stream",
          "name": "stderr",
          "text": [
            "Train: 100%|██████████| 7/7 [00:00<00:00, 78.76it/s]\n",
            "Test: 100%|██████████| 3/3 [00:00<00:00, 45.85it/s]\n"
          ]
        },
        {
          "output_type": "stream",
          "name": "stdout",
          "text": [
            "\n",
            "Epoch   260\n",
            "Train_cost  = 5.7290 | Test_cost  = 5.6089 | \n"
          ]
        },
        {
          "output_type": "display_data",
          "data": {
            "text/plain": [
              "<Figure size 576x360 with 1 Axes>"
            ],
            "image/png": "[encoded data removed]"
          },
          "metadata": {
            "needs_background": "light"
          }
        },
        {
          "output_type": "stream",
          "name": "stdout",
          "text": [
            "\u001b[31m==> EarlyStop patience =  2 | Best test_cost: 5.6086\u001b[0m\n"
          ]
        },
        {
          "output_type": "stream",
          "name": "stderr",
          "text": [
            "Train: 100%|██████████| 7/7 [00:00<00:00, 75.07it/s]\n",
            "Test: 100%|██████████| 3/3 [00:00<00:00, 53.65it/s]\n"
          ]
        },
        {
          "output_type": "stream",
          "name": "stdout",
          "text": [
            "\n",
            "Epoch   261\n",
            "Train_cost  = 5.7226 | Test_cost  = 5.6092 | \n",
            "\u001b[31m==> EarlyStop patience =  3 | Best test_cost: 5.6086\u001b[0m\n"
          ]
        },
        {
          "output_type": "stream",
          "name": "stderr",
          "text": [
            "Train: 100%|██████████| 7/7 [00:00<00:00, 76.60it/s]\n",
            "Test: 100%|██████████| 3/3 [00:00<00:00, 55.33it/s]\n"
          ]
        },
        {
          "output_type": "stream",
          "name": "stdout",
          "text": [
            "\n",
            "Epoch   262\n",
            "Train_cost  = 5.7161 | Test_cost  = 5.6096 | \n",
            "\u001b[31m==> EarlyStop patience =  4 | Best test_cost: 5.6086\u001b[0m\n"
          ]
        },
        {
          "output_type": "stream",
          "name": "stderr",
          "text": [
            "Train: 100%|██████████| 7/7 [00:00<00:00, 72.35it/s]\n",
            "Test: 100%|██████████| 3/3 [00:00<00:00, 56.37it/s]\n"
          ]
        },
        {
          "output_type": "stream",
          "name": "stdout",
          "text": [
            "\n",
            "Epoch   263\n",
            "Train_cost  = 5.7096 | Test_cost  = 5.6101 | \n",
            "\u001b[31m==> EarlyStop patience =  5 | Best test_cost: 5.6086\u001b[0m\n",
            "\u001b[31m==> Execute Early Stopping at epoch: 263 | Best test_cost: 5.6086\u001b[0m\n",
            "\u001b[31m==> Best model is saved at /content/data/model/rnn\u001b[0m\n"
          ]
        },
        {
          "output_type": "display_data",
          "data": {
            "text/plain": [
              "<Figure size 576x360 with 1 Axes>"
            ],
            "image/png": "[encoded data removed]"
          },
          "metadata": {
            "needs_background": "light"
          }
        }
      ]
    },
    {
      "cell_type": "markdown",
      "source": [
        "## Sanity Check"
      ],
      "metadata": {
        "id": "voJ9Va2IGfHh"
      },
      "id": "voJ9Va2IGfHh"
    },
    {
      "cell_type": "code",
      "source": [
        "from luwiji.rnn import illustration"
      ],
      "metadata": {
        "id": "mbpK38jpGc7z"
      },
      "id": "mbpK38jpGc7z",
      "execution_count": 16,
      "outputs": []
    },
    {
      "cell_type": "code",
      "source": [
        "illustration.forecast"
      ],
      "metadata": {
        "id": "8WFIz87-JXKl",
        "outputId": "d4c4348c-93e9-44f4-fa48-ccd2ba116600",
        "colab": {
          "base_uri": "https://localhost:8080/",
          "height": 430
        }
      },
      "id": "8WFIz87-JXKl",
      "execution_count": 17,
      "outputs": [
        {
          "output_type": "execute_result",
          "data": {
            "image/png": "[encoded data removed]",
            "text/plain": [
              "<IPython.core.display.Image object>"
            ]
          },
          "metadata": {
            "image/png": {
              "width": 850
            }
          },
          "execution_count": 17
        }
      ]
    },
    {
      "cell_type": "code",
      "source": [
        "# utils\n",
        "def data4pred(model, dataset, dataloader, device):    \n",
        "    preds, targets = [], []\n",
        "    hidden = None\n",
        "    with torch.no_grad():\n",
        "        model.eval()\n",
        "        for inputs, target in dataloader:\n",
        "            inputs = inputs.to(device)\n",
        "            \n",
        "            output, hidden = model(inputs, hidden)\n",
        "            preds += output.flatten().tolist()\n",
        "            targets += target.flatten().tolist()\n",
        "\n",
        "    plt.plot(dataset.target_ticks, targets, 'b-', label=\"data\")\n",
        "    plt.plot(dataset.target_ticks, preds, 'r-', label=\"pred\")\n",
        "    plt.legend()    \n",
        "    \n",
        "def pred4pred(model, dataset, dataloader, device, n_prior=500, n_forecast=200):\n",
        "    preds, targets = [], []\n",
        "    hidden = None    \n",
        "    end = n_prior + n_forecast    \n",
        "    with torch.no_grad():\n",
        "        model.eval()       \n",
        "        for idx, (inputs, target) in enumerate(dataloader):\n",
        "            if idx == end:\n",
        "                break\n",
        "            elif idx > n_prior:\n",
        "                inputs[0, 0, 0] = preds[-1]\n",
        "                \n",
        "            inputs = inputs.to(device)\n",
        "            output, hidden = model(inputs, hidden)\n",
        "            \n",
        "            if idx > n_prior:\n",
        "                preds.append(output.flatten().tolist()[-1])\n",
        "            else:\n",
        "                preds += output.flatten().tolist()   \n",
        "            targets += target.flatten().tolist()\n",
        "\n",
        "    plt.plot(dataset.target_ticks[:n_prior], targets[:n_prior], 'b-', label=\"history_data\")\n",
        "    plt.plot(dataset.target_ticks[n_prior:end], targets[n_prior:], 'b-', label=\"unseen_data\", alpha=0.3)\n",
        "    plt.plot(dataset.target_ticks[:end], preds, 'r-', label=\"prediction\")\n",
        "    plt.axvline(dataset.target_ticks[n_prior], color='k', linestyle=\"--\", linewidth=1)\n",
        "    plt.legend()   "
      ],
      "metadata": {
        "id": "4hRUhr6bJ1On"
      },
      "id": "4hRUhr6bJ1On",
      "execution_count": 18,
      "outputs": []
    },
    {
      "cell_type": "code",
      "source": [
        "train_forecast_set = TimeSeriesDataset(ts_train, \"Temp\", 1)\n",
        "trainforecastloader = DataLoader(train_forecast_set)\n",
        "test_forecast_set = TimeSeriesDataset(ts_test, \"Temp\", 1)\n",
        "testforecastloader = DataLoader(test_forecast_set)"
      ],
      "metadata": {
        "id": "FnuDa5BPogRc",
        "outputId": "0a02e774-acc8-4706-b2ec-97c8914b4f90",
        "colab": {
          "base_uri": "https://localhost:8080/"
        }
      },
      "id": "FnuDa5BPogRc",
      "execution_count": 19,
      "outputs": [
        {
          "output_type": "stream",
          "name": "stdout",
          "text": [
            "(N, S, F): (2736, 1, 1)\n",
            "Note: last \u001b[31m0 data excluded\u001b[0m\n",
            "\n",
            "(N, S, F): (912, 1, 1)\n",
            "Note: last \u001b[31m0 data excluded\u001b[0m\n",
            "\n"
          ]
        }
      ]
    },
    {
      "cell_type": "code",
      "source": [
        "# Data 4 Pred\n",
        "plt.figure(figsize=(15, 10))\n",
        "\n",
        "plt.subplot(211)\n",
        "data4pred(model, train_forecast_set, trainforecastloader, device)\n",
        "plt.title(\"Train\")\n",
        "\n",
        "plt.subplot(212)\n",
        "data4pred(model, test_forecast_set, testforecastloader, device)\n",
        "plt.title(\"Test\")"
      ],
      "metadata": {
        "id": "vjzjhM3zpV-d",
        "outputId": "0bde465f-d9be-4ae2-b3b8-3411fa9b6131",
        "colab": {
          "base_uri": "https://localhost:8080/",
          "height": 624
        }
      },
      "id": "vjzjhM3zpV-d",
      "execution_count": 20,
      "outputs": [
        {
          "output_type": "execute_result",
          "data": {
            "text/plain": [
              "Text(0.5, 1.0, 'Test')"
            ]
          },
          "metadata": {},
          "execution_count": 20
        },
        {
          "output_type": "display_data",
          "data": {
            "text/plain": [
              "<Figure size 1080x720 with 2 Axes>"
            ],
            "image/png": "[encoded data removed]"
          },
          "metadata": {
            "needs_background": "light"
          }
        }
      ]
    },
    {
      "cell_type": "code",
      "source": [
        "# Pred 4 Pred\n",
        "plt.figure(figsize=(15, 5))\n",
        "pred4pred(model, test_forecast_set, testforecastloader, device)\n",
        "plt.title(\"test\")"
      ],
      "metadata": {
        "id": "a9BoJS-Spu-o",
        "outputId": "77e43e4d-20b0-4db4-d85c-f73411be466b",
        "colab": {
          "base_uri": "https://localhost:8080/",
          "height": 353
        }
      },
      "id": "a9BoJS-Spu-o",
      "execution_count": 21,
      "outputs": [
        {
          "output_type": "execute_result",
          "data": {
            "text/plain": [
              "Text(0.5, 1.0, 'test')"
            ]
          },
          "metadata": {},
          "execution_count": 21
        },
        {
          "output_type": "display_data",
          "data": {
            "text/plain": [
              "<Figure size 1080x360 with 1 Axes>"
            ],
            "image/png": "[encoded data removed]"
          },
          "metadata": {
            "needs_background": "light"
          }
        }
      ]
    }
  ],
  "metadata": {
    "colab": {
      "provenance": [],
      "include_colab_link": true
    },
    "language_info": {
      "name": "python"
    },
    "kernelspec": {
      "name": "python3",
      "display_name": "Python 3"
    },
    "gpuClass": "standard"
  },
  "nbformat": 4,
  "nbformat_minor": 5
}