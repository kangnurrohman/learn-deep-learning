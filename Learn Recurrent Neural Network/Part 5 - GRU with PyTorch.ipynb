{
  "cells": [
    {
      "cell_type": "markdown",
      "metadata": {
        "id": "view-in-github",
        "colab_type": "text"
      },
      "source": [
        "<a href=\"https://colab.research.google.com/github/kangnurrohman/belajar-recurrent-neural-network/blob/main/materi/Part%205%20-%20GRU%20with%20PyTorch.ipynb\" target=\"_parent\"><img src=\"https://colab.research.google.com/assets/colab-badge.svg\" alt=\"Open In Colab\"/></a>"
      ]
    },
    {
      "cell_type": "code",
      "execution_count": 1,
      "id": "9W0vQINNS8Ds",
      "metadata": {
        "colab": {
          "base_uri": "https://localhost:8080/"
        },
        "id": "9W0vQINNS8Ds",
        "outputId": "d25eb871-6a38-4e31-e24b-06354585d361"
      },
      "outputs": [
        {
          "output_type": "stream",
          "name": "stdout",
          "text": [
            "Mounted at /content/drive\n"
          ]
        }
      ],
      "source": [
        "from google.colab import drive\n",
        "drive.mount('/content/drive')"
      ]
    },
    {
      "cell_type": "code",
      "execution_count": null,
      "id": "Ydw3MUFdYj-L",
      "metadata": {
        "id": "Ydw3MUFdYj-L"
      },
      "outputs": [],
      "source": [
        "pip install jcopdl luwiji"
      ]
    },
    {
      "cell_type": "code",
      "execution_count": 3,
      "id": "C0fhFftrS8jU",
      "metadata": {
        "id": "C0fhFftrS8jU"
      },
      "outputs": [],
      "source": [
        "import zipfile\n",
        "zip_ref = zipfile.ZipFile(\"/content/drive/MyDrive/Colab Notebooks/data/data 4.zip\", 'r')\n",
        "zip_ref.extractall(\"data\")\n",
        "zip_ref.close()"
      ]
    },
    {
      "cell_type": "code",
      "execution_count": 4,
      "id": "XvtCR5eeTAtF",
      "metadata": {
        "id": "XvtCR5eeTAtF"
      },
      "outputs": [],
      "source": [
        "import numpy as np\n",
        "import pandas as pd\n",
        "import matplotlib.pyplot as plt\n",
        "\n",
        "from sklearn.model_selection import train_test_split"
      ]
    },
    {
      "cell_type": "code",
      "execution_count": 5,
      "id": "LDhxJzLf7KGi",
      "metadata": {
        "colab": {
          "base_uri": "https://localhost:8080/"
        },
        "id": "LDhxJzLf7KGi",
        "outputId": "019b968f-cd3d-41d8-df4b-a03fc3a87df4"
      },
      "outputs": [
        {
          "output_type": "execute_result",
          "data": {
            "text/plain": [
              "device(type='cpu')"
            ]
          },
          "metadata": {},
          "execution_count": 5
        }
      ],
      "source": [
        "import torch\n",
        "from torch import nn, optim\n",
        "from jcopdl.callback import Callback, set_config\n",
        "\n",
        "device = torch.device(\"cuda\" if torch.cuda.is_available() else \"cpu\")\n",
        "device"
      ]
    },
    {
      "cell_type": "markdown",
      "id": "fMElUhUqTh0W",
      "metadata": {
        "id": "fMElUhUqTh0W"
      },
      "source": [
        "## Import Data"
      ]
    },
    {
      "cell_type": "code",
      "execution_count": 6,
      "id": "I5ZMcb1iTjQ5",
      "metadata": {
        "colab": {
          "base_uri": "https://localhost:8080/",
          "height": 237
        },
        "id": "I5ZMcb1iTjQ5",
        "outputId": "8a00ad25-d8d9-49a4-edfd-b52f1132a4aa"
      },
      "outputs": [
        {
          "output_type": "execute_result",
          "data": {
            "text/plain": [
              "            Temp\n",
              "Date            \n",
              "1981-01-01  20.7\n",
              "1981-01-02  17.9\n",
              "1981-01-03  18.8\n",
              "1981-01-04  14.6\n",
              "1981-01-05  15.8"
            ],
            "text/html": [
              "\n",
              "  <div id=\"df-ce3f6585-ae20-47d0-83b3-31a179a18567\">\n",
              "    <div class=\"colab-df-container\">\n",
              "      <div>\n",
              "<style scoped>\n",
              "    .dataframe tbody tr th:only-of-type {\n",
              "        vertical-align: middle;\n",
              "    }\n",
              "\n",
              "    .dataframe tbody tr th {\n",
              "        vertical-align: top;\n",
              "    }\n",
              "\n",
              "    .dataframe thead th {\n",
              "        text-align: right;\n",
              "    }\n",
              "</style>\n",
              "<table border=\"1\" class=\"dataframe\">\n",
              "  <thead>\n",
              "    <tr style=\"text-align: right;\">\n",
              "      <th></th>\n",
              "      <th>Temp</th>\n",
              "    </tr>\n",
              "    <tr>\n",
              "      <th>Date</th>\n",
              "      <th></th>\n",
              "    </tr>\n",
              "  </thead>\n",
              "  <tbody>\n",
              "    <tr>\n",
              "      <th>1981-01-01</th>\n",
              "      <td>20.7</td>\n",
              "    </tr>\n",
              "    <tr>\n",
              "      <th>1981-01-02</th>\n",
              "      <td>17.9</td>\n",
              "    </tr>\n",
              "    <tr>\n",
              "      <th>1981-01-03</th>\n",
              "      <td>18.8</td>\n",
              "    </tr>\n",
              "    <tr>\n",
              "      <th>1981-01-04</th>\n",
              "      <td>14.6</td>\n",
              "    </tr>\n",
              "    <tr>\n",
              "      <th>1981-01-05</th>\n",
              "      <td>15.8</td>\n",
              "    </tr>\n",
              "  </tbody>\n",
              "</table>\n",
              "</div>\n",
              "      <button class=\"colab-df-convert\" onclick=\"convertToInteractive('df-ce3f6585-ae20-47d0-83b3-31a179a18567')\"\n",
              "              title=\"Convert this dataframe to an interactive table.\"\n",
              "              style=\"display:none;\">\n",
              "        \n",
              "  <svg xmlns=\"http://www.w3.org/2000/svg\" height=\"24px\"viewBox=\"0 0 24 24\"\n",
              "       width=\"24px\">\n",
              "    <path d=\"M0 0h24v24H0V0z\" fill=\"none\"/>\n",
              "    <path d=\"M18.56 5.44l.94 2.06.94-2.06 2.06-.94-2.06-.94-.94-2.06-.94 2.06-2.06.94zm-11 1L8.5 8.5l.94-2.06 2.06-.94-2.06-.94L8.5 2.5l-.94 2.06-2.06.94zm10 10l.94 2.06.94-2.06 2.06-.94-2.06-.94-.94-2.06-.94 2.06-2.06.94z\"/><path d=\"M17.41 7.96l-1.37-1.37c-.4-.4-.92-.59-1.43-.59-.52 0-1.04.2-1.43.59L10.3 9.45l-7.72 7.72c-.78.78-.78 2.05 0 2.83L4 21.41c.39.39.9.59 1.41.59.51 0 1.02-.2 1.41-.59l7.78-7.78 2.81-2.81c.8-.78.8-2.07 0-2.86zM5.41 20L4 18.59l7.72-7.72 1.47 1.35L5.41 20z\"/>\n",
              "  </svg>\n",
              "      </button>\n",
              "      \n",
              "  <style>\n",
              "    .colab-df-container {\n",
              "      display:flex;\n",
              "      flex-wrap:wrap;\n",
              "      gap: 12px;\n",
              "    }\n",
              "\n",
              "    .colab-df-convert {\n",
              "      background-color: #E8F0FE;\n",
              "      border: none;\n",
              "      border-radius: 50%;\n",
              "      cursor: pointer;\n",
              "      display: none;\n",
              "      fill: #1967D2;\n",
              "      height: 32px;\n",
              "      padding: 0 0 0 0;\n",
              "      width: 32px;\n",
              "    }\n",
              "\n",
              "    .colab-df-convert:hover {\n",
              "      background-color: #E2EBFA;\n",
              "      box-shadow: 0px 1px 2px rgba(60, 64, 67, 0.3), 0px 1px 3px 1px rgba(60, 64, 67, 0.15);\n",
              "      fill: #174EA6;\n",
              "    }\n",
              "\n",
              "    [theme=dark] .colab-df-convert {\n",
              "      background-color: #3B4455;\n",
              "      fill: #D2E3FC;\n",
              "    }\n",
              "\n",
              "    [theme=dark] .colab-df-convert:hover {\n",
              "      background-color: #434B5C;\n",
              "      box-shadow: 0px 1px 3px 1px rgba(0, 0, 0, 0.15);\n",
              "      filter: drop-shadow(0px 1px 2px rgba(0, 0, 0, 0.3));\n",
              "      fill: #FFFFFF;\n",
              "    }\n",
              "  </style>\n",
              "\n",
              "      <script>\n",
              "        const buttonEl =\n",
              "          document.querySelector('#df-ce3f6585-ae20-47d0-83b3-31a179a18567 button.colab-df-convert');\n",
              "        buttonEl.style.display =\n",
              "          google.colab.kernel.accessAllowed ? 'block' : 'none';\n",
              "\n",
              "        async function convertToInteractive(key) {\n",
              "          const element = document.querySelector('#df-ce3f6585-ae20-47d0-83b3-31a179a18567');\n",
              "          const dataTable =\n",
              "            await google.colab.kernel.invokeFunction('convertToInteractive',\n",
              "                                                     [key], {});\n",
              "          if (!dataTable) return;\n",
              "\n",
              "          const docLinkHtml = 'Like what you see? Visit the ' +\n",
              "            '<a target=\"_blank\" href=https://colab.research.google.com/notebooks/data_table.ipynb>data table notebook</a>'\n",
              "            + ' to learn more about interactive tables.';\n",
              "          element.innerHTML = '';\n",
              "          dataTable['output_type'] = 'display_data';\n",
              "          await google.colab.output.renderOutput(dataTable, element);\n",
              "          const docLink = document.createElement('div');\n",
              "          docLink.innerHTML = docLinkHtml;\n",
              "          element.appendChild(docLink);\n",
              "        }\n",
              "      </script>\n",
              "    </div>\n",
              "  </div>\n",
              "  "
            ]
          },
          "metadata": {},
          "execution_count": 6
        }
      ],
      "source": [
        "df = pd.read_csv(\"/content/data/daily_min_temp.csv\", index_col=\"Date\", parse_dates=[\"Date\"])\n",
        "df.head()"
      ]
    },
    {
      "cell_type": "code",
      "execution_count": 7,
      "id": "rGGOSYlTUQCG",
      "metadata": {
        "colab": {
          "base_uri": "https://localhost:8080/",
          "height": 384
        },
        "id": "rGGOSYlTUQCG",
        "outputId": "065c9986-db6b-4a24-8744-d0cc834f176d"
      },
      "outputs": [
        {
          "output_type": "execute_result",
          "data": {
            "text/plain": [
              "<matplotlib.axes._subplots.AxesSubplot at 0x7f8f413c7c90>"
            ]
          },
          "metadata": {},
          "execution_count": 7
        },
        {
          "output_type": "display_data",
          "data": {
            "text/plain": [
              "<Figure size 1080x432 with 1 Axes>"
            ],
            "image/png": "[encoded data removed]"
          },
          "metadata": {
            "needs_background": "light"
          }
        }
      ],
      "source": [
        "df.Temp.plot(figsize=(15, 6), color='red')"
      ]
    },
    {
      "cell_type": "markdown",
      "id": "h5dIwcCeUxrf",
      "metadata": {
        "id": "h5dIwcCeUxrf"
      },
      "source": [
        "## Dataset Spliting"
      ]
    },
    {
      "cell_type": "code",
      "execution_count": 8,
      "id": "-mBi2WmTU0Eo",
      "metadata": {
        "colab": {
          "base_uri": "https://localhost:8080/"
        },
        "id": "-mBi2WmTU0Eo",
        "outputId": "33d36efe-2b19-4e5d-f0b2-ee9b626104a8"
      },
      "outputs": [
        {
          "output_type": "execute_result",
          "data": {
            "text/plain": [
              "((2737, 1), (913, 1))"
            ]
          },
          "metadata": {},
          "execution_count": 8
        }
      ],
      "source": [
        "ts_train, ts_test = train_test_split(df, shuffle=False)\n",
        "ts_train.shape, ts_test.shape"
      ]
    },
    {
      "cell_type": "markdown",
      "id": "Td0ZcWT1YpFu",
      "metadata": {
        "id": "Td0ZcWT1YpFu"
      },
      "source": [
        "## Dataset & Dataloader"
      ]
    },
    {
      "cell_type": "code",
      "execution_count": 9,
      "id": "BZl-nJQuYrXD",
      "metadata": {
        "id": "BZl-nJQuYrXD"
      },
      "outputs": [],
      "source": [
        "from jcopdl.utils import TimeSeriesDataset\n",
        "from torch.utils.data import DataLoader"
      ]
    },
    {
      "cell_type": "code",
      "execution_count": 11,
      "id": "yfpE2GPXY7hQ",
      "metadata": {
        "colab": {
          "base_uri": "https://localhost:8080/"
        },
        "id": "yfpE2GPXY7hQ",
        "outputId": "997450d5-0b2c-4dcb-8dda-a7752975469c"
      },
      "outputs": [
        {
          "output_type": "stream",
          "name": "stdout",
          "text": [
            "(N, S, F): (195, 14, 1)\n",
            "Note: last \u001b[31m6 data excluded\u001b[0m\n",
            "\n",
            "(N, S, F): (65, 14, 1)\n",
            "Note: last \u001b[31m2 data excluded\u001b[0m\n",
            "\n"
          ]
        }
      ],
      "source": [
        "seq_len = 14\n",
        "bs = 32\n",
        "\n",
        "train_set = TimeSeriesDataset(ts_train, \"Temp\", seq_len)\n",
        "train_loader = DataLoader(train_set, batch_size=bs, num_workers=2)\n",
        "\n",
        "test_set = TimeSeriesDataset(ts_test, \"Temp\", seq_len)\n",
        "test_loader = DataLoader(test_set, batch_size=bs, num_workers=2)"
      ]
    },
    {
      "cell_type": "markdown",
      "id": "BhoAeI0B3Mo5",
      "metadata": {
        "id": "BhoAeI0B3Mo5"
      },
      "source": [
        "## Arsitektur & Config"
      ]
    },
    {
      "cell_type": "code",
      "execution_count": 12,
      "id": "A8yfxltJ3NaL",
      "metadata": {
        "id": "A8yfxltJ3NaL"
      },
      "outputs": [],
      "source": [
        "class GRU(nn.Module):\n",
        "  def __init__(self, input_size, output_size, hidden_size, num_layers, dropout):\n",
        "    super().__init__()\n",
        "    self.gru = nn.GRU(input_size, hidden_size, num_layers, dropout=dropout, batch_first=True)\n",
        "    self.fc = nn.Linear(hidden_size, output_size)\n",
        "\n",
        "  def forward(self, x, hidden):\n",
        "    x, hidden = self.gru(x, hidden)\n",
        "    x = self.fc(x)\n",
        "    return x, hidden"
      ]
    },
    {
      "cell_type": "code",
      "execution_count": 13,
      "id": "MP0jR2TkQ-ZJ",
      "metadata": {
        "id": "MP0jR2TkQ-ZJ"
      },
      "outputs": [],
      "source": [
        "config = set_config({\n",
        "    \"input_size\": train_set.n_feature,\n",
        "    \"seq_len\": train_set.n_seq,\n",
        "    \"output_size\": 1,\n",
        "    \"hidden_size\":64,\n",
        "    \"num_layers\": 3,\n",
        "    \"dropout\":0\n",
        "})"
      ]
    },
    {
      "cell_type": "markdown",
      "id": "LkmJLGIpViUd",
      "metadata": {
        "id": "LkmJLGIpViUd"
      },
      "source": [
        "## Training Preparation -> MCOC"
      ]
    },
    {
      "cell_type": "code",
      "execution_count": 14,
      "id": "KV3jIEVpSJa-",
      "metadata": {
        "id": "KV3jIEVpSJa-"
      },
      "outputs": [],
      "source": [
        "model = GRU(config.input_size, config.output_size, config.hidden_size, config.num_layers, config.dropout).to(device)\n",
        "criterion = nn.MSELoss(reduction=\"mean\")\n",
        "optimizer = optim.AdamW(model.parameters(), lr=0.001)\n",
        "callback = Callback(model, config, outdir='/content/data/model/gru')"
      ]
    },
    {
      "cell_type": "markdown",
      "id": "WA55OK3MeG_u",
      "metadata": {
        "id": "WA55OK3MeG_u"
      },
      "source": [
        "## Training"
      ]
    },
    {
      "cell_type": "code",
      "execution_count": 15,
      "id": "Ak0uo89seHt4",
      "metadata": {
        "id": "Ak0uo89seHt4"
      },
      "outputs": [],
      "source": [
        "from tqdm import tqdm\n",
        "\n",
        "def loop_fn(mode, dataset, dataloader, model, criterion, optimizer, device):\n",
        "  if mode == 'train':\n",
        "    model.train()\n",
        "  elif mode == 'test':\n",
        "    model.eval()\n",
        "  cost = 0\n",
        "  for feature, target in tqdm(dataloader, desc=mode.title()):\n",
        "    feature, target = feature.to(device), target.to(device)\n",
        "    output, hidden = model(feature, None)\n",
        "    loss = criterion(output, target)\n",
        "\n",
        "    if mode == 'train':\n",
        "      loss.backward()\n",
        "      optimizer.step()\n",
        "      optimizer.zero_grad()\n",
        "\n",
        "    cost += loss.item() * feature.shape[0]\n",
        "  cost = cost / len(dataset)\n",
        "  return cost"
      ]
    },
    {
      "cell_type": "code",
      "execution_count": 16,
      "id": "iATDgvxOfaT2",
      "metadata": {
        "colab": {
          "base_uri": "https://localhost:8080/",
          "height": 1000
        },
        "id": "iATDgvxOfaT2",
        "outputId": "0d231020-1a4e-467c-f797-2e3d4624ab42"
      },
      "outputs": [
        {
          "output_type": "stream",
          "name": "stderr",
          "text": [
            "Train: 100%|██████████| 7/7 [00:00<00:00, 16.82it/s]\n",
            "Test: 100%|██████████| 3/3 [00:00<00:00, 33.36it/s]\n"
          ]
        },
        {
          "output_type": "stream",
          "name": "stdout",
          "text": [
            "\n",
            "Epoch     1\n",
            "Train_cost  = 132.0229 | Test_cost  = 117.7096 | \n"
          ]
        },
        {
          "output_type": "stream",
          "name": "stderr",
          "text": [
            "Train: 100%|██████████| 7/7 [00:00<00:00, 30.55it/s]\n",
            "Test: 100%|██████████| 3/3 [00:00<00:00, 31.55it/s]\n"
          ]
        },
        {
          "output_type": "stream",
          "name": "stdout",
          "text": [
            "\n",
            "Epoch     2\n",
            "Train_cost  = 103.3932 | Test_cost  = 88.9756 | \n"
          ]
        },
        {
          "output_type": "stream",
          "name": "stderr",
          "text": [
            "Train: 100%|██████████| 7/7 [00:00<00:00, 32.18it/s]\n",
            "Test: 100%|██████████| 3/3 [00:00<00:00, 44.18it/s]\n"
          ]
        },
        {
          "output_type": "stream",
          "name": "stdout",
          "text": [
            "\n",
            "Epoch     3\n",
            "Train_cost  = 78.2868 | Test_cost  = 70.0239 | \n"
          ]
        },
        {
          "output_type": "stream",
          "name": "stderr",
          "text": [
            "Train: 100%|██████████| 7/7 [00:00<00:00, 33.91it/s]\n",
            "Test: 100%|██████████| 3/3 [00:00<00:00, 42.41it/s]\n"
          ]
        },
        {
          "output_type": "stream",
          "name": "stdout",
          "text": [
            "\n",
            "Epoch     4\n",
            "Train_cost  = 63.1348 | Test_cost  = 58.9523 | \n"
          ]
        },
        {
          "output_type": "stream",
          "name": "stderr",
          "text": [
            "Train: 100%|██████████| 7/7 [00:00<00:00, 36.66it/s]\n",
            "Test: 100%|██████████| 3/3 [00:00<00:00, 39.00it/s]\n"
          ]
        },
        {
          "output_type": "stream",
          "name": "stdout",
          "text": [
            "\n",
            "Epoch     5\n",
            "Train_cost  = 53.8118 | Test_cost  = 51.0885 | \n"
          ]
        },
        {
          "output_type": "stream",
          "name": "stderr",
          "text": [
            "Train: 100%|██████████| 7/7 [00:00<00:00, 33.17it/s]\n",
            "Test: 100%|██████████| 3/3 [00:00<00:00, 41.99it/s]\n"
          ]
        },
        {
          "output_type": "stream",
          "name": "stdout",
          "text": [
            "\n",
            "Epoch     6\n",
            "Train_cost  = 46.8580 | Test_cost  = 44.7706 | \n"
          ]
        },
        {
          "output_type": "stream",
          "name": "stderr",
          "text": [
            "Train: 100%|██████████| 7/7 [00:00<00:00, 35.49it/s]\n",
            "Test: 100%|██████████| 3/3 [00:00<00:00, 42.52it/s]\n"
          ]
        },
        {
          "output_type": "stream",
          "name": "stdout",
          "text": [
            "\n",
            "Epoch     7\n",
            "Train_cost  = 41.1984 | Test_cost  = 39.5136 | \n"
          ]
        },
        {
          "output_type": "stream",
          "name": "stderr",
          "text": [
            "Train: 100%|██████████| 7/7 [00:00<00:00, 36.05it/s]\n",
            "Test: 100%|██████████| 3/3 [00:00<00:00, 39.88it/s]\n"
          ]
        },
        {
          "output_type": "stream",
          "name": "stdout",
          "text": [
            "\n",
            "Epoch     8\n",
            "Train_cost  = 36.4910 | Test_cost  = 35.1161 | \n"
          ]
        },
        {
          "output_type": "stream",
          "name": "stderr",
          "text": [
            "Train: 100%|██████████| 7/7 [00:00<00:00, 34.26it/s]\n",
            "Test: 100%|██████████| 3/3 [00:00<00:00, 40.76it/s]\n"
          ]
        },
        {
          "output_type": "stream",
          "name": "stdout",
          "text": [
            "\n",
            "Epoch     9\n",
            "Train_cost  = 32.5747 | Test_cost  = 31.4549 | \n"
          ]
        },
        {
          "output_type": "stream",
          "name": "stderr",
          "text": [
            "Train: 100%|██████████| 7/7 [00:00<00:00, 35.28it/s]\n",
            "Test: 100%|██████████| 3/3 [00:00<00:00, 40.19it/s]\n"
          ]
        },
        {
          "output_type": "stream",
          "name": "stdout",
          "text": [
            "\n",
            "Epoch    10\n",
            "Train_cost  = 29.3395 | Test_cost  = 28.4303 | \n"
          ]
        },
        {
          "output_type": "stream",
          "name": "stderr",
          "text": [
            "Train: 100%|██████████| 7/7 [00:00<00:00, 35.60it/s]\n",
            "Test: 100%|██████████| 3/3 [00:00<00:00, 41.46it/s]\n"
          ]
        },
        {
          "output_type": "stream",
          "name": "stdout",
          "text": [
            "\n",
            "Epoch    11\n",
            "Train_cost  = 26.6912 | Test_cost  = 25.9515 | \n"
          ]
        },
        {
          "output_type": "stream",
          "name": "stderr",
          "text": [
            "Train: 100%|██████████| 7/7 [00:00<00:00, 34.96it/s]\n",
            "Test: 100%|██████████| 3/3 [00:00<00:00, 32.69it/s]\n"
          ]
        },
        {
          "output_type": "stream",
          "name": "stdout",
          "text": [
            "\n",
            "Epoch    12\n",
            "Train_cost  = 24.5426 | Test_cost  = 23.9348 | \n"
          ]
        },
        {
          "output_type": "stream",
          "name": "stderr",
          "text": [
            "Train: 100%|██████████| 7/7 [00:00<00:00, 32.32it/s]\n",
            "Test: 100%|██████████| 3/3 [00:00<00:00, 41.35it/s]\n"
          ]
        },
        {
          "output_type": "stream",
          "name": "stdout",
          "text": [
            "\n",
            "Epoch    13\n",
            "Train_cost  = 22.8138 | Test_cost  = 22.3046 | \n"
          ]
        },
        {
          "output_type": "stream",
          "name": "stderr",
          "text": [
            "Train: 100%|██████████| 7/7 [00:00<00:00, 34.90it/s]\n",
            "Test: 100%|██████████| 3/3 [00:00<00:00, 38.51it/s]\n"
          ]
        },
        {
          "output_type": "stream",
          "name": "stdout",
          "text": [
            "\n",
            "Epoch    14\n",
            "Train_cost  = 21.4334 | Test_cost  = 20.9945 | \n"
          ]
        },
        {
          "output_type": "stream",
          "name": "stderr",
          "text": [
            "Train: 100%|██████████| 7/7 [00:00<00:00, 37.08it/s]\n",
            "Test: 100%|██████████| 3/3 [00:00<00:00, 39.26it/s]\n"
          ]
        },
        {
          "output_type": "stream",
          "name": "stdout",
          "text": [
            "\n",
            "Epoch    15\n",
            "Train_cost  = 20.3389 | Test_cost  = 19.9473 | \n"
          ]
        },
        {
          "output_type": "stream",
          "name": "stderr",
          "text": [
            "Train: 100%|██████████| 7/7 [00:00<00:00, 32.20it/s]\n",
            "Test: 100%|██████████| 3/3 [00:00<00:00, 37.96it/s]\n"
          ]
        },
        {
          "output_type": "stream",
          "name": "stdout",
          "text": [
            "\n",
            "Epoch    16\n",
            "Train_cost  = 19.4771 | Test_cost  = 19.1144 | \n"
          ]
        },
        {
          "output_type": "stream",
          "name": "stderr",
          "text": [
            "Train: 100%|██████████| 7/7 [00:00<00:00, 35.85it/s]\n",
            "Test: 100%|██████████| 3/3 [00:00<00:00, 44.84it/s]\n"
          ]
        },
        {
          "output_type": "stream",
          "name": "stdout",
          "text": [
            "\n",
            "Epoch    17\n",
            "Train_cost  = 18.8030 | Test_cost  = 18.4551 | \n"
          ]
        },
        {
          "output_type": "stream",
          "name": "stderr",
          "text": [
            "Train: 100%|██████████| 7/7 [00:00<00:00, 33.81it/s]\n",
            "Test: 100%|██████████| 3/3 [00:00<00:00, 40.69it/s]\n"
          ]
        },
        {
          "output_type": "stream",
          "name": "stdout",
          "text": [
            "\n",
            "Epoch    18\n",
            "Train_cost  = 18.2789 | Test_cost  = 17.9352 | \n"
          ]
        },
        {
          "output_type": "stream",
          "name": "stderr",
          "text": [
            "Train: 100%|██████████| 7/7 [00:00<00:00, 33.13it/s]\n",
            "Test: 100%|██████████| 3/3 [00:00<00:00, 39.68it/s]\n"
          ]
        },
        {
          "output_type": "stream",
          "name": "stdout",
          "text": [
            "\n",
            "Epoch    19\n",
            "Train_cost  = 17.8739 | Test_cost  = 17.5268 | \n"
          ]
        },
        {
          "output_type": "stream",
          "name": "stderr",
          "text": [
            "Train: 100%|██████████| 7/7 [00:00<00:00, 35.41it/s]\n",
            "Test: 100%|██████████| 3/3 [00:00<00:00, 42.20it/s]\n"
          ]
        },
        {
          "output_type": "stream",
          "name": "stdout",
          "text": [
            "\n",
            "Epoch    20\n",
            "Train_cost  = 17.5626 | Test_cost  = 17.2067 | \n"
          ]
        },
        {
          "output_type": "display_data",
          "data": {
            "text/plain": [
              "<Figure size 576x360 with 1 Axes>"
            ],
            "image/png": "[encoded data removed]"
          },
          "metadata": {
            "needs_background": "light"
          }
        },
        {
          "output_type": "stream",
          "name": "stderr",
          "text": [
            "Train: 100%|██████████| 7/7 [00:00<00:00, 32.20it/s]\n",
            "Test: 100%|██████████| 3/3 [00:00<00:00, 41.00it/s]\n"
          ]
        },
        {
          "output_type": "stream",
          "name": "stdout",
          "text": [
            "\n",
            "Epoch    21\n",
            "Train_cost  = 17.3243 | Test_cost  = 16.9564 | \n"
          ]
        },
        {
          "output_type": "stream",
          "name": "stderr",
          "text": [
            "Train: 100%|██████████| 7/7 [00:00<00:00, 35.51it/s]\n",
            "Test: 100%|██████████| 3/3 [00:00<00:00, 38.85it/s]\n"
          ]
        },
        {
          "output_type": "stream",
          "name": "stdout",
          "text": [
            "\n",
            "Epoch    22\n",
            "Train_cost  = 17.1426 | Test_cost  = 16.7609 | \n"
          ]
        },
        {
          "output_type": "stream",
          "name": "stderr",
          "text": [
            "Train: 100%|██████████| 7/7 [00:00<00:00, 33.48it/s]\n",
            "Test: 100%|██████████| 3/3 [00:00<00:00, 38.13it/s]\n"
          ]
        },
        {
          "output_type": "stream",
          "name": "stdout",
          "text": [
            "\n",
            "Epoch    23\n",
            "Train_cost  = 17.0043 | Test_cost  = 16.6081 | \n"
          ]
        },
        {
          "output_type": "stream",
          "name": "stderr",
          "text": [
            "Train: 100%|██████████| 7/7 [00:00<00:00, 32.94it/s]\n",
            "Test: 100%|██████████| 3/3 [00:00<00:00, 36.23it/s]\n"
          ]
        },
        {
          "output_type": "stream",
          "name": "stdout",
          "text": [
            "\n",
            "Epoch    24\n",
            "Train_cost  = 16.8991 | Test_cost  = 16.4886 | \n"
          ]
        },
        {
          "output_type": "stream",
          "name": "stderr",
          "text": [
            "Train: 100%|██████████| 7/7 [00:00<00:00, 35.26it/s]\n",
            "Test: 100%|██████████| 3/3 [00:00<00:00, 41.28it/s]\n"
          ]
        },
        {
          "output_type": "stream",
          "name": "stdout",
          "text": [
            "\n",
            "Epoch    25\n",
            "Train_cost  = 16.8191 | Test_cost  = 16.3950 | \n"
          ]
        },
        {
          "output_type": "stream",
          "name": "stderr",
          "text": [
            "Train: 100%|██████████| 7/7 [00:00<00:00, 32.65it/s]\n",
            "Test: 100%|██████████| 3/3 [00:00<00:00, 42.70it/s]\n"
          ]
        },
        {
          "output_type": "stream",
          "name": "stdout",
          "text": [
            "\n",
            "Epoch    26\n",
            "Train_cost  = 16.7580 | Test_cost  = 16.3216 | \n"
          ]
        },
        {
          "output_type": "stream",
          "name": "stderr",
          "text": [
            "Train: 100%|██████████| 7/7 [00:00<00:00, 33.36it/s]\n",
            "Test: 100%|██████████| 3/3 [00:00<00:00, 33.38it/s]\n"
          ]
        },
        {
          "output_type": "stream",
          "name": "stdout",
          "text": [
            "\n",
            "Epoch    27\n",
            "Train_cost  = 16.7113 | Test_cost  = 16.2637 | \n"
          ]
        },
        {
          "output_type": "stream",
          "name": "stderr",
          "text": [
            "Train: 100%|██████████| 7/7 [00:00<00:00, 33.47it/s]\n",
            "Test: 100%|██████████| 3/3 [00:00<00:00, 40.14it/s]\n"
          ]
        },
        {
          "output_type": "stream",
          "name": "stdout",
          "text": [
            "\n",
            "Epoch    28\n",
            "Train_cost  = 16.6753 | Test_cost  = 16.2179 | \n"
          ]
        },
        {
          "output_type": "stream",
          "name": "stderr",
          "text": [
            "Train: 100%|██████████| 7/7 [00:00<00:00, 34.41it/s]\n",
            "Test: 100%|██████████| 3/3 [00:00<00:00, 42.14it/s]\n"
          ]
        },
        {
          "output_type": "stream",
          "name": "stdout",
          "text": [
            "\n",
            "Epoch    29\n",
            "Train_cost  = 16.6473 | Test_cost  = 16.1816 | \n"
          ]
        },
        {
          "output_type": "stream",
          "name": "stderr",
          "text": [
            "Train: 100%|██████████| 7/7 [00:00<00:00, 32.45it/s]\n",
            "Test: 100%|██████████| 3/3 [00:00<00:00, 39.40it/s]\n"
          ]
        },
        {
          "output_type": "stream",
          "name": "stdout",
          "text": [
            "\n",
            "Epoch    30\n",
            "Train_cost  = 16.6254 | Test_cost  = 16.1526 | \n"
          ]
        },
        {
          "output_type": "stream",
          "name": "stderr",
          "text": [
            "Train: 100%|██████████| 7/7 [00:00<00:00, 28.98it/s]\n",
            "Test: 100%|██████████| 3/3 [00:00<00:00, 40.07it/s]\n"
          ]
        },
        {
          "output_type": "stream",
          "name": "stdout",
          "text": [
            "\n",
            "Epoch    31\n",
            "Train_cost  = 16.6081 | Test_cost  = 16.1294 | \n"
          ]
        },
        {
          "output_type": "stream",
          "name": "stderr",
          "text": [
            "Train: 100%|██████████| 7/7 [00:00<00:00, 34.69it/s]\n",
            "Test: 100%|██████████| 3/3 [00:00<00:00, 40.20it/s]\n"
          ]
        },
        {
          "output_type": "stream",
          "name": "stdout",
          "text": [
            "\n",
            "Epoch    32\n",
            "Train_cost  = 16.5942 | Test_cost  = 16.1106 | \n"
          ]
        },
        {
          "output_type": "stream",
          "name": "stderr",
          "text": [
            "Train: 100%|██████████| 7/7 [00:00<00:00, 33.06it/s]\n",
            "Test: 100%|██████████| 3/3 [00:00<00:00, 39.73it/s]\n"
          ]
        },
        {
          "output_type": "stream",
          "name": "stdout",
          "text": [
            "\n",
            "Epoch    33\n",
            "Train_cost  = 16.5829 | Test_cost  = 16.0954 | \n"
          ]
        },
        {
          "output_type": "stream",
          "name": "stderr",
          "text": [
            "Train: 100%|██████████| 7/7 [00:00<00:00, 32.86it/s]\n",
            "Test: 100%|██████████| 3/3 [00:00<00:00, 36.22it/s]\n"
          ]
        },
        {
          "output_type": "stream",
          "name": "stdout",
          "text": [
            "\n",
            "Epoch    34\n",
            "Train_cost  = 16.5736 | Test_cost  = 16.0830 | \n"
          ]
        },
        {
          "output_type": "stream",
          "name": "stderr",
          "text": [
            "Train: 100%|██████████| 7/7 [00:00<00:00, 35.43it/s]\n",
            "Test: 100%|██████████| 3/3 [00:00<00:00, 38.66it/s]\n"
          ]
        },
        {
          "output_type": "stream",
          "name": "stdout",
          "text": [
            "\n",
            "Epoch    35\n",
            "Train_cost  = 16.5658 | Test_cost  = 16.0727 | \n"
          ]
        },
        {
          "output_type": "stream",
          "name": "stderr",
          "text": [
            "Train: 100%|██████████| 7/7 [00:00<00:00, 31.05it/s]\n",
            "Test: 100%|██████████| 3/3 [00:00<00:00, 38.41it/s]\n"
          ]
        },
        {
          "output_type": "stream",
          "name": "stdout",
          "text": [
            "\n",
            "Epoch    36\n",
            "Train_cost  = 16.5591 | Test_cost  = 16.0641 | \n"
          ]
        },
        {
          "output_type": "stream",
          "name": "stderr",
          "text": [
            "Train: 100%|██████████| 7/7 [00:00<00:00, 33.61it/s]\n",
            "Test: 100%|██████████| 3/3 [00:00<00:00, 37.27it/s]\n"
          ]
        },
        {
          "output_type": "stream",
          "name": "stdout",
          "text": [
            "\n",
            "Epoch    37\n",
            "Train_cost  = 16.5534 | Test_cost  = 16.0567 | \n"
          ]
        },
        {
          "output_type": "stream",
          "name": "stderr",
          "text": [
            "Train: 100%|██████████| 7/7 [00:00<00:00, 35.23it/s]\n",
            "Test: 100%|██████████| 3/3 [00:00<00:00, 38.59it/s]\n"
          ]
        },
        {
          "output_type": "stream",
          "name": "stdout",
          "text": [
            "\n",
            "Epoch    38\n",
            "Train_cost  = 16.5483 | Test_cost  = 16.0505 | \n"
          ]
        },
        {
          "output_type": "stream",
          "name": "stderr",
          "text": [
            "Train: 100%|██████████| 7/7 [00:00<00:00, 34.17it/s]\n",
            "Test: 100%|██████████| 3/3 [00:00<00:00, 40.37it/s]\n"
          ]
        },
        {
          "output_type": "stream",
          "name": "stdout",
          "text": [
            "\n",
            "Epoch    39\n",
            "Train_cost  = 16.5436 | Test_cost  = 16.0450 | \n"
          ]
        },
        {
          "output_type": "stream",
          "name": "stderr",
          "text": [
            "Train: 100%|██████████| 7/7 [00:00<00:00, 33.18it/s]\n",
            "Test: 100%|██████████| 3/3 [00:00<00:00, 36.21it/s]\n"
          ]
        },
        {
          "output_type": "stream",
          "name": "stdout",
          "text": [
            "\n",
            "Epoch    40\n",
            "Train_cost  = 16.5394 | Test_cost  = 16.0401 | \n"
          ]
        },
        {
          "output_type": "display_data",
          "data": {
            "text/plain": [
              "<Figure size 576x360 with 1 Axes>"
            ],
            "image/png": "[encoded data removed]"
          },
          "metadata": {
            "needs_background": "light"
          }
        },
        {
          "output_type": "stream",
          "name": "stderr",
          "text": [
            "Train: 100%|██████████| 7/7 [00:00<00:00, 35.10it/s]\n",
            "Test: 100%|██████████| 3/3 [00:00<00:00, 38.17it/s]\n"
          ]
        },
        {
          "output_type": "stream",
          "name": "stdout",
          "text": [
            "\n",
            "Epoch    41\n",
            "Train_cost  = 16.5355 | Test_cost  = 16.0356 | \n"
          ]
        },
        {
          "output_type": "stream",
          "name": "stderr",
          "text": [
            "Train: 100%|██████████| 7/7 [00:00<00:00, 33.86it/s]\n",
            "Test: 100%|██████████| 3/3 [00:00<00:00, 41.31it/s]\n"
          ]
        },
        {
          "output_type": "stream",
          "name": "stdout",
          "text": [
            "\n",
            "Epoch    42\n",
            "Train_cost  = 16.5317 | Test_cost  = 16.0315 | \n"
          ]
        },
        {
          "output_type": "stream",
          "name": "stderr",
          "text": [
            "Train: 100%|██████████| 7/7 [00:00<00:00, 31.41it/s]\n",
            "Test: 100%|██████████| 3/3 [00:00<00:00, 44.56it/s]\n"
          ]
        },
        {
          "output_type": "stream",
          "name": "stdout",
          "text": [
            "\n",
            "Epoch    43\n",
            "Train_cost  = 16.5281 | Test_cost  = 16.0276 | \n"
          ]
        },
        {
          "output_type": "stream",
          "name": "stderr",
          "text": [
            "Train: 100%|██████████| 7/7 [00:00<00:00, 31.35it/s]\n",
            "Test: 100%|██████████| 3/3 [00:00<00:00, 38.18it/s]\n"
          ]
        },
        {
          "output_type": "stream",
          "name": "stdout",
          "text": [
            "\n",
            "Epoch    44\n",
            "Train_cost  = 16.5246 | Test_cost  = 16.0239 | \n"
          ]
        },
        {
          "output_type": "stream",
          "name": "stderr",
          "text": [
            "Train: 100%|██████████| 7/7 [00:00<00:00, 33.02it/s]\n",
            "Test: 100%|██████████| 3/3 [00:00<00:00, 38.48it/s]\n"
          ]
        },
        {
          "output_type": "stream",
          "name": "stdout",
          "text": [
            "\n",
            "Epoch    45\n",
            "Train_cost  = 16.5211 | Test_cost  = 16.0203 | \n"
          ]
        },
        {
          "output_type": "stream",
          "name": "stderr",
          "text": [
            "Train: 100%|██████████| 7/7 [00:00<00:00, 32.01it/s]\n",
            "Test: 100%|██████████| 3/3 [00:00<00:00, 43.11it/s]\n"
          ]
        },
        {
          "output_type": "stream",
          "name": "stdout",
          "text": [
            "\n",
            "Epoch    46\n",
            "Train_cost  = 16.5177 | Test_cost  = 16.0168 | \n"
          ]
        },
        {
          "output_type": "stream",
          "name": "stderr",
          "text": [
            "Train: 100%|██████████| 7/7 [00:00<00:00, 33.26it/s]\n",
            "Test: 100%|██████████| 3/3 [00:00<00:00, 40.06it/s]\n"
          ]
        },
        {
          "output_type": "stream",
          "name": "stdout",
          "text": [
            "\n",
            "Epoch    47\n",
            "Train_cost  = 16.5143 | Test_cost  = 16.0133 | \n"
          ]
        },
        {
          "output_type": "stream",
          "name": "stderr",
          "text": [
            "Train: 100%|██████████| 7/7 [00:00<00:00, 34.91it/s]\n",
            "Test: 100%|██████████| 3/3 [00:00<00:00, 37.94it/s]\n"
          ]
        },
        {
          "output_type": "stream",
          "name": "stdout",
          "text": [
            "\n",
            "Epoch    48\n",
            "Train_cost  = 16.5108 | Test_cost  = 16.0099 | \n"
          ]
        },
        {
          "output_type": "stream",
          "name": "stderr",
          "text": [
            "Train: 100%|██████████| 7/7 [00:00<00:00, 31.39it/s]\n",
            "Test: 100%|██████████| 3/3 [00:00<00:00, 36.23it/s]\n"
          ]
        },
        {
          "output_type": "stream",
          "name": "stdout",
          "text": [
            "\n",
            "Epoch    49\n",
            "Train_cost  = 16.5074 | Test_cost  = 16.0064 | \n"
          ]
        },
        {
          "output_type": "stream",
          "name": "stderr",
          "text": [
            "Train: 100%|██████████| 7/7 [00:00<00:00, 33.57it/s]\n",
            "Test: 100%|██████████| 3/3 [00:00<00:00, 40.55it/s]\n"
          ]
        },
        {
          "output_type": "stream",
          "name": "stdout",
          "text": [
            "\n",
            "Epoch    50\n",
            "Train_cost  = 16.5039 | Test_cost  = 16.0030 | \n"
          ]
        },
        {
          "output_type": "stream",
          "name": "stderr",
          "text": [
            "Train: 100%|██████████| 7/7 [00:00<00:00, 31.28it/s]\n",
            "Test: 100%|██████████| 3/3 [00:00<00:00, 35.22it/s]\n"
          ]
        },
        {
          "output_type": "stream",
          "name": "stdout",
          "text": [
            "\n",
            "Epoch    51\n",
            "Train_cost  = 16.5003 | Test_cost  = 15.9995 | \n"
          ]
        },
        {
          "output_type": "stream",
          "name": "stderr",
          "text": [
            "Train: 100%|██████████| 7/7 [00:00<00:00, 31.94it/s]\n",
            "Test: 100%|██████████| 3/3 [00:00<00:00, 42.71it/s]\n"
          ]
        },
        {
          "output_type": "stream",
          "name": "stdout",
          "text": [
            "\n",
            "Epoch    52\n",
            "Train_cost  = 16.4967 | Test_cost  = 15.9960 | \n"
          ]
        },
        {
          "output_type": "stream",
          "name": "stderr",
          "text": [
            "Train: 100%|██████████| 7/7 [00:00<00:00, 36.34it/s]\n",
            "Test: 100%|██████████| 3/3 [00:00<00:00, 38.30it/s]\n"
          ]
        },
        {
          "output_type": "stream",
          "name": "stdout",
          "text": [
            "\n",
            "Epoch    53\n",
            "Train_cost  = 16.4931 | Test_cost  = 15.9925 | \n"
          ]
        },
        {
          "output_type": "stream",
          "name": "stderr",
          "text": [
            "Train: 100%|██████████| 7/7 [00:00<00:00, 33.76it/s]\n",
            "Test: 100%|██████████| 3/3 [00:00<00:00, 34.24it/s]\n"
          ]
        },
        {
          "output_type": "stream",
          "name": "stdout",
          "text": [
            "\n",
            "Epoch    54\n",
            "Train_cost  = 16.4893 | Test_cost  = 15.9889 | \n"
          ]
        },
        {
          "output_type": "stream",
          "name": "stderr",
          "text": [
            "Train: 100%|██████████| 7/7 [00:00<00:00, 34.19it/s]\n",
            "Test: 100%|██████████| 3/3 [00:00<00:00, 31.12it/s]\n"
          ]
        },
        {
          "output_type": "stream",
          "name": "stdout",
          "text": [
            "\n",
            "Epoch    55\n",
            "Train_cost  = 16.4855 | Test_cost  = 15.9854 | \n"
          ]
        },
        {
          "output_type": "stream",
          "name": "stderr",
          "text": [
            "Train: 100%|██████████| 7/7 [00:00<00:00, 32.72it/s]\n",
            "Test: 100%|██████████| 3/3 [00:00<00:00, 35.41it/s]\n"
          ]
        },
        {
          "output_type": "stream",
          "name": "stdout",
          "text": [
            "\n",
            "Epoch    56\n",
            "Train_cost  = 16.4816 | Test_cost  = 15.9817 | \n"
          ]
        },
        {
          "output_type": "stream",
          "name": "stderr",
          "text": [
            "Train: 100%|██████████| 7/7 [00:00<00:00, 33.38it/s]\n",
            "Test: 100%|██████████| 3/3 [00:00<00:00, 39.33it/s]\n"
          ]
        },
        {
          "output_type": "stream",
          "name": "stdout",
          "text": [
            "\n",
            "Epoch    57\n",
            "Train_cost  = 16.4776 | Test_cost  = 15.9781 | \n"
          ]
        },
        {
          "output_type": "stream",
          "name": "stderr",
          "text": [
            "Train: 100%|██████████| 7/7 [00:00<00:00, 33.89it/s]\n",
            "Test: 100%|██████████| 3/3 [00:00<00:00, 41.27it/s]\n"
          ]
        },
        {
          "output_type": "stream",
          "name": "stdout",
          "text": [
            "\n",
            "Epoch    58\n",
            "Train_cost  = 16.4735 | Test_cost  = 15.9744 | \n"
          ]
        },
        {
          "output_type": "stream",
          "name": "stderr",
          "text": [
            "Train: 100%|██████████| 7/7 [00:00<00:00, 32.76it/s]\n",
            "Test: 100%|██████████| 3/3 [00:00<00:00, 41.16it/s]\n"
          ]
        },
        {
          "output_type": "stream",
          "name": "stdout",
          "text": [
            "\n",
            "Epoch    59\n",
            "Train_cost  = 16.4693 | Test_cost  = 15.9707 | \n"
          ]
        },
        {
          "output_type": "stream",
          "name": "stderr",
          "text": [
            "Train: 100%|██████████| 7/7 [00:00<00:00, 33.71it/s]\n",
            "Test: 100%|██████████| 3/3 [00:00<00:00, 40.34it/s]\n"
          ]
        },
        {
          "output_type": "stream",
          "name": "stdout",
          "text": [
            "\n",
            "Epoch    60\n",
            "Train_cost  = 16.4650 | Test_cost  = 15.9670 | \n"
          ]
        },
        {
          "output_type": "display_data",
          "data": {
            "text/plain": [
              "<Figure size 576x360 with 1 Axes>"
            ],
            "image/png": "[encoded data removed]"
          },
          "metadata": {
            "needs_background": "light"
          }
        },
        {
          "output_type": "stream",
          "name": "stderr",
          "text": [
            "Train: 100%|██████████| 7/7 [00:00<00:00, 31.29it/s]\n",
            "Test: 100%|██████████| 3/3 [00:00<00:00, 39.03it/s]\n"
          ]
        },
        {
          "output_type": "stream",
          "name": "stdout",
          "text": [
            "\n",
            "Epoch    61\n",
            "Train_cost  = 16.4605 | Test_cost  = 15.9632 | \n"
          ]
        },
        {
          "output_type": "stream",
          "name": "stderr",
          "text": [
            "Train: 100%|██████████| 7/7 [00:00<00:00, 34.03it/s]\n",
            "Test: 100%|██████████| 3/3 [00:00<00:00, 36.21it/s]\n"
          ]
        },
        {
          "output_type": "stream",
          "name": "stdout",
          "text": [
            "\n",
            "Epoch    62\n",
            "Train_cost  = 16.4558 | Test_cost  = 15.9594 | \n"
          ]
        },
        {
          "output_type": "stream",
          "name": "stderr",
          "text": [
            "Train: 100%|██████████| 7/7 [00:00<00:00, 17.06it/s]\n",
            "Test: 100%|██████████| 3/3 [00:00<00:00, 13.34it/s]\n"
          ]
        },
        {
          "output_type": "stream",
          "name": "stdout",
          "text": [
            "\n",
            "Epoch    63\n",
            "Train_cost  = 16.4510 | Test_cost  = 15.9557 | \n"
          ]
        },
        {
          "output_type": "stream",
          "name": "stderr",
          "text": [
            "Train: 100%|██████████| 7/7 [00:00<00:00, 27.69it/s]\n",
            "Test: 100%|██████████| 3/3 [00:00<00:00, 37.65it/s]\n"
          ]
        },
        {
          "output_type": "stream",
          "name": "stdout",
          "text": [
            "\n",
            "Epoch    64\n",
            "Train_cost  = 16.4459 | Test_cost  = 15.9518 | \n"
          ]
        },
        {
          "output_type": "stream",
          "name": "stderr",
          "text": [
            "Train: 100%|██████████| 7/7 [00:00<00:00, 23.04it/s]\n",
            "Test: 100%|██████████| 3/3 [00:00<00:00, 10.51it/s]\n"
          ]
        },
        {
          "output_type": "stream",
          "name": "stdout",
          "text": [
            "\n",
            "Epoch    65\n",
            "Train_cost  = 16.4406 | Test_cost  = 15.9480 | \n"
          ]
        },
        {
          "output_type": "stream",
          "name": "stderr",
          "text": [
            "Train: 100%|██████████| 7/7 [00:00<00:00, 20.22it/s]\n",
            "Test: 100%|██████████| 3/3 [00:00<00:00, 38.02it/s]\n"
          ]
        },
        {
          "output_type": "stream",
          "name": "stdout",
          "text": [
            "\n",
            "Epoch    66\n",
            "Train_cost  = 16.4350 | Test_cost  = 15.9442 | \n"
          ]
        },
        {
          "output_type": "stream",
          "name": "stderr",
          "text": [
            "Train: 100%|██████████| 7/7 [00:00<00:00, 32.43it/s]\n",
            "Test: 100%|██████████| 3/3 [00:00<00:00, 38.49it/s]\n"
          ]
        },
        {
          "output_type": "stream",
          "name": "stdout",
          "text": [
            "\n",
            "Epoch    67\n",
            "Train_cost  = 16.4290 | Test_cost  = 15.9404 | \n"
          ]
        },
        {
          "output_type": "stream",
          "name": "stderr",
          "text": [
            "Train: 100%|██████████| 7/7 [00:00<00:00, 11.44it/s]\n",
            "Test: 100%|██████████| 3/3 [00:00<00:00, 38.39it/s]\n"
          ]
        },
        {
          "output_type": "stream",
          "name": "stdout",
          "text": [
            "\n",
            "Epoch    68\n",
            "Train_cost  = 16.4226 | Test_cost  = 15.9365 | \n"
          ]
        },
        {
          "output_type": "stream",
          "name": "stderr",
          "text": [
            "Train: 100%|██████████| 7/7 [00:00<00:00, 33.16it/s]\n",
            "Test: 100%|██████████| 3/3 [00:00<00:00, 37.54it/s]\n"
          ]
        },
        {
          "output_type": "stream",
          "name": "stdout",
          "text": [
            "\n",
            "Epoch    69\n",
            "Train_cost  = 16.4155 | Test_cost  = 15.9326 | \n"
          ]
        },
        {
          "output_type": "stream",
          "name": "stderr",
          "text": [
            "Train: 100%|██████████| 7/7 [00:00<00:00, 31.61it/s]\n",
            "Test: 100%|██████████| 3/3 [00:00<00:00, 37.73it/s]\n"
          ]
        },
        {
          "output_type": "stream",
          "name": "stdout",
          "text": [
            "\n",
            "Epoch    70\n",
            "Train_cost  = 16.4077 | Test_cost  = 15.9286 | \n"
          ]
        },
        {
          "output_type": "stream",
          "name": "stderr",
          "text": [
            "Train: 100%|██████████| 7/7 [00:00<00:00, 33.08it/s]\n",
            "Test: 100%|██████████| 3/3 [00:00<00:00, 36.85it/s]\n"
          ]
        },
        {
          "output_type": "stream",
          "name": "stdout",
          "text": [
            "\n",
            "Epoch    71\n",
            "Train_cost  = 16.3988 | Test_cost  = 15.9245 | \n"
          ]
        },
        {
          "output_type": "stream",
          "name": "stderr",
          "text": [
            "Train: 100%|██████████| 7/7 [00:00<00:00, 32.96it/s]\n",
            "Test: 100%|██████████| 3/3 [00:00<00:00, 40.69it/s]\n"
          ]
        },
        {
          "output_type": "stream",
          "name": "stdout",
          "text": [
            "\n",
            "Epoch    72\n",
            "Train_cost  = 16.3883 | Test_cost  = 15.9200 | \n"
          ]
        },
        {
          "output_type": "stream",
          "name": "stderr",
          "text": [
            "Train: 100%|██████████| 7/7 [00:00<00:00, 32.04it/s]\n",
            "Test: 100%|██████████| 3/3 [00:00<00:00, 37.69it/s]\n"
          ]
        },
        {
          "output_type": "stream",
          "name": "stdout",
          "text": [
            "\n",
            "Epoch    73\n",
            "Train_cost  = 16.3754 | Test_cost  = 15.9149 | \n"
          ]
        },
        {
          "output_type": "stream",
          "name": "stderr",
          "text": [
            "Train: 100%|██████████| 7/7 [00:00<00:00, 33.85it/s]\n",
            "Test: 100%|██████████| 3/3 [00:00<00:00, 39.69it/s]\n"
          ]
        },
        {
          "output_type": "stream",
          "name": "stdout",
          "text": [
            "\n",
            "Epoch    74\n",
            "Train_cost  = 16.3586 | Test_cost  = 15.9084 | \n"
          ]
        },
        {
          "output_type": "stream",
          "name": "stderr",
          "text": [
            "Train: 100%|██████████| 7/7 [00:00<00:00, 32.07it/s]\n",
            "Test: 100%|██████████| 3/3 [00:00<00:00, 37.56it/s]\n"
          ]
        },
        {
          "output_type": "stream",
          "name": "stdout",
          "text": [
            "\n",
            "Epoch    75\n",
            "Train_cost  = 16.3347 | Test_cost  = 15.8984 | \n"
          ]
        },
        {
          "output_type": "stream",
          "name": "stderr",
          "text": [
            "Train: 100%|██████████| 7/7 [00:00<00:00, 33.46it/s]\n",
            "Test: 100%|██████████| 3/3 [00:00<00:00, 30.92it/s]\n"
          ]
        },
        {
          "output_type": "stream",
          "name": "stdout",
          "text": [
            "\n",
            "Epoch    76\n",
            "Train_cost  = 16.2961 | Test_cost  = 15.8781 | \n"
          ]
        },
        {
          "output_type": "stream",
          "name": "stderr",
          "text": [
            "Train: 100%|██████████| 7/7 [00:00<00:00, 32.66it/s]\n",
            "Test: 100%|██████████| 3/3 [00:00<00:00, 31.72it/s]\n"
          ]
        },
        {
          "output_type": "stream",
          "name": "stdout",
          "text": [
            "\n",
            "Epoch    77\n",
            "Train_cost  = 16.2175 | Test_cost  = 15.8114 | \n"
          ]
        },
        {
          "output_type": "stream",
          "name": "stderr",
          "text": [
            "Train: 100%|██████████| 7/7 [00:00<00:00, 33.58it/s]\n",
            "Test: 100%|██████████| 3/3 [00:00<00:00, 37.49it/s]\n"
          ]
        },
        {
          "output_type": "stream",
          "name": "stdout",
          "text": [
            "\n",
            "Epoch    78\n",
            "Train_cost  = 15.9731 | Test_cost  = 15.4211 | \n"
          ]
        },
        {
          "output_type": "stream",
          "name": "stderr",
          "text": [
            "Train: 100%|██████████| 7/7 [00:00<00:00, 33.85it/s]\n",
            "Test: 100%|██████████| 3/3 [00:00<00:00, 30.88it/s]\n"
          ]
        },
        {
          "output_type": "stream",
          "name": "stdout",
          "text": [
            "\n",
            "Epoch    79\n",
            "Train_cost  = 14.9888 | Test_cost  = 14.1786 | \n"
          ]
        },
        {
          "output_type": "stream",
          "name": "stderr",
          "text": [
            "Train: 100%|██████████| 7/7 [00:00<00:00, 33.25it/s]\n",
            "Test: 100%|██████████| 3/3 [00:00<00:00, 36.73it/s]\n"
          ]
        },
        {
          "output_type": "stream",
          "name": "stdout",
          "text": [
            "\n",
            "Epoch    80\n",
            "Train_cost  = 13.6513 | Test_cost  = 13.1077 | \n"
          ]
        },
        {
          "output_type": "display_data",
          "data": {
            "text/plain": [
              "<Figure size 576x360 with 1 Axes>"
            ],
            "image/png": "[encoded data removed]"
          },
          "metadata": {
            "needs_background": "light"
          }
        },
        {
          "output_type": "stream",
          "name": "stderr",
          "text": [
            "Train: 100%|██████████| 7/7 [00:00<00:00, 33.63it/s]\n",
            "Test: 100%|██████████| 3/3 [00:00<00:00, 38.02it/s]\n"
          ]
        },
        {
          "output_type": "stream",
          "name": "stdout",
          "text": [
            "\n",
            "Epoch    81\n",
            "Train_cost  = 12.6624 | Test_cost  = 12.3089 | \n"
          ]
        },
        {
          "output_type": "stream",
          "name": "stderr",
          "text": [
            "Train: 100%|██████████| 7/7 [00:00<00:00, 29.86it/s]\n",
            "Test: 100%|██████████| 3/3 [00:00<00:00, 34.20it/s]\n"
          ]
        },
        {
          "output_type": "stream",
          "name": "stdout",
          "text": [
            "\n",
            "Epoch    82\n",
            "Train_cost  = 11.8067 | Test_cost  = 11.5557 | \n"
          ]
        },
        {
          "output_type": "stream",
          "name": "stderr",
          "text": [
            "Train: 100%|██████████| 7/7 [00:00<00:00, 32.91it/s]\n",
            "Test: 100%|██████████| 3/3 [00:00<00:00, 37.56it/s]\n"
          ]
        },
        {
          "output_type": "stream",
          "name": "stdout",
          "text": [
            "\n",
            "Epoch    83\n",
            "Train_cost  = 11.0904 | Test_cost  = 10.8870 | \n"
          ]
        },
        {
          "output_type": "stream",
          "name": "stderr",
          "text": [
            "Train: 100%|██████████| 7/7 [00:00<00:00, 34.25it/s]\n",
            "Test: 100%|██████████| 3/3 [00:00<00:00, 38.28it/s]\n"
          ]
        },
        {
          "output_type": "stream",
          "name": "stdout",
          "text": [
            "\n",
            "Epoch    84\n",
            "Train_cost  = 10.5052 | Test_cost  = 10.3067 | \n"
          ]
        },
        {
          "output_type": "stream",
          "name": "stderr",
          "text": [
            "Train: 100%|██████████| 7/7 [00:00<00:00, 30.40it/s]\n",
            "Test: 100%|██████████| 3/3 [00:00<00:00, 39.51it/s]\n"
          ]
        },
        {
          "output_type": "stream",
          "name": "stdout",
          "text": [
            "\n",
            "Epoch    85\n",
            "Train_cost  = 9.9806 | Test_cost  = 9.7731 | \n"
          ]
        },
        {
          "output_type": "stream",
          "name": "stderr",
          "text": [
            "Train: 100%|██████████| 7/7 [00:00<00:00, 32.30it/s]\n",
            "Test: 100%|██████████| 3/3 [00:00<00:00, 33.95it/s]\n"
          ]
        },
        {
          "output_type": "stream",
          "name": "stdout",
          "text": [
            "\n",
            "Epoch    86\n",
            "Train_cost  = 9.5210 | Test_cost  = 9.3094 | \n"
          ]
        },
        {
          "output_type": "stream",
          "name": "stderr",
          "text": [
            "Train: 100%|██████████| 7/7 [00:00<00:00, 33.33it/s]\n",
            "Test: 100%|██████████| 3/3 [00:00<00:00, 37.86it/s]\n"
          ]
        },
        {
          "output_type": "stream",
          "name": "stdout",
          "text": [
            "\n",
            "Epoch    87\n",
            "Train_cost  = 9.1312 | Test_cost  = 8.9266 | \n"
          ]
        },
        {
          "output_type": "stream",
          "name": "stderr",
          "text": [
            "Train: 100%|██████████| 7/7 [00:00<00:00, 29.47it/s]\n",
            "Test: 100%|██████████| 3/3 [00:00<00:00, 38.80it/s]\n"
          ]
        },
        {
          "output_type": "stream",
          "name": "stdout",
          "text": [
            "\n",
            "Epoch    88\n",
            "Train_cost  = 8.8131 | Test_cost  = 8.6122 | \n"
          ]
        },
        {
          "output_type": "stream",
          "name": "stderr",
          "text": [
            "Train: 100%|██████████| 7/7 [00:00<00:00, 31.69it/s]\n",
            "Test: 100%|██████████| 3/3 [00:00<00:00, 35.80it/s]\n"
          ]
        },
        {
          "output_type": "stream",
          "name": "stdout",
          "text": [
            "\n",
            "Epoch    89\n",
            "Train_cost  = 8.5547 | Test_cost  = 8.3503 | \n"
          ]
        },
        {
          "output_type": "stream",
          "name": "stderr",
          "text": [
            "Train: 100%|██████████| 7/7 [00:00<00:00, 32.65it/s]\n",
            "Test: 100%|██████████| 3/3 [00:00<00:00, 38.15it/s]\n"
          ]
        },
        {
          "output_type": "stream",
          "name": "stdout",
          "text": [
            "\n",
            "Epoch    90\n",
            "Train_cost  = 8.3322 | Test_cost  = 8.1244 | \n"
          ]
        },
        {
          "output_type": "stream",
          "name": "stderr",
          "text": [
            "Train: 100%|██████████| 7/7 [00:00<00:00, 31.67it/s]\n",
            "Test: 100%|██████████| 3/3 [00:00<00:00, 34.21it/s]\n"
          ]
        },
        {
          "output_type": "stream",
          "name": "stdout",
          "text": [
            "\n",
            "Epoch    91\n",
            "Train_cost  = 8.1343 | Test_cost  = 7.9278 | \n"
          ]
        },
        {
          "output_type": "stream",
          "name": "stderr",
          "text": [
            "Train: 100%|██████████| 7/7 [00:00<00:00, 32.94it/s]\n",
            "Test: 100%|██████████| 3/3 [00:00<00:00, 36.65it/s]\n"
          ]
        },
        {
          "output_type": "stream",
          "name": "stdout",
          "text": [
            "\n",
            "Epoch    92\n",
            "Train_cost  = 7.9586 | Test_cost  = 7.7581 | \n"
          ]
        },
        {
          "output_type": "stream",
          "name": "stderr",
          "text": [
            "Train: 100%|██████████| 7/7 [00:00<00:00, 34.12it/s]\n",
            "Test: 100%|██████████| 3/3 [00:00<00:00, 35.74it/s]\n"
          ]
        },
        {
          "output_type": "stream",
          "name": "stdout",
          "text": [
            "\n",
            "Epoch    93\n",
            "Train_cost  = 7.8052 | Test_cost  = 7.6088 | \n"
          ]
        },
        {
          "output_type": "stream",
          "name": "stderr",
          "text": [
            "Train: 100%|██████████| 7/7 [00:00<00:00, 31.17it/s]\n",
            "Test: 100%|██████████| 3/3 [00:00<00:00, 24.65it/s]\n"
          ]
        },
        {
          "output_type": "stream",
          "name": "stdout",
          "text": [
            "\n",
            "Epoch    94\n",
            "Train_cost  = 7.6756 | Test_cost  = 7.4746 | \n"
          ]
        },
        {
          "output_type": "stream",
          "name": "stderr",
          "text": [
            "Train: 100%|██████████| 7/7 [00:00<00:00, 13.31it/s]\n",
            "Test: 100%|██████████| 3/3 [00:00<00:00, 19.68it/s]\n"
          ]
        },
        {
          "output_type": "stream",
          "name": "stdout",
          "text": [
            "\n",
            "Epoch    95\n",
            "Train_cost  = 7.5651 | Test_cost  = 7.3546 | \n"
          ]
        },
        {
          "output_type": "stream",
          "name": "stderr",
          "text": [
            "Train: 100%|██████████| 7/7 [00:00<00:00, 21.52it/s]\n",
            "Test: 100%|██████████| 3/3 [00:00<00:00, 38.17it/s]\n"
          ]
        },
        {
          "output_type": "stream",
          "name": "stdout",
          "text": [
            "\n",
            "Epoch    96\n",
            "Train_cost  = 7.4659 | Test_cost  = 7.2472 | \n"
          ]
        },
        {
          "output_type": "stream",
          "name": "stderr",
          "text": [
            "Train: 100%|██████████| 7/7 [00:00<00:00, 30.98it/s]\n",
            "Test: 100%|██████████| 3/3 [00:00<00:00, 37.12it/s]\n"
          ]
        },
        {
          "output_type": "stream",
          "name": "stdout",
          "text": [
            "\n",
            "Epoch    97\n",
            "Train_cost  = 7.3743 | Test_cost  = 7.1498 | \n"
          ]
        },
        {
          "output_type": "stream",
          "name": "stderr",
          "text": [
            "Train: 100%|██████████| 7/7 [00:00<00:00, 30.23it/s]\n",
            "Test: 100%|██████████| 3/3 [00:00<00:00, 38.15it/s]\n"
          ]
        },
        {
          "output_type": "stream",
          "name": "stdout",
          "text": [
            "\n",
            "Epoch    98\n",
            "Train_cost  = 7.2899 | Test_cost  = 7.0611 | \n"
          ]
        },
        {
          "output_type": "stream",
          "name": "stderr",
          "text": [
            "Train: 100%|██████████| 7/7 [00:00<00:00, 30.97it/s]\n",
            "Test: 100%|██████████| 3/3 [00:00<00:00, 34.51it/s]\n"
          ]
        },
        {
          "output_type": "stream",
          "name": "stdout",
          "text": [
            "\n",
            "Epoch    99\n",
            "Train_cost  = 7.2127 | Test_cost  = 6.9800 | \n"
          ]
        },
        {
          "output_type": "stream",
          "name": "stderr",
          "text": [
            "Train: 100%|██████████| 7/7 [00:00<00:00, 31.33it/s]\n",
            "Test: 100%|██████████| 3/3 [00:00<00:00, 36.70it/s]\n"
          ]
        },
        {
          "output_type": "stream",
          "name": "stdout",
          "text": [
            "\n",
            "Epoch   100\n",
            "Train_cost  = 7.1427 | Test_cost  = 6.9057 | \n"
          ]
        },
        {
          "output_type": "display_data",
          "data": {
            "text/plain": [
              "<Figure size 576x360 with 1 Axes>"
            ],
            "image/png": "[encoded data removed]"
          },
          "metadata": {
            "needs_background": "light"
          }
        },
        {
          "output_type": "stream",
          "name": "stderr",
          "text": [
            "Train: 100%|██████████| 7/7 [00:00<00:00, 28.91it/s]\n",
            "Test: 100%|██████████| 3/3 [00:00<00:00, 36.73it/s]\n"
          ]
        },
        {
          "output_type": "stream",
          "name": "stdout",
          "text": [
            "\n",
            "Epoch   101\n",
            "Train_cost  = 7.0791 | Test_cost  = 6.8375 | \n"
          ]
        },
        {
          "output_type": "stream",
          "name": "stderr",
          "text": [
            "Train: 100%|██████████| 7/7 [00:00<00:00, 33.00it/s]\n",
            "Test: 100%|██████████| 3/3 [00:00<00:00, 35.81it/s]\n"
          ]
        },
        {
          "output_type": "stream",
          "name": "stdout",
          "text": [
            "\n",
            "Epoch   102\n",
            "Train_cost  = 7.0211 | Test_cost  = 6.7747 | \n"
          ]
        },
        {
          "output_type": "stream",
          "name": "stderr",
          "text": [
            "Train: 100%|██████████| 7/7 [00:00<00:00, 31.80it/s]\n",
            "Test: 100%|██████████| 3/3 [00:00<00:00, 36.24it/s]\n"
          ]
        },
        {
          "output_type": "stream",
          "name": "stdout",
          "text": [
            "\n",
            "Epoch   103\n",
            "Train_cost  = 6.9683 | Test_cost  = 6.7168 | \n"
          ]
        },
        {
          "output_type": "stream",
          "name": "stderr",
          "text": [
            "Train: 100%|██████████| 7/7 [00:00<00:00, 28.95it/s]\n",
            "Test: 100%|██████████| 3/3 [00:00<00:00, 39.25it/s]\n"
          ]
        },
        {
          "output_type": "stream",
          "name": "stdout",
          "text": [
            "\n",
            "Epoch   104\n",
            "Train_cost  = 6.9201 | Test_cost  = 6.6634 | \n"
          ]
        },
        {
          "output_type": "stream",
          "name": "stderr",
          "text": [
            "Train: 100%|██████████| 7/7 [00:00<00:00, 32.98it/s]\n",
            "Test: 100%|██████████| 3/3 [00:00<00:00, 32.82it/s]\n"
          ]
        },
        {
          "output_type": "stream",
          "name": "stdout",
          "text": [
            "\n",
            "Epoch   105\n",
            "Train_cost  = 6.8761 | Test_cost  = 6.6140 | \n"
          ]
        },
        {
          "output_type": "stream",
          "name": "stderr",
          "text": [
            "Train: 100%|██████████| 7/7 [00:00<00:00, 33.02it/s]\n",
            "Test: 100%|██████████| 3/3 [00:00<00:00, 36.87it/s]\n"
          ]
        },
        {
          "output_type": "stream",
          "name": "stdout",
          "text": [
            "\n",
            "Epoch   106\n",
            "Train_cost  = 6.8358 | Test_cost  = 6.5683 | \n"
          ]
        },
        {
          "output_type": "stream",
          "name": "stderr",
          "text": [
            "Train: 100%|██████████| 7/7 [00:00<00:00, 31.67it/s]\n",
            "Test: 100%|██████████| 3/3 [00:00<00:00, 33.95it/s]\n"
          ]
        },
        {
          "output_type": "stream",
          "name": "stdout",
          "text": [
            "\n",
            "Epoch   107\n",
            "Train_cost  = 6.7988 | Test_cost  = 6.5259 | \n"
          ]
        },
        {
          "output_type": "stream",
          "name": "stderr",
          "text": [
            "Train: 100%|██████████| 7/7 [00:00<00:00, 32.41it/s]\n",
            "Test: 100%|██████████| 3/3 [00:00<00:00, 33.06it/s]\n"
          ]
        },
        {
          "output_type": "stream",
          "name": "stdout",
          "text": [
            "\n",
            "Epoch   108\n",
            "Train_cost  = 6.7646 | Test_cost  = 6.4866 | \n"
          ]
        },
        {
          "output_type": "stream",
          "name": "stderr",
          "text": [
            "Train: 100%|██████████| 7/7 [00:00<00:00, 32.22it/s]\n",
            "Test: 100%|██████████| 3/3 [00:00<00:00, 35.93it/s]\n"
          ]
        },
        {
          "output_type": "stream",
          "name": "stdout",
          "text": [
            "\n",
            "Epoch   109\n",
            "Train_cost  = 6.7331 | Test_cost  = 6.4499 | \n"
          ]
        },
        {
          "output_type": "stream",
          "name": "stderr",
          "text": [
            "Train: 100%|██████████| 7/7 [00:00<00:00, 30.70it/s]\n",
            "Test: 100%|██████████| 3/3 [00:00<00:00, 34.34it/s]\n"
          ]
        },
        {
          "output_type": "stream",
          "name": "stdout",
          "text": [
            "\n",
            "Epoch   110\n",
            "Train_cost  = 6.7039 | Test_cost  = 6.4155 | \n"
          ]
        },
        {
          "output_type": "stream",
          "name": "stderr",
          "text": [
            "Train: 100%|██████████| 7/7 [00:00<00:00, 32.37it/s]\n",
            "Test: 100%|██████████| 3/3 [00:00<00:00, 37.49it/s]\n"
          ]
        },
        {
          "output_type": "stream",
          "name": "stdout",
          "text": [
            "\n",
            "Epoch   111\n",
            "Train_cost  = 6.6768 | Test_cost  = 6.3833 | \n"
          ]
        },
        {
          "output_type": "stream",
          "name": "stderr",
          "text": [
            "Train: 100%|██████████| 7/7 [00:00<00:00, 27.99it/s]\n",
            "Test: 100%|██████████| 3/3 [00:00<00:00, 34.28it/s]\n"
          ]
        },
        {
          "output_type": "stream",
          "name": "stdout",
          "text": [
            "\n",
            "Epoch   112\n",
            "Train_cost  = 6.6515 | Test_cost  = 6.3529 | \n"
          ]
        },
        {
          "output_type": "stream",
          "name": "stderr",
          "text": [
            "Train: 100%|██████████| 7/7 [00:00<00:00, 27.62it/s]\n",
            "Test: 100%|██████████| 3/3 [00:00<00:00, 34.41it/s]\n"
          ]
        },
        {
          "output_type": "stream",
          "name": "stdout",
          "text": [
            "\n",
            "Epoch   113\n",
            "Train_cost  = 6.6278 | Test_cost  = 6.3243 | \n"
          ]
        },
        {
          "output_type": "stream",
          "name": "stderr",
          "text": [
            "Train: 100%|██████████| 7/7 [00:00<00:00, 31.85it/s]\n",
            "Test: 100%|██████████| 3/3 [00:00<00:00, 31.87it/s]\n"
          ]
        },
        {
          "output_type": "stream",
          "name": "stdout",
          "text": [
            "\n",
            "Epoch   114\n",
            "Train_cost  = 6.6056 | Test_cost  = 6.2972 | \n"
          ]
        },
        {
          "output_type": "stream",
          "name": "stderr",
          "text": [
            "Train: 100%|██████████| 7/7 [00:00<00:00, 31.10it/s]\n",
            "Test: 100%|██████████| 3/3 [00:00<00:00, 36.27it/s]\n"
          ]
        },
        {
          "output_type": "stream",
          "name": "stdout",
          "text": [
            "\n",
            "Epoch   115\n",
            "Train_cost  = 6.5845 | Test_cost  = 6.2716 | \n"
          ]
        },
        {
          "output_type": "stream",
          "name": "stderr",
          "text": [
            "Train: 100%|██████████| 7/7 [00:00<00:00, 27.81it/s]\n",
            "Test: 100%|██████████| 3/3 [00:00<00:00, 36.35it/s]\n"
          ]
        },
        {
          "output_type": "stream",
          "name": "stdout",
          "text": [
            "\n",
            "Epoch   116\n",
            "Train_cost  = 6.5645 | Test_cost  = 6.2472 | \n"
          ]
        },
        {
          "output_type": "stream",
          "name": "stderr",
          "text": [
            "Train: 100%|██████████| 7/7 [00:00<00:00, 30.35it/s]\n",
            "Test: 100%|██████████| 3/3 [00:00<00:00, 35.74it/s]\n"
          ]
        },
        {
          "output_type": "stream",
          "name": "stdout",
          "text": [
            "\n",
            "Epoch   117\n",
            "Train_cost  = 6.5453 | Test_cost  = 6.2240 | \n"
          ]
        },
        {
          "output_type": "stream",
          "name": "stderr",
          "text": [
            "Train: 100%|██████████| 7/7 [00:00<00:00, 30.72it/s]\n",
            "Test: 100%|██████████| 3/3 [00:00<00:00, 36.33it/s]\n"
          ]
        },
        {
          "output_type": "stream",
          "name": "stdout",
          "text": [
            "\n",
            "Epoch   118\n",
            "Train_cost  = 6.5267 | Test_cost  = 6.2015 | \n"
          ]
        },
        {
          "output_type": "stream",
          "name": "stderr",
          "text": [
            "Train: 100%|██████████| 7/7 [00:00<00:00, 29.44it/s]\n",
            "Test: 100%|██████████| 3/3 [00:00<00:00, 34.99it/s]\n"
          ]
        },
        {
          "output_type": "stream",
          "name": "stdout",
          "text": [
            "\n",
            "Epoch   119\n",
            "Train_cost  = 6.5085 | Test_cost  = 6.1792 | \n"
          ]
        },
        {
          "output_type": "stream",
          "name": "stderr",
          "text": [
            "Train: 100%|██████████| 7/7 [00:00<00:00, 30.16it/s]\n",
            "Test: 100%|██████████| 3/3 [00:00<00:00, 28.76it/s]\n"
          ]
        },
        {
          "output_type": "stream",
          "name": "stdout",
          "text": [
            "\n",
            "Epoch   120\n",
            "Train_cost  = 6.4908 | Test_cost  = 6.1567 | \n"
          ]
        },
        {
          "output_type": "display_data",
          "data": {
            "text/plain": [
              "<Figure size 576x360 with 1 Axes>"
            ],
            "image/png": "[encoded data removed]"
          },
          "metadata": {
            "needs_background": "light"
          }
        },
        {
          "output_type": "stream",
          "name": "stderr",
          "text": [
            "Train: 100%|██████████| 7/7 [00:00<00:00, 29.85it/s]\n",
            "Test: 100%|██████████| 3/3 [00:00<00:00, 35.91it/s]\n"
          ]
        },
        {
          "output_type": "stream",
          "name": "stdout",
          "text": [
            "\n",
            "Epoch   121\n",
            "Train_cost  = 6.4737 | Test_cost  = 6.1341 | \n"
          ]
        },
        {
          "output_type": "stream",
          "name": "stderr",
          "text": [
            "Train: 100%|██████████| 7/7 [00:00<00:00, 29.88it/s]\n",
            "Test: 100%|██████████| 3/3 [00:00<00:00, 34.32it/s]\n"
          ]
        },
        {
          "output_type": "stream",
          "name": "stdout",
          "text": [
            "\n",
            "Epoch   122\n",
            "Train_cost  = 6.4574 | Test_cost  = 6.1125 | \n"
          ]
        },
        {
          "output_type": "stream",
          "name": "stderr",
          "text": [
            "Train: 100%|██████████| 7/7 [00:00<00:00, 32.16it/s]\n",
            "Test: 100%|██████████| 3/3 [00:00<00:00, 36.06it/s]\n"
          ]
        },
        {
          "output_type": "stream",
          "name": "stdout",
          "text": [
            "\n",
            "Epoch   123\n",
            "Train_cost  = 6.4421 | Test_cost  = 6.0925 | \n"
          ]
        },
        {
          "output_type": "stream",
          "name": "stderr",
          "text": [
            "Train: 100%|██████████| 7/7 [00:00<00:00, 28.17it/s]\n",
            "Test: 100%|██████████| 3/3 [00:00<00:00, 35.58it/s]\n"
          ]
        },
        {
          "output_type": "stream",
          "name": "stdout",
          "text": [
            "\n",
            "Epoch   124\n",
            "Train_cost  = 6.4277 | Test_cost  = 6.0741 | \n"
          ]
        },
        {
          "output_type": "stream",
          "name": "stderr",
          "text": [
            "Train: 100%|██████████| 7/7 [00:00<00:00, 31.26it/s]\n",
            "Test: 100%|██████████| 3/3 [00:00<00:00, 33.39it/s]\n"
          ]
        },
        {
          "output_type": "stream",
          "name": "stdout",
          "text": [
            "\n",
            "Epoch   125\n",
            "Train_cost  = 6.4140 | Test_cost  = 6.0566 | \n"
          ]
        },
        {
          "output_type": "stream",
          "name": "stderr",
          "text": [
            "Train: 100%|██████████| 7/7 [00:00<00:00, 29.84it/s]\n",
            "Test: 100%|██████████| 3/3 [00:00<00:00, 31.26it/s]\n"
          ]
        },
        {
          "output_type": "stream",
          "name": "stdout",
          "text": [
            "\n",
            "Epoch   126\n",
            "Train_cost  = 6.4006 | Test_cost  = 6.0398 | \n"
          ]
        },
        {
          "output_type": "stream",
          "name": "stderr",
          "text": [
            "Train: 100%|██████████| 7/7 [00:00<00:00, 31.02it/s]\n",
            "Test: 100%|██████████| 3/3 [00:00<00:00, 33.54it/s]\n"
          ]
        },
        {
          "output_type": "stream",
          "name": "stdout",
          "text": [
            "\n",
            "Epoch   127\n",
            "Train_cost  = 6.3877 | Test_cost  = 6.0238 | \n"
          ]
        },
        {
          "output_type": "stream",
          "name": "stderr",
          "text": [
            "Train: 100%|██████████| 7/7 [00:00<00:00, 31.00it/s]\n",
            "Test: 100%|██████████| 3/3 [00:00<00:00, 37.23it/s]\n"
          ]
        },
        {
          "output_type": "stream",
          "name": "stdout",
          "text": [
            "\n",
            "Epoch   128\n",
            "Train_cost  = 6.3752 | Test_cost  = 6.0083 | \n"
          ]
        },
        {
          "output_type": "stream",
          "name": "stderr",
          "text": [
            "Train: 100%|██████████| 7/7 [00:00<00:00, 30.35it/s]\n",
            "Test: 100%|██████████| 3/3 [00:00<00:00, 34.74it/s]\n"
          ]
        },
        {
          "output_type": "stream",
          "name": "stdout",
          "text": [
            "\n",
            "Epoch   129\n",
            "Train_cost  = 6.3633 | Test_cost  = 5.9934 | \n"
          ]
        },
        {
          "output_type": "stream",
          "name": "stderr",
          "text": [
            "Train: 100%|██████████| 7/7 [00:00<00:00, 31.15it/s]\n",
            "Test: 100%|██████████| 3/3 [00:00<00:00, 37.92it/s]\n"
          ]
        },
        {
          "output_type": "stream",
          "name": "stdout",
          "text": [
            "\n",
            "Epoch   130\n",
            "Train_cost  = 6.3520 | Test_cost  = 5.9792 | \n"
          ]
        },
        {
          "output_type": "stream",
          "name": "stderr",
          "text": [
            "Train: 100%|██████████| 7/7 [00:00<00:00, 30.13it/s]\n",
            "Test: 100%|██████████| 3/3 [00:00<00:00, 33.75it/s]\n"
          ]
        },
        {
          "output_type": "stream",
          "name": "stdout",
          "text": [
            "\n",
            "Epoch   131\n",
            "Train_cost  = 6.3412 | Test_cost  = 5.9656 | \n"
          ]
        },
        {
          "output_type": "stream",
          "name": "stderr",
          "text": [
            "Train: 100%|██████████| 7/7 [00:00<00:00, 30.33it/s]\n",
            "Test: 100%|██████████| 3/3 [00:00<00:00, 35.72it/s]\n"
          ]
        },
        {
          "output_type": "stream",
          "name": "stdout",
          "text": [
            "\n",
            "Epoch   132\n",
            "Train_cost  = 6.3307 | Test_cost  = 5.9524 | \n"
          ]
        },
        {
          "output_type": "stream",
          "name": "stderr",
          "text": [
            "Train: 100%|██████████| 7/7 [00:00<00:00, 29.51it/s]\n",
            "Test: 100%|██████████| 3/3 [00:00<00:00, 35.36it/s]\n"
          ]
        },
        {
          "output_type": "stream",
          "name": "stdout",
          "text": [
            "\n",
            "Epoch   133\n",
            "Train_cost  = 6.3205 | Test_cost  = 5.9395 | \n"
          ]
        },
        {
          "output_type": "stream",
          "name": "stderr",
          "text": [
            "Train: 100%|██████████| 7/7 [00:00<00:00, 31.24it/s]\n",
            "Test: 100%|██████████| 3/3 [00:00<00:00, 34.50it/s]\n"
          ]
        },
        {
          "output_type": "stream",
          "name": "stdout",
          "text": [
            "\n",
            "Epoch   134\n",
            "Train_cost  = 6.3105 | Test_cost  = 5.9268 | \n"
          ]
        },
        {
          "output_type": "stream",
          "name": "stderr",
          "text": [
            "Train: 100%|██████████| 7/7 [00:00<00:00, 31.39it/s]\n",
            "Test: 100%|██████████| 3/3 [00:00<00:00, 36.83it/s]\n"
          ]
        },
        {
          "output_type": "stream",
          "name": "stdout",
          "text": [
            "\n",
            "Epoch   135\n",
            "Train_cost  = 6.3007 | Test_cost  = 5.9144 | \n"
          ]
        },
        {
          "output_type": "stream",
          "name": "stderr",
          "text": [
            "Train: 100%|██████████| 7/7 [00:00<00:00, 28.41it/s]\n",
            "Test: 100%|██████████| 3/3 [00:00<00:00, 33.82it/s]\n"
          ]
        },
        {
          "output_type": "stream",
          "name": "stdout",
          "text": [
            "\n",
            "Epoch   136\n",
            "Train_cost  = 6.2910 | Test_cost  = 5.9020 | \n"
          ]
        },
        {
          "output_type": "stream",
          "name": "stderr",
          "text": [
            "Train: 100%|██████████| 7/7 [00:00<00:00, 29.48it/s]\n",
            "Test: 100%|██████████| 3/3 [00:00<00:00, 31.52it/s]\n"
          ]
        },
        {
          "output_type": "stream",
          "name": "stdout",
          "text": [
            "\n",
            "Epoch   137\n",
            "Train_cost  = 6.2814 | Test_cost  = 5.8896 | \n"
          ]
        },
        {
          "output_type": "stream",
          "name": "stderr",
          "text": [
            "Train: 100%|██████████| 7/7 [00:00<00:00, 30.33it/s]\n",
            "Test: 100%|██████████| 3/3 [00:00<00:00, 32.71it/s]\n"
          ]
        },
        {
          "output_type": "stream",
          "name": "stdout",
          "text": [
            "\n",
            "Epoch   138\n",
            "Train_cost  = 6.2717 | Test_cost  = 5.8773 | \n"
          ]
        },
        {
          "output_type": "stream",
          "name": "stderr",
          "text": [
            "Train: 100%|██████████| 7/7 [00:00<00:00, 29.57it/s]\n",
            "Test: 100%|██████████| 3/3 [00:00<00:00, 34.56it/s]\n"
          ]
        },
        {
          "output_type": "stream",
          "name": "stdout",
          "text": [
            "\n",
            "Epoch   139\n",
            "Train_cost  = 6.2620 | Test_cost  = 5.8655 | \n"
          ]
        },
        {
          "output_type": "stream",
          "name": "stderr",
          "text": [
            "Train: 100%|██████████| 7/7 [00:00<00:00, 27.83it/s]\n",
            "Test: 100%|██████████| 3/3 [00:00<00:00, 32.15it/s]\n"
          ]
        },
        {
          "output_type": "stream",
          "name": "stdout",
          "text": [
            "\n",
            "Epoch   140\n",
            "Train_cost  = 6.2524 | Test_cost  = 5.8545 | \n"
          ]
        },
        {
          "output_type": "display_data",
          "data": {
            "text/plain": [
              "<Figure size 576x360 with 1 Axes>"
            ],
            "image/png": "[encoded data removed]"
          },
          "metadata": {
            "needs_background": "light"
          }
        },
        {
          "output_type": "stream",
          "name": "stderr",
          "text": [
            "Train: 100%|██████████| 7/7 [00:00<00:00, 28.68it/s]\n",
            "Test: 100%|██████████| 3/3 [00:00<00:00, 33.84it/s]\n"
          ]
        },
        {
          "output_type": "stream",
          "name": "stdout",
          "text": [
            "\n",
            "Epoch   141\n",
            "Train_cost  = 6.2433 | Test_cost  = 5.8447 | \n"
          ]
        },
        {
          "output_type": "stream",
          "name": "stderr",
          "text": [
            "Train: 100%|██████████| 7/7 [00:00<00:00, 29.78it/s]\n",
            "Test: 100%|██████████| 3/3 [00:00<00:00, 32.56it/s]\n"
          ]
        },
        {
          "output_type": "stream",
          "name": "stdout",
          "text": [
            "\n",
            "Epoch   142\n",
            "Train_cost  = 6.2347 | Test_cost  = 5.8359 | \n"
          ]
        },
        {
          "output_type": "stream",
          "name": "stderr",
          "text": [
            "Train: 100%|██████████| 7/7 [00:00<00:00, 29.63it/s]\n",
            "Test: 100%|██████████| 3/3 [00:00<00:00, 32.09it/s]\n"
          ]
        },
        {
          "output_type": "stream",
          "name": "stdout",
          "text": [
            "\n",
            "Epoch   143\n",
            "Train_cost  = 6.2266 | Test_cost  = 5.8277 | \n"
          ]
        },
        {
          "output_type": "stream",
          "name": "stderr",
          "text": [
            "Train: 100%|██████████| 7/7 [00:00<00:00, 29.89it/s]\n",
            "Test: 100%|██████████| 3/3 [00:00<00:00, 32.82it/s]\n"
          ]
        },
        {
          "output_type": "stream",
          "name": "stdout",
          "text": [
            "\n",
            "Epoch   144\n",
            "Train_cost  = 6.2188 | Test_cost  = 5.8199 | \n"
          ]
        },
        {
          "output_type": "stream",
          "name": "stderr",
          "text": [
            "Train: 100%|██████████| 7/7 [00:00<00:00, 30.73it/s]\n",
            "Test: 100%|██████████| 3/3 [00:00<00:00, 32.64it/s]\n"
          ]
        },
        {
          "output_type": "stream",
          "name": "stdout",
          "text": [
            "\n",
            "Epoch   145\n",
            "Train_cost  = 6.2111 | Test_cost  = 5.8122 | \n"
          ]
        },
        {
          "output_type": "stream",
          "name": "stderr",
          "text": [
            "Train: 100%|██████████| 7/7 [00:00<00:00, 32.17it/s]\n",
            "Test: 100%|██████████| 3/3 [00:00<00:00, 31.62it/s]\n"
          ]
        },
        {
          "output_type": "stream",
          "name": "stdout",
          "text": [
            "\n",
            "Epoch   146\n",
            "Train_cost  = 6.2037 | Test_cost  = 5.8048 | \n"
          ]
        },
        {
          "output_type": "stream",
          "name": "stderr",
          "text": [
            "Train: 100%|██████████| 7/7 [00:00<00:00, 32.26it/s]\n",
            "Test: 100%|██████████| 3/3 [00:00<00:00, 34.24it/s]\n"
          ]
        },
        {
          "output_type": "stream",
          "name": "stdout",
          "text": [
            "\n",
            "Epoch   147\n",
            "Train_cost  = 6.1964 | Test_cost  = 5.7976 | \n"
          ]
        },
        {
          "output_type": "stream",
          "name": "stderr",
          "text": [
            "Train: 100%|██████████| 7/7 [00:00<00:00, 32.48it/s]\n",
            "Test: 100%|██████████| 3/3 [00:00<00:00, 32.57it/s]\n"
          ]
        },
        {
          "output_type": "stream",
          "name": "stdout",
          "text": [
            "\n",
            "Epoch   148\n",
            "Train_cost  = 6.1892 | Test_cost  = 5.7908 | \n"
          ]
        },
        {
          "output_type": "stream",
          "name": "stderr",
          "text": [
            "Train: 100%|██████████| 7/7 [00:00<00:00, 32.28it/s]\n",
            "Test: 100%|██████████| 3/3 [00:00<00:00, 31.50it/s]\n"
          ]
        },
        {
          "output_type": "stream",
          "name": "stdout",
          "text": [
            "\n",
            "Epoch   149\n",
            "Train_cost  = 6.1822 | Test_cost  = 5.7842 | \n"
          ]
        },
        {
          "output_type": "stream",
          "name": "stderr",
          "text": [
            "Train: 100%|██████████| 7/7 [00:00<00:00, 28.98it/s]\n",
            "Test: 100%|██████████| 3/3 [00:00<00:00, 33.73it/s]\n"
          ]
        },
        {
          "output_type": "stream",
          "name": "stdout",
          "text": [
            "\n",
            "Epoch   150\n",
            "Train_cost  = 6.1752 | Test_cost  = 5.7779 | \n"
          ]
        },
        {
          "output_type": "stream",
          "name": "stderr",
          "text": [
            "Train: 100%|██████████| 7/7 [00:00<00:00, 31.12it/s]\n",
            "Test: 100%|██████████| 3/3 [00:00<00:00, 38.94it/s]\n"
          ]
        },
        {
          "output_type": "stream",
          "name": "stdout",
          "text": [
            "\n",
            "Epoch   151\n",
            "Train_cost  = 6.1683 | Test_cost  = 5.7719 | \n"
          ]
        },
        {
          "output_type": "stream",
          "name": "stderr",
          "text": [
            "Train: 100%|██████████| 7/7 [00:00<00:00, 30.96it/s]\n",
            "Test: 100%|██████████| 3/3 [00:00<00:00, 33.47it/s]\n"
          ]
        },
        {
          "output_type": "stream",
          "name": "stdout",
          "text": [
            "\n",
            "Epoch   152\n",
            "Train_cost  = 6.1616 | Test_cost  = 5.7662 | \n"
          ]
        },
        {
          "output_type": "stream",
          "name": "stderr",
          "text": [
            "Train: 100%|██████████| 7/7 [00:00<00:00, 30.44it/s]\n",
            "Test: 100%|██████████| 3/3 [00:00<00:00, 34.93it/s]\n"
          ]
        },
        {
          "output_type": "stream",
          "name": "stdout",
          "text": [
            "\n",
            "Epoch   153\n",
            "Train_cost  = 6.1550 | Test_cost  = 5.7607 | \n"
          ]
        },
        {
          "output_type": "stream",
          "name": "stderr",
          "text": [
            "Train: 100%|██████████| 7/7 [00:00<00:00, 32.26it/s]\n",
            "Test: 100%|██████████| 3/3 [00:00<00:00, 36.00it/s]\n"
          ]
        },
        {
          "output_type": "stream",
          "name": "stdout",
          "text": [
            "\n",
            "Epoch   154\n",
            "Train_cost  = 6.1486 | Test_cost  = 5.7554 | \n"
          ]
        },
        {
          "output_type": "stream",
          "name": "stderr",
          "text": [
            "Train: 100%|██████████| 7/7 [00:00<00:00, 32.39it/s]\n",
            "Test: 100%|██████████| 3/3 [00:00<00:00, 30.33it/s]\n"
          ]
        },
        {
          "output_type": "stream",
          "name": "stdout",
          "text": [
            "\n",
            "Epoch   155\n",
            "Train_cost  = 6.1423 | Test_cost  = 5.7503 | \n"
          ]
        },
        {
          "output_type": "stream",
          "name": "stderr",
          "text": [
            "Train: 100%|██████████| 7/7 [00:00<00:00, 32.01it/s]\n",
            "Test: 100%|██████████| 3/3 [00:00<00:00, 28.84it/s]\n"
          ]
        },
        {
          "output_type": "stream",
          "name": "stdout",
          "text": [
            "\n",
            "Epoch   156\n",
            "Train_cost  = 6.1362 | Test_cost  = 5.7453 | \n"
          ]
        },
        {
          "output_type": "stream",
          "name": "stderr",
          "text": [
            "Train: 100%|██████████| 7/7 [00:00<00:00, 30.73it/s]\n",
            "Test: 100%|██████████| 3/3 [00:00<00:00, 36.27it/s]\n"
          ]
        },
        {
          "output_type": "stream",
          "name": "stdout",
          "text": [
            "\n",
            "Epoch   157\n",
            "Train_cost  = 6.1302 | Test_cost  = 5.7405 | \n"
          ]
        },
        {
          "output_type": "stream",
          "name": "stderr",
          "text": [
            "Train: 100%|██████████| 7/7 [00:00<00:00, 27.35it/s]\n",
            "Test: 100%|██████████| 3/3 [00:00<00:00, 30.83it/s]\n"
          ]
        },
        {
          "output_type": "stream",
          "name": "stdout",
          "text": [
            "\n",
            "Epoch   158\n",
            "Train_cost  = 6.1242 | Test_cost  = 5.7358 | \n"
          ]
        },
        {
          "output_type": "stream",
          "name": "stderr",
          "text": [
            "Train: 100%|██████████| 7/7 [00:00<00:00, 31.26it/s]\n",
            "Test: 100%|██████████| 3/3 [00:00<00:00, 37.34it/s]\n"
          ]
        },
        {
          "output_type": "stream",
          "name": "stdout",
          "text": [
            "\n",
            "Epoch   159\n",
            "Train_cost  = 6.1182 | Test_cost  = 5.7315 | \n"
          ]
        },
        {
          "output_type": "stream",
          "name": "stderr",
          "text": [
            "Train: 100%|██████████| 7/7 [00:00<00:00, 31.71it/s]\n",
            "Test: 100%|██████████| 3/3 [00:00<00:00, 36.20it/s]\n"
          ]
        },
        {
          "output_type": "stream",
          "name": "stdout",
          "text": [
            "\n",
            "Epoch   160\n",
            "Train_cost  = 6.1121 | Test_cost  = 5.7275 | \n"
          ]
        },
        {
          "output_type": "display_data",
          "data": {
            "text/plain": [
              "<Figure size 576x360 with 1 Axes>"
            ],
            "image/png": "[encoded data removed]"
          },
          "metadata": {
            "needs_background": "light"
          }
        },
        {
          "output_type": "stream",
          "name": "stderr",
          "text": [
            "Train: 100%|██████████| 7/7 [00:00<00:00, 33.14it/s]\n",
            "Test: 100%|██████████| 3/3 [00:00<00:00, 35.20it/s]\n"
          ]
        },
        {
          "output_type": "stream",
          "name": "stdout",
          "text": [
            "\n",
            "Epoch   161\n",
            "Train_cost  = 6.1060 | Test_cost  = 5.7239 | \n"
          ]
        },
        {
          "output_type": "stream",
          "name": "stderr",
          "text": [
            "Train: 100%|██████████| 7/7 [00:00<00:00, 31.52it/s]\n",
            "Test: 100%|██████████| 3/3 [00:00<00:00, 33.87it/s]\n"
          ]
        },
        {
          "output_type": "stream",
          "name": "stdout",
          "text": [
            "\n",
            "Epoch   162\n",
            "Train_cost  = 6.0999 | Test_cost  = 5.7205 | \n"
          ]
        },
        {
          "output_type": "stream",
          "name": "stderr",
          "text": [
            "Train: 100%|██████████| 7/7 [00:00<00:00,  8.51it/s]\n",
            "Test: 100%|██████████| 3/3 [00:00<00:00, 32.14it/s]\n"
          ]
        },
        {
          "output_type": "stream",
          "name": "stdout",
          "text": [
            "\n",
            "Epoch   163\n",
            "Train_cost  = 6.0941 | Test_cost  = 5.7171 | \n"
          ]
        },
        {
          "output_type": "stream",
          "name": "stderr",
          "text": [
            "Train: 100%|██████████| 7/7 [00:00<00:00, 31.18it/s]\n",
            "Test: 100%|██████████| 3/3 [00:00<00:00, 33.05it/s]\n"
          ]
        },
        {
          "output_type": "stream",
          "name": "stdout",
          "text": [
            "\n",
            "Epoch   164\n",
            "Train_cost  = 6.0883 | Test_cost  = 5.7137 | \n"
          ]
        },
        {
          "output_type": "stream",
          "name": "stderr",
          "text": [
            "Train: 100%|██████████| 7/7 [00:00<00:00, 29.14it/s]\n",
            "Test: 100%|██████████| 3/3 [00:00<00:00, 34.63it/s]\n"
          ]
        },
        {
          "output_type": "stream",
          "name": "stdout",
          "text": [
            "\n",
            "Epoch   165\n",
            "Train_cost  = 6.0827 | Test_cost  = 5.7103 | \n"
          ]
        },
        {
          "output_type": "stream",
          "name": "stderr",
          "text": [
            "Train: 100%|██████████| 7/7 [00:00<00:00, 29.09it/s]\n",
            "Test: 100%|██████████| 3/3 [00:00<00:00, 34.74it/s]\n"
          ]
        },
        {
          "output_type": "stream",
          "name": "stdout",
          "text": [
            "\n",
            "Epoch   166\n",
            "Train_cost  = 6.0772 | Test_cost  = 5.7069 | \n"
          ]
        },
        {
          "output_type": "stream",
          "name": "stderr",
          "text": [
            "Train: 100%|██████████| 7/7 [00:00<00:00, 30.51it/s]\n",
            "Test: 100%|██████████| 3/3 [00:00<00:00, 34.93it/s]\n"
          ]
        },
        {
          "output_type": "stream",
          "name": "stdout",
          "text": [
            "\n",
            "Epoch   167\n",
            "Train_cost  = 6.0717 | Test_cost  = 5.7035 | \n"
          ]
        },
        {
          "output_type": "stream",
          "name": "stderr",
          "text": [
            "Train: 100%|██████████| 7/7 [00:00<00:00, 27.81it/s]\n",
            "Test: 100%|██████████| 3/3 [00:00<00:00, 33.54it/s]\n"
          ]
        },
        {
          "output_type": "stream",
          "name": "stdout",
          "text": [
            "\n",
            "Epoch   168\n",
            "Train_cost  = 6.0662 | Test_cost  = 5.7002 | \n"
          ]
        },
        {
          "output_type": "stream",
          "name": "stderr",
          "text": [
            "Train: 100%|██████████| 7/7 [00:00<00:00, 33.17it/s]\n",
            "Test: 100%|██████████| 3/3 [00:00<00:00, 32.61it/s]\n"
          ]
        },
        {
          "output_type": "stream",
          "name": "stdout",
          "text": [
            "\n",
            "Epoch   169\n",
            "Train_cost  = 6.0608 | Test_cost  = 5.6970 | \n"
          ]
        },
        {
          "output_type": "stream",
          "name": "stderr",
          "text": [
            "Train: 100%|██████████| 7/7 [00:00<00:00, 31.69it/s]\n",
            "Test: 100%|██████████| 3/3 [00:00<00:00, 28.13it/s]\n"
          ]
        },
        {
          "output_type": "stream",
          "name": "stdout",
          "text": [
            "\n",
            "Epoch   170\n",
            "Train_cost  = 6.0553 | Test_cost  = 5.6938 | \n"
          ]
        },
        {
          "output_type": "stream",
          "name": "stderr",
          "text": [
            "Train: 100%|██████████| 7/7 [00:00<00:00, 30.41it/s]\n",
            "Test: 100%|██████████| 3/3 [00:00<00:00, 36.47it/s]\n"
          ]
        },
        {
          "output_type": "stream",
          "name": "stdout",
          "text": [
            "\n",
            "Epoch   171\n",
            "Train_cost  = 6.0499 | Test_cost  = 5.6907 | \n"
          ]
        },
        {
          "output_type": "stream",
          "name": "stderr",
          "text": [
            "Train: 100%|██████████| 7/7 [00:00<00:00, 29.91it/s]\n",
            "Test: 100%|██████████| 3/3 [00:00<00:00, 31.25it/s]\n"
          ]
        },
        {
          "output_type": "stream",
          "name": "stdout",
          "text": [
            "\n",
            "Epoch   172\n",
            "Train_cost  = 6.0446 | Test_cost  = 5.6876 | \n"
          ]
        },
        {
          "output_type": "stream",
          "name": "stderr",
          "text": [
            "Train: 100%|██████████| 7/7 [00:00<00:00, 31.26it/s]\n",
            "Test: 100%|██████████| 3/3 [00:00<00:00, 30.73it/s]\n"
          ]
        },
        {
          "output_type": "stream",
          "name": "stdout",
          "text": [
            "\n",
            "Epoch   173\n",
            "Train_cost  = 6.0393 | Test_cost  = 5.6845 | \n"
          ]
        },
        {
          "output_type": "stream",
          "name": "stderr",
          "text": [
            "Train: 100%|██████████| 7/7 [00:00<00:00, 28.77it/s]\n",
            "Test: 100%|██████████| 3/3 [00:00<00:00, 37.17it/s]\n"
          ]
        },
        {
          "output_type": "stream",
          "name": "stdout",
          "text": [
            "\n",
            "Epoch   174\n",
            "Train_cost  = 6.0340 | Test_cost  = 5.6815 | \n"
          ]
        },
        {
          "output_type": "stream",
          "name": "stderr",
          "text": [
            "Train: 100%|██████████| 7/7 [00:00<00:00, 30.90it/s]\n",
            "Test: 100%|██████████| 3/3 [00:00<00:00, 31.22it/s]\n"
          ]
        },
        {
          "output_type": "stream",
          "name": "stdout",
          "text": [
            "\n",
            "Epoch   175\n",
            "Train_cost  = 6.0287 | Test_cost  = 5.6786 | \n"
          ]
        },
        {
          "output_type": "stream",
          "name": "stderr",
          "text": [
            "Train: 100%|██████████| 7/7 [00:00<00:00, 30.00it/s]\n",
            "Test: 100%|██████████| 3/3 [00:00<00:00, 31.22it/s]\n"
          ]
        },
        {
          "output_type": "stream",
          "name": "stdout",
          "text": [
            "\n",
            "Epoch   176\n",
            "Train_cost  = 6.0234 | Test_cost  = 5.6758 | \n"
          ]
        },
        {
          "output_type": "stream",
          "name": "stderr",
          "text": [
            "Train: 100%|██████████| 7/7 [00:00<00:00, 30.64it/s]\n",
            "Test: 100%|██████████| 3/3 [00:00<00:00, 37.47it/s]\n"
          ]
        },
        {
          "output_type": "stream",
          "name": "stdout",
          "text": [
            "\n",
            "Epoch   177\n",
            "Train_cost  = 6.0181 | Test_cost  = 5.6730 | \n"
          ]
        },
        {
          "output_type": "stream",
          "name": "stderr",
          "text": [
            "Train: 100%|██████████| 7/7 [00:00<00:00, 29.44it/s]\n",
            "Test: 100%|██████████| 3/3 [00:00<00:00, 32.86it/s]\n"
          ]
        },
        {
          "output_type": "stream",
          "name": "stdout",
          "text": [
            "\n",
            "Epoch   178\n",
            "Train_cost  = 6.0128 | Test_cost  = 5.6703 | \n"
          ]
        },
        {
          "output_type": "stream",
          "name": "stderr",
          "text": [
            "Train: 100%|██████████| 7/7 [00:00<00:00, 30.15it/s]\n",
            "Test: 100%|██████████| 3/3 [00:00<00:00, 31.06it/s]\n"
          ]
        },
        {
          "output_type": "stream",
          "name": "stdout",
          "text": [
            "\n",
            "Epoch   179\n",
            "Train_cost  = 6.0075 | Test_cost  = 5.6677 | \n"
          ]
        },
        {
          "output_type": "stream",
          "name": "stderr",
          "text": [
            "Train: 100%|██████████| 7/7 [00:00<00:00, 30.88it/s]\n",
            "Test: 100%|██████████| 3/3 [00:00<00:00, 33.04it/s]\n"
          ]
        },
        {
          "output_type": "stream",
          "name": "stdout",
          "text": [
            "\n",
            "Epoch   180\n",
            "Train_cost  = 6.0022 | Test_cost  = 5.6652 | \n"
          ]
        },
        {
          "output_type": "display_data",
          "data": {
            "text/plain": [
              "<Figure size 576x360 with 1 Axes>"
            ],
            "image/png": "[encoded data removed]"
          },
          "metadata": {
            "needs_background": "light"
          }
        },
        {
          "output_type": "stream",
          "name": "stderr",
          "text": [
            "Train: 100%|██████████| 7/7 [00:00<00:00, 31.40it/s]\n",
            "Test: 100%|██████████| 3/3 [00:00<00:00, 31.95it/s]\n"
          ]
        },
        {
          "output_type": "stream",
          "name": "stdout",
          "text": [
            "\n",
            "Epoch   181\n",
            "Train_cost  = 5.9969 | Test_cost  = 5.6628 | \n"
          ]
        },
        {
          "output_type": "stream",
          "name": "stderr",
          "text": [
            "Train: 100%|██████████| 7/7 [00:00<00:00, 29.99it/s]\n",
            "Test: 100%|██████████| 3/3 [00:00<00:00, 35.31it/s]\n"
          ]
        },
        {
          "output_type": "stream",
          "name": "stdout",
          "text": [
            "\n",
            "Epoch   182\n",
            "Train_cost  = 5.9915 | Test_cost  = 5.6605 | \n"
          ]
        },
        {
          "output_type": "stream",
          "name": "stderr",
          "text": [
            "Train: 100%|██████████| 7/7 [00:00<00:00, 31.62it/s]\n",
            "Test: 100%|██████████| 3/3 [00:00<00:00, 33.82it/s]\n"
          ]
        },
        {
          "output_type": "stream",
          "name": "stdout",
          "text": [
            "\n",
            "Epoch   183\n",
            "Train_cost  = 5.9862 | Test_cost  = 5.6584 | \n"
          ]
        },
        {
          "output_type": "stream",
          "name": "stderr",
          "text": [
            "Train: 100%|██████████| 7/7 [00:00<00:00, 31.91it/s]\n",
            "Test: 100%|██████████| 3/3 [00:00<00:00, 32.59it/s]\n"
          ]
        },
        {
          "output_type": "stream",
          "name": "stdout",
          "text": [
            "\n",
            "Epoch   184\n",
            "Train_cost  = 5.9808 | Test_cost  = 5.6564 | \n"
          ]
        },
        {
          "output_type": "stream",
          "name": "stderr",
          "text": [
            "Train: 100%|██████████| 7/7 [00:00<00:00, 29.08it/s]\n",
            "Test: 100%|██████████| 3/3 [00:00<00:00, 33.87it/s]\n"
          ]
        },
        {
          "output_type": "stream",
          "name": "stdout",
          "text": [
            "\n",
            "Epoch   185\n",
            "Train_cost  = 5.9753 | Test_cost  = 5.6545 | \n"
          ]
        },
        {
          "output_type": "stream",
          "name": "stderr",
          "text": [
            "Train: 100%|██████████| 7/7 [00:00<00:00, 29.01it/s]\n",
            "Test: 100%|██████████| 3/3 [00:00<00:00, 34.13it/s]\n"
          ]
        },
        {
          "output_type": "stream",
          "name": "stdout",
          "text": [
            "\n",
            "Epoch   186\n",
            "Train_cost  = 5.9698 | Test_cost  = 5.6527 | \n"
          ]
        },
        {
          "output_type": "stream",
          "name": "stderr",
          "text": [
            "Train: 100%|██████████| 7/7 [00:00<00:00, 28.03it/s]\n",
            "Test: 100%|██████████| 3/3 [00:00<00:00, 33.40it/s]\n"
          ]
        },
        {
          "output_type": "stream",
          "name": "stdout",
          "text": [
            "\n",
            "Epoch   187\n",
            "Train_cost  = 5.9643 | Test_cost  = 5.6511 | \n"
          ]
        },
        {
          "output_type": "stream",
          "name": "stderr",
          "text": [
            "Train: 100%|██████████| 7/7 [00:00<00:00, 31.18it/s]\n",
            "Test: 100%|██████████| 3/3 [00:00<00:00, 29.09it/s]\n"
          ]
        },
        {
          "output_type": "stream",
          "name": "stdout",
          "text": [
            "\n",
            "Epoch   188\n",
            "Train_cost  = 5.9587 | Test_cost  = 5.6496 | \n"
          ]
        },
        {
          "output_type": "stream",
          "name": "stderr",
          "text": [
            "Train: 100%|██████████| 7/7 [00:00<00:00, 30.44it/s]\n",
            "Test: 100%|██████████| 3/3 [00:00<00:00, 33.99it/s]\n"
          ]
        },
        {
          "output_type": "stream",
          "name": "stdout",
          "text": [
            "\n",
            "Epoch   189\n",
            "Train_cost  = 5.9530 | Test_cost  = 5.6483 | \n"
          ]
        },
        {
          "output_type": "stream",
          "name": "stderr",
          "text": [
            "Train: 100%|██████████| 7/7 [00:00<00:00, 28.85it/s]\n",
            "Test: 100%|██████████| 3/3 [00:00<00:00, 32.79it/s]\n"
          ]
        },
        {
          "output_type": "stream",
          "name": "stdout",
          "text": [
            "\n",
            "Epoch   190\n",
            "Train_cost  = 5.9473 | Test_cost  = 5.6471 | \n"
          ]
        },
        {
          "output_type": "stream",
          "name": "stderr",
          "text": [
            "Train: 100%|██████████| 7/7 [00:00<00:00, 29.55it/s]\n",
            "Test: 100%|██████████| 3/3 [00:00<00:00, 33.53it/s]\n"
          ]
        },
        {
          "output_type": "stream",
          "name": "stdout",
          "text": [
            "\n",
            "Epoch   191\n",
            "Train_cost  = 5.9416 | Test_cost  = 5.6461 | \n"
          ]
        },
        {
          "output_type": "stream",
          "name": "stderr",
          "text": [
            "Train: 100%|██████████| 7/7 [00:00<00:00, 30.33it/s]\n",
            "Test: 100%|██████████| 3/3 [00:00<00:00, 35.60it/s]\n"
          ]
        },
        {
          "output_type": "stream",
          "name": "stdout",
          "text": [
            "\n",
            "Epoch   192\n",
            "Train_cost  = 5.9357 | Test_cost  = 5.6452 | \n"
          ]
        },
        {
          "output_type": "stream",
          "name": "stderr",
          "text": [
            "Train: 100%|██████████| 7/7 [00:00<00:00, 27.93it/s]\n",
            "Test: 100%|██████████| 3/3 [00:00<00:00, 33.98it/s]\n"
          ]
        },
        {
          "output_type": "stream",
          "name": "stdout",
          "text": [
            "\n",
            "Epoch   193\n",
            "Train_cost  = 5.9298 | Test_cost  = 5.6445 | \n"
          ]
        },
        {
          "output_type": "stream",
          "name": "stderr",
          "text": [
            "Train: 100%|██████████| 7/7 [00:00<00:00, 31.39it/s]\n",
            "Test: 100%|██████████| 3/3 [00:00<00:00, 33.28it/s]\n"
          ]
        },
        {
          "output_type": "stream",
          "name": "stdout",
          "text": [
            "\n",
            "Epoch   194\n",
            "Train_cost  = 5.9239 | Test_cost  = 5.6440 | \n"
          ]
        },
        {
          "output_type": "stream",
          "name": "stderr",
          "text": [
            "Train: 100%|██████████| 7/7 [00:00<00:00, 32.13it/s]\n",
            "Test: 100%|██████████| 3/3 [00:00<00:00, 29.18it/s]\n"
          ]
        },
        {
          "output_type": "stream",
          "name": "stdout",
          "text": [
            "\n",
            "Epoch   195\n",
            "Train_cost  = 5.9179 | Test_cost  = 5.6437 | \n"
          ]
        },
        {
          "output_type": "stream",
          "name": "stderr",
          "text": [
            "Train: 100%|██████████| 7/7 [00:00<00:00, 28.79it/s]\n",
            "Test: 100%|██████████| 3/3 [00:00<00:00, 36.88it/s]\n"
          ]
        },
        {
          "output_type": "stream",
          "name": "stdout",
          "text": [
            "\n",
            "Epoch   196\n",
            "Train_cost  = 5.9118 | Test_cost  = 5.6436 | \n"
          ]
        },
        {
          "output_type": "stream",
          "name": "stderr",
          "text": [
            "Train: 100%|██████████| 7/7 [00:00<00:00, 31.61it/s]\n",
            "Test: 100%|██████████| 3/3 [00:00<00:00, 30.27it/s]\n"
          ]
        },
        {
          "output_type": "stream",
          "name": "stdout",
          "text": [
            "\n",
            "Epoch   197\n",
            "Train_cost  = 5.9056 | Test_cost  = 5.6437 | \n",
            "\u001b[31m==> EarlyStop patience =  1 | Best test_cost: 5.6436\u001b[0m\n"
          ]
        },
        {
          "output_type": "stream",
          "name": "stderr",
          "text": [
            "Train: 100%|██████████| 7/7 [00:00<00:00, 30.78it/s]\n",
            "Test: 100%|██████████| 3/3 [00:00<00:00, 33.25it/s]\n"
          ]
        },
        {
          "output_type": "stream",
          "name": "stdout",
          "text": [
            "\n",
            "Epoch   198\n",
            "Train_cost  = 5.8994 | Test_cost  = 5.6440 | \n",
            "\u001b[31m==> EarlyStop patience =  2 | Best test_cost: 5.6436\u001b[0m\n"
          ]
        },
        {
          "output_type": "stream",
          "name": "stderr",
          "text": [
            "Train: 100%|██████████| 7/7 [00:00<00:00, 28.67it/s]\n",
            "Test: 100%|██████████| 3/3 [00:00<00:00, 32.00it/s]\n"
          ]
        },
        {
          "output_type": "stream",
          "name": "stdout",
          "text": [
            "\n",
            "Epoch   199\n",
            "Train_cost  = 5.8931 | Test_cost  = 5.6444 | \n",
            "\u001b[31m==> EarlyStop patience =  3 | Best test_cost: 5.6436\u001b[0m\n"
          ]
        },
        {
          "output_type": "stream",
          "name": "stderr",
          "text": [
            "Train: 100%|██████████| 7/7 [00:00<00:00, 31.18it/s]\n",
            "Test: 100%|██████████| 3/3 [00:00<00:00, 31.31it/s]\n"
          ]
        },
        {
          "output_type": "stream",
          "name": "stdout",
          "text": [
            "\n",
            "Epoch   200\n",
            "Train_cost  = 5.8867 | Test_cost  = 5.6451 | \n"
          ]
        },
        {
          "output_type": "display_data",
          "data": {
            "text/plain": [
              "<Figure size 576x360 with 1 Axes>"
            ],
            "image/png": "[encoded data removed]"
          },
          "metadata": {
            "needs_background": "light"
          }
        },
        {
          "output_type": "stream",
          "name": "stdout",
          "text": [
            "\u001b[31m==> EarlyStop patience =  4 | Best test_cost: 5.6436\u001b[0m\n"
          ]
        },
        {
          "output_type": "stream",
          "name": "stderr",
          "text": [
            "Train: 100%|██████████| 7/7 [00:00<00:00, 29.19it/s]\n",
            "Test: 100%|██████████| 3/3 [00:00<00:00, 33.81it/s]\n"
          ]
        },
        {
          "output_type": "stream",
          "name": "stdout",
          "text": [
            "\n",
            "Epoch   201\n",
            "Train_cost  = 5.8803 | Test_cost  = 5.6460 | \n",
            "\u001b[31m==> EarlyStop patience =  5 | Best test_cost: 5.6436\u001b[0m\n",
            "\u001b[31m==> Execute Early Stopping at epoch: 201 | Best test_cost: 5.6436\u001b[0m\n",
            "\u001b[31m==> Best model is saved at /content/data/model/gru\u001b[0m\n"
          ]
        },
        {
          "output_type": "display_data",
          "data": {
            "text/plain": [
              "<Figure size 576x360 with 1 Axes>"
            ],
            "image/png": "[encoded data removed]"
          },
          "metadata": {
            "needs_background": "light"
          }
        }
      ],
      "source": [
        "while True:\n",
        "  train_cost = loop_fn(\"train\", train_set, train_loader, model, criterion, optimizer, device)\n",
        "  with torch.no_grad():\n",
        "    test_cost= loop_fn(\"test\", test_set, test_loader, model, criterion, optimizer, device)\n",
        "\n",
        "  #Logging\n",
        "  callback.log(train_cost, test_cost)\n",
        "\n",
        "  #Checkpoint\n",
        "  callback.save_checkpoint()\n",
        "\n",
        "  #Runtime_plotting\n",
        "  callback.cost_runtime_plotting()\n",
        "\n",
        "  #Early stopping\n",
        "  if callback.early_stopping(model, monitor=\"test_cost\"):\n",
        "        callback.plot_cost()\n",
        "        break"
      ]
    },
    {
      "cell_type": "markdown",
      "id": "voJ9Va2IGfHh",
      "metadata": {
        "id": "voJ9Va2IGfHh"
      },
      "source": [
        "## Sanity Check"
      ]
    },
    {
      "cell_type": "code",
      "execution_count": 17,
      "id": "4hRUhr6bJ1On",
      "metadata": {
        "id": "4hRUhr6bJ1On"
      },
      "outputs": [],
      "source": [
        "# utils\n",
        "def data4pred(model, dataset, dataloader, device):    \n",
        "    preds, targets = [], []\n",
        "    hidden = None\n",
        "    with torch.no_grad():\n",
        "        model.eval()\n",
        "        for inputs, target in dataloader:\n",
        "            inputs = inputs.to(device)\n",
        "            \n",
        "            output, hidden = model(inputs, hidden)\n",
        "            preds += output.flatten().tolist()\n",
        "            targets += target.flatten().tolist()\n",
        "\n",
        "    plt.plot(dataset.target_ticks, targets, 'b-', label=\"data\")\n",
        "    plt.plot(dataset.target_ticks, preds, 'r-', label=\"pred\")\n",
        "    plt.legend()    \n",
        "    \n",
        "def pred4pred(model, dataset, dataloader, device, n_prior=500, n_forecast=200):\n",
        "    preds, targets = [], []\n",
        "    hidden = None    \n",
        "    end = n_prior + n_forecast    \n",
        "    with torch.no_grad():\n",
        "        model.eval()       \n",
        "        for idx, (inputs, target) in enumerate(dataloader):\n",
        "            if idx == end:\n",
        "                break\n",
        "            elif idx > n_prior:\n",
        "                inputs[0, 0, 0] = preds[-1]\n",
        "                \n",
        "            inputs = inputs.to(device)\n",
        "            output, hidden = model(inputs, hidden)\n",
        "            \n",
        "            if idx > n_prior:\n",
        "                preds.append(output.flatten().tolist()[-1])\n",
        "            else:\n",
        "                preds += output.flatten().tolist()   \n",
        "            targets += target.flatten().tolist()\n",
        "\n",
        "    plt.plot(dataset.target_ticks[:n_prior], targets[:n_prior], 'b-', label=\"history_data\")\n",
        "    plt.plot(dataset.target_ticks[n_prior:end], targets[n_prior:], 'b-', label=\"unseen_data\", alpha=0.3)\n",
        "    plt.plot(dataset.target_ticks[:end], preds, 'r-', label=\"prediction\")\n",
        "    plt.axvline(dataset.target_ticks[n_prior], color='k', linestyle=\"--\", linewidth=1)\n",
        "    plt.legend()   "
      ]
    },
    {
      "cell_type": "code",
      "execution_count": 18,
      "id": "FnuDa5BPogRc",
      "metadata": {
        "colab": {
          "base_uri": "https://localhost:8080/"
        },
        "id": "FnuDa5BPogRc",
        "outputId": "a23cf24f-3a4c-483a-c58f-285bb3634d6b"
      },
      "outputs": [
        {
          "output_type": "stream",
          "name": "stdout",
          "text": [
            "(N, S, F): (2736, 1, 1)\n",
            "Note: last \u001b[31m0 data excluded\u001b[0m\n",
            "\n",
            "(N, S, F): (912, 1, 1)\n",
            "Note: last \u001b[31m0 data excluded\u001b[0m\n",
            "\n"
          ]
        }
      ],
      "source": [
        "train_forecast_set = TimeSeriesDataset(ts_train, \"Temp\", 1)\n",
        "trainforecastloader = DataLoader(train_forecast_set)\n",
        "test_forecast_set = TimeSeriesDataset(ts_test, \"Temp\", 1)\n",
        "testforecastloader = DataLoader(test_forecast_set)"
      ]
    },
    {
      "cell_type": "code",
      "execution_count": 19,
      "id": "vjzjhM3zpV-d",
      "metadata": {
        "colab": {
          "base_uri": "https://localhost:8080/",
          "height": 624
        },
        "id": "vjzjhM3zpV-d",
        "outputId": "079d9265-de04-4082-8519-cce6884670a7"
      },
      "outputs": [
        {
          "output_type": "execute_result",
          "data": {
            "text/plain": [
              "Text(0.5, 1.0, 'Test')"
            ]
          },
          "metadata": {},
          "execution_count": 19
        },
        {
          "output_type": "display_data",
          "data": {
            "text/plain": [
              "<Figure size 1080x720 with 2 Axes>"
            ],
            "image/png": "[encoded data removed]"
          },
          "metadata": {
            "needs_background": "light"
          }
        }
      ],
      "source": [
        "# Data 4 Pred\n",
        "plt.figure(figsize=(15, 10))\n",
        "\n",
        "plt.subplot(211)\n",
        "data4pred(model, train_forecast_set, trainforecastloader, device)\n",
        "plt.title(\"Train\")\n",
        "\n",
        "plt.subplot(212)\n",
        "data4pred(model, test_forecast_set, testforecastloader, device)\n",
        "plt.title(\"Test\")"
      ]
    },
    {
      "cell_type": "code",
      "execution_count": 20,
      "id": "a9BoJS-Spu-o",
      "metadata": {
        "colab": {
          "base_uri": "https://localhost:8080/",
          "height": 353
        },
        "id": "a9BoJS-Spu-o",
        "outputId": "b3264a96-05ba-4672-ceea-edf31e089001"
      },
      "outputs": [
        {
          "output_type": "execute_result",
          "data": {
            "text/plain": [
              "Text(0.5, 1.0, 'test')"
            ]
          },
          "metadata": {},
          "execution_count": 20
        },
        {
          "output_type": "display_data",
          "data": {
            "text/plain": [
              "<Figure size 1080x360 with 1 Axes>"
            ],
            "image/png": "[encoded data removed]"
          },
          "metadata": {
            "needs_background": "light"
          }
        }
      ],
      "source": [
        "# Pred 4 Pred\n",
        "plt.figure(figsize=(15, 5))\n",
        "pred4pred(model, test_forecast_set, testforecastloader, device)\n",
        "plt.title(\"test\")"
      ]
    }
  ],
  "metadata": {
    "colab": {
      "provenance": [],
      "include_colab_link": true
    },
    "gpuClass": "standard",
    "kernelspec": {
      "display_name": "Python 3",
      "name": "python3"
    },
    "language_info": {
      "name": "python"
    }
  },
  "nbformat": 4,
  "nbformat_minor": 5
}