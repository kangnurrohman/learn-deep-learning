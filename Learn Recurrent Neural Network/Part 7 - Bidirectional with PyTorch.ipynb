{
  "cells": [
    {
      "cell_type": "markdown",
      "metadata": {
        "id": "view-in-github",
        "colab_type": "text"
      },
      "source": [
        "<a href=\"https://colab.research.google.com/github/kangnurrohman/belajar-recurrent-neural-network/blob/main/materi/Part%207%20-%20Bidirectional%20with%20PyTorch.ipynb\" target=\"_parent\"><img src=\"https://colab.research.google.com/assets/colab-badge.svg\" alt=\"Open In Colab\"/></a>"
      ]
    },
    {
      "cell_type": "code",
      "execution_count": 1,
      "id": "9W0vQINNS8Ds",
      "metadata": {
        "colab": {
          "base_uri": "https://localhost:8080/"
        },
        "id": "9W0vQINNS8Ds",
        "outputId": "00c1cdfa-f5bb-4ce2-9770-f8f12b244905"
      },
      "outputs": [
        {
          "output_type": "stream",
          "name": "stdout",
          "text": [
            "Mounted at /content/drive\n"
          ]
        }
      ],
      "source": [
        "from google.colab import drive\n",
        "drive.mount('/content/drive')"
      ]
    },
    {
      "cell_type": "code",
      "execution_count": null,
      "id": "Ydw3MUFdYj-L",
      "metadata": {
        "id": "Ydw3MUFdYj-L"
      },
      "outputs": [],
      "source": [
        "pip install jcopdl luwiji"
      ]
    },
    {
      "cell_type": "code",
      "execution_count": 3,
      "id": "C0fhFftrS8jU",
      "metadata": {
        "id": "C0fhFftrS8jU"
      },
      "outputs": [],
      "source": [
        "import zipfile\n",
        "zip_ref = zipfile.ZipFile(\"/content/drive/MyDrive/Colab Notebooks/data/data 4.zip\", 'r')\n",
        "zip_ref.extractall(\"data\")\n",
        "zip_ref.close()"
      ]
    },
    {
      "cell_type": "code",
      "execution_count": 4,
      "id": "XvtCR5eeTAtF",
      "metadata": {
        "id": "XvtCR5eeTAtF"
      },
      "outputs": [],
      "source": [
        "import numpy as np\n",
        "import pandas as pd\n",
        "import matplotlib.pyplot as plt\n",
        "\n",
        "from sklearn.model_selection import train_test_split"
      ]
    },
    {
      "cell_type": "code",
      "execution_count": 5,
      "id": "LDhxJzLf7KGi",
      "metadata": {
        "colab": {
          "base_uri": "https://localhost:8080/"
        },
        "id": "LDhxJzLf7KGi",
        "outputId": "26db0b78-1289-40d7-db4f-8eecdc7d863c"
      },
      "outputs": [
        {
          "output_type": "execute_result",
          "data": {
            "text/plain": [
              "device(type='cpu')"
            ]
          },
          "metadata": {},
          "execution_count": 5
        }
      ],
      "source": [
        "import torch\n",
        "from torch import nn, optim\n",
        "from jcopdl.callback import Callback, set_config\n",
        "\n",
        "device = torch.device(\"cuda\" if torch.cuda.is_available() else \"cpu\")\n",
        "device"
      ]
    },
    {
      "cell_type": "markdown",
      "id": "fMElUhUqTh0W",
      "metadata": {
        "id": "fMElUhUqTh0W"
      },
      "source": [
        "## Import Data"
      ]
    },
    {
      "cell_type": "code",
      "execution_count": 6,
      "id": "I5ZMcb1iTjQ5",
      "metadata": {
        "colab": {
          "base_uri": "https://localhost:8080/",
          "height": 237
        },
        "id": "I5ZMcb1iTjQ5",
        "outputId": "a048940a-2259-49d0-c1da-354e211d799c"
      },
      "outputs": [
        {
          "output_type": "execute_result",
          "data": {
            "text/plain": [
              "            Temp\n",
              "Date            \n",
              "1981-01-01  20.7\n",
              "1981-01-02  17.9\n",
              "1981-01-03  18.8\n",
              "1981-01-04  14.6\n",
              "1981-01-05  15.8"
            ],
            "text/html": [
              "\n",
              "  <div id=\"df-0d6731b5-084a-46ae-9dbe-1fb7e64276cc\">\n",
              "    <div class=\"colab-df-container\">\n",
              "      <div>\n",
              "<style scoped>\n",
              "    .dataframe tbody tr th:only-of-type {\n",
              "        vertical-align: middle;\n",
              "    }\n",
              "\n",
              "    .dataframe tbody tr th {\n",
              "        vertical-align: top;\n",
              "    }\n",
              "\n",
              "    .dataframe thead th {\n",
              "        text-align: right;\n",
              "    }\n",
              "</style>\n",
              "<table border=\"1\" class=\"dataframe\">\n",
              "  <thead>\n",
              "    <tr style=\"text-align: right;\">\n",
              "      <th></th>\n",
              "      <th>Temp</th>\n",
              "    </tr>\n",
              "    <tr>\n",
              "      <th>Date</th>\n",
              "      <th></th>\n",
              "    </tr>\n",
              "  </thead>\n",
              "  <tbody>\n",
              "    <tr>\n",
              "      <th>1981-01-01</th>\n",
              "      <td>20.7</td>\n",
              "    </tr>\n",
              "    <tr>\n",
              "      <th>1981-01-02</th>\n",
              "      <td>17.9</td>\n",
              "    </tr>\n",
              "    <tr>\n",
              "      <th>1981-01-03</th>\n",
              "      <td>18.8</td>\n",
              "    </tr>\n",
              "    <tr>\n",
              "      <th>1981-01-04</th>\n",
              "      <td>14.6</td>\n",
              "    </tr>\n",
              "    <tr>\n",
              "      <th>1981-01-05</th>\n",
              "      <td>15.8</td>\n",
              "    </tr>\n",
              "  </tbody>\n",
              "</table>\n",
              "</div>\n",
              "      <button class=\"colab-df-convert\" onclick=\"convertToInteractive('df-0d6731b5-084a-46ae-9dbe-1fb7e64276cc')\"\n",
              "              title=\"Convert this dataframe to an interactive table.\"\n",
              "              style=\"display:none;\">\n",
              "        \n",
              "  <svg xmlns=\"http://www.w3.org/2000/svg\" height=\"24px\"viewBox=\"0 0 24 24\"\n",
              "       width=\"24px\">\n",
              "    <path d=\"M0 0h24v24H0V0z\" fill=\"none\"/>\n",
              "    <path d=\"M18.56 5.44l.94 2.06.94-2.06 2.06-.94-2.06-.94-.94-2.06-.94 2.06-2.06.94zm-11 1L8.5 8.5l.94-2.06 2.06-.94-2.06-.94L8.5 2.5l-.94 2.06-2.06.94zm10 10l.94 2.06.94-2.06 2.06-.94-2.06-.94-.94-2.06-.94 2.06-2.06.94z\"/><path d=\"M17.41 7.96l-1.37-1.37c-.4-.4-.92-.59-1.43-.59-.52 0-1.04.2-1.43.59L10.3 9.45l-7.72 7.72c-.78.78-.78 2.05 0 2.83L4 21.41c.39.39.9.59 1.41.59.51 0 1.02-.2 1.41-.59l7.78-7.78 2.81-2.81c.8-.78.8-2.07 0-2.86zM5.41 20L4 18.59l7.72-7.72 1.47 1.35L5.41 20z\"/>\n",
              "  </svg>\n",
              "      </button>\n",
              "      \n",
              "  <style>\n",
              "    .colab-df-container {\n",
              "      display:flex;\n",
              "      flex-wrap:wrap;\n",
              "      gap: 12px;\n",
              "    }\n",
              "\n",
              "    .colab-df-convert {\n",
              "      background-color: #E8F0FE;\n",
              "      border: none;\n",
              "      border-radius: 50%;\n",
              "      cursor: pointer;\n",
              "      display: none;\n",
              "      fill: #1967D2;\n",
              "      height: 32px;\n",
              "      padding: 0 0 0 0;\n",
              "      width: 32px;\n",
              "    }\n",
              "\n",
              "    .colab-df-convert:hover {\n",
              "      background-color: #E2EBFA;\n",
              "      box-shadow: 0px 1px 2px rgba(60, 64, 67, 0.3), 0px 1px 3px 1px rgba(60, 64, 67, 0.15);\n",
              "      fill: #174EA6;\n",
              "    }\n",
              "\n",
              "    [theme=dark] .colab-df-convert {\n",
              "      background-color: #3B4455;\n",
              "      fill: #D2E3FC;\n",
              "    }\n",
              "\n",
              "    [theme=dark] .colab-df-convert:hover {\n",
              "      background-color: #434B5C;\n",
              "      box-shadow: 0px 1px 3px 1px rgba(0, 0, 0, 0.15);\n",
              "      filter: drop-shadow(0px 1px 2px rgba(0, 0, 0, 0.3));\n",
              "      fill: #FFFFFF;\n",
              "    }\n",
              "  </style>\n",
              "\n",
              "      <script>\n",
              "        const buttonEl =\n",
              "          document.querySelector('#df-0d6731b5-084a-46ae-9dbe-1fb7e64276cc button.colab-df-convert');\n",
              "        buttonEl.style.display =\n",
              "          google.colab.kernel.accessAllowed ? 'block' : 'none';\n",
              "\n",
              "        async function convertToInteractive(key) {\n",
              "          const element = document.querySelector('#df-0d6731b5-084a-46ae-9dbe-1fb7e64276cc');\n",
              "          const dataTable =\n",
              "            await google.colab.kernel.invokeFunction('convertToInteractive',\n",
              "                                                     [key], {});\n",
              "          if (!dataTable) return;\n",
              "\n",
              "          const docLinkHtml = 'Like what you see? Visit the ' +\n",
              "            '<a target=\"_blank\" href=https://colab.research.google.com/notebooks/data_table.ipynb>data table notebook</a>'\n",
              "            + ' to learn more about interactive tables.';\n",
              "          element.innerHTML = '';\n",
              "          dataTable['output_type'] = 'display_data';\n",
              "          await google.colab.output.renderOutput(dataTable, element);\n",
              "          const docLink = document.createElement('div');\n",
              "          docLink.innerHTML = docLinkHtml;\n",
              "          element.appendChild(docLink);\n",
              "        }\n",
              "      </script>\n",
              "    </div>\n",
              "  </div>\n",
              "  "
            ]
          },
          "metadata": {},
          "execution_count": 6
        }
      ],
      "source": [
        "df = pd.read_csv(\"/content/data/daily_min_temp.csv\", index_col=\"Date\", parse_dates=[\"Date\"])\n",
        "df.head()"
      ]
    },
    {
      "cell_type": "code",
      "execution_count": 7,
      "id": "rGGOSYlTUQCG",
      "metadata": {
        "colab": {
          "base_uri": "https://localhost:8080/",
          "height": 384
        },
        "id": "rGGOSYlTUQCG",
        "outputId": "a0dab732-6b66-4c43-8ea0-8cab3e8596ac"
      },
      "outputs": [
        {
          "output_type": "execute_result",
          "data": {
            "text/plain": [
              "<matplotlib.axes._subplots.AxesSubplot at 0x7f2604555f50>"
            ]
          },
          "metadata": {},
          "execution_count": 7
        },
        {
          "output_type": "display_data",
          "data": {
            "text/plain": [
              "<Figure size 1080x432 with 1 Axes>"
            ],
            "image/png": "[encoded data removed]"
          },
          "metadata": {
            "needs_background": "light"
          }
        }
      ],
      "source": [
        "df.Temp.plot(figsize=(15, 6), color='red')"
      ]
    },
    {
      "cell_type": "markdown",
      "id": "h5dIwcCeUxrf",
      "metadata": {
        "id": "h5dIwcCeUxrf"
      },
      "source": [
        "## Dataset Spliting"
      ]
    },
    {
      "cell_type": "code",
      "execution_count": 8,
      "id": "-mBi2WmTU0Eo",
      "metadata": {
        "colab": {
          "base_uri": "https://localhost:8080/"
        },
        "id": "-mBi2WmTU0Eo",
        "outputId": "34925ab0-a170-4416-bdbf-f4fc311f00a6"
      },
      "outputs": [
        {
          "output_type": "execute_result",
          "data": {
            "text/plain": [
              "((2737, 1), (913, 1))"
            ]
          },
          "metadata": {},
          "execution_count": 8
        }
      ],
      "source": [
        "ts_train, ts_test = train_test_split(df, shuffle=False)\n",
        "ts_train.shape, ts_test.shape"
      ]
    },
    {
      "cell_type": "markdown",
      "id": "Td0ZcWT1YpFu",
      "metadata": {
        "id": "Td0ZcWT1YpFu"
      },
      "source": [
        "## Dataset & Dataloader"
      ]
    },
    {
      "cell_type": "code",
      "execution_count": 9,
      "id": "BZl-nJQuYrXD",
      "metadata": {
        "id": "BZl-nJQuYrXD"
      },
      "outputs": [],
      "source": [
        "from jcopdl.utils import TimeSeriesDataset\n",
        "from torch.utils.data import DataLoader"
      ]
    },
    {
      "cell_type": "code",
      "execution_count": 10,
      "id": "yfpE2GPXY7hQ",
      "metadata": {
        "colab": {
          "base_uri": "https://localhost:8080/"
        },
        "id": "yfpE2GPXY7hQ",
        "outputId": "4c57c7d0-a07a-48c8-85fa-46fe99c0ecf2"
      },
      "outputs": [
        {
          "output_type": "stream",
          "name": "stdout",
          "text": [
            "(N, S, F): (195, 14, 1)\n",
            "Note: last \u001b[31m6 data excluded\u001b[0m\n",
            "\n",
            "(N, S, F): (65, 14, 1)\n",
            "Note: last \u001b[31m2 data excluded\u001b[0m\n",
            "\n"
          ]
        }
      ],
      "source": [
        "seq_len = 14\n",
        "bs = 32\n",
        "\n",
        "train_set = TimeSeriesDataset(ts_train, \"Temp\", seq_len)\n",
        "train_loader = DataLoader(train_set, batch_size=bs, num_workers=2)\n",
        "\n",
        "test_set = TimeSeriesDataset(ts_test, \"Temp\", seq_len)\n",
        "test_loader = DataLoader(test_set, batch_size=bs, num_workers=2)"
      ]
    },
    {
      "cell_type": "markdown",
      "id": "BhoAeI0B3Mo5",
      "metadata": {
        "id": "BhoAeI0B3Mo5"
      },
      "source": [
        "## Arsitektur & Config"
      ]
    },
    {
      "cell_type": "code",
      "execution_count": 11,
      "id": "A8yfxltJ3NaL",
      "metadata": {
        "id": "A8yfxltJ3NaL"
      },
      "outputs": [],
      "source": [
        "class BiLSTM(nn.Module):\n",
        "  def __init__(self, input_size, output_size, hidden_size, num_layers, dropout):\n",
        "    super().__init__()\n",
        "    self.lstm = nn.LSTM(input_size, hidden_size, num_layers, dropout=dropout, batch_first=True, bidirectional=True)\n",
        "    self.fc = nn.Linear(2*hidden_size, output_size)\n",
        "\n",
        "  def forward(self, x, hidden):\n",
        "    x, hidden = self.lstm(x, hidden)\n",
        "    x = self.fc(x)\n",
        "    return x, hidden"
      ]
    },
    {
      "cell_type": "code",
      "execution_count": 12,
      "id": "MP0jR2TkQ-ZJ",
      "metadata": {
        "id": "MP0jR2TkQ-ZJ"
      },
      "outputs": [],
      "source": [
        "config = set_config({\n",
        "    \"input_size\": train_set.n_feature,\n",
        "    \"seq_len\": train_set.n_seq,\n",
        "    \"output_size\": 1,\n",
        "    \"hidden_size\":64,\n",
        "    \"num_layers\": 2,\n",
        "    \"dropout\":0\n",
        "})"
      ]
    },
    {
      "cell_type": "markdown",
      "id": "LkmJLGIpViUd",
      "metadata": {
        "id": "LkmJLGIpViUd"
      },
      "source": [
        "## Training Preparation -> MCOC"
      ]
    },
    {
      "cell_type": "code",
      "execution_count": 13,
      "id": "KV3jIEVpSJa-",
      "metadata": {
        "id": "KV3jIEVpSJa-"
      },
      "outputs": [],
      "source": [
        "model = BiLSTM(config.input_size, config.output_size, config.hidden_size, config.num_layers, config.dropout).to(device)\n",
        "criterion = nn.MSELoss(reduction=\"mean\")\n",
        "optimizer = optim.AdamW(model.parameters(), lr=0.0005)\n",
        "callback = Callback(model, config, outdir='/content/data/model/bilstm')"
      ]
    },
    {
      "cell_type": "markdown",
      "id": "WA55OK3MeG_u",
      "metadata": {
        "id": "WA55OK3MeG_u"
      },
      "source": [
        "## Training"
      ]
    },
    {
      "cell_type": "code",
      "execution_count": 14,
      "id": "Ak0uo89seHt4",
      "metadata": {
        "id": "Ak0uo89seHt4"
      },
      "outputs": [],
      "source": [
        "from tqdm import tqdm\n",
        "\n",
        "def loop_fn(mode, dataset, dataloader, model, criterion, optimizer, device):\n",
        "  if mode == 'train':\n",
        "    model.train()\n",
        "  elif mode == 'test':\n",
        "    model.eval()\n",
        "  cost = 0\n",
        "  for feature, target in tqdm(dataloader, desc=mode.title()):\n",
        "    feature, target = feature.to(device), target.to(device)\n",
        "    output, hidden = model(feature, None)\n",
        "    loss = criterion(output, target)\n",
        "\n",
        "    if mode == 'train':\n",
        "      loss.backward()\n",
        "      optimizer.step()\n",
        "      optimizer.zero_grad()\n",
        "\n",
        "    cost += loss.item() * feature.shape[0]\n",
        "  cost = cost / len(dataset)\n",
        "  return cost"
      ]
    },
    {
      "cell_type": "code",
      "execution_count": 15,
      "id": "iATDgvxOfaT2",
      "metadata": {
        "colab": {
          "base_uri": "https://localhost:8080/",
          "height": 1000
        },
        "id": "iATDgvxOfaT2",
        "outputId": "72284bf5-0eae-4917-88f8-6c97b02a4d85"
      },
      "outputs": [
        {
          "output_type": "stream",
          "name": "stderr",
          "text": [
            "Train: 100%|██████████| 7/7 [00:00<00:00, 18.63it/s]\n",
            "Test: 100%|██████████| 3/3 [00:00<00:00, 50.77it/s]\n"
          ]
        },
        {
          "output_type": "stream",
          "name": "stdout",
          "text": [
            "\n",
            "Epoch     1\n",
            "Train_cost  = 136.9480 | Test_cost  = 133.7129 | \n"
          ]
        },
        {
          "output_type": "stream",
          "name": "stderr",
          "text": [
            "Train: 100%|██████████| 7/7 [00:00<00:00, 27.25it/s]\n",
            "Test: 100%|██████████| 3/3 [00:00<00:00, 48.99it/s]\n"
          ]
        },
        {
          "output_type": "stream",
          "name": "stdout",
          "text": [
            "\n",
            "Epoch     2\n",
            "Train_cost  = 124.4580 | Test_cost  = 117.6492 | \n"
          ]
        },
        {
          "output_type": "stream",
          "name": "stderr",
          "text": [
            "Train: 100%|██████████| 7/7 [00:00<00:00, 26.97it/s]\n",
            "Test: 100%|██████████| 3/3 [00:00<00:00, 50.93it/s]\n"
          ]
        },
        {
          "output_type": "stream",
          "name": "stdout",
          "text": [
            "\n",
            "Epoch     3\n",
            "Train_cost  = 106.4925 | Test_cost  = 95.6768 | \n"
          ]
        },
        {
          "output_type": "stream",
          "name": "stderr",
          "text": [
            "Train: 100%|██████████| 7/7 [00:00<00:00, 22.35it/s]\n",
            "Test: 100%|██████████| 3/3 [00:00<00:00, 29.88it/s]\n"
          ]
        },
        {
          "output_type": "stream",
          "name": "stdout",
          "text": [
            "\n",
            "Epoch     4\n",
            "Train_cost  = 84.3863 | Test_cost  = 73.7400 | \n"
          ]
        },
        {
          "output_type": "stream",
          "name": "stderr",
          "text": [
            "Train: 100%|██████████| 7/7 [00:00<00:00, 24.93it/s]\n",
            "Test: 100%|██████████| 3/3 [00:00<00:00, 49.72it/s]\n"
          ]
        },
        {
          "output_type": "stream",
          "name": "stdout",
          "text": [
            "\n",
            "Epoch     5\n",
            "Train_cost  = 64.5345 | Test_cost  = 56.3252 | \n"
          ]
        },
        {
          "output_type": "stream",
          "name": "stderr",
          "text": [
            "Train: 100%|██████████| 7/7 [00:00<00:00, 26.54it/s]\n",
            "Test: 100%|██████████| 3/3 [00:00<00:00, 44.73it/s]\n"
          ]
        },
        {
          "output_type": "stream",
          "name": "stdout",
          "text": [
            "\n",
            "Epoch     6\n",
            "Train_cost  = 49.1907 | Test_cost  = 43.1570 | \n"
          ]
        },
        {
          "output_type": "stream",
          "name": "stderr",
          "text": [
            "Train: 100%|██████████| 7/7 [00:00<00:00, 25.08it/s]\n",
            "Test: 100%|██████████| 3/3 [00:00<00:00, 38.60it/s]\n"
          ]
        },
        {
          "output_type": "stream",
          "name": "stdout",
          "text": [
            "\n",
            "Epoch     7\n",
            "Train_cost  = 37.9864 | Test_cost  = 33.9196 | \n"
          ]
        },
        {
          "output_type": "stream",
          "name": "stderr",
          "text": [
            "Train: 100%|██████████| 7/7 [00:00<00:00, 26.83it/s]\n",
            "Test: 100%|██████████| 3/3 [00:00<00:00, 51.08it/s]\n"
          ]
        },
        {
          "output_type": "stream",
          "name": "stdout",
          "text": [
            "\n",
            "Epoch     8\n",
            "Train_cost  = 30.3707 | Test_cost  = 27.7847 | \n"
          ]
        },
        {
          "output_type": "stream",
          "name": "stderr",
          "text": [
            "Train: 100%|██████████| 7/7 [00:00<00:00, 26.56it/s]\n",
            "Test: 100%|██████████| 3/3 [00:00<00:00, 52.61it/s]\n"
          ]
        },
        {
          "output_type": "stream",
          "name": "stdout",
          "text": [
            "\n",
            "Epoch     9\n",
            "Train_cost  = 25.4620 | Test_cost  = 23.9027 | \n"
          ]
        },
        {
          "output_type": "stream",
          "name": "stderr",
          "text": [
            "Train: 100%|██████████| 7/7 [00:00<00:00, 26.79it/s]\n",
            "Test: 100%|██████████| 3/3 [00:00<00:00, 49.04it/s]\n"
          ]
        },
        {
          "output_type": "stream",
          "name": "stdout",
          "text": [
            "\n",
            "Epoch    10\n",
            "Train_cost  = 22.4262 | Test_cost  = 21.4642 | \n"
          ]
        },
        {
          "output_type": "stream",
          "name": "stderr",
          "text": [
            "Train: 100%|██████████| 7/7 [00:00<00:00, 24.89it/s]\n",
            "Test: 100%|██████████| 3/3 [00:00<00:00, 47.39it/s]\n"
          ]
        },
        {
          "output_type": "stream",
          "name": "stdout",
          "text": [
            "\n",
            "Epoch    11\n",
            "Train_cost  = 20.5372 | Test_cost  = 19.8851 | \n"
          ]
        },
        {
          "output_type": "stream",
          "name": "stderr",
          "text": [
            "Train: 100%|██████████| 7/7 [00:00<00:00, 27.25it/s]\n",
            "Test: 100%|██████████| 3/3 [00:00<00:00, 47.68it/s]\n"
          ]
        },
        {
          "output_type": "stream",
          "name": "stdout",
          "text": [
            "\n",
            "Epoch    12\n",
            "Train_cost  = 19.3276 | Test_cost  = 18.8319 | \n"
          ]
        },
        {
          "output_type": "stream",
          "name": "stderr",
          "text": [
            "Train: 100%|██████████| 7/7 [00:00<00:00, 25.99it/s]\n",
            "Test: 100%|██████████| 3/3 [00:00<00:00, 46.27it/s]\n"
          ]
        },
        {
          "output_type": "stream",
          "name": "stdout",
          "text": [
            "\n",
            "Epoch    13\n",
            "Train_cost  = 18.5372 | Test_cost  = 18.1231 | \n"
          ]
        },
        {
          "output_type": "stream",
          "name": "stderr",
          "text": [
            "Train: 100%|██████████| 7/7 [00:00<00:00, 16.71it/s]\n",
            "Test: 100%|██████████| 3/3 [00:00<00:00, 27.00it/s]\n"
          ]
        },
        {
          "output_type": "stream",
          "name": "stdout",
          "text": [
            "\n",
            "Epoch    14\n",
            "Train_cost  = 18.0196 | Test_cost  = 17.6433 | \n"
          ]
        },
        {
          "output_type": "stream",
          "name": "stderr",
          "text": [
            "Train: 100%|██████████| 7/7 [00:00<00:00, 15.55it/s]\n",
            "Test: 100%|██████████| 3/3 [00:00<00:00, 25.39it/s]\n"
          ]
        },
        {
          "output_type": "stream",
          "name": "stdout",
          "text": [
            "\n",
            "Epoch    15\n",
            "Train_cost  = 17.6790 | Test_cost  = 17.3159 | \n"
          ]
        },
        {
          "output_type": "stream",
          "name": "stderr",
          "text": [
            "Train: 100%|██████████| 7/7 [00:00<00:00, 14.32it/s]\n",
            "Test: 100%|██████████| 3/3 [00:00<00:00, 27.76it/s]\n"
          ]
        },
        {
          "output_type": "stream",
          "name": "stdout",
          "text": [
            "\n",
            "Epoch    16\n",
            "Train_cost  = 17.4537 | Test_cost  = 17.0907 | \n"
          ]
        },
        {
          "output_type": "stream",
          "name": "stderr",
          "text": [
            "Train: 100%|██████████| 7/7 [00:00<00:00, 14.62it/s]\n",
            "Test: 100%|██████████| 3/3 [00:00<00:00, 32.82it/s]\n"
          ]
        },
        {
          "output_type": "stream",
          "name": "stdout",
          "text": [
            "\n",
            "Epoch    17\n",
            "Train_cost  = 17.3029 | Test_cost  = 16.9334 | \n"
          ]
        },
        {
          "output_type": "stream",
          "name": "stderr",
          "text": [
            "Train: 100%|██████████| 7/7 [00:00<00:00, 14.67it/s]\n",
            "Test: 100%|██████████| 3/3 [00:00<00:00, 22.50it/s]\n"
          ]
        },
        {
          "output_type": "stream",
          "name": "stdout",
          "text": [
            "\n",
            "Epoch    18\n",
            "Train_cost  = 17.1983 | Test_cost  = 16.8187 | \n"
          ]
        },
        {
          "output_type": "stream",
          "name": "stderr",
          "text": [
            "Train: 100%|██████████| 7/7 [00:00<00:00, 16.09it/s]\n",
            "Test: 100%|██████████| 3/3 [00:00<00:00, 25.00it/s]\n"
          ]
        },
        {
          "output_type": "stream",
          "name": "stdout",
          "text": [
            "\n",
            "Epoch    19\n",
            "Train_cost  = 17.1193 | Test_cost  = 16.7307 | \n"
          ]
        },
        {
          "output_type": "stream",
          "name": "stderr",
          "text": [
            "Train: 100%|██████████| 7/7 [00:00<00:00, 12.58it/s]\n",
            "Test: 100%|██████████| 3/3 [00:00<00:00, 20.94it/s]\n"
          ]
        },
        {
          "output_type": "stream",
          "name": "stdout",
          "text": [
            "\n",
            "Epoch    20\n",
            "Train_cost  = 17.0594 | Test_cost  = 16.6683 | \n"
          ]
        },
        {
          "output_type": "display_data",
          "data": {
            "text/plain": [
              "<Figure size 576x360 with 1 Axes>"
            ],
            "image/png": "[encoded data removed]"
          },
          "metadata": {
            "needs_background": "light"
          }
        },
        {
          "output_type": "stream",
          "name": "stderr",
          "text": [
            "Train: 100%|██████████| 7/7 [00:00<00:00, 12.46it/s]\n",
            "Test: 100%|██████████| 3/3 [00:00<00:00, 18.38it/s]\n"
          ]
        },
        {
          "output_type": "stream",
          "name": "stdout",
          "text": [
            "\n",
            "Epoch    21\n",
            "Train_cost  = 17.0159 | Test_cost  = 16.6183 | \n"
          ]
        },
        {
          "output_type": "stream",
          "name": "stderr",
          "text": [
            "Train: 100%|██████████| 7/7 [00:00<00:00, 17.32it/s]\n",
            "Test: 100%|██████████| 3/3 [00:00<00:00, 20.83it/s]\n"
          ]
        },
        {
          "output_type": "stream",
          "name": "stdout",
          "text": [
            "\n",
            "Epoch    22\n",
            "Train_cost  = 16.9744 | Test_cost  = 16.5719 | \n"
          ]
        },
        {
          "output_type": "stream",
          "name": "stderr",
          "text": [
            "Train: 100%|██████████| 7/7 [00:00<00:00, 16.98it/s]\n",
            "Test: 100%|██████████| 3/3 [00:00<00:00, 22.13it/s]\n"
          ]
        },
        {
          "output_type": "stream",
          "name": "stdout",
          "text": [
            "\n",
            "Epoch    23\n",
            "Train_cost  = 16.9290 | Test_cost  = 16.5225 | \n"
          ]
        },
        {
          "output_type": "stream",
          "name": "stderr",
          "text": [
            "Train: 100%|██████████| 7/7 [00:00<00:00, 12.33it/s]\n",
            "Test: 100%|██████████| 3/3 [00:00<00:00, 30.79it/s]\n"
          ]
        },
        {
          "output_type": "stream",
          "name": "stdout",
          "text": [
            "\n",
            "Epoch    24\n",
            "Train_cost  = 16.8790 | Test_cost  = 16.4750 | \n"
          ]
        },
        {
          "output_type": "stream",
          "name": "stderr",
          "text": [
            "Train: 100%|██████████| 7/7 [00:00<00:00, 15.32it/s]\n",
            "Test: 100%|██████████| 3/3 [00:00<00:00, 21.67it/s]\n"
          ]
        },
        {
          "output_type": "stream",
          "name": "stdout",
          "text": [
            "\n",
            "Epoch    25\n",
            "Train_cost  = 16.8283 | Test_cost  = 16.4250 | \n"
          ]
        },
        {
          "output_type": "stream",
          "name": "stderr",
          "text": [
            "Train: 100%|██████████| 7/7 [00:00<00:00, 13.23it/s]\n",
            "Test: 100%|██████████| 3/3 [00:00<00:00, 16.46it/s]\n"
          ]
        },
        {
          "output_type": "stream",
          "name": "stdout",
          "text": [
            "\n",
            "Epoch    26\n",
            "Train_cost  = 16.7673 | Test_cost  = 16.3588 | \n"
          ]
        },
        {
          "output_type": "stream",
          "name": "stderr",
          "text": [
            "Train: 100%|██████████| 7/7 [00:00<00:00, 15.17it/s]\n",
            "Test: 100%|██████████| 3/3 [00:00<00:00, 20.53it/s]\n"
          ]
        },
        {
          "output_type": "stream",
          "name": "stdout",
          "text": [
            "\n",
            "Epoch    27\n",
            "Train_cost  = 16.6813 | Test_cost  = 16.2726 | \n"
          ]
        },
        {
          "output_type": "stream",
          "name": "stderr",
          "text": [
            "Train: 100%|██████████| 7/7 [00:00<00:00, 15.69it/s]\n",
            "Test: 100%|██████████| 3/3 [00:00<00:00, 20.32it/s]\n"
          ]
        },
        {
          "output_type": "stream",
          "name": "stdout",
          "text": [
            "\n",
            "Epoch    28\n",
            "Train_cost  = 16.5736 | Test_cost  = 16.1733 | \n"
          ]
        },
        {
          "output_type": "stream",
          "name": "stderr",
          "text": [
            "Train: 100%|██████████| 7/7 [00:00<00:00, 16.74it/s]\n",
            "Test: 100%|██████████| 3/3 [00:00<00:00, 29.19it/s]\n"
          ]
        },
        {
          "output_type": "stream",
          "name": "stdout",
          "text": [
            "\n",
            "Epoch    29\n",
            "Train_cost  = 16.4246 | Test_cost  = 16.0266 | \n"
          ]
        },
        {
          "output_type": "stream",
          "name": "stderr",
          "text": [
            "Train: 100%|██████████| 7/7 [00:00<00:00, 14.38it/s]\n",
            "Test: 100%|██████████| 3/3 [00:00<00:00, 24.94it/s]\n"
          ]
        },
        {
          "output_type": "stream",
          "name": "stdout",
          "text": [
            "\n",
            "Epoch    30\n",
            "Train_cost  = 16.2104 | Test_cost  = 15.8265 | \n"
          ]
        },
        {
          "output_type": "stream",
          "name": "stderr",
          "text": [
            "Train: 100%|██████████| 7/7 [00:00<00:00, 12.03it/s]\n",
            "Test: 100%|██████████| 3/3 [00:00<00:00, 16.43it/s]\n"
          ]
        },
        {
          "output_type": "stream",
          "name": "stdout",
          "text": [
            "\n",
            "Epoch    31\n",
            "Train_cost  = 15.9138 | Test_cost  = 15.5369 | \n"
          ]
        },
        {
          "output_type": "stream",
          "name": "stderr",
          "text": [
            "Train: 100%|██████████| 7/7 [00:00<00:00, 17.00it/s]\n",
            "Test: 100%|██████████| 3/3 [00:00<00:00, 15.24it/s]\n"
          ]
        },
        {
          "output_type": "stream",
          "name": "stdout",
          "text": [
            "\n",
            "Epoch    32\n",
            "Train_cost  = 15.5101 | Test_cost  = 15.1649 | \n"
          ]
        },
        {
          "output_type": "stream",
          "name": "stderr",
          "text": [
            "Train: 100%|██████████| 7/7 [00:00<00:00, 11.90it/s]\n",
            "Test: 100%|██████████| 3/3 [00:00<00:00, 19.35it/s]\n"
          ]
        },
        {
          "output_type": "stream",
          "name": "stdout",
          "text": [
            "\n",
            "Epoch    33\n",
            "Train_cost  = 15.0025 | Test_cost  = 14.5591 | \n"
          ]
        },
        {
          "output_type": "stream",
          "name": "stderr",
          "text": [
            "Train: 100%|██████████| 7/7 [00:00<00:00, 11.37it/s]\n",
            "Test: 100%|██████████| 3/3 [00:00<00:00, 19.18it/s]\n"
          ]
        },
        {
          "output_type": "stream",
          "name": "stdout",
          "text": [
            "\n",
            "Epoch    34\n",
            "Train_cost  = 14.1727 | Test_cost  = 13.7045 | \n"
          ]
        },
        {
          "output_type": "stream",
          "name": "stderr",
          "text": [
            "Train: 100%|██████████| 7/7 [00:00<00:00, 12.49it/s]\n",
            "Test: 100%|██████████| 3/3 [00:00<00:00, 50.30it/s]\n"
          ]
        },
        {
          "output_type": "stream",
          "name": "stdout",
          "text": [
            "\n",
            "Epoch    35\n",
            "Train_cost  = 13.2164 | Test_cost  = 12.5926 | \n"
          ]
        },
        {
          "output_type": "stream",
          "name": "stderr",
          "text": [
            "Train: 100%|██████████| 7/7 [00:00<00:00, 26.34it/s]\n",
            "Test: 100%|██████████| 3/3 [00:00<00:00, 45.19it/s]\n"
          ]
        },
        {
          "output_type": "stream",
          "name": "stdout",
          "text": [
            "\n",
            "Epoch    36\n",
            "Train_cost  = 11.9822 | Test_cost  = 11.5916 | \n"
          ]
        },
        {
          "output_type": "stream",
          "name": "stderr",
          "text": [
            "Train: 100%|██████████| 7/7 [00:00<00:00, 26.71it/s]\n",
            "Test: 100%|██████████| 3/3 [00:00<00:00, 45.89it/s]\n"
          ]
        },
        {
          "output_type": "stream",
          "name": "stdout",
          "text": [
            "\n",
            "Epoch    37\n",
            "Train_cost  = 10.9796 | Test_cost  = 10.6303 | \n"
          ]
        },
        {
          "output_type": "stream",
          "name": "stderr",
          "text": [
            "Train: 100%|██████████| 7/7 [00:00<00:00, 26.44it/s]\n",
            "Test: 100%|██████████| 3/3 [00:00<00:00, 47.75it/s]\n"
          ]
        },
        {
          "output_type": "stream",
          "name": "stdout",
          "text": [
            "\n",
            "Epoch    38\n",
            "Train_cost  = 10.0101 | Test_cost  = 9.8311 | \n"
          ]
        },
        {
          "output_type": "stream",
          "name": "stderr",
          "text": [
            "Train: 100%|██████████| 7/7 [00:00<00:00, 27.19it/s]\n",
            "Test: 100%|██████████| 3/3 [00:00<00:00, 48.01it/s]\n"
          ]
        },
        {
          "output_type": "stream",
          "name": "stdout",
          "text": [
            "\n",
            "Epoch    39\n",
            "Train_cost  = 9.2481 | Test_cost  = 9.1627 | \n"
          ]
        },
        {
          "output_type": "stream",
          "name": "stderr",
          "text": [
            "Train: 100%|██████████| 7/7 [00:00<00:00, 28.26it/s]\n",
            "Test: 100%|██████████| 3/3 [00:00<00:00, 44.57it/s]\n"
          ]
        },
        {
          "output_type": "stream",
          "name": "stdout",
          "text": [
            "\n",
            "Epoch    40\n",
            "Train_cost  = 8.6329 | Test_cost  = 8.5687 | \n"
          ]
        },
        {
          "output_type": "display_data",
          "data": {
            "text/plain": [
              "<Figure size 576x360 with 1 Axes>"
            ],
            "image/png": "[encoded data removed]"
          },
          "metadata": {
            "needs_background": "light"
          }
        },
        {
          "output_type": "stream",
          "name": "stderr",
          "text": [
            "Train: 100%|██████████| 7/7 [00:00<00:00, 28.00it/s]\n",
            "Test: 100%|██████████| 3/3 [00:00<00:00, 42.44it/s]\n"
          ]
        },
        {
          "output_type": "stream",
          "name": "stdout",
          "text": [
            "\n",
            "Epoch    41\n",
            "Train_cost  = 8.1048 | Test_cost  = 8.0543 | \n"
          ]
        },
        {
          "output_type": "stream",
          "name": "stderr",
          "text": [
            "Train: 100%|██████████| 7/7 [00:00<00:00, 26.01it/s]\n",
            "Test: 100%|██████████| 3/3 [00:00<00:00, 45.50it/s]\n"
          ]
        },
        {
          "output_type": "stream",
          "name": "stdout",
          "text": [
            "\n",
            "Epoch    42\n",
            "Train_cost  = 7.6633 | Test_cost  = 7.6272 | \n"
          ]
        },
        {
          "output_type": "stream",
          "name": "stderr",
          "text": [
            "Train: 100%|██████████| 7/7 [00:00<00:00, 26.49it/s]\n",
            "Test: 100%|██████████| 3/3 [00:00<00:00, 44.84it/s]\n"
          ]
        },
        {
          "output_type": "stream",
          "name": "stdout",
          "text": [
            "\n",
            "Epoch    43\n",
            "Train_cost  = 7.2820 | Test_cost  = 7.2640 | \n"
          ]
        },
        {
          "output_type": "stream",
          "name": "stderr",
          "text": [
            "Train: 100%|██████████| 7/7 [00:00<00:00, 26.53it/s]\n",
            "Test: 100%|██████████| 3/3 [00:00<00:00, 50.21it/s]\n"
          ]
        },
        {
          "output_type": "stream",
          "name": "stdout",
          "text": [
            "\n",
            "Epoch    44\n",
            "Train_cost  = 6.9447 | Test_cost  = 6.9281 | \n"
          ]
        },
        {
          "output_type": "stream",
          "name": "stderr",
          "text": [
            "Train: 100%|██████████| 7/7 [00:00<00:00, 26.87it/s]\n",
            "Test: 100%|██████████| 3/3 [00:00<00:00, 46.64it/s]\n"
          ]
        },
        {
          "output_type": "stream",
          "name": "stdout",
          "text": [
            "\n",
            "Epoch    45\n",
            "Train_cost  = 6.6341 | Test_cost  = 6.6367 | \n"
          ]
        },
        {
          "output_type": "stream",
          "name": "stderr",
          "text": [
            "Train: 100%|██████████| 7/7 [00:00<00:00, 25.90it/s]\n",
            "Test: 100%|██████████| 3/3 [00:00<00:00, 48.65it/s]\n"
          ]
        },
        {
          "output_type": "stream",
          "name": "stdout",
          "text": [
            "\n",
            "Epoch    46\n",
            "Train_cost  = 6.3583 | Test_cost  = 6.3782 | \n"
          ]
        },
        {
          "output_type": "stream",
          "name": "stderr",
          "text": [
            "Train: 100%|██████████| 7/7 [00:00<00:00, 26.42it/s]\n",
            "Test: 100%|██████████| 3/3 [00:00<00:00, 47.69it/s]\n"
          ]
        },
        {
          "output_type": "stream",
          "name": "stdout",
          "text": [
            "\n",
            "Epoch    47\n",
            "Train_cost  = 6.1135 | Test_cost  = 6.1415 | \n"
          ]
        },
        {
          "output_type": "stream",
          "name": "stderr",
          "text": [
            "Train: 100%|██████████| 7/7 [00:00<00:00, 27.09it/s]\n",
            "Test: 100%|██████████| 3/3 [00:00<00:00, 49.69it/s]\n"
          ]
        },
        {
          "output_type": "stream",
          "name": "stdout",
          "text": [
            "\n",
            "Epoch    48\n",
            "Train_cost  = 5.8869 | Test_cost  = 5.9213 | \n"
          ]
        },
        {
          "output_type": "stream",
          "name": "stderr",
          "text": [
            "Train: 100%|██████████| 7/7 [00:00<00:00, 24.81it/s]\n",
            "Test: 100%|██████████| 3/3 [00:00<00:00, 46.37it/s]\n"
          ]
        },
        {
          "output_type": "stream",
          "name": "stdout",
          "text": [
            "\n",
            "Epoch    49\n",
            "Train_cost  = 5.6769 | Test_cost  = 5.7144 | \n"
          ]
        },
        {
          "output_type": "stream",
          "name": "stderr",
          "text": [
            "Train: 100%|██████████| 7/7 [00:00<00:00, 28.04it/s]\n",
            "Test: 100%|██████████| 3/3 [00:00<00:00, 43.65it/s]\n"
          ]
        },
        {
          "output_type": "stream",
          "name": "stdout",
          "text": [
            "\n",
            "Epoch    50\n",
            "Train_cost  = 5.4781 | Test_cost  = 5.5181 | \n"
          ]
        },
        {
          "output_type": "stream",
          "name": "stderr",
          "text": [
            "Train: 100%|██████████| 7/7 [00:00<00:00, 26.68it/s]\n",
            "Test: 100%|██████████| 3/3 [00:00<00:00, 44.50it/s]\n"
          ]
        },
        {
          "output_type": "stream",
          "name": "stdout",
          "text": [
            "\n",
            "Epoch    51\n",
            "Train_cost  = 5.2885 | Test_cost  = 5.3306 | \n"
          ]
        },
        {
          "output_type": "stream",
          "name": "stderr",
          "text": [
            "Train: 100%|██████████| 7/7 [00:00<00:00, 26.07it/s]\n",
            "Test: 100%|██████████| 3/3 [00:00<00:00, 48.30it/s]\n"
          ]
        },
        {
          "output_type": "stream",
          "name": "stdout",
          "text": [
            "\n",
            "Epoch    52\n",
            "Train_cost  = 5.1058 | Test_cost  = 5.1511 | \n"
          ]
        },
        {
          "output_type": "stream",
          "name": "stderr",
          "text": [
            "Train: 100%|██████████| 7/7 [00:00<00:00, 26.51it/s]\n",
            "Test: 100%|██████████| 3/3 [00:00<00:00, 47.10it/s]\n"
          ]
        },
        {
          "output_type": "stream",
          "name": "stdout",
          "text": [
            "\n",
            "Epoch    53\n",
            "Train_cost  = 4.9296 | Test_cost  = 4.9788 | \n"
          ]
        },
        {
          "output_type": "stream",
          "name": "stderr",
          "text": [
            "Train: 100%|██████████| 7/7 [00:00<00:00, 27.62it/s]\n",
            "Test: 100%|██████████| 3/3 [00:00<00:00, 47.69it/s]\n"
          ]
        },
        {
          "output_type": "stream",
          "name": "stdout",
          "text": [
            "\n",
            "Epoch    54\n",
            "Train_cost  = 4.7608 | Test_cost  = 4.8132 | \n"
          ]
        },
        {
          "output_type": "stream",
          "name": "stderr",
          "text": [
            "Train: 100%|██████████| 7/7 [00:00<00:00, 26.70it/s]\n",
            "Test: 100%|██████████| 3/3 [00:00<00:00, 50.95it/s]\n"
          ]
        },
        {
          "output_type": "stream",
          "name": "stdout",
          "text": [
            "\n",
            "Epoch    55\n",
            "Train_cost  = 4.5998 | Test_cost  = 4.6544 | \n"
          ]
        },
        {
          "output_type": "stream",
          "name": "stderr",
          "text": [
            "Train: 100%|██████████| 7/7 [00:00<00:00, 26.86it/s]\n",
            "Test: 100%|██████████| 3/3 [00:00<00:00, 48.43it/s]\n"
          ]
        },
        {
          "output_type": "stream",
          "name": "stdout",
          "text": [
            "\n",
            "Epoch    56\n",
            "Train_cost  = 4.4480 | Test_cost  = 4.5031 | \n"
          ]
        },
        {
          "output_type": "stream",
          "name": "stderr",
          "text": [
            "Train: 100%|██████████| 7/7 [00:00<00:00, 26.06it/s]\n",
            "Test: 100%|██████████| 3/3 [00:00<00:00, 45.16it/s]\n"
          ]
        },
        {
          "output_type": "stream",
          "name": "stdout",
          "text": [
            "\n",
            "Epoch    57\n",
            "Train_cost  = 4.3075 | Test_cost  = 4.3604 | \n"
          ]
        },
        {
          "output_type": "stream",
          "name": "stderr",
          "text": [
            "Train: 100%|██████████| 7/7 [00:00<00:00, 25.92it/s]\n",
            "Test: 100%|██████████| 3/3 [00:00<00:00, 50.17it/s]\n"
          ]
        },
        {
          "output_type": "stream",
          "name": "stdout",
          "text": [
            "\n",
            "Epoch    58\n",
            "Train_cost  = 4.1754 | Test_cost  = 4.2252 | \n"
          ]
        },
        {
          "output_type": "stream",
          "name": "stderr",
          "text": [
            "Train: 100%|██████████| 7/7 [00:00<00:00, 27.02it/s]\n",
            "Test: 100%|██████████| 3/3 [00:00<00:00, 40.67it/s]\n"
          ]
        },
        {
          "output_type": "stream",
          "name": "stdout",
          "text": [
            "\n",
            "Epoch    59\n",
            "Train_cost  = 4.0509 | Test_cost  = 4.0977 | \n"
          ]
        },
        {
          "output_type": "stream",
          "name": "stderr",
          "text": [
            "Train: 100%|██████████| 7/7 [00:00<00:00, 27.55it/s]\n",
            "Test: 100%|██████████| 3/3 [00:00<00:00, 48.91it/s]\n"
          ]
        },
        {
          "output_type": "stream",
          "name": "stdout",
          "text": [
            "\n",
            "Epoch    60\n",
            "Train_cost  = 3.9349 | Test_cost  = 3.9767 | \n"
          ]
        },
        {
          "output_type": "display_data",
          "data": {
            "text/plain": [
              "<Figure size 576x360 with 1 Axes>"
            ],
            "image/png": "[encoded data removed]"
          },
          "metadata": {
            "needs_background": "light"
          }
        },
        {
          "output_type": "stream",
          "name": "stderr",
          "text": [
            "Train: 100%|██████████| 7/7 [00:00<00:00, 28.37it/s]\n",
            "Test: 100%|██████████| 3/3 [00:00<00:00, 40.07it/s]\n"
          ]
        },
        {
          "output_type": "stream",
          "name": "stdout",
          "text": [
            "\n",
            "Epoch    61\n",
            "Train_cost  = 3.8260 | Test_cost  = 3.8609 | \n"
          ]
        },
        {
          "output_type": "stream",
          "name": "stderr",
          "text": [
            "Train: 100%|██████████| 7/7 [00:00<00:00, 25.03it/s]\n",
            "Test: 100%|██████████| 3/3 [00:00<00:00, 48.87it/s]\n"
          ]
        },
        {
          "output_type": "stream",
          "name": "stdout",
          "text": [
            "\n",
            "Epoch    62\n",
            "Train_cost  = 3.7229 | Test_cost  = 3.7495 | \n"
          ]
        },
        {
          "output_type": "stream",
          "name": "stderr",
          "text": [
            "Train: 100%|██████████| 7/7 [00:00<00:00, 26.52it/s]\n",
            "Test: 100%|██████████| 3/3 [00:00<00:00, 44.82it/s]\n"
          ]
        },
        {
          "output_type": "stream",
          "name": "stdout",
          "text": [
            "\n",
            "Epoch    63\n",
            "Train_cost  = 3.6244 | Test_cost  = 3.6421 | \n"
          ]
        },
        {
          "output_type": "stream",
          "name": "stderr",
          "text": [
            "Train: 100%|██████████| 7/7 [00:00<00:00, 26.58it/s]\n",
            "Test: 100%|██████████| 3/3 [00:00<00:00, 45.34it/s]\n"
          ]
        },
        {
          "output_type": "stream",
          "name": "stdout",
          "text": [
            "\n",
            "Epoch    64\n",
            "Train_cost  = 3.5310 | Test_cost  = 3.5404 | \n"
          ]
        },
        {
          "output_type": "stream",
          "name": "stderr",
          "text": [
            "Train: 100%|██████████| 7/7 [00:00<00:00, 26.28it/s]\n",
            "Test: 100%|██████████| 3/3 [00:00<00:00, 47.24it/s]\n"
          ]
        },
        {
          "output_type": "stream",
          "name": "stdout",
          "text": [
            "\n",
            "Epoch    65\n",
            "Train_cost  = 3.4428 | Test_cost  = 3.4444 | \n"
          ]
        },
        {
          "output_type": "stream",
          "name": "stderr",
          "text": [
            "Train: 100%|██████████| 7/7 [00:00<00:00, 25.83it/s]\n",
            "Test: 100%|██████████| 3/3 [00:00<00:00, 47.86it/s]\n"
          ]
        },
        {
          "output_type": "stream",
          "name": "stdout",
          "text": [
            "\n",
            "Epoch    66\n",
            "Train_cost  = 3.3579 | Test_cost  = 3.3527 | \n"
          ]
        },
        {
          "output_type": "stream",
          "name": "stderr",
          "text": [
            "Train: 100%|██████████| 7/7 [00:00<00:00, 27.71it/s]\n",
            "Test: 100%|██████████| 3/3 [00:00<00:00, 50.15it/s]\n"
          ]
        },
        {
          "output_type": "stream",
          "name": "stdout",
          "text": [
            "\n",
            "Epoch    67\n",
            "Train_cost  = 3.2756 | Test_cost  = 3.2640 | \n"
          ]
        },
        {
          "output_type": "stream",
          "name": "stderr",
          "text": [
            "Train: 100%|██████████| 7/7 [00:00<00:00, 27.15it/s]\n",
            "Test: 100%|██████████| 3/3 [00:00<00:00, 49.38it/s]\n"
          ]
        },
        {
          "output_type": "stream",
          "name": "stdout",
          "text": [
            "\n",
            "Epoch    68\n",
            "Train_cost  = 3.1950 | Test_cost  = 3.1766 | \n"
          ]
        },
        {
          "output_type": "stream",
          "name": "stderr",
          "text": [
            "Train: 100%|██████████| 7/7 [00:00<00:00, 27.07it/s]\n",
            "Test: 100%|██████████| 3/3 [00:00<00:00, 45.74it/s]\n"
          ]
        },
        {
          "output_type": "stream",
          "name": "stdout",
          "text": [
            "\n",
            "Epoch    69\n",
            "Train_cost  = 3.1153 | Test_cost  = 3.0903 | \n"
          ]
        },
        {
          "output_type": "stream",
          "name": "stderr",
          "text": [
            "Train: 100%|██████████| 7/7 [00:00<00:00, 26.05it/s]\n",
            "Test: 100%|██████████| 3/3 [00:00<00:00, 44.42it/s]\n"
          ]
        },
        {
          "output_type": "stream",
          "name": "stdout",
          "text": [
            "\n",
            "Epoch    70\n",
            "Train_cost  = 3.0363 | Test_cost  = 3.0055 | \n"
          ]
        },
        {
          "output_type": "stream",
          "name": "stderr",
          "text": [
            "Train: 100%|██████████| 7/7 [00:00<00:00, 26.05it/s]\n",
            "Test: 100%|██████████| 3/3 [00:00<00:00, 42.52it/s]\n"
          ]
        },
        {
          "output_type": "stream",
          "name": "stdout",
          "text": [
            "\n",
            "Epoch    71\n",
            "Train_cost  = 2.9579 | Test_cost  = 2.9219 | \n"
          ]
        },
        {
          "output_type": "stream",
          "name": "stderr",
          "text": [
            "Train: 100%|██████████| 7/7 [00:00<00:00, 26.28it/s]\n",
            "Test: 100%|██████████| 3/3 [00:00<00:00, 52.88it/s]\n"
          ]
        },
        {
          "output_type": "stream",
          "name": "stdout",
          "text": [
            "\n",
            "Epoch    72\n",
            "Train_cost  = 2.8797 | Test_cost  = 2.8387 | \n"
          ]
        },
        {
          "output_type": "stream",
          "name": "stderr",
          "text": [
            "Train: 100%|██████████| 7/7 [00:00<00:00, 26.37it/s]\n",
            "Test: 100%|██████████| 3/3 [00:00<00:00, 50.13it/s]\n"
          ]
        },
        {
          "output_type": "stream",
          "name": "stdout",
          "text": [
            "\n",
            "Epoch    73\n",
            "Train_cost  = 2.8014 | Test_cost  = 2.7552 | \n"
          ]
        },
        {
          "output_type": "stream",
          "name": "stderr",
          "text": [
            "Train: 100%|██████████| 7/7 [00:00<00:00, 27.52it/s]\n",
            "Test: 100%|██████████| 3/3 [00:00<00:00, 45.48it/s]\n"
          ]
        },
        {
          "output_type": "stream",
          "name": "stdout",
          "text": [
            "\n",
            "Epoch    74\n",
            "Train_cost  = 2.7232 | Test_cost  = 2.6712 | \n"
          ]
        },
        {
          "output_type": "stream",
          "name": "stderr",
          "text": [
            "Train: 100%|██████████| 7/7 [00:00<00:00, 27.47it/s]\n",
            "Test: 100%|██████████| 3/3 [00:00<00:00, 49.58it/s]\n"
          ]
        },
        {
          "output_type": "stream",
          "name": "stdout",
          "text": [
            "\n",
            "Epoch    75\n",
            "Train_cost  = 2.6449 | Test_cost  = 2.5877 | \n"
          ]
        },
        {
          "output_type": "stream",
          "name": "stderr",
          "text": [
            "Train: 100%|██████████| 7/7 [00:00<00:00, 27.62it/s]\n",
            "Test: 100%|██████████| 3/3 [00:00<00:00, 45.38it/s]\n"
          ]
        },
        {
          "output_type": "stream",
          "name": "stdout",
          "text": [
            "\n",
            "Epoch    76\n",
            "Train_cost  = 2.5666 | Test_cost  = 2.5057 | \n"
          ]
        },
        {
          "output_type": "stream",
          "name": "stderr",
          "text": [
            "Train: 100%|██████████| 7/7 [00:00<00:00, 26.76it/s]\n",
            "Test: 100%|██████████| 3/3 [00:00<00:00, 42.29it/s]\n"
          ]
        },
        {
          "output_type": "stream",
          "name": "stdout",
          "text": [
            "\n",
            "Epoch    77\n",
            "Train_cost  = 2.4890 | Test_cost  = 2.4257 | \n"
          ]
        },
        {
          "output_type": "stream",
          "name": "stderr",
          "text": [
            "Train: 100%|██████████| 7/7 [00:00<00:00, 26.52it/s]\n",
            "Test: 100%|██████████| 3/3 [00:00<00:00, 45.79it/s]\n"
          ]
        },
        {
          "output_type": "stream",
          "name": "stdout",
          "text": [
            "\n",
            "Epoch    78\n",
            "Train_cost  = 2.4125 | Test_cost  = 2.3477 | \n"
          ]
        },
        {
          "output_type": "stream",
          "name": "stderr",
          "text": [
            "Train: 100%|██████████| 7/7 [00:00<00:00, 25.58it/s]\n",
            "Test: 100%|██████████| 3/3 [00:00<00:00, 46.93it/s]\n"
          ]
        },
        {
          "output_type": "stream",
          "name": "stdout",
          "text": [
            "\n",
            "Epoch    79\n",
            "Train_cost  = 2.3374 | Test_cost  = 2.2735 | \n"
          ]
        },
        {
          "output_type": "stream",
          "name": "stderr",
          "text": [
            "Train: 100%|██████████| 7/7 [00:00<00:00, 26.76it/s]\n",
            "Test: 100%|██████████| 3/3 [00:00<00:00, 44.21it/s]\n"
          ]
        },
        {
          "output_type": "stream",
          "name": "stdout",
          "text": [
            "\n",
            "Epoch    80\n",
            "Train_cost  = 2.2641 | Test_cost  = 2.2029 | \n"
          ]
        },
        {
          "output_type": "display_data",
          "data": {
            "text/plain": [
              "<Figure size 576x360 with 1 Axes>"
            ],
            "image/png": "[encoded data removed]"
          },
          "metadata": {
            "needs_background": "light"
          }
        },
        {
          "output_type": "stream",
          "name": "stderr",
          "text": [
            "Train: 100%|██████████| 7/7 [00:00<00:00, 27.67it/s]\n",
            "Test: 100%|██████████| 3/3 [00:00<00:00, 44.29it/s]\n"
          ]
        },
        {
          "output_type": "stream",
          "name": "stdout",
          "text": [
            "\n",
            "Epoch    81\n",
            "Train_cost  = 2.1922 | Test_cost  = 2.1351 | \n"
          ]
        },
        {
          "output_type": "stream",
          "name": "stderr",
          "text": [
            "Train: 100%|██████████| 7/7 [00:00<00:00, 26.39it/s]\n",
            "Test: 100%|██████████| 3/3 [00:00<00:00, 42.64it/s]\n"
          ]
        },
        {
          "output_type": "stream",
          "name": "stdout",
          "text": [
            "\n",
            "Epoch    82\n",
            "Train_cost  = 2.1221 | Test_cost  = 2.0683 | \n"
          ]
        },
        {
          "output_type": "stream",
          "name": "stderr",
          "text": [
            "Train: 100%|██████████| 7/7 [00:00<00:00, 27.20it/s]\n",
            "Test: 100%|██████████| 3/3 [00:00<00:00, 51.23it/s]\n"
          ]
        },
        {
          "output_type": "stream",
          "name": "stdout",
          "text": [
            "\n",
            "Epoch    83\n",
            "Train_cost  = 2.0540 | Test_cost  = 2.0012 | \n"
          ]
        },
        {
          "output_type": "stream",
          "name": "stderr",
          "text": [
            "Train: 100%|██████████| 7/7 [00:00<00:00, 26.34it/s]\n",
            "Test: 100%|██████████| 3/3 [00:00<00:00, 46.43it/s]\n"
          ]
        },
        {
          "output_type": "stream",
          "name": "stdout",
          "text": [
            "\n",
            "Epoch    84\n",
            "Train_cost  = 1.9880 | Test_cost  = 1.9320 | \n"
          ]
        },
        {
          "output_type": "stream",
          "name": "stderr",
          "text": [
            "Train: 100%|██████████| 7/7 [00:00<00:00, 26.42it/s]\n",
            "Test: 100%|██████████| 3/3 [00:00<00:00, 37.49it/s]\n"
          ]
        },
        {
          "output_type": "stream",
          "name": "stdout",
          "text": [
            "\n",
            "Epoch    85\n",
            "Train_cost  = 1.9245 | Test_cost  = 1.8591 | \n"
          ]
        },
        {
          "output_type": "stream",
          "name": "stderr",
          "text": [
            "Train: 100%|██████████| 7/7 [00:00<00:00, 26.72it/s]\n",
            "Test: 100%|██████████| 3/3 [00:00<00:00, 48.19it/s]\n"
          ]
        },
        {
          "output_type": "stream",
          "name": "stdout",
          "text": [
            "\n",
            "Epoch    86\n",
            "Train_cost  = 1.8631 | Test_cost  = 1.7806 | \n"
          ]
        },
        {
          "output_type": "stream",
          "name": "stderr",
          "text": [
            "Train: 100%|██████████| 7/7 [00:00<00:00, 25.93it/s]\n",
            "Test: 100%|██████████| 3/3 [00:00<00:00, 46.30it/s]\n"
          ]
        },
        {
          "output_type": "stream",
          "name": "stdout",
          "text": [
            "\n",
            "Epoch    87\n",
            "Train_cost  = 1.8028 | Test_cost  = 1.6958 | \n"
          ]
        },
        {
          "output_type": "stream",
          "name": "stderr",
          "text": [
            "Train: 100%|██████████| 7/7 [00:00<00:00, 26.10it/s]\n",
            "Test: 100%|██████████| 3/3 [00:00<00:00, 47.33it/s]\n"
          ]
        },
        {
          "output_type": "stream",
          "name": "stdout",
          "text": [
            "\n",
            "Epoch    88\n",
            "Train_cost  = 1.7422 | Test_cost  = 1.6084 | \n"
          ]
        },
        {
          "output_type": "stream",
          "name": "stderr",
          "text": [
            "Train: 100%|██████████| 7/7 [00:00<00:00, 26.68it/s]\n",
            "Test: 100%|██████████| 3/3 [00:00<00:00, 46.03it/s]\n"
          ]
        },
        {
          "output_type": "stream",
          "name": "stdout",
          "text": [
            "\n",
            "Epoch    89\n",
            "Train_cost  = 1.6809 | Test_cost  = 1.5307 | \n"
          ]
        },
        {
          "output_type": "stream",
          "name": "stderr",
          "text": [
            "Train: 100%|██████████| 7/7 [00:00<00:00, 26.73it/s]\n",
            "Test: 100%|██████████| 3/3 [00:00<00:00, 51.17it/s]\n"
          ]
        },
        {
          "output_type": "stream",
          "name": "stdout",
          "text": [
            "\n",
            "Epoch    90\n",
            "Train_cost  = 1.6209 | Test_cost  = 1.4783 | \n"
          ]
        },
        {
          "output_type": "stream",
          "name": "stderr",
          "text": [
            "Train: 100%|██████████| 7/7 [00:00<00:00, 25.45it/s]\n",
            "Test: 100%|██████████| 3/3 [00:00<00:00, 42.17it/s]\n"
          ]
        },
        {
          "output_type": "stream",
          "name": "stdout",
          "text": [
            "\n",
            "Epoch    91\n",
            "Train_cost  = 1.5652 | Test_cost  = 1.4423 | \n"
          ]
        },
        {
          "output_type": "stream",
          "name": "stderr",
          "text": [
            "Train: 100%|██████████| 7/7 [00:00<00:00, 26.76it/s]\n",
            "Test: 100%|██████████| 3/3 [00:00<00:00, 42.93it/s]\n"
          ]
        },
        {
          "output_type": "stream",
          "name": "stdout",
          "text": [
            "\n",
            "Epoch    92\n",
            "Train_cost  = 1.5104 | Test_cost  = 1.3927 | \n"
          ]
        },
        {
          "output_type": "stream",
          "name": "stderr",
          "text": [
            "Train: 100%|██████████| 7/7 [00:00<00:00, 26.93it/s]\n",
            "Test: 100%|██████████| 3/3 [00:00<00:00, 47.10it/s]\n"
          ]
        },
        {
          "output_type": "stream",
          "name": "stdout",
          "text": [
            "\n",
            "Epoch    93\n",
            "Train_cost  = 1.4490 | Test_cost  = 1.3376 | \n"
          ]
        },
        {
          "output_type": "stream",
          "name": "stderr",
          "text": [
            "Train: 100%|██████████| 7/7 [00:00<00:00, 25.53it/s]\n",
            "Test: 100%|██████████| 3/3 [00:00<00:00, 48.38it/s]\n"
          ]
        },
        {
          "output_type": "stream",
          "name": "stdout",
          "text": [
            "\n",
            "Epoch    94\n",
            "Train_cost  = 1.3942 | Test_cost  = 1.2863 | \n"
          ]
        },
        {
          "output_type": "stream",
          "name": "stderr",
          "text": [
            "Train: 100%|██████████| 7/7 [00:00<00:00, 26.85it/s]\n",
            "Test: 100%|██████████| 3/3 [00:00<00:00, 45.86it/s]\n"
          ]
        },
        {
          "output_type": "stream",
          "name": "stdout",
          "text": [
            "\n",
            "Epoch    95\n",
            "Train_cost  = 1.3499 | Test_cost  = 1.2449 | \n"
          ]
        },
        {
          "output_type": "stream",
          "name": "stderr",
          "text": [
            "Train: 100%|██████████| 7/7 [00:00<00:00, 26.83it/s]\n",
            "Test: 100%|██████████| 3/3 [00:00<00:00, 46.36it/s]\n"
          ]
        },
        {
          "output_type": "stream",
          "name": "stdout",
          "text": [
            "\n",
            "Epoch    96\n",
            "Train_cost  = 1.3109 | Test_cost  = 1.2092 | \n"
          ]
        },
        {
          "output_type": "stream",
          "name": "stderr",
          "text": [
            "Train: 100%|██████████| 7/7 [00:00<00:00, 25.90it/s]\n",
            "Test: 100%|██████████| 3/3 [00:00<00:00, 41.12it/s]\n"
          ]
        },
        {
          "output_type": "stream",
          "name": "stdout",
          "text": [
            "\n",
            "Epoch    97\n",
            "Train_cost  = 1.2756 | Test_cost  = 1.1770 | \n"
          ]
        },
        {
          "output_type": "stream",
          "name": "stderr",
          "text": [
            "Train: 100%|██████████| 7/7 [00:00<00:00, 26.36it/s]\n",
            "Test: 100%|██████████| 3/3 [00:00<00:00, 46.66it/s]\n"
          ]
        },
        {
          "output_type": "stream",
          "name": "stdout",
          "text": [
            "\n",
            "Epoch    98\n",
            "Train_cost  = 1.2452 | Test_cost  = 1.1468 | \n"
          ]
        },
        {
          "output_type": "stream",
          "name": "stderr",
          "text": [
            "Train: 100%|██████████| 7/7 [00:00<00:00, 26.43it/s]\n",
            "Test: 100%|██████████| 3/3 [00:00<00:00, 41.51it/s]\n"
          ]
        },
        {
          "output_type": "stream",
          "name": "stdout",
          "text": [
            "\n",
            "Epoch    99\n",
            "Train_cost  = 1.2185 | Test_cost  = 1.1194 | \n"
          ]
        },
        {
          "output_type": "stream",
          "name": "stderr",
          "text": [
            "Train: 100%|██████████| 7/7 [00:00<00:00, 26.18it/s]\n",
            "Test: 100%|██████████| 3/3 [00:00<00:00, 46.98it/s]\n"
          ]
        },
        {
          "output_type": "stream",
          "name": "stdout",
          "text": [
            "\n",
            "Epoch   100\n",
            "Train_cost  = 1.1935 | Test_cost  = 1.0941 | \n"
          ]
        },
        {
          "output_type": "display_data",
          "data": {
            "text/plain": [
              "<Figure size 576x360 with 1 Axes>"
            ],
            "image/png": "[encoded data removed]"
          },
          "metadata": {
            "needs_background": "light"
          }
        },
        {
          "output_type": "stream",
          "name": "stderr",
          "text": [
            "Train: 100%|██████████| 7/7 [00:00<00:00, 25.62it/s]\n",
            "Test: 100%|██████████| 3/3 [00:00<00:00, 40.99it/s]\n"
          ]
        },
        {
          "output_type": "stream",
          "name": "stdout",
          "text": [
            "\n",
            "Epoch   101\n",
            "Train_cost  = 1.1693 | Test_cost  = 1.0706 | \n"
          ]
        },
        {
          "output_type": "stream",
          "name": "stderr",
          "text": [
            "Train: 100%|██████████| 7/7 [00:00<00:00, 25.81it/s]\n",
            "Test: 100%|██████████| 3/3 [00:00<00:00, 40.10it/s]\n"
          ]
        },
        {
          "output_type": "stream",
          "name": "stdout",
          "text": [
            "\n",
            "Epoch   102\n",
            "Train_cost  = 1.1462 | Test_cost  = 1.0487 | \n"
          ]
        },
        {
          "output_type": "stream",
          "name": "stderr",
          "text": [
            "Train: 100%|██████████| 7/7 [00:00<00:00, 27.03it/s]\n",
            "Test: 100%|██████████| 3/3 [00:00<00:00, 48.89it/s]\n"
          ]
        },
        {
          "output_type": "stream",
          "name": "stdout",
          "text": [
            "\n",
            "Epoch   103\n",
            "Train_cost  = 1.1244 | Test_cost  = 1.0280 | \n"
          ]
        },
        {
          "output_type": "stream",
          "name": "stderr",
          "text": [
            "Train: 100%|██████████| 7/7 [00:00<00:00, 24.97it/s]\n",
            "Test: 100%|██████████| 3/3 [00:00<00:00, 43.12it/s]\n"
          ]
        },
        {
          "output_type": "stream",
          "name": "stdout",
          "text": [
            "\n",
            "Epoch   104\n",
            "Train_cost  = 1.1037 | Test_cost  = 1.0082 | \n"
          ]
        },
        {
          "output_type": "stream",
          "name": "stderr",
          "text": [
            "Train: 100%|██████████| 7/7 [00:00<00:00, 26.59it/s]\n",
            "Test: 100%|██████████| 3/3 [00:00<00:00, 46.44it/s]\n"
          ]
        },
        {
          "output_type": "stream",
          "name": "stdout",
          "text": [
            "\n",
            "Epoch   105\n",
            "Train_cost  = 1.0840 | Test_cost  = 0.9895 | \n"
          ]
        },
        {
          "output_type": "stream",
          "name": "stderr",
          "text": [
            "Train: 100%|██████████| 7/7 [00:00<00:00, 27.14it/s]\n",
            "Test: 100%|██████████| 3/3 [00:00<00:00, 47.63it/s]\n"
          ]
        },
        {
          "output_type": "stream",
          "name": "stdout",
          "text": [
            "\n",
            "Epoch   106\n",
            "Train_cost  = 1.0652 | Test_cost  = 0.9717 | \n"
          ]
        },
        {
          "output_type": "stream",
          "name": "stderr",
          "text": [
            "Train: 100%|██████████| 7/7 [00:00<00:00, 26.24it/s]\n",
            "Test: 100%|██████████| 3/3 [00:00<00:00, 49.27it/s]\n"
          ]
        },
        {
          "output_type": "stream",
          "name": "stdout",
          "text": [
            "\n",
            "Epoch   107\n",
            "Train_cost  = 1.0472 | Test_cost  = 0.9546 | \n"
          ]
        },
        {
          "output_type": "stream",
          "name": "stderr",
          "text": [
            "Train: 100%|██████████| 7/7 [00:00<00:00, 26.07it/s]\n",
            "Test: 100%|██████████| 3/3 [00:00<00:00, 45.58it/s]\n"
          ]
        },
        {
          "output_type": "stream",
          "name": "stdout",
          "text": [
            "\n",
            "Epoch   108\n",
            "Train_cost  = 1.0300 | Test_cost  = 0.9382 | \n"
          ]
        },
        {
          "output_type": "stream",
          "name": "stderr",
          "text": [
            "Train: 100%|██████████| 7/7 [00:00<00:00, 26.31it/s]\n",
            "Test: 100%|██████████| 3/3 [00:00<00:00, 43.59it/s]\n"
          ]
        },
        {
          "output_type": "stream",
          "name": "stdout",
          "text": [
            "\n",
            "Epoch   109\n",
            "Train_cost  = 1.0136 | Test_cost  = 0.9225 | \n"
          ]
        },
        {
          "output_type": "stream",
          "name": "stderr",
          "text": [
            "Train: 100%|██████████| 7/7 [00:00<00:00, 25.50it/s]\n",
            "Test: 100%|██████████| 3/3 [00:00<00:00, 42.65it/s]\n"
          ]
        },
        {
          "output_type": "stream",
          "name": "stdout",
          "text": [
            "\n",
            "Epoch   110\n",
            "Train_cost  = 0.9979 | Test_cost  = 0.9076 | \n"
          ]
        },
        {
          "output_type": "stream",
          "name": "stderr",
          "text": [
            "Train: 100%|██████████| 7/7 [00:00<00:00, 26.53it/s]\n",
            "Test: 100%|██████████| 3/3 [00:00<00:00, 39.65it/s]\n"
          ]
        },
        {
          "output_type": "stream",
          "name": "stdout",
          "text": [
            "\n",
            "Epoch   111\n",
            "Train_cost  = 0.9829 | Test_cost  = 0.8934 | \n"
          ]
        },
        {
          "output_type": "stream",
          "name": "stderr",
          "text": [
            "Train: 100%|██████████| 7/7 [00:00<00:00, 26.48it/s]\n",
            "Test: 100%|██████████| 3/3 [00:00<00:00, 40.85it/s]\n"
          ]
        },
        {
          "output_type": "stream",
          "name": "stdout",
          "text": [
            "\n",
            "Epoch   112\n",
            "Train_cost  = 0.9685 | Test_cost  = 0.8799 | \n"
          ]
        },
        {
          "output_type": "stream",
          "name": "stderr",
          "text": [
            "Train: 100%|██████████| 7/7 [00:00<00:00, 26.50it/s]\n",
            "Test: 100%|██████████| 3/3 [00:00<00:00, 43.08it/s]\n"
          ]
        },
        {
          "output_type": "stream",
          "name": "stdout",
          "text": [
            "\n",
            "Epoch   113\n",
            "Train_cost  = 0.9546 | Test_cost  = 0.8670 | \n"
          ]
        },
        {
          "output_type": "stream",
          "name": "stderr",
          "text": [
            "Train: 100%|██████████| 7/7 [00:00<00:00, 26.65it/s]\n",
            "Test: 100%|██████████| 3/3 [00:00<00:00, 47.25it/s]\n"
          ]
        },
        {
          "output_type": "stream",
          "name": "stdout",
          "text": [
            "\n",
            "Epoch   114\n",
            "Train_cost  = 0.9413 | Test_cost  = 0.8546 | \n"
          ]
        },
        {
          "output_type": "stream",
          "name": "stderr",
          "text": [
            "Train: 100%|██████████| 7/7 [00:00<00:00, 25.76it/s]\n",
            "Test: 100%|██████████| 3/3 [00:00<00:00, 45.09it/s]\n"
          ]
        },
        {
          "output_type": "stream",
          "name": "stdout",
          "text": [
            "\n",
            "Epoch   115\n",
            "Train_cost  = 0.9285 | Test_cost  = 0.8427 | \n"
          ]
        },
        {
          "output_type": "stream",
          "name": "stderr",
          "text": [
            "Train: 100%|██████████| 7/7 [00:00<00:00, 26.14it/s]\n",
            "Test: 100%|██████████| 3/3 [00:00<00:00, 45.56it/s]\n"
          ]
        },
        {
          "output_type": "stream",
          "name": "stdout",
          "text": [
            "\n",
            "Epoch   116\n",
            "Train_cost  = 0.9162 | Test_cost  = 0.8314 | \n"
          ]
        },
        {
          "output_type": "stream",
          "name": "stderr",
          "text": [
            "Train: 100%|██████████| 7/7 [00:00<00:00, 25.36it/s]\n",
            "Test: 100%|██████████| 3/3 [00:00<00:00, 42.43it/s]\n"
          ]
        },
        {
          "output_type": "stream",
          "name": "stdout",
          "text": [
            "\n",
            "Epoch   117\n",
            "Train_cost  = 0.9043 | Test_cost  = 0.8204 | \n"
          ]
        },
        {
          "output_type": "stream",
          "name": "stderr",
          "text": [
            "Train: 100%|██████████| 7/7 [00:00<00:00, 26.43it/s]\n",
            "Test: 100%|██████████| 3/3 [00:00<00:00, 46.18it/s]\n"
          ]
        },
        {
          "output_type": "stream",
          "name": "stdout",
          "text": [
            "\n",
            "Epoch   118\n",
            "Train_cost  = 0.8928 | Test_cost  = 0.8098 | \n"
          ]
        },
        {
          "output_type": "stream",
          "name": "stderr",
          "text": [
            "Train: 100%|██████████| 7/7 [00:00<00:00, 26.31it/s]\n",
            "Test: 100%|██████████| 3/3 [00:00<00:00, 45.60it/s]\n"
          ]
        },
        {
          "output_type": "stream",
          "name": "stdout",
          "text": [
            "\n",
            "Epoch   119\n",
            "Train_cost  = 0.8816 | Test_cost  = 0.7996 | \n"
          ]
        },
        {
          "output_type": "stream",
          "name": "stderr",
          "text": [
            "Train: 100%|██████████| 7/7 [00:00<00:00, 25.91it/s]\n",
            "Test: 100%|██████████| 3/3 [00:00<00:00, 41.32it/s]\n"
          ]
        },
        {
          "output_type": "stream",
          "name": "stdout",
          "text": [
            "\n",
            "Epoch   120\n",
            "Train_cost  = 0.8709 | Test_cost  = 0.7898 | \n"
          ]
        },
        {
          "output_type": "display_data",
          "data": {
            "text/plain": [
              "<Figure size 576x360 with 1 Axes>"
            ],
            "image/png": "[encoded data removed]"
          },
          "metadata": {
            "needs_background": "light"
          }
        },
        {
          "output_type": "stream",
          "name": "stderr",
          "text": [
            "Train: 100%|██████████| 7/7 [00:00<00:00, 25.23it/s]\n",
            "Test: 100%|██████████| 3/3 [00:00<00:00, 42.98it/s]\n"
          ]
        },
        {
          "output_type": "stream",
          "name": "stdout",
          "text": [
            "\n",
            "Epoch   121\n",
            "Train_cost  = 0.8605 | Test_cost  = 0.7802 | \n"
          ]
        },
        {
          "output_type": "stream",
          "name": "stderr",
          "text": [
            "Train: 100%|██████████| 7/7 [00:00<00:00, 26.90it/s]\n",
            "Test: 100%|██████████| 3/3 [00:00<00:00, 49.09it/s]\n"
          ]
        },
        {
          "output_type": "stream",
          "name": "stdout",
          "text": [
            "\n",
            "Epoch   122\n",
            "Train_cost  = 0.8504 | Test_cost  = 0.7710 | \n"
          ]
        },
        {
          "output_type": "stream",
          "name": "stderr",
          "text": [
            "Train: 100%|██████████| 7/7 [00:00<00:00, 26.14it/s]\n",
            "Test: 100%|██████████| 3/3 [00:00<00:00, 49.63it/s]\n"
          ]
        },
        {
          "output_type": "stream",
          "name": "stdout",
          "text": [
            "\n",
            "Epoch   123\n",
            "Train_cost  = 0.8405 | Test_cost  = 0.7620 | \n"
          ]
        },
        {
          "output_type": "stream",
          "name": "stderr",
          "text": [
            "Train: 100%|██████████| 7/7 [00:00<00:00, 25.25it/s]\n",
            "Test: 100%|██████████| 3/3 [00:00<00:00, 40.47it/s]\n"
          ]
        },
        {
          "output_type": "stream",
          "name": "stdout",
          "text": [
            "\n",
            "Epoch   124\n",
            "Train_cost  = 0.8310 | Test_cost  = 0.7533 | \n"
          ]
        },
        {
          "output_type": "stream",
          "name": "stderr",
          "text": [
            "Train: 100%|██████████| 7/7 [00:00<00:00, 25.65it/s]\n",
            "Test: 100%|██████████| 3/3 [00:00<00:00, 40.64it/s]\n"
          ]
        },
        {
          "output_type": "stream",
          "name": "stdout",
          "text": [
            "\n",
            "Epoch   125\n",
            "Train_cost  = 0.8218 | Test_cost  = 0.7447 | \n"
          ]
        },
        {
          "output_type": "stream",
          "name": "stderr",
          "text": [
            "Train: 100%|██████████| 7/7 [00:00<00:00, 24.69it/s]\n",
            "Test: 100%|██████████| 3/3 [00:00<00:00, 44.72it/s]\n"
          ]
        },
        {
          "output_type": "stream",
          "name": "stdout",
          "text": [
            "\n",
            "Epoch   126\n",
            "Train_cost  = 0.8128 | Test_cost  = 0.7364 | \n"
          ]
        },
        {
          "output_type": "stream",
          "name": "stderr",
          "text": [
            "Train: 100%|██████████| 7/7 [00:00<00:00, 26.72it/s]\n",
            "Test: 100%|██████████| 3/3 [00:00<00:00, 50.40it/s]\n"
          ]
        },
        {
          "output_type": "stream",
          "name": "stdout",
          "text": [
            "\n",
            "Epoch   127\n",
            "Train_cost  = 0.8041 | Test_cost  = 0.7284 | \n"
          ]
        },
        {
          "output_type": "stream",
          "name": "stderr",
          "text": [
            "Train: 100%|██████████| 7/7 [00:00<00:00, 27.14it/s]\n",
            "Test: 100%|██████████| 3/3 [00:00<00:00, 38.17it/s]\n"
          ]
        },
        {
          "output_type": "stream",
          "name": "stdout",
          "text": [
            "\n",
            "Epoch   128\n",
            "Train_cost  = 0.7956 | Test_cost  = 0.7205 | \n"
          ]
        },
        {
          "output_type": "stream",
          "name": "stderr",
          "text": [
            "Train: 100%|██████████| 7/7 [00:00<00:00, 25.88it/s]\n",
            "Test: 100%|██████████| 3/3 [00:00<00:00, 38.50it/s]\n"
          ]
        },
        {
          "output_type": "stream",
          "name": "stdout",
          "text": [
            "\n",
            "Epoch   129\n",
            "Train_cost  = 0.7874 | Test_cost  = 0.7129 | \n"
          ]
        },
        {
          "output_type": "stream",
          "name": "stderr",
          "text": [
            "Train: 100%|██████████| 7/7 [00:00<00:00, 26.17it/s]\n",
            "Test: 100%|██████████| 3/3 [00:00<00:00, 42.88it/s]\n"
          ]
        },
        {
          "output_type": "stream",
          "name": "stdout",
          "text": [
            "\n",
            "Epoch   130\n",
            "Train_cost  = 0.7794 | Test_cost  = 0.7055 | \n"
          ]
        },
        {
          "output_type": "stream",
          "name": "stderr",
          "text": [
            "Train: 100%|██████████| 7/7 [00:00<00:00, 24.84it/s]\n",
            "Test: 100%|██████████| 3/3 [00:00<00:00, 49.94it/s]\n"
          ]
        },
        {
          "output_type": "stream",
          "name": "stdout",
          "text": [
            "\n",
            "Epoch   131\n",
            "Train_cost  = 0.7717 | Test_cost  = 0.6984 | \n"
          ]
        },
        {
          "output_type": "stream",
          "name": "stderr",
          "text": [
            "Train: 100%|██████████| 7/7 [00:00<00:00, 25.28it/s]\n",
            "Test: 100%|██████████| 3/3 [00:00<00:00, 45.77it/s]\n"
          ]
        },
        {
          "output_type": "stream",
          "name": "stdout",
          "text": [
            "\n",
            "Epoch   132\n",
            "Train_cost  = 0.7641 | Test_cost  = 0.6915 | \n"
          ]
        },
        {
          "output_type": "stream",
          "name": "stderr",
          "text": [
            "Train: 100%|██████████| 7/7 [00:00<00:00, 26.53it/s]\n",
            "Test: 100%|██████████| 3/3 [00:00<00:00, 45.09it/s]\n"
          ]
        },
        {
          "output_type": "stream",
          "name": "stdout",
          "text": [
            "\n",
            "Epoch   133\n",
            "Train_cost  = 0.7568 | Test_cost  = 0.6849 | \n"
          ]
        },
        {
          "output_type": "stream",
          "name": "stderr",
          "text": [
            "Train: 100%|██████████| 7/7 [00:00<00:00, 25.28it/s]\n",
            "Test: 100%|██████████| 3/3 [00:00<00:00, 45.78it/s]\n"
          ]
        },
        {
          "output_type": "stream",
          "name": "stdout",
          "text": [
            "\n",
            "Epoch   134\n",
            "Train_cost  = 0.7496 | Test_cost  = 0.6785 | \n"
          ]
        },
        {
          "output_type": "stream",
          "name": "stderr",
          "text": [
            "Train: 100%|██████████| 7/7 [00:00<00:00, 26.19it/s]\n",
            "Test: 100%|██████████| 3/3 [00:00<00:00, 45.84it/s]\n"
          ]
        },
        {
          "output_type": "stream",
          "name": "stdout",
          "text": [
            "\n",
            "Epoch   135\n",
            "Train_cost  = 0.7425 | Test_cost  = 0.6723 | \n"
          ]
        },
        {
          "output_type": "stream",
          "name": "stderr",
          "text": [
            "Train: 100%|██████████| 7/7 [00:00<00:00, 26.62it/s]\n",
            "Test: 100%|██████████| 3/3 [00:00<00:00, 50.10it/s]\n"
          ]
        },
        {
          "output_type": "stream",
          "name": "stdout",
          "text": [
            "\n",
            "Epoch   136\n",
            "Train_cost  = 0.7357 | Test_cost  = 0.6663 | \n"
          ]
        },
        {
          "output_type": "stream",
          "name": "stderr",
          "text": [
            "Train: 100%|██████████| 7/7 [00:00<00:00, 25.15it/s]\n",
            "Test: 100%|██████████| 3/3 [00:00<00:00, 45.20it/s]\n"
          ]
        },
        {
          "output_type": "stream",
          "name": "stdout",
          "text": [
            "\n",
            "Epoch   137\n",
            "Train_cost  = 0.7289 | Test_cost  = 0.6606 | \n"
          ]
        },
        {
          "output_type": "stream",
          "name": "stderr",
          "text": [
            "Train: 100%|██████████| 7/7 [00:00<00:00, 26.32it/s]\n",
            "Test: 100%|██████████| 3/3 [00:00<00:00, 39.73it/s]\n"
          ]
        },
        {
          "output_type": "stream",
          "name": "stdout",
          "text": [
            "\n",
            "Epoch   138\n",
            "Train_cost  = 0.7223 | Test_cost  = 0.6551 | \n"
          ]
        },
        {
          "output_type": "stream",
          "name": "stderr",
          "text": [
            "Train: 100%|██████████| 7/7 [00:00<00:00, 27.33it/s]\n",
            "Test: 100%|██████████| 3/3 [00:00<00:00, 43.31it/s]\n"
          ]
        },
        {
          "output_type": "stream",
          "name": "stdout",
          "text": [
            "\n",
            "Epoch   139\n",
            "Train_cost  = 0.7159 | Test_cost  = 0.6497 | \n"
          ]
        },
        {
          "output_type": "stream",
          "name": "stderr",
          "text": [
            "Train: 100%|██████████| 7/7 [00:00<00:00, 25.47it/s]\n",
            "Test: 100%|██████████| 3/3 [00:00<00:00, 40.40it/s]\n"
          ]
        },
        {
          "output_type": "stream",
          "name": "stdout",
          "text": [
            "\n",
            "Epoch   140\n",
            "Train_cost  = 0.7095 | Test_cost  = 0.6446 | \n"
          ]
        },
        {
          "output_type": "display_data",
          "data": {
            "text/plain": [
              "<Figure size 576x360 with 1 Axes>"
            ],
            "image/png": "[encoded data removed]"
          },
          "metadata": {
            "needs_background": "light"
          }
        },
        {
          "output_type": "stream",
          "name": "stderr",
          "text": [
            "Train: 100%|██████████| 7/7 [00:00<00:00, 25.20it/s]\n",
            "Test: 100%|██████████| 3/3 [00:00<00:00, 47.72it/s]\n"
          ]
        },
        {
          "output_type": "stream",
          "name": "stdout",
          "text": [
            "\n",
            "Epoch   141\n",
            "Train_cost  = 0.7033 | Test_cost  = 0.6396 | \n"
          ]
        },
        {
          "output_type": "stream",
          "name": "stderr",
          "text": [
            "Train: 100%|██████████| 7/7 [00:00<00:00, 24.80it/s]\n",
            "Test: 100%|██████████| 3/3 [00:00<00:00, 50.02it/s]\n"
          ]
        },
        {
          "output_type": "stream",
          "name": "stdout",
          "text": [
            "\n",
            "Epoch   142\n",
            "Train_cost  = 0.6972 | Test_cost  = 0.6349 | \n"
          ]
        },
        {
          "output_type": "stream",
          "name": "stderr",
          "text": [
            "Train: 100%|██████████| 7/7 [00:00<00:00, 26.28it/s]\n",
            "Test: 100%|██████████| 3/3 [00:00<00:00, 46.43it/s]\n"
          ]
        },
        {
          "output_type": "stream",
          "name": "stdout",
          "text": [
            "\n",
            "Epoch   143\n",
            "Train_cost  = 0.6913 | Test_cost  = 0.6303 | \n"
          ]
        },
        {
          "output_type": "stream",
          "name": "stderr",
          "text": [
            "Train: 100%|██████████| 7/7 [00:00<00:00, 25.38it/s]\n",
            "Test: 100%|██████████| 3/3 [00:00<00:00, 38.75it/s]\n"
          ]
        },
        {
          "output_type": "stream",
          "name": "stdout",
          "text": [
            "\n",
            "Epoch   144\n",
            "Train_cost  = 0.6854 | Test_cost  = 0.6259 | \n"
          ]
        },
        {
          "output_type": "stream",
          "name": "stderr",
          "text": [
            "Train: 100%|██████████| 7/7 [00:00<00:00, 26.07it/s]\n",
            "Test: 100%|██████████| 3/3 [00:00<00:00, 47.23it/s]\n"
          ]
        },
        {
          "output_type": "stream",
          "name": "stdout",
          "text": [
            "\n",
            "Epoch   145\n",
            "Train_cost  = 0.6797 | Test_cost  = 0.6216 | \n"
          ]
        },
        {
          "output_type": "stream",
          "name": "stderr",
          "text": [
            "Train: 100%|██████████| 7/7 [00:00<00:00, 25.95it/s]\n",
            "Test: 100%|██████████| 3/3 [00:00<00:00, 48.04it/s]\n"
          ]
        },
        {
          "output_type": "stream",
          "name": "stdout",
          "text": [
            "\n",
            "Epoch   146\n",
            "Train_cost  = 0.6741 | Test_cost  = 0.6175 | \n"
          ]
        },
        {
          "output_type": "stream",
          "name": "stderr",
          "text": [
            "Train: 100%|██████████| 7/7 [00:00<00:00, 25.59it/s]\n",
            "Test: 100%|██████████| 3/3 [00:00<00:00, 47.68it/s]\n"
          ]
        },
        {
          "output_type": "stream",
          "name": "stdout",
          "text": [
            "\n",
            "Epoch   147\n",
            "Train_cost  = 0.6686 | Test_cost  = 0.6135 | \n"
          ]
        },
        {
          "output_type": "stream",
          "name": "stderr",
          "text": [
            "Train: 100%|██████████| 7/7 [00:00<00:00, 25.94it/s]\n",
            "Test: 100%|██████████| 3/3 [00:00<00:00, 45.88it/s]\n"
          ]
        },
        {
          "output_type": "stream",
          "name": "stdout",
          "text": [
            "\n",
            "Epoch   148\n",
            "Train_cost  = 0.6632 | Test_cost  = 0.6097 | \n"
          ]
        },
        {
          "output_type": "stream",
          "name": "stderr",
          "text": [
            "Train: 100%|██████████| 7/7 [00:00<00:00, 25.06it/s]\n",
            "Test: 100%|██████████| 3/3 [00:00<00:00, 44.03it/s]\n"
          ]
        },
        {
          "output_type": "stream",
          "name": "stdout",
          "text": [
            "\n",
            "Epoch   149\n",
            "Train_cost  = 0.6579 | Test_cost  = 0.6060 | \n"
          ]
        },
        {
          "output_type": "stream",
          "name": "stderr",
          "text": [
            "Train: 100%|██████████| 7/7 [00:00<00:00, 24.76it/s]\n",
            "Test: 100%|██████████| 3/3 [00:00<00:00, 38.78it/s]\n"
          ]
        },
        {
          "output_type": "stream",
          "name": "stdout",
          "text": [
            "\n",
            "Epoch   150\n",
            "Train_cost  = 0.6528 | Test_cost  = 0.6024 | \n"
          ]
        },
        {
          "output_type": "stream",
          "name": "stderr",
          "text": [
            "Train: 100%|██████████| 7/7 [00:00<00:00, 26.06it/s]\n",
            "Test: 100%|██████████| 3/3 [00:00<00:00, 46.39it/s]\n"
          ]
        },
        {
          "output_type": "stream",
          "name": "stdout",
          "text": [
            "\n",
            "Epoch   151\n",
            "Train_cost  = 0.6477 | Test_cost  = 0.5989 | \n"
          ]
        },
        {
          "output_type": "stream",
          "name": "stderr",
          "text": [
            "Train: 100%|██████████| 7/7 [00:00<00:00, 26.26it/s]\n",
            "Test: 100%|██████████| 3/3 [00:00<00:00, 42.89it/s]\n"
          ]
        },
        {
          "output_type": "stream",
          "name": "stdout",
          "text": [
            "\n",
            "Epoch   152\n",
            "Train_cost  = 0.6428 | Test_cost  = 0.5955 | \n"
          ]
        },
        {
          "output_type": "stream",
          "name": "stderr",
          "text": [
            "Train: 100%|██████████| 7/7 [00:00<00:00, 25.35it/s]\n",
            "Test: 100%|██████████| 3/3 [00:00<00:00, 36.75it/s]\n"
          ]
        },
        {
          "output_type": "stream",
          "name": "stdout",
          "text": [
            "\n",
            "Epoch   153\n",
            "Train_cost  = 0.6379 | Test_cost  = 0.5923 | \n"
          ]
        },
        {
          "output_type": "stream",
          "name": "stderr",
          "text": [
            "Train: 100%|██████████| 7/7 [00:00<00:00, 26.48it/s]\n",
            "Test: 100%|██████████| 3/3 [00:00<00:00, 40.65it/s]\n"
          ]
        },
        {
          "output_type": "stream",
          "name": "stdout",
          "text": [
            "\n",
            "Epoch   154\n",
            "Train_cost  = 0.6332 | Test_cost  = 0.5892 | \n"
          ]
        },
        {
          "output_type": "stream",
          "name": "stderr",
          "text": [
            "Train: 100%|██████████| 7/7 [00:00<00:00, 26.34it/s]\n",
            "Test: 100%|██████████| 3/3 [00:00<00:00, 41.15it/s]\n"
          ]
        },
        {
          "output_type": "stream",
          "name": "stdout",
          "text": [
            "\n",
            "Epoch   155\n",
            "Train_cost  = 0.6286 | Test_cost  = 0.5861 | \n"
          ]
        },
        {
          "output_type": "stream",
          "name": "stderr",
          "text": [
            "Train: 100%|██████████| 7/7 [00:00<00:00, 25.46it/s]\n",
            "Test: 100%|██████████| 3/3 [00:00<00:00, 42.32it/s]\n"
          ]
        },
        {
          "output_type": "stream",
          "name": "stdout",
          "text": [
            "\n",
            "Epoch   156\n",
            "Train_cost  = 0.6241 | Test_cost  = 0.5832 | \n"
          ]
        },
        {
          "output_type": "stream",
          "name": "stderr",
          "text": [
            "Train: 100%|██████████| 7/7 [00:00<00:00, 26.11it/s]\n",
            "Test: 100%|██████████| 3/3 [00:00<00:00, 38.68it/s]\n"
          ]
        },
        {
          "output_type": "stream",
          "name": "stdout",
          "text": [
            "\n",
            "Epoch   157\n",
            "Train_cost  = 0.6196 | Test_cost  = 0.5803 | \n"
          ]
        },
        {
          "output_type": "stream",
          "name": "stderr",
          "text": [
            "Train: 100%|██████████| 7/7 [00:00<00:00, 24.26it/s]\n",
            "Test: 100%|██████████| 3/3 [00:00<00:00, 45.23it/s]\n"
          ]
        },
        {
          "output_type": "stream",
          "name": "stdout",
          "text": [
            "\n",
            "Epoch   158\n",
            "Train_cost  = 0.6153 | Test_cost  = 0.5775 | \n"
          ]
        },
        {
          "output_type": "stream",
          "name": "stderr",
          "text": [
            "Train: 100%|██████████| 7/7 [00:00<00:00, 26.09it/s]\n",
            "Test: 100%|██████████| 3/3 [00:00<00:00, 43.48it/s]\n"
          ]
        },
        {
          "output_type": "stream",
          "name": "stdout",
          "text": [
            "\n",
            "Epoch   159\n",
            "Train_cost  = 0.6111 | Test_cost  = 0.5748 | \n"
          ]
        },
        {
          "output_type": "stream",
          "name": "stderr",
          "text": [
            "Train: 100%|██████████| 7/7 [00:00<00:00, 25.23it/s]\n",
            "Test: 100%|██████████| 3/3 [00:00<00:00, 41.72it/s]\n"
          ]
        },
        {
          "output_type": "stream",
          "name": "stdout",
          "text": [
            "\n",
            "Epoch   160\n",
            "Train_cost  = 0.6069 | Test_cost  = 0.5722 | \n"
          ]
        },
        {
          "output_type": "display_data",
          "data": {
            "text/plain": [
              "<Figure size 576x360 with 1 Axes>"
            ],
            "image/png": "[encoded data removed]"
          },
          "metadata": {
            "needs_background": "light"
          }
        },
        {
          "output_type": "stream",
          "name": "stderr",
          "text": [
            "Train: 100%|██████████| 7/7 [00:00<00:00, 25.93it/s]\n",
            "Test: 100%|██████████| 3/3 [00:00<00:00, 39.42it/s]\n"
          ]
        },
        {
          "output_type": "stream",
          "name": "stdout",
          "text": [
            "\n",
            "Epoch   161\n",
            "Train_cost  = 0.6028 | Test_cost  = 0.5697 | \n"
          ]
        },
        {
          "output_type": "stream",
          "name": "stderr",
          "text": [
            "Train: 100%|██████████| 7/7 [00:00<00:00, 25.90it/s]\n",
            "Test: 100%|██████████| 3/3 [00:00<00:00, 43.28it/s]\n"
          ]
        },
        {
          "output_type": "stream",
          "name": "stdout",
          "text": [
            "\n",
            "Epoch   162\n",
            "Train_cost  = 0.5988 | Test_cost  = 0.5672 | \n"
          ]
        },
        {
          "output_type": "stream",
          "name": "stderr",
          "text": [
            "Train: 100%|██████████| 7/7 [00:00<00:00, 25.06it/s]\n",
            "Test: 100%|██████████| 3/3 [00:00<00:00, 42.86it/s]\n"
          ]
        },
        {
          "output_type": "stream",
          "name": "stdout",
          "text": [
            "\n",
            "Epoch   163\n",
            "Train_cost  = 0.5949 | Test_cost  = 0.5649 | \n"
          ]
        },
        {
          "output_type": "stream",
          "name": "stderr",
          "text": [
            "Train: 100%|██████████| 7/7 [00:00<00:00, 25.64it/s]\n",
            "Test: 100%|██████████| 3/3 [00:00<00:00, 46.27it/s]\n"
          ]
        },
        {
          "output_type": "stream",
          "name": "stdout",
          "text": [
            "\n",
            "Epoch   164\n",
            "Train_cost  = 0.5911 | Test_cost  = 0.5626 | \n"
          ]
        },
        {
          "output_type": "stream",
          "name": "stderr",
          "text": [
            "Train: 100%|██████████| 7/7 [00:00<00:00, 24.88it/s]\n",
            "Test: 100%|██████████| 3/3 [00:00<00:00, 45.45it/s]\n"
          ]
        },
        {
          "output_type": "stream",
          "name": "stdout",
          "text": [
            "\n",
            "Epoch   165\n",
            "Train_cost  = 0.5873 | Test_cost  = 0.5603 | \n"
          ]
        },
        {
          "output_type": "stream",
          "name": "stderr",
          "text": [
            "Train: 100%|██████████| 7/7 [00:00<00:00, 24.61it/s]\n",
            "Test: 100%|██████████| 3/3 [00:00<00:00, 45.82it/s]\n"
          ]
        },
        {
          "output_type": "stream",
          "name": "stdout",
          "text": [
            "\n",
            "Epoch   166\n",
            "Train_cost  = 0.5836 | Test_cost  = 0.5582 | \n"
          ]
        },
        {
          "output_type": "stream",
          "name": "stderr",
          "text": [
            "Train: 100%|██████████| 7/7 [00:00<00:00, 25.42it/s]\n",
            "Test: 100%|██████████| 3/3 [00:00<00:00, 35.28it/s]\n"
          ]
        },
        {
          "output_type": "stream",
          "name": "stdout",
          "text": [
            "\n",
            "Epoch   167\n",
            "Train_cost  = 0.5800 | Test_cost  = 0.5561 | \n"
          ]
        },
        {
          "output_type": "stream",
          "name": "stderr",
          "text": [
            "Train: 100%|██████████| 7/7 [00:00<00:00, 24.98it/s]\n",
            "Test: 100%|██████████| 3/3 [00:00<00:00, 47.46it/s]\n"
          ]
        },
        {
          "output_type": "stream",
          "name": "stdout",
          "text": [
            "\n",
            "Epoch   168\n",
            "Train_cost  = 0.5764 | Test_cost  = 0.5541 | \n"
          ]
        },
        {
          "output_type": "stream",
          "name": "stderr",
          "text": [
            "Train: 100%|██████████| 7/7 [00:00<00:00, 25.61it/s]\n",
            "Test: 100%|██████████| 3/3 [00:00<00:00, 42.30it/s]\n"
          ]
        },
        {
          "output_type": "stream",
          "name": "stdout",
          "text": [
            "\n",
            "Epoch   169\n",
            "Train_cost  = 0.5729 | Test_cost  = 0.5521 | \n"
          ]
        },
        {
          "output_type": "stream",
          "name": "stderr",
          "text": [
            "Train: 100%|██████████| 7/7 [00:00<00:00, 25.22it/s]\n",
            "Test: 100%|██████████| 3/3 [00:00<00:00, 40.02it/s]\n"
          ]
        },
        {
          "output_type": "stream",
          "name": "stdout",
          "text": [
            "\n",
            "Epoch   170\n",
            "Train_cost  = 0.5695 | Test_cost  = 0.5502 | \n"
          ]
        },
        {
          "output_type": "stream",
          "name": "stderr",
          "text": [
            "Train: 100%|██████████| 7/7 [00:00<00:00, 23.90it/s]\n",
            "Test: 100%|██████████| 3/3 [00:00<00:00, 43.58it/s]\n"
          ]
        },
        {
          "output_type": "stream",
          "name": "stdout",
          "text": [
            "\n",
            "Epoch   171\n",
            "Train_cost  = 0.5661 | Test_cost  = 0.5484 | \n"
          ]
        },
        {
          "output_type": "stream",
          "name": "stderr",
          "text": [
            "Train: 100%|██████████| 7/7 [00:00<00:00, 26.12it/s]\n",
            "Test: 100%|██████████| 3/3 [00:00<00:00, 45.14it/s]\n"
          ]
        },
        {
          "output_type": "stream",
          "name": "stdout",
          "text": [
            "\n",
            "Epoch   172\n",
            "Train_cost  = 0.5628 | Test_cost  = 0.5466 | \n"
          ]
        },
        {
          "output_type": "stream",
          "name": "stderr",
          "text": [
            "Train: 100%|██████████| 7/7 [00:00<00:00, 25.24it/s]\n",
            "Test: 100%|██████████| 3/3 [00:00<00:00, 42.74it/s]\n"
          ]
        },
        {
          "output_type": "stream",
          "name": "stdout",
          "text": [
            "\n",
            "Epoch   173\n",
            "Train_cost  = 0.5595 | Test_cost  = 0.5449 | \n"
          ]
        },
        {
          "output_type": "stream",
          "name": "stderr",
          "text": [
            "Train: 100%|██████████| 7/7 [00:00<00:00, 24.50it/s]\n",
            "Test: 100%|██████████| 3/3 [00:00<00:00, 39.42it/s]\n"
          ]
        },
        {
          "output_type": "stream",
          "name": "stdout",
          "text": [
            "\n",
            "Epoch   174\n",
            "Train_cost  = 0.5563 | Test_cost  = 0.5432 | \n"
          ]
        },
        {
          "output_type": "stream",
          "name": "stderr",
          "text": [
            "Train: 100%|██████████| 7/7 [00:00<00:00, 25.13it/s]\n",
            "Test: 100%|██████████| 3/3 [00:00<00:00, 44.76it/s]\n"
          ]
        },
        {
          "output_type": "stream",
          "name": "stdout",
          "text": [
            "\n",
            "Epoch   175\n",
            "Train_cost  = 0.5531 | Test_cost  = 0.5416 | \n"
          ]
        },
        {
          "output_type": "stream",
          "name": "stderr",
          "text": [
            "Train: 100%|██████████| 7/7 [00:00<00:00, 26.41it/s]\n",
            "Test: 100%|██████████| 3/3 [00:00<00:00, 35.12it/s]\n"
          ]
        },
        {
          "output_type": "stream",
          "name": "stdout",
          "text": [
            "\n",
            "Epoch   176\n",
            "Train_cost  = 0.5500 | Test_cost  = 0.5400 | \n"
          ]
        },
        {
          "output_type": "stream",
          "name": "stderr",
          "text": [
            "Train: 100%|██████████| 7/7 [00:00<00:00, 25.75it/s]\n",
            "Test: 100%|██████████| 3/3 [00:00<00:00, 42.76it/s]\n"
          ]
        },
        {
          "output_type": "stream",
          "name": "stdout",
          "text": [
            "\n",
            "Epoch   177\n",
            "Train_cost  = 0.5469 | Test_cost  = 0.5385 | \n"
          ]
        },
        {
          "output_type": "stream",
          "name": "stderr",
          "text": [
            "Train: 100%|██████████| 7/7 [00:00<00:00, 25.75it/s]\n",
            "Test: 100%|██████████| 3/3 [00:00<00:00, 38.26it/s]\n"
          ]
        },
        {
          "output_type": "stream",
          "name": "stdout",
          "text": [
            "\n",
            "Epoch   178\n",
            "Train_cost  = 0.5439 | Test_cost  = 0.5371 | \n"
          ]
        },
        {
          "output_type": "stream",
          "name": "stderr",
          "text": [
            "Train: 100%|██████████| 7/7 [00:00<00:00, 24.20it/s]\n",
            "Test: 100%|██████████| 3/3 [00:00<00:00, 44.66it/s]\n"
          ]
        },
        {
          "output_type": "stream",
          "name": "stdout",
          "text": [
            "\n",
            "Epoch   179\n",
            "Train_cost  = 0.5409 | Test_cost  = 0.5357 | \n"
          ]
        },
        {
          "output_type": "stream",
          "name": "stderr",
          "text": [
            "Train: 100%|██████████| 7/7 [00:00<00:00, 26.38it/s]\n",
            "Test: 100%|██████████| 3/3 [00:00<00:00, 43.24it/s]\n"
          ]
        },
        {
          "output_type": "stream",
          "name": "stdout",
          "text": [
            "\n",
            "Epoch   180\n",
            "Train_cost  = 0.5380 | Test_cost  = 0.5343 | \n"
          ]
        },
        {
          "output_type": "display_data",
          "data": {
            "text/plain": [
              "<Figure size 576x360 with 1 Axes>"
            ],
            "image/png": "[encoded data removed]"
          },
          "metadata": {
            "needs_background": "light"
          }
        },
        {
          "output_type": "stream",
          "name": "stderr",
          "text": [
            "Train: 100%|██████████| 7/7 [00:00<00:00, 25.62it/s]\n",
            "Test: 100%|██████████| 3/3 [00:00<00:00, 37.60it/s]\n"
          ]
        },
        {
          "output_type": "stream",
          "name": "stdout",
          "text": [
            "\n",
            "Epoch   181\n",
            "Train_cost  = 0.5351 | Test_cost  = 0.5330 | \n"
          ]
        },
        {
          "output_type": "stream",
          "name": "stderr",
          "text": [
            "Train: 100%|██████████| 7/7 [00:00<00:00, 25.44it/s]\n",
            "Test: 100%|██████████| 3/3 [00:00<00:00, 44.26it/s]\n"
          ]
        },
        {
          "output_type": "stream",
          "name": "stdout",
          "text": [
            "\n",
            "Epoch   182\n",
            "Train_cost  = 0.5322 | Test_cost  = 0.5317 | \n"
          ]
        },
        {
          "output_type": "stream",
          "name": "stderr",
          "text": [
            "Train: 100%|██████████| 7/7 [00:00<00:00, 26.15it/s]\n",
            "Test: 100%|██████████| 3/3 [00:00<00:00, 45.72it/s]\n"
          ]
        },
        {
          "output_type": "stream",
          "name": "stdout",
          "text": [
            "\n",
            "Epoch   183\n",
            "Train_cost  = 0.5294 | Test_cost  = 0.5305 | \n"
          ]
        },
        {
          "output_type": "stream",
          "name": "stderr",
          "text": [
            "Train: 100%|██████████| 7/7 [00:00<00:00, 25.15it/s]\n",
            "Test: 100%|██████████| 3/3 [00:00<00:00, 43.98it/s]\n"
          ]
        },
        {
          "output_type": "stream",
          "name": "stdout",
          "text": [
            "\n",
            "Epoch   184\n",
            "Train_cost  = 0.5266 | Test_cost  = 0.5293 | \n"
          ]
        },
        {
          "output_type": "stream",
          "name": "stderr",
          "text": [
            "Train: 100%|██████████| 7/7 [00:00<00:00, 25.37it/s]\n",
            "Test: 100%|██████████| 3/3 [00:00<00:00, 45.03it/s]\n"
          ]
        },
        {
          "output_type": "stream",
          "name": "stdout",
          "text": [
            "\n",
            "Epoch   185\n",
            "Train_cost  = 0.5238 | Test_cost  = 0.5281 | \n"
          ]
        },
        {
          "output_type": "stream",
          "name": "stderr",
          "text": [
            "Train: 100%|██████████| 7/7 [00:00<00:00, 25.14it/s]\n",
            "Test: 100%|██████████| 3/3 [00:00<00:00, 40.91it/s]\n"
          ]
        },
        {
          "output_type": "stream",
          "name": "stdout",
          "text": [
            "\n",
            "Epoch   186\n",
            "Train_cost  = 0.5211 | Test_cost  = 0.5271 | \n"
          ]
        },
        {
          "output_type": "stream",
          "name": "stderr",
          "text": [
            "Train: 100%|██████████| 7/7 [00:00<00:00, 25.52it/s]\n",
            "Test: 100%|██████████| 3/3 [00:00<00:00, 41.72it/s]\n"
          ]
        },
        {
          "output_type": "stream",
          "name": "stdout",
          "text": [
            "\n",
            "Epoch   187\n",
            "Train_cost  = 0.5184 | Test_cost  = 0.5260 | \n"
          ]
        },
        {
          "output_type": "stream",
          "name": "stderr",
          "text": [
            "Train: 100%|██████████| 7/7 [00:00<00:00, 25.52it/s]\n",
            "Test: 100%|██████████| 3/3 [00:00<00:00, 34.72it/s]\n"
          ]
        },
        {
          "output_type": "stream",
          "name": "stdout",
          "text": [
            "\n",
            "Epoch   188\n",
            "Train_cost  = 0.5158 | Test_cost  = 0.5250 | \n"
          ]
        },
        {
          "output_type": "stream",
          "name": "stderr",
          "text": [
            "Train: 100%|██████████| 7/7 [00:00<00:00, 24.88it/s]\n",
            "Test: 100%|██████████| 3/3 [00:00<00:00, 44.55it/s]\n"
          ]
        },
        {
          "output_type": "stream",
          "name": "stdout",
          "text": [
            "\n",
            "Epoch   189\n",
            "Train_cost  = 0.5132 | Test_cost  = 0.5240 | \n"
          ]
        },
        {
          "output_type": "stream",
          "name": "stderr",
          "text": [
            "Train: 100%|██████████| 7/7 [00:00<00:00, 25.45it/s]\n",
            "Test: 100%|██████████| 3/3 [00:00<00:00, 42.91it/s]\n"
          ]
        },
        {
          "output_type": "stream",
          "name": "stdout",
          "text": [
            "\n",
            "Epoch   190\n",
            "Train_cost  = 0.5106 | Test_cost  = 0.5231 | \n"
          ]
        },
        {
          "output_type": "stream",
          "name": "stderr",
          "text": [
            "Train: 100%|██████████| 7/7 [00:00<00:00, 26.60it/s]\n",
            "Test: 100%|██████████| 3/3 [00:00<00:00, 44.30it/s]\n"
          ]
        },
        {
          "output_type": "stream",
          "name": "stdout",
          "text": [
            "\n",
            "Epoch   191\n",
            "Train_cost  = 0.5080 | Test_cost  = 0.5222 | \n"
          ]
        },
        {
          "output_type": "stream",
          "name": "stderr",
          "text": [
            "Train: 100%|██████████| 7/7 [00:00<00:00, 25.28it/s]\n",
            "Test: 100%|██████████| 3/3 [00:00<00:00, 38.97it/s]\n"
          ]
        },
        {
          "output_type": "stream",
          "name": "stdout",
          "text": [
            "\n",
            "Epoch   192\n",
            "Train_cost  = 0.5055 | Test_cost  = 0.5214 | \n"
          ]
        },
        {
          "output_type": "stream",
          "name": "stderr",
          "text": [
            "Train: 100%|██████████| 7/7 [00:00<00:00, 25.21it/s]\n",
            "Test: 100%|██████████| 3/3 [00:00<00:00, 42.62it/s]\n"
          ]
        },
        {
          "output_type": "stream",
          "name": "stdout",
          "text": [
            "\n",
            "Epoch   193\n",
            "Train_cost  = 0.5030 | Test_cost  = 0.5206 | \n"
          ]
        },
        {
          "output_type": "stream",
          "name": "stderr",
          "text": [
            "Train: 100%|██████████| 7/7 [00:00<00:00, 26.37it/s]\n",
            "Test: 100%|██████████| 3/3 [00:00<00:00, 43.64it/s]\n"
          ]
        },
        {
          "output_type": "stream",
          "name": "stdout",
          "text": [
            "\n",
            "Epoch   194\n",
            "Train_cost  = 0.5005 | Test_cost  = 0.5199 | \n"
          ]
        },
        {
          "output_type": "stream",
          "name": "stderr",
          "text": [
            "Train: 100%|██████████| 7/7 [00:00<00:00, 25.58it/s]\n",
            "Test: 100%|██████████| 3/3 [00:00<00:00, 36.16it/s]\n"
          ]
        },
        {
          "output_type": "stream",
          "name": "stdout",
          "text": [
            "\n",
            "Epoch   195\n",
            "Train_cost  = 0.4981 | Test_cost  = 0.5192 | \n"
          ]
        },
        {
          "output_type": "stream",
          "name": "stderr",
          "text": [
            "Train: 100%|██████████| 7/7 [00:00<00:00, 25.09it/s]\n",
            "Test: 100%|██████████| 3/3 [00:00<00:00, 37.46it/s]\n"
          ]
        },
        {
          "output_type": "stream",
          "name": "stdout",
          "text": [
            "\n",
            "Epoch   196\n",
            "Train_cost  = 0.4957 | Test_cost  = 0.5185 | \n"
          ]
        },
        {
          "output_type": "stream",
          "name": "stderr",
          "text": [
            "Train: 100%|██████████| 7/7 [00:00<00:00, 24.63it/s]\n",
            "Test: 100%|██████████| 3/3 [00:00<00:00, 40.07it/s]\n"
          ]
        },
        {
          "output_type": "stream",
          "name": "stdout",
          "text": [
            "\n",
            "Epoch   197\n",
            "Train_cost  = 0.4933 | Test_cost  = 0.5179 | \n"
          ]
        },
        {
          "output_type": "stream",
          "name": "stderr",
          "text": [
            "Train: 100%|██████████| 7/7 [00:00<00:00, 24.73it/s]\n",
            "Test: 100%|██████████| 3/3 [00:00<00:00, 41.49it/s]\n"
          ]
        },
        {
          "output_type": "stream",
          "name": "stdout",
          "text": [
            "\n",
            "Epoch   198\n",
            "Train_cost  = 0.4909 | Test_cost  = 0.5174 | \n"
          ]
        },
        {
          "output_type": "stream",
          "name": "stderr",
          "text": [
            "Train: 100%|██████████| 7/7 [00:00<00:00, 25.39it/s]\n",
            "Test: 100%|██████████| 3/3 [00:00<00:00, 42.09it/s]\n"
          ]
        },
        {
          "output_type": "stream",
          "name": "stdout",
          "text": [
            "\n",
            "Epoch   199\n",
            "Train_cost  = 0.4886 | Test_cost  = 0.5169 | \n"
          ]
        },
        {
          "output_type": "stream",
          "name": "stderr",
          "text": [
            "Train: 100%|██████████| 7/7 [00:00<00:00, 25.08it/s]\n",
            "Test: 100%|██████████| 3/3 [00:00<00:00, 40.35it/s]\n"
          ]
        },
        {
          "output_type": "stream",
          "name": "stdout",
          "text": [
            "\n",
            "Epoch   200\n",
            "Train_cost  = 0.4863 | Test_cost  = 0.5165 | \n"
          ]
        },
        {
          "output_type": "display_data",
          "data": {
            "text/plain": [
              "<Figure size 576x360 with 1 Axes>"
            ],
            "image/png": "[encoded data removed]"
          },
          "metadata": {
            "needs_background": "light"
          }
        },
        {
          "output_type": "stream",
          "name": "stderr",
          "text": [
            "Train: 100%|██████████| 7/7 [00:00<00:00, 25.86it/s]\n",
            "Test: 100%|██████████| 3/3 [00:00<00:00, 38.51it/s]\n"
          ]
        },
        {
          "output_type": "stream",
          "name": "stdout",
          "text": [
            "\n",
            "Epoch   201\n",
            "Train_cost  = 0.4840 | Test_cost  = 0.5161 | \n"
          ]
        },
        {
          "output_type": "stream",
          "name": "stderr",
          "text": [
            "Train: 100%|██████████| 7/7 [00:00<00:00, 24.67it/s]\n",
            "Test: 100%|██████████| 3/3 [00:00<00:00, 37.76it/s]\n"
          ]
        },
        {
          "output_type": "stream",
          "name": "stdout",
          "text": [
            "\n",
            "Epoch   202\n",
            "Train_cost  = 0.4817 | Test_cost  = 0.5158 | \n"
          ]
        },
        {
          "output_type": "stream",
          "name": "stderr",
          "text": [
            "Train: 100%|██████████| 7/7 [00:00<00:00, 24.73it/s]\n",
            "Test: 100%|██████████| 3/3 [00:00<00:00, 40.83it/s]\n"
          ]
        },
        {
          "output_type": "stream",
          "name": "stdout",
          "text": [
            "\n",
            "Epoch   203\n",
            "Train_cost  = 0.4795 | Test_cost  = 0.5156 | \n"
          ]
        },
        {
          "output_type": "stream",
          "name": "stderr",
          "text": [
            "Train: 100%|██████████| 7/7 [00:00<00:00, 25.25it/s]\n",
            "Test: 100%|██████████| 3/3 [00:00<00:00, 37.59it/s]\n"
          ]
        },
        {
          "output_type": "stream",
          "name": "stdout",
          "text": [
            "\n",
            "Epoch   204\n",
            "Train_cost  = 0.4773 | Test_cost  = 0.5154 | \n"
          ]
        },
        {
          "output_type": "stream",
          "name": "stderr",
          "text": [
            "Train: 100%|██████████| 7/7 [00:00<00:00, 25.15it/s]\n",
            "Test: 100%|██████████| 3/3 [00:00<00:00, 47.07it/s]\n"
          ]
        },
        {
          "output_type": "stream",
          "name": "stdout",
          "text": [
            "\n",
            "Epoch   205\n",
            "Train_cost  = 0.4751 | Test_cost  = 0.5154 | \n"
          ]
        },
        {
          "output_type": "stream",
          "name": "stderr",
          "text": [
            "Train: 100%|██████████| 7/7 [00:00<00:00, 11.69it/s]\n",
            "Test: 100%|██████████| 3/3 [00:00<00:00, 38.96it/s]\n"
          ]
        },
        {
          "output_type": "stream",
          "name": "stdout",
          "text": [
            "\n",
            "Epoch   206\n",
            "Train_cost  = 0.4730 | Test_cost  = 0.5154 | \n",
            "\u001b[31m==> EarlyStop patience =  1 | Best test_cost: 0.5154\u001b[0m\n"
          ]
        },
        {
          "output_type": "stream",
          "name": "stderr",
          "text": [
            "Train: 100%|██████████| 7/7 [00:00<00:00, 25.78it/s]\n",
            "Test: 100%|██████████| 3/3 [00:00<00:00, 40.57it/s]\n"
          ]
        },
        {
          "output_type": "stream",
          "name": "stdout",
          "text": [
            "\n",
            "Epoch   207\n",
            "Train_cost  = 0.4709 | Test_cost  = 0.5156 | \n",
            "\u001b[31m==> EarlyStop patience =  2 | Best test_cost: 0.5154\u001b[0m\n"
          ]
        },
        {
          "output_type": "stream",
          "name": "stderr",
          "text": [
            "Train: 100%|██████████| 7/7 [00:00<00:00, 11.29it/s]\n",
            "Test: 100%|██████████| 3/3 [00:00<00:00, 41.33it/s]\n"
          ]
        },
        {
          "output_type": "stream",
          "name": "stdout",
          "text": [
            "\n",
            "Epoch   208\n",
            "Train_cost  = 0.4688 | Test_cost  = 0.5160 | \n",
            "\u001b[31m==> EarlyStop patience =  3 | Best test_cost: 0.5154\u001b[0m\n"
          ]
        },
        {
          "output_type": "stream",
          "name": "stderr",
          "text": [
            "Train: 100%|██████████| 7/7 [00:00<00:00, 25.58it/s]\n",
            "Test: 100%|██████████| 3/3 [00:00<00:00, 45.94it/s]\n"
          ]
        },
        {
          "output_type": "stream",
          "name": "stdout",
          "text": [
            "\n",
            "Epoch   209\n",
            "Train_cost  = 0.4668 | Test_cost  = 0.5166 | \n",
            "\u001b[31m==> EarlyStop patience =  4 | Best test_cost: 0.5154\u001b[0m\n"
          ]
        },
        {
          "output_type": "stream",
          "name": "stderr",
          "text": [
            "Train: 100%|██████████| 7/7 [00:00<00:00, 24.66it/s]\n",
            "Test: 100%|██████████| 3/3 [00:00<00:00, 40.84it/s]\n"
          ]
        },
        {
          "output_type": "stream",
          "name": "stdout",
          "text": [
            "\n",
            "Epoch   210\n",
            "Train_cost  = 0.4648 | Test_cost  = 0.5175 | \n",
            "\u001b[31m==> EarlyStop patience =  5 | Best test_cost: 0.5154\u001b[0m\n",
            "\u001b[31m==> Execute Early Stopping at epoch: 210 | Best test_cost: 0.5154\u001b[0m\n",
            "\u001b[31m==> Best model is saved at /content/data/model/bilstm\u001b[0m\n"
          ]
        },
        {
          "output_type": "display_data",
          "data": {
            "text/plain": [
              "<Figure size 576x360 with 1 Axes>"
            ],
            "image/png": "[encoded data removed]"
          },
          "metadata": {
            "needs_background": "light"
          }
        }
      ],
      "source": [
        "while True:\n",
        "  train_cost = loop_fn(\"train\", train_set, train_loader, model, criterion, optimizer, device)\n",
        "  with torch.no_grad():\n",
        "    test_cost= loop_fn(\"test\", test_set, test_loader, model, criterion, optimizer, device)\n",
        "\n",
        "  #Logging\n",
        "  callback.log(train_cost, test_cost)\n",
        "\n",
        "  #Checkpoint\n",
        "  callback.save_checkpoint()\n",
        "\n",
        "  #Runtime_plotting\n",
        "  callback.cost_runtime_plotting()\n",
        "\n",
        "  #Early stopping\n",
        "  if callback.early_stopping(model, monitor=\"test_cost\"):\n",
        "        callback.plot_cost()\n",
        "        break"
      ]
    },
    {
      "cell_type": "markdown",
      "id": "voJ9Va2IGfHh",
      "metadata": {
        "id": "voJ9Va2IGfHh"
      },
      "source": [
        "## Sanity Check"
      ]
    },
    {
      "cell_type": "code",
      "execution_count": 16,
      "id": "4hRUhr6bJ1On",
      "metadata": {
        "id": "4hRUhr6bJ1On"
      },
      "outputs": [],
      "source": [
        "# utils\n",
        "def data4pred(model, dataset, dataloader, device):    \n",
        "    preds, targets = [], []\n",
        "    hidden = None\n",
        "    with torch.no_grad():\n",
        "        model.eval()\n",
        "        for inputs, target in dataloader:\n",
        "            inputs = inputs.to(device)\n",
        "            \n",
        "            output, hidden = model(inputs, hidden)\n",
        "            preds += output.flatten().tolist()\n",
        "            targets += target.flatten().tolist()\n",
        "\n",
        "    plt.plot(dataset.target_ticks, targets, 'b-', label=\"data\")\n",
        "    plt.plot(dataset.target_ticks, preds, 'r-', label=\"pred\")\n",
        "    plt.legend()    \n",
        "    \n",
        "def pred4pred(model, dataset, dataloader, device, n_prior=500, n_forecast=200):\n",
        "    preds, targets = [], []\n",
        "    hidden = None    \n",
        "    end = n_prior + n_forecast    \n",
        "    with torch.no_grad():\n",
        "        model.eval()       \n",
        "        for idx, (inputs, target) in enumerate(dataloader):\n",
        "            if idx == end:\n",
        "                break\n",
        "            elif idx > n_prior:\n",
        "                inputs[0, 0, 0] = preds[-1]\n",
        "                \n",
        "            inputs = inputs.to(device)\n",
        "            output, hidden = model(inputs, hidden)\n",
        "            \n",
        "            if idx > n_prior:\n",
        "                preds.append(output.flatten().tolist()[-1])\n",
        "            else:\n",
        "                preds += output.flatten().tolist()   \n",
        "            targets += target.flatten().tolist()\n",
        "\n",
        "    plt.plot(dataset.target_ticks[:n_prior], targets[:n_prior], 'b-', label=\"history_data\")\n",
        "    plt.plot(dataset.target_ticks[n_prior:end], targets[n_prior:], 'b-', label=\"unseen_data\", alpha=0.3)\n",
        "    plt.plot(dataset.target_ticks[:end], preds, 'r-', label=\"prediction\")\n",
        "    plt.axvline(dataset.target_ticks[n_prior], color='k', linestyle=\"--\", linewidth=1)\n",
        "    plt.legend()   "
      ]
    },
    {
      "cell_type": "code",
      "execution_count": 17,
      "id": "FnuDa5BPogRc",
      "metadata": {
        "colab": {
          "base_uri": "https://localhost:8080/"
        },
        "id": "FnuDa5BPogRc",
        "outputId": "306e5a23-7bc5-42f5-d5e1-fe24caa7c77f"
      },
      "outputs": [
        {
          "output_type": "stream",
          "name": "stdout",
          "text": [
            "(N, S, F): (2736, 1, 1)\n",
            "Note: last \u001b[31m0 data excluded\u001b[0m\n",
            "\n",
            "(N, S, F): (912, 1, 1)\n",
            "Note: last \u001b[31m0 data excluded\u001b[0m\n",
            "\n"
          ]
        }
      ],
      "source": [
        "train_forecast_set = TimeSeriesDataset(ts_train, \"Temp\", 1)\n",
        "trainforecastloader = DataLoader(train_forecast_set)\n",
        "test_forecast_set = TimeSeriesDataset(ts_test, \"Temp\", 1)\n",
        "testforecastloader = DataLoader(test_forecast_set)"
      ]
    },
    {
      "cell_type": "code",
      "execution_count": 18,
      "id": "vjzjhM3zpV-d",
      "metadata": {
        "colab": {
          "base_uri": "https://localhost:8080/",
          "height": 624
        },
        "id": "vjzjhM3zpV-d",
        "outputId": "15511a63-f68a-4c92-e5ba-4b8c74a985fc"
      },
      "outputs": [
        {
          "output_type": "execute_result",
          "data": {
            "text/plain": [
              "Text(0.5, 1.0, 'Test')"
            ]
          },
          "metadata": {},
          "execution_count": 18
        },
        {
          "output_type": "display_data",
          "data": {
            "text/plain": [
              "<Figure size 1080x720 with 2 Axes>"
            ],
            "image/png": "[encoded data removed]"
          },
          "metadata": {
            "needs_background": "light"
          }
        }
      ],
      "source": [
        "# Data 4 Pred\n",
        "plt.figure(figsize=(15, 10))\n",
        "\n",
        "plt.subplot(211)\n",
        "data4pred(model, train_forecast_set, trainforecastloader, device)\n",
        "plt.title(\"Train\")\n",
        "\n",
        "plt.subplot(212)\n",
        "data4pred(model, test_forecast_set, testforecastloader, device)\n",
        "plt.title(\"Test\")"
      ]
    },
    {
      "cell_type": "code",
      "execution_count": 19,
      "id": "a9BoJS-Spu-o",
      "metadata": {
        "colab": {
          "base_uri": "https://localhost:8080/",
          "height": 353
        },
        "id": "a9BoJS-Spu-o",
        "outputId": "e147b7fd-02a0-4f96-dc90-e951f8a65f0e"
      },
      "outputs": [
        {
          "output_type": "execute_result",
          "data": {
            "text/plain": [
              "Text(0.5, 1.0, 'test')"
            ]
          },
          "metadata": {},
          "execution_count": 19
        },
        {
          "output_type": "display_data",
          "data": {
            "text/plain": [
              "<Figure size 1080x360 with 1 Axes>"
            ],
            "image/png": "[encoded data removed]"
          },
          "metadata": {
            "needs_background": "light"
          }
        }
      ],
      "source": [
        "# Pred 4 Pred\n",
        "plt.figure(figsize=(15, 5))\n",
        "pred4pred(model, test_forecast_set, testforecastloader, device)\n",
        "plt.title(\"test\")"
      ]
    }
  ],
  "metadata": {
    "colab": {
      "provenance": [],
      "include_colab_link": true
    },
    "gpuClass": "standard",
    "kernelspec": {
      "display_name": "Python 3",
      "name": "python3"
    },
    "language_info": {
      "name": "python"
    }
  },
  "nbformat": 4,
  "nbformat_minor": 5
}