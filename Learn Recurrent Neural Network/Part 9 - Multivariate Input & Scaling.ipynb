{
  "cells": [
    {
      "cell_type": "markdown",
      "metadata": {
        "id": "view-in-github",
        "colab_type": "text"
      },
      "source": [
        "<a href=\"https://colab.research.google.com/github/kangnurrohman/belajar-recurrent-neural-network/blob/main/materi/Part%209%20-%20Multivariate%20Input%20%26%20Scaling.ipynb\" target=\"_parent\"><img src=\"https://colab.research.google.com/assets/colab-badge.svg\" alt=\"Open In Colab\"/></a>"
      ]
    },
    {
      "cell_type": "code",
      "execution_count": 1,
      "id": "9W0vQINNS8Ds",
      "metadata": {
        "colab": {
          "base_uri": "https://localhost:8080/"
        },
        "id": "9W0vQINNS8Ds",
        "outputId": "454872ef-707e-4424-9af5-73acabdeb3e8"
      },
      "outputs": [
        {
          "output_type": "stream",
          "name": "stdout",
          "text": [
            "Mounted at /content/drive\n"
          ]
        }
      ],
      "source": [
        "from google.colab import drive\n",
        "drive.mount('/content/drive')"
      ]
    },
    {
      "cell_type": "code",
      "execution_count": null,
      "id": "Ydw3MUFdYj-L",
      "metadata": {
        "id": "Ydw3MUFdYj-L"
      },
      "outputs": [],
      "source": [
        "pip install jcopdl luwiji"
      ]
    },
    {
      "cell_type": "code",
      "execution_count": 3,
      "id": "C0fhFftrS8jU",
      "metadata": {
        "id": "C0fhFftrS8jU"
      },
      "outputs": [],
      "source": [
        "import zipfile\n",
        "zip_ref = zipfile.ZipFile(\"/content/drive/MyDrive/Colab Notebooks/data/data 4.zip\", 'r')\n",
        "zip_ref.extractall(\"data\")\n",
        "zip_ref.close()"
      ]
    },
    {
      "cell_type": "code",
      "execution_count": 4,
      "id": "XvtCR5eeTAtF",
      "metadata": {
        "id": "XvtCR5eeTAtF"
      },
      "outputs": [],
      "source": [
        "import numpy as np\n",
        "import pandas as pd\n",
        "import matplotlib.pyplot as plt\n",
        "\n",
        "from sklearn.model_selection import train_test_split"
      ]
    },
    {
      "cell_type": "code",
      "execution_count": 5,
      "id": "LDhxJzLf7KGi",
      "metadata": {
        "colab": {
          "base_uri": "https://localhost:8080/"
        },
        "id": "LDhxJzLf7KGi",
        "outputId": "6310663d-1558-4dd4-b1b9-050aa4e999e8"
      },
      "outputs": [
        {
          "output_type": "execute_result",
          "data": {
            "text/plain": [
              "device(type='cpu')"
            ]
          },
          "metadata": {},
          "execution_count": 5
        }
      ],
      "source": [
        "import torch\n",
        "from torch import nn, optim\n",
        "from jcopdl.callback import Callback, set_config\n",
        "\n",
        "device = torch.device(\"cuda\" if torch.cuda.is_available() else \"cpu\")\n",
        "device"
      ]
    },
    {
      "cell_type": "markdown",
      "id": "fMElUhUqTh0W",
      "metadata": {
        "id": "fMElUhUqTh0W"
      },
      "source": [
        "## Import Data"
      ]
    },
    {
      "cell_type": "code",
      "execution_count": 13,
      "id": "I5ZMcb1iTjQ5",
      "metadata": {
        "colab": {
          "base_uri": "https://localhost:8080/",
          "height": 237
        },
        "id": "I5ZMcb1iTjQ5",
        "outputId": "5b036652-de4a-4f43-9ce2-4a4959e05ddc"
      },
      "outputs": [
        {
          "output_type": "execute_result",
          "data": {
            "text/plain": [
              "            Temp  quarter_1  quarter_2  quarter_3  quarter_4\n",
              "Date                                                        \n",
              "1981-01-01  20.7          1          0          0          0\n",
              "1981-01-02  17.9          1          0          0          0\n",
              "1981-01-03  18.8          1          0          0          0\n",
              "1981-01-04  14.6          1          0          0          0\n",
              "1981-01-05  15.8          1          0          0          0"
            ],
            "text/html": [
              "\n",
              "  <div id=\"df-bc990813-73ff-460a-ae48-ec6ceada18f7\">\n",
              "    <div class=\"colab-df-container\">\n",
              "      <div>\n",
              "<style scoped>\n",
              "    .dataframe tbody tr th:only-of-type {\n",
              "        vertical-align: middle;\n",
              "    }\n",
              "\n",
              "    .dataframe tbody tr th {\n",
              "        vertical-align: top;\n",
              "    }\n",
              "\n",
              "    .dataframe thead th {\n",
              "        text-align: right;\n",
              "    }\n",
              "</style>\n",
              "<table border=\"1\" class=\"dataframe\">\n",
              "  <thead>\n",
              "    <tr style=\"text-align: right;\">\n",
              "      <th></th>\n",
              "      <th>Temp</th>\n",
              "      <th>quarter_1</th>\n",
              "      <th>quarter_2</th>\n",
              "      <th>quarter_3</th>\n",
              "      <th>quarter_4</th>\n",
              "    </tr>\n",
              "    <tr>\n",
              "      <th>Date</th>\n",
              "      <th></th>\n",
              "      <th></th>\n",
              "      <th></th>\n",
              "      <th></th>\n",
              "      <th></th>\n",
              "    </tr>\n",
              "  </thead>\n",
              "  <tbody>\n",
              "    <tr>\n",
              "      <th>1981-01-01</th>\n",
              "      <td>20.7</td>\n",
              "      <td>1</td>\n",
              "      <td>0</td>\n",
              "      <td>0</td>\n",
              "      <td>0</td>\n",
              "    </tr>\n",
              "    <tr>\n",
              "      <th>1981-01-02</th>\n",
              "      <td>17.9</td>\n",
              "      <td>1</td>\n",
              "      <td>0</td>\n",
              "      <td>0</td>\n",
              "      <td>0</td>\n",
              "    </tr>\n",
              "    <tr>\n",
              "      <th>1981-01-03</th>\n",
              "      <td>18.8</td>\n",
              "      <td>1</td>\n",
              "      <td>0</td>\n",
              "      <td>0</td>\n",
              "      <td>0</td>\n",
              "    </tr>\n",
              "    <tr>\n",
              "      <th>1981-01-04</th>\n",
              "      <td>14.6</td>\n",
              "      <td>1</td>\n",
              "      <td>0</td>\n",
              "      <td>0</td>\n",
              "      <td>0</td>\n",
              "    </tr>\n",
              "    <tr>\n",
              "      <th>1981-01-05</th>\n",
              "      <td>15.8</td>\n",
              "      <td>1</td>\n",
              "      <td>0</td>\n",
              "      <td>0</td>\n",
              "      <td>0</td>\n",
              "    </tr>\n",
              "  </tbody>\n",
              "</table>\n",
              "</div>\n",
              "      <button class=\"colab-df-convert\" onclick=\"convertToInteractive('df-bc990813-73ff-460a-ae48-ec6ceada18f7')\"\n",
              "              title=\"Convert this dataframe to an interactive table.\"\n",
              "              style=\"display:none;\">\n",
              "        \n",
              "  <svg xmlns=\"http://www.w3.org/2000/svg\" height=\"24px\"viewBox=\"0 0 24 24\"\n",
              "       width=\"24px\">\n",
              "    <path d=\"M0 0h24v24H0V0z\" fill=\"none\"/>\n",
              "    <path d=\"M18.56 5.44l.94 2.06.94-2.06 2.06-.94-2.06-.94-.94-2.06-.94 2.06-2.06.94zm-11 1L8.5 8.5l.94-2.06 2.06-.94-2.06-.94L8.5 2.5l-.94 2.06-2.06.94zm10 10l.94 2.06.94-2.06 2.06-.94-2.06-.94-.94-2.06-.94 2.06-2.06.94z\"/><path d=\"M17.41 7.96l-1.37-1.37c-.4-.4-.92-.59-1.43-.59-.52 0-1.04.2-1.43.59L10.3 9.45l-7.72 7.72c-.78.78-.78 2.05 0 2.83L4 21.41c.39.39.9.59 1.41.59.51 0 1.02-.2 1.41-.59l7.78-7.78 2.81-2.81c.8-.78.8-2.07 0-2.86zM5.41 20L4 18.59l7.72-7.72 1.47 1.35L5.41 20z\"/>\n",
              "  </svg>\n",
              "      </button>\n",
              "      \n",
              "  <style>\n",
              "    .colab-df-container {\n",
              "      display:flex;\n",
              "      flex-wrap:wrap;\n",
              "      gap: 12px;\n",
              "    }\n",
              "\n",
              "    .colab-df-convert {\n",
              "      background-color: #E8F0FE;\n",
              "      border: none;\n",
              "      border-radius: 50%;\n",
              "      cursor: pointer;\n",
              "      display: none;\n",
              "      fill: #1967D2;\n",
              "      height: 32px;\n",
              "      padding: 0 0 0 0;\n",
              "      width: 32px;\n",
              "    }\n",
              "\n",
              "    .colab-df-convert:hover {\n",
              "      background-color: #E2EBFA;\n",
              "      box-shadow: 0px 1px 2px rgba(60, 64, 67, 0.3), 0px 1px 3px 1px rgba(60, 64, 67, 0.15);\n",
              "      fill: #174EA6;\n",
              "    }\n",
              "\n",
              "    [theme=dark] .colab-df-convert {\n",
              "      background-color: #3B4455;\n",
              "      fill: #D2E3FC;\n",
              "    }\n",
              "\n",
              "    [theme=dark] .colab-df-convert:hover {\n",
              "      background-color: #434B5C;\n",
              "      box-shadow: 0px 1px 3px 1px rgba(0, 0, 0, 0.15);\n",
              "      filter: drop-shadow(0px 1px 2px rgba(0, 0, 0, 0.3));\n",
              "      fill: #FFFFFF;\n",
              "    }\n",
              "  </style>\n",
              "\n",
              "      <script>\n",
              "        const buttonEl =\n",
              "          document.querySelector('#df-bc990813-73ff-460a-ae48-ec6ceada18f7 button.colab-df-convert');\n",
              "        buttonEl.style.display =\n",
              "          google.colab.kernel.accessAllowed ? 'block' : 'none';\n",
              "\n",
              "        async function convertToInteractive(key) {\n",
              "          const element = document.querySelector('#df-bc990813-73ff-460a-ae48-ec6ceada18f7');\n",
              "          const dataTable =\n",
              "            await google.colab.kernel.invokeFunction('convertToInteractive',\n",
              "                                                     [key], {});\n",
              "          if (!dataTable) return;\n",
              "\n",
              "          const docLinkHtml = 'Like what you see? Visit the ' +\n",
              "            '<a target=\"_blank\" href=https://colab.research.google.com/notebooks/data_table.ipynb>data table notebook</a>'\n",
              "            + ' to learn more about interactive tables.';\n",
              "          element.innerHTML = '';\n",
              "          dataTable['output_type'] = 'display_data';\n",
              "          await google.colab.output.renderOutput(dataTable, element);\n",
              "          const docLink = document.createElement('div');\n",
              "          docLink.innerHTML = docLinkHtml;\n",
              "          element.appendChild(docLink);\n",
              "        }\n",
              "      </script>\n",
              "    </div>\n",
              "  </div>\n",
              "  "
            ]
          },
          "metadata": {},
          "execution_count": 13
        }
      ],
      "source": [
        "df = pd.read_csv(\"/content/data/daily_min_temp.csv\", parse_dates=[\"Date\"])\n",
        "df[\"quarter\"] = df.Date.dt.quarter\n",
        "df = pd.get_dummies(df, columns=[\"quarter\"])\n",
        "df.set_index(\"Date\", inplace=True)\n",
        "df.head()"
      ]
    },
    {
      "cell_type": "markdown",
      "source": [
        "**Scalling membantu RNN**"
      ],
      "metadata": {
        "id": "YjwkrmNNl_Cz"
      },
      "id": "YjwkrmNNl_Cz"
    },
    {
      "cell_type": "code",
      "source": [
        "#df.Temp = df.Temp.transform(lambda x: (x-x.mean() / x.std))"
      ],
      "metadata": {
        "id": "-pxgBLh5l96w"
      },
      "id": "-pxgBLh5l96w",
      "execution_count": null,
      "outputs": []
    },
    {
      "cell_type": "code",
      "execution_count": 14,
      "id": "rGGOSYlTUQCG",
      "metadata": {
        "colab": {
          "base_uri": "https://localhost:8080/",
          "height": 384
        },
        "id": "rGGOSYlTUQCG",
        "outputId": "02fd5adb-e76b-4268-92bb-eba068a8c0d2"
      },
      "outputs": [
        {
          "output_type": "execute_result",
          "data": {
            "text/plain": [
              "<matplotlib.axes._subplots.AxesSubplot at 0x7f8e20eaa1d0>"
            ]
          },
          "metadata": {},
          "execution_count": 14
        },
        {
          "output_type": "display_data",
          "data": {
            "text/plain": [
              "<Figure size 1080x432 with 1 Axes>"
            ],
            "image/png": "[encoded data removed]"
          },
          "metadata": {
            "needs_background": "light"
          }
        }
      ],
      "source": [
        "df.Temp.plot(figsize=(15, 6), color='red')"
      ]
    },
    {
      "cell_type": "markdown",
      "id": "h5dIwcCeUxrf",
      "metadata": {
        "id": "h5dIwcCeUxrf"
      },
      "source": [
        "## Dataset Spliting"
      ]
    },
    {
      "cell_type": "code",
      "execution_count": 15,
      "id": "-mBi2WmTU0Eo",
      "metadata": {
        "colab": {
          "base_uri": "https://localhost:8080/"
        },
        "id": "-mBi2WmTU0Eo",
        "outputId": "7173d7ad-694e-45d9-837b-bdda717598bb"
      },
      "outputs": [
        {
          "output_type": "execute_result",
          "data": {
            "text/plain": [
              "((2737, 5), (913, 5))"
            ]
          },
          "metadata": {},
          "execution_count": 15
        }
      ],
      "source": [
        "ts_train, ts_test = train_test_split(df, shuffle=False)\n",
        "ts_train.shape, ts_test.shape"
      ]
    },
    {
      "cell_type": "markdown",
      "id": "Td0ZcWT1YpFu",
      "metadata": {
        "id": "Td0ZcWT1YpFu"
      },
      "source": [
        "## Dataset & Dataloader"
      ]
    },
    {
      "cell_type": "code",
      "execution_count": 16,
      "id": "BZl-nJQuYrXD",
      "metadata": {
        "id": "BZl-nJQuYrXD"
      },
      "outputs": [],
      "source": [
        "from jcopdl.utils import TimeSeriesDataset\n",
        "from torch.utils.data import DataLoader"
      ]
    },
    {
      "cell_type": "code",
      "execution_count": 18,
      "id": "yfpE2GPXY7hQ",
      "metadata": {
        "colab": {
          "base_uri": "https://localhost:8080/"
        },
        "id": "yfpE2GPXY7hQ",
        "outputId": "ebe8379d-ac43-4af6-8986-2f9bfedd0789"
      },
      "outputs": [
        {
          "output_type": "stream",
          "name": "stdout",
          "text": [
            "(N, S, F): (195, 14, 5)\n",
            "Note: last \u001b[31m6 data excluded\u001b[0m\n",
            "\n",
            "(N, S, F): (65, 14, 5)\n",
            "Note: last \u001b[31m2 data excluded\u001b[0m\n",
            "\n"
          ]
        }
      ],
      "source": [
        "seq_len = 14\n",
        "bs = 32\n",
        "\n",
        "train_set = TimeSeriesDataset(ts_train, \"Temp\", seq_len)\n",
        "train_loader = DataLoader(train_set, batch_size=bs, num_workers=2)\n",
        "\n",
        "test_set = TimeSeriesDataset(ts_test, \"Temp\", seq_len)\n",
        "test_loader = DataLoader(test_set, batch_size=bs, num_workers=2)"
      ]
    },
    {
      "cell_type": "markdown",
      "id": "BhoAeI0B3Mo5",
      "metadata": {
        "id": "BhoAeI0B3Mo5"
      },
      "source": [
        "## Arsitektur & Config"
      ]
    },
    {
      "cell_type": "code",
      "execution_count": 19,
      "id": "A8yfxltJ3NaL",
      "metadata": {
        "id": "A8yfxltJ3NaL"
      },
      "outputs": [],
      "source": [
        "class GRU(nn.Module):\n",
        "  def __init__(self, input_size, output_size, hidden_size, num_layers, dropout):\n",
        "    super().__init__()\n",
        "    self.gru = nn.GRU(input_size, hidden_size, num_layers, dropout=dropout, batch_first=True)\n",
        "    self.fc = nn.Linear(hidden_size, output_size)\n",
        "\n",
        "  def forward(self, x, hidden):\n",
        "    x, hidden = self.gru(x, hidden)\n",
        "    x = self.fc(x)\n",
        "    return x, hidden"
      ]
    },
    {
      "cell_type": "code",
      "execution_count": 21,
      "id": "MP0jR2TkQ-ZJ",
      "metadata": {
        "id": "MP0jR2TkQ-ZJ"
      },
      "outputs": [],
      "source": [
        "config = set_config({\n",
        "    \"input_size\": train_set.n_feature,\n",
        "    \"seq_len\": train_set.n_seq,\n",
        "    \"output_size\": 1,\n",
        "    \"hidden_size\":64,\n",
        "    \"num_layers\": 2,\n",
        "    \"dropout\":0\n",
        "})"
      ]
    },
    {
      "cell_type": "markdown",
      "id": "LkmJLGIpViUd",
      "metadata": {
        "id": "LkmJLGIpViUd"
      },
      "source": [
        "## Training Preparation -> MCOC"
      ]
    },
    {
      "cell_type": "code",
      "execution_count": 22,
      "id": "KV3jIEVpSJa-",
      "metadata": {
        "id": "KV3jIEVpSJa-"
      },
      "outputs": [],
      "source": [
        "model = GRU(config.input_size, config.output_size, config.hidden_size, config.num_layers, config.dropout).to(device)\n",
        "criterion = nn.MSELoss(reduction=\"mean\")\n",
        "optimizer = optim.AdamW(model.parameters(), lr=0.001)\n",
        "callback = Callback(model, config, outdir='/content/data/model/multivariate')"
      ]
    },
    {
      "cell_type": "markdown",
      "id": "WA55OK3MeG_u",
      "metadata": {
        "id": "WA55OK3MeG_u"
      },
      "source": [
        "## Training"
      ]
    },
    {
      "cell_type": "code",
      "execution_count": 23,
      "id": "Ak0uo89seHt4",
      "metadata": {
        "id": "Ak0uo89seHt4"
      },
      "outputs": [],
      "source": [
        "from tqdm import tqdm\n",
        "\n",
        "def loop_fn(mode, dataset, dataloader, model, criterion, optimizer, device):\n",
        "  if mode == 'train':\n",
        "    model.train()\n",
        "  elif mode == 'test':\n",
        "    model.eval()\n",
        "  cost = 0\n",
        "  for feature, target in tqdm(dataloader, desc=mode.title()):\n",
        "    feature, target = feature.to(device), target.to(device)\n",
        "    output, hidden = model(feature, None)\n",
        "    loss = criterion(output, target)\n",
        "\n",
        "    if mode == 'train':\n",
        "      loss.backward()\n",
        "      optimizer.step()\n",
        "      optimizer.zero_grad()\n",
        "\n",
        "    cost += loss.item() * feature.shape[0]\n",
        "  cost = cost / len(dataset)\n",
        "  return cost"
      ]
    },
    {
      "cell_type": "code",
      "execution_count": 24,
      "id": "iATDgvxOfaT2",
      "metadata": {
        "colab": {
          "base_uri": "https://localhost:8080/",
          "height": 1000
        },
        "id": "iATDgvxOfaT2",
        "outputId": "b22dc152-fdff-4e81-e909-3ba8731ee29b"
      },
      "outputs": [
        {
          "output_type": "stream",
          "name": "stderr",
          "text": [
            "Train: 100%|██████████| 7/7 [00:00<00:00, 25.18it/s]\n",
            "Test: 100%|██████████| 3/3 [00:00<00:00, 66.32it/s]\n"
          ]
        },
        {
          "output_type": "stream",
          "name": "stdout",
          "text": [
            "\n",
            "Epoch     1\n",
            "Train_cost  = 123.4973 | Test_cost  = 109.0946 | \n"
          ]
        },
        {
          "output_type": "stream",
          "name": "stderr",
          "text": [
            "Train: 100%|██████████| 7/7 [00:00<00:00, 54.58it/s]\n",
            "Test: 100%|██████████| 3/3 [00:00<00:00, 63.99it/s]\n"
          ]
        },
        {
          "output_type": "stream",
          "name": "stdout",
          "text": [
            "\n",
            "Epoch     2\n",
            "Train_cost  = 96.2909 | Test_cost  = 84.3828 | \n"
          ]
        },
        {
          "output_type": "stream",
          "name": "stderr",
          "text": [
            "Train: 100%|██████████| 7/7 [00:00<00:00, 51.79it/s]\n",
            "Test: 100%|██████████| 3/3 [00:00<00:00, 59.72it/s]\n"
          ]
        },
        {
          "output_type": "stream",
          "name": "stdout",
          "text": [
            "\n",
            "Epoch     3\n",
            "Train_cost  = 74.9397 | Test_cost  = 67.7834 | \n"
          ]
        },
        {
          "output_type": "stream",
          "name": "stderr",
          "text": [
            "Train: 100%|██████████| 7/7 [00:00<00:00, 53.96it/s]\n",
            "Test: 100%|██████████| 3/3 [00:00<00:00, 59.90it/s]\n"
          ]
        },
        {
          "output_type": "stream",
          "name": "stdout",
          "text": [
            "\n",
            "Epoch     4\n",
            "Train_cost  = 61.1397 | Test_cost  = 57.0142 | \n"
          ]
        },
        {
          "output_type": "stream",
          "name": "stderr",
          "text": [
            "Train: 100%|██████████| 7/7 [00:00<00:00, 54.86it/s]\n",
            "Test: 100%|██████████| 3/3 [00:00<00:00, 61.73it/s]\n"
          ]
        },
        {
          "output_type": "stream",
          "name": "stdout",
          "text": [
            "\n",
            "Epoch     5\n",
            "Train_cost  = 51.9687 | Test_cost  = 49.3493 | \n"
          ]
        },
        {
          "output_type": "stream",
          "name": "stderr",
          "text": [
            "Train: 100%|██████████| 7/7 [00:00<00:00, 52.34it/s]\n",
            "Test: 100%|██████████| 3/3 [00:00<00:00, 54.60it/s]\n"
          ]
        },
        {
          "output_type": "stream",
          "name": "stdout",
          "text": [
            "\n",
            "Epoch     6\n",
            "Train_cost  = 45.3043 | Test_cost  = 43.4622 | \n"
          ]
        },
        {
          "output_type": "stream",
          "name": "stderr",
          "text": [
            "Train: 100%|██████████| 7/7 [00:00<00:00, 51.51it/s]\n",
            "Test: 100%|██████████| 3/3 [00:00<00:00, 65.11it/s]\n"
          ]
        },
        {
          "output_type": "stream",
          "name": "stdout",
          "text": [
            "\n",
            "Epoch     7\n",
            "Train_cost  = 40.0855 | Test_cost  = 38.6427 | \n"
          ]
        },
        {
          "output_type": "stream",
          "name": "stderr",
          "text": [
            "Train: 100%|██████████| 7/7 [00:00<00:00, 50.63it/s]\n",
            "Test: 100%|██████████| 3/3 [00:00<00:00, 62.23it/s]\n"
          ]
        },
        {
          "output_type": "stream",
          "name": "stdout",
          "text": [
            "\n",
            "Epoch     8\n",
            "Train_cost  = 35.7693 | Test_cost  = 34.5634 | \n"
          ]
        },
        {
          "output_type": "stream",
          "name": "stderr",
          "text": [
            "Train: 100%|██████████| 7/7 [00:00<00:00, 56.15it/s]\n",
            "Test: 100%|██████████| 3/3 [00:00<00:00, 69.71it/s]\n"
          ]
        },
        {
          "output_type": "stream",
          "name": "stdout",
          "text": [
            "\n",
            "Epoch     9\n",
            "Train_cost  = 32.1281 | Test_cost  = 31.1204 | \n"
          ]
        },
        {
          "output_type": "stream",
          "name": "stderr",
          "text": [
            "Train: 100%|██████████| 7/7 [00:00<00:00, 53.05it/s]\n",
            "Test: 100%|██████████| 3/3 [00:00<00:00, 52.05it/s]\n"
          ]
        },
        {
          "output_type": "stream",
          "name": "stdout",
          "text": [
            "\n",
            "Epoch    10\n",
            "Train_cost  = 29.0839 | Test_cost  = 28.2433 | \n"
          ]
        },
        {
          "output_type": "stream",
          "name": "stderr",
          "text": [
            "Train: 100%|██████████| 7/7 [00:00<00:00, 52.86it/s]\n",
            "Test: 100%|██████████| 3/3 [00:00<00:00, 53.05it/s]\n"
          ]
        },
        {
          "output_type": "stream",
          "name": "stdout",
          "text": [
            "\n",
            "Epoch    11\n",
            "Train_cost  = 26.5615 | Test_cost  = 25.8546 | \n"
          ]
        },
        {
          "output_type": "stream",
          "name": "stderr",
          "text": [
            "Train: 100%|██████████| 7/7 [00:00<00:00, 54.09it/s]\n",
            "Test: 100%|██████████| 3/3 [00:00<00:00, 61.98it/s]\n"
          ]
        },
        {
          "output_type": "stream",
          "name": "stdout",
          "text": [
            "\n",
            "Epoch    12\n",
            "Train_cost  = 24.4872 | Test_cost  = 23.8856 | \n"
          ]
        },
        {
          "output_type": "stream",
          "name": "stderr",
          "text": [
            "Train: 100%|██████████| 7/7 [00:00<00:00, 50.39it/s]\n",
            "Test: 100%|██████████| 3/3 [00:00<00:00, 65.42it/s]\n"
          ]
        },
        {
          "output_type": "stream",
          "name": "stdout",
          "text": [
            "\n",
            "Epoch    13\n",
            "Train_cost  = 22.7960 | Test_cost  = 22.2754 | \n"
          ]
        },
        {
          "output_type": "stream",
          "name": "stderr",
          "text": [
            "Train: 100%|██████████| 7/7 [00:00<00:00, 52.06it/s]\n",
            "Test: 100%|██████████| 3/3 [00:00<00:00, 56.28it/s]\n"
          ]
        },
        {
          "output_type": "stream",
          "name": "stdout",
          "text": [
            "\n",
            "Epoch    14\n",
            "Train_cost  = 21.4297 | Test_cost  = 20.9689 | \n"
          ]
        },
        {
          "output_type": "stream",
          "name": "stderr",
          "text": [
            "Train: 100%|██████████| 7/7 [00:00<00:00, 53.77it/s]\n",
            "Test: 100%|██████████| 3/3 [00:00<00:00, 57.74it/s]\n"
          ]
        },
        {
          "output_type": "stream",
          "name": "stdout",
          "text": [
            "\n",
            "Epoch    15\n",
            "Train_cost  = 20.3359 | Test_cost  = 19.9167 | \n"
          ]
        },
        {
          "output_type": "stream",
          "name": "stderr",
          "text": [
            "Train: 100%|██████████| 7/7 [00:00<00:00, 53.17it/s]\n",
            "Test: 100%|██████████| 3/3 [00:00<00:00, 66.47it/s]\n"
          ]
        },
        {
          "output_type": "stream",
          "name": "stdout",
          "text": [
            "\n",
            "Epoch    16\n",
            "Train_cost  = 19.4680 | Test_cost  = 19.0753 | \n"
          ]
        },
        {
          "output_type": "stream",
          "name": "stderr",
          "text": [
            "Train: 100%|██████████| 7/7 [00:00<00:00, 52.76it/s]\n",
            "Test: 100%|██████████| 3/3 [00:00<00:00, 64.61it/s]\n"
          ]
        },
        {
          "output_type": "stream",
          "name": "stdout",
          "text": [
            "\n",
            "Epoch    17\n",
            "Train_cost  = 18.7852 | Test_cost  = 18.4067 | \n"
          ]
        },
        {
          "output_type": "stream",
          "name": "stderr",
          "text": [
            "Train: 100%|██████████| 7/7 [00:00<00:00, 50.57it/s]\n",
            "Test: 100%|██████████| 3/3 [00:00<00:00, 66.85it/s]\n"
          ]
        },
        {
          "output_type": "stream",
          "name": "stdout",
          "text": [
            "\n",
            "Epoch    18\n",
            "Train_cost  = 18.2521 | Test_cost  = 17.8784 | \n"
          ]
        },
        {
          "output_type": "stream",
          "name": "stderr",
          "text": [
            "Train: 100%|██████████| 7/7 [00:00<00:00, 57.72it/s]\n",
            "Test: 100%|██████████| 3/3 [00:00<00:00, 64.50it/s]\n"
          ]
        },
        {
          "output_type": "stream",
          "name": "stdout",
          "text": [
            "\n",
            "Epoch    19\n",
            "Train_cost  = 17.8389 | Test_cost  = 17.4627 | \n"
          ]
        },
        {
          "output_type": "stream",
          "name": "stderr",
          "text": [
            "Train: 100%|██████████| 7/7 [00:00<00:00, 51.76it/s]\n",
            "Test: 100%|██████████| 3/3 [00:00<00:00, 56.93it/s]\n"
          ]
        },
        {
          "output_type": "stream",
          "name": "stdout",
          "text": [
            "\n",
            "Epoch    20\n",
            "Train_cost  = 17.5204 | Test_cost  = 17.1368 | \n"
          ]
        },
        {
          "output_type": "display_data",
          "data": {
            "text/plain": [
              "<Figure size 576x360 with 1 Axes>"
            ],
            "image/png": "[encoded data removed]"
          },
          "metadata": {
            "needs_background": "light"
          }
        },
        {
          "output_type": "stream",
          "name": "stderr",
          "text": [
            "Train: 100%|██████████| 7/7 [00:00<00:00, 50.24it/s]\n",
            "Test: 100%|██████████| 3/3 [00:00<00:00, 58.17it/s]\n"
          ]
        },
        {
          "output_type": "stream",
          "name": "stdout",
          "text": [
            "\n",
            "Epoch    21\n",
            "Train_cost  = 17.2762 | Test_cost  = 16.8819 | \n"
          ]
        },
        {
          "output_type": "stream",
          "name": "stderr",
          "text": [
            "Train: 100%|██████████| 7/7 [00:00<00:00, 54.71it/s]\n",
            "Test: 100%|██████████| 3/3 [00:00<00:00, 61.02it/s]\n"
          ]
        },
        {
          "output_type": "stream",
          "name": "stdout",
          "text": [
            "\n",
            "Epoch    22\n",
            "Train_cost  = 17.0895 | Test_cost  = 16.6827 | \n"
          ]
        },
        {
          "output_type": "stream",
          "name": "stderr",
          "text": [
            "Train: 100%|██████████| 7/7 [00:00<00:00, 52.37it/s]\n",
            "Test: 100%|██████████| 3/3 [00:00<00:00, 67.33it/s]\n"
          ]
        },
        {
          "output_type": "stream",
          "name": "stdout",
          "text": [
            "\n",
            "Epoch    23\n",
            "Train_cost  = 16.9470 | Test_cost  = 16.5270 | \n"
          ]
        },
        {
          "output_type": "stream",
          "name": "stderr",
          "text": [
            "Train: 100%|██████████| 7/7 [00:00<00:00, 49.34it/s]\n",
            "Test: 100%|██████████| 3/3 [00:00<00:00, 56.28it/s]\n"
          ]
        },
        {
          "output_type": "stream",
          "name": "stdout",
          "text": [
            "\n",
            "Epoch    24\n",
            "Train_cost  = 16.8382 | Test_cost  = 16.4052 | \n"
          ]
        },
        {
          "output_type": "stream",
          "name": "stderr",
          "text": [
            "Train: 100%|██████████| 7/7 [00:00<00:00, 57.58it/s]\n",
            "Test: 100%|██████████| 3/3 [00:00<00:00, 62.72it/s]\n"
          ]
        },
        {
          "output_type": "stream",
          "name": "stdout",
          "text": [
            "\n",
            "Epoch    25\n",
            "Train_cost  = 16.7548 | Test_cost  = 16.3096 | \n"
          ]
        },
        {
          "output_type": "stream",
          "name": "stderr",
          "text": [
            "Train: 100%|██████████| 7/7 [00:00<00:00, 48.50it/s]\n",
            "Test: 100%|██████████| 3/3 [00:00<00:00, 59.45it/s]\n"
          ]
        },
        {
          "output_type": "stream",
          "name": "stdout",
          "text": [
            "\n",
            "Epoch    26\n",
            "Train_cost  = 16.6907 | Test_cost  = 16.2343 | \n"
          ]
        },
        {
          "output_type": "stream",
          "name": "stderr",
          "text": [
            "Train: 100%|██████████| 7/7 [00:00<00:00, 50.58it/s]\n",
            "Test: 100%|██████████| 3/3 [00:00<00:00, 57.67it/s]\n"
          ]
        },
        {
          "output_type": "stream",
          "name": "stdout",
          "text": [
            "\n",
            "Epoch    27\n",
            "Train_cost  = 16.6409 | Test_cost  = 16.1747 | \n"
          ]
        },
        {
          "output_type": "stream",
          "name": "stderr",
          "text": [
            "Train: 100%|██████████| 7/7 [00:00<00:00, 54.23it/s]\n",
            "Test: 100%|██████████| 3/3 [00:00<00:00, 64.32it/s]\n"
          ]
        },
        {
          "output_type": "stream",
          "name": "stdout",
          "text": [
            "\n",
            "Epoch    28\n",
            "Train_cost  = 16.6018 | Test_cost  = 16.1272 | \n"
          ]
        },
        {
          "output_type": "stream",
          "name": "stderr",
          "text": [
            "Train: 100%|██████████| 7/7 [00:00<00:00, 50.63it/s]\n",
            "Test: 100%|██████████| 3/3 [00:00<00:00, 61.36it/s]\n"
          ]
        },
        {
          "output_type": "stream",
          "name": "stdout",
          "text": [
            "\n",
            "Epoch    29\n",
            "Train_cost  = 16.5707 | Test_cost  = 16.0891 | \n"
          ]
        },
        {
          "output_type": "stream",
          "name": "stderr",
          "text": [
            "Train: 100%|██████████| 7/7 [00:00<00:00, 47.85it/s]\n",
            "Test: 100%|██████████| 3/3 [00:00<00:00, 67.90it/s]\n"
          ]
        },
        {
          "output_type": "stream",
          "name": "stdout",
          "text": [
            "\n",
            "Epoch    30\n",
            "Train_cost  = 16.5454 | Test_cost  = 16.0583 | \n"
          ]
        },
        {
          "output_type": "stream",
          "name": "stderr",
          "text": [
            "Train: 100%|██████████| 7/7 [00:00<00:00, 51.69it/s]\n",
            "Test: 100%|██████████| 3/3 [00:00<00:00, 60.02it/s]\n"
          ]
        },
        {
          "output_type": "stream",
          "name": "stdout",
          "text": [
            "\n",
            "Epoch    31\n",
            "Train_cost  = 16.5245 | Test_cost  = 16.0330 | \n"
          ]
        },
        {
          "output_type": "stream",
          "name": "stderr",
          "text": [
            "Train: 100%|██████████| 7/7 [00:00<00:00, 54.39it/s]\n",
            "Test: 100%|██████████| 3/3 [00:00<00:00, 62.51it/s]\n"
          ]
        },
        {
          "output_type": "stream",
          "name": "stdout",
          "text": [
            "\n",
            "Epoch    32\n",
            "Train_cost  = 16.5068 | Test_cost  = 16.0120 | \n"
          ]
        },
        {
          "output_type": "stream",
          "name": "stderr",
          "text": [
            "Train: 100%|██████████| 7/7 [00:00<00:00, 53.20it/s]\n",
            "Test: 100%|██████████| 3/3 [00:00<00:00, 55.46it/s]\n"
          ]
        },
        {
          "output_type": "stream",
          "name": "stdout",
          "text": [
            "\n",
            "Epoch    33\n",
            "Train_cost  = 16.4912 | Test_cost  = 15.9942 | \n"
          ]
        },
        {
          "output_type": "stream",
          "name": "stderr",
          "text": [
            "Train: 100%|██████████| 7/7 [00:00<00:00, 55.24it/s]\n",
            "Test: 100%|██████████| 3/3 [00:00<00:00, 45.95it/s]\n"
          ]
        },
        {
          "output_type": "stream",
          "name": "stdout",
          "text": [
            "\n",
            "Epoch    34\n",
            "Train_cost  = 16.4770 | Test_cost  = 15.9789 | \n"
          ]
        },
        {
          "output_type": "stream",
          "name": "stderr",
          "text": [
            "Train: 100%|██████████| 7/7 [00:00<00:00, 54.91it/s]\n",
            "Test: 100%|██████████| 3/3 [00:00<00:00, 57.24it/s]\n"
          ]
        },
        {
          "output_type": "stream",
          "name": "stdout",
          "text": [
            "\n",
            "Epoch    35\n",
            "Train_cost  = 16.4637 | Test_cost  = 15.9651 | \n"
          ]
        },
        {
          "output_type": "stream",
          "name": "stderr",
          "text": [
            "Train: 100%|██████████| 7/7 [00:00<00:00, 53.97it/s]\n",
            "Test: 100%|██████████| 3/3 [00:00<00:00, 60.34it/s]\n"
          ]
        },
        {
          "output_type": "stream",
          "name": "stdout",
          "text": [
            "\n",
            "Epoch    36\n",
            "Train_cost  = 16.4505 | Test_cost  = 15.9522 | \n"
          ]
        },
        {
          "output_type": "stream",
          "name": "stderr",
          "text": [
            "Train: 100%|██████████| 7/7 [00:00<00:00, 52.92it/s]\n",
            "Test: 100%|██████████| 3/3 [00:00<00:00, 69.08it/s]\n"
          ]
        },
        {
          "output_type": "stream",
          "name": "stdout",
          "text": [
            "\n",
            "Epoch    37\n",
            "Train_cost  = 16.4368 | Test_cost  = 15.9396 | \n"
          ]
        },
        {
          "output_type": "stream",
          "name": "stderr",
          "text": [
            "Train: 100%|██████████| 7/7 [00:00<00:00, 52.02it/s]\n",
            "Test: 100%|██████████| 3/3 [00:00<00:00, 65.18it/s]\n"
          ]
        },
        {
          "output_type": "stream",
          "name": "stdout",
          "text": [
            "\n",
            "Epoch    38\n",
            "Train_cost  = 16.4217 | Test_cost  = 15.9262 | \n"
          ]
        },
        {
          "output_type": "stream",
          "name": "stderr",
          "text": [
            "Train: 100%|██████████| 7/7 [00:00<00:00, 53.36it/s]\n",
            "Test: 100%|██████████| 3/3 [00:00<00:00, 60.78it/s]\n"
          ]
        },
        {
          "output_type": "stream",
          "name": "stdout",
          "text": [
            "\n",
            "Epoch    39\n",
            "Train_cost  = 16.4039 | Test_cost  = 15.9109 | \n"
          ]
        },
        {
          "output_type": "stream",
          "name": "stderr",
          "text": [
            "Train: 100%|██████████| 7/7 [00:00<00:00, 52.01it/s]\n",
            "Test: 100%|██████████| 3/3 [00:00<00:00, 64.90it/s]\n"
          ]
        },
        {
          "output_type": "stream",
          "name": "stdout",
          "text": [
            "\n",
            "Epoch    40\n",
            "Train_cost  = 16.3814 | Test_cost  = 15.8919 | \n"
          ]
        },
        {
          "output_type": "display_data",
          "data": {
            "text/plain": [
              "<Figure size 576x360 with 1 Axes>"
            ],
            "image/png": "[encoded data removed]"
          },
          "metadata": {
            "needs_background": "light"
          }
        },
        {
          "output_type": "stream",
          "name": "stderr",
          "text": [
            "Train: 100%|██████████| 7/7 [00:00<00:00, 57.18it/s]\n",
            "Test: 100%|██████████| 3/3 [00:00<00:00, 60.00it/s]\n"
          ]
        },
        {
          "output_type": "stream",
          "name": "stdout",
          "text": [
            "\n",
            "Epoch    41\n",
            "Train_cost  = 16.3512 | Test_cost  = 15.8663 | \n"
          ]
        },
        {
          "output_type": "stream",
          "name": "stderr",
          "text": [
            "Train: 100%|██████████| 7/7 [00:00<00:00, 49.57it/s]\n",
            "Test: 100%|██████████| 3/3 [00:00<00:00, 56.88it/s]\n"
          ]
        },
        {
          "output_type": "stream",
          "name": "stdout",
          "text": [
            "\n",
            "Epoch    42\n",
            "Train_cost  = 16.3071 | Test_cost  = 15.8261 | \n"
          ]
        },
        {
          "output_type": "stream",
          "name": "stderr",
          "text": [
            "Train: 100%|██████████| 7/7 [00:00<00:00, 55.90it/s]\n",
            "Test: 100%|██████████| 3/3 [00:00<00:00, 53.29it/s]"
          ]
        },
        {
          "output_type": "stream",
          "name": "stdout",
          "text": [
            "\n",
            "Epoch    43\n",
            "Train_cost  = 16.2319 | Test_cost  = 15.7427 | \n"
          ]
        },
        {
          "output_type": "stream",
          "name": "stderr",
          "text": [
            "\n",
            "Train: 100%|██████████| 7/7 [00:00<00:00, 50.61it/s]\n",
            "Test: 100%|██████████| 3/3 [00:00<00:00, 66.39it/s]\n"
          ]
        },
        {
          "output_type": "stream",
          "name": "stdout",
          "text": [
            "\n",
            "Epoch    44\n",
            "Train_cost  = 16.0564 | Test_cost  = 15.4573 | \n"
          ]
        },
        {
          "output_type": "stream",
          "name": "stderr",
          "text": [
            "Train: 100%|██████████| 7/7 [00:00<00:00, 51.44it/s]\n",
            "Test: 100%|██████████| 3/3 [00:00<00:00, 54.43it/s]\n"
          ]
        },
        {
          "output_type": "stream",
          "name": "stdout",
          "text": [
            "\n",
            "Epoch    45\n",
            "Train_cost  = 15.5283 | Test_cost  = 14.9668 | \n"
          ]
        },
        {
          "output_type": "stream",
          "name": "stderr",
          "text": [
            "Train: 100%|██████████| 7/7 [00:00<00:00, 51.64it/s]\n",
            "Test: 100%|██████████| 3/3 [00:00<00:00, 61.40it/s]\n"
          ]
        },
        {
          "output_type": "stream",
          "name": "stdout",
          "text": [
            "\n",
            "Epoch    46\n",
            "Train_cost  = 14.6591 | Test_cost  = 13.9497 | \n"
          ]
        },
        {
          "output_type": "stream",
          "name": "stderr",
          "text": [
            "Train: 100%|██████████| 7/7 [00:00<00:00, 49.82it/s]\n",
            "Test: 100%|██████████| 3/3 [00:00<00:00, 57.53it/s]\n"
          ]
        },
        {
          "output_type": "stream",
          "name": "stdout",
          "text": [
            "\n",
            "Epoch    47\n",
            "Train_cost  = 13.4861 | Test_cost  = 12.9449 | \n"
          ]
        },
        {
          "output_type": "stream",
          "name": "stderr",
          "text": [
            "Train: 100%|██████████| 7/7 [00:00<00:00, 55.89it/s]\n",
            "Test: 100%|██████████| 3/3 [00:00<00:00, 59.95it/s]\n"
          ]
        },
        {
          "output_type": "stream",
          "name": "stdout",
          "text": [
            "\n",
            "Epoch    48\n",
            "Train_cost  = 12.3633 | Test_cost  = 12.0686 | \n"
          ]
        },
        {
          "output_type": "stream",
          "name": "stderr",
          "text": [
            "Train: 100%|██████████| 7/7 [00:00<00:00, 47.75it/s]\n",
            "Test: 100%|██████████| 3/3 [00:00<00:00, 57.39it/s]\n"
          ]
        },
        {
          "output_type": "stream",
          "name": "stdout",
          "text": [
            "\n",
            "Epoch    49\n",
            "Train_cost  = 11.6120 | Test_cost  = 11.3822 | \n"
          ]
        },
        {
          "output_type": "stream",
          "name": "stderr",
          "text": [
            "Train: 100%|██████████| 7/7 [00:00<00:00, 55.10it/s]\n",
            "Test: 100%|██████████| 3/3 [00:00<00:00, 32.50it/s]\n"
          ]
        },
        {
          "output_type": "stream",
          "name": "stdout",
          "text": [
            "\n",
            "Epoch    50\n",
            "Train_cost  = 10.9520 | Test_cost  = 10.7267 | \n"
          ]
        },
        {
          "output_type": "stream",
          "name": "stderr",
          "text": [
            "Train: 100%|██████████| 7/7 [00:00<00:00, 17.60it/s]\n",
            "Test: 100%|██████████| 3/3 [00:00<00:00, 55.24it/s]\n"
          ]
        },
        {
          "output_type": "stream",
          "name": "stdout",
          "text": [
            "\n",
            "Epoch    51\n",
            "Train_cost  = 10.3503 | Test_cost  = 10.1703 | \n"
          ]
        },
        {
          "output_type": "stream",
          "name": "stderr",
          "text": [
            "Train: 100%|██████████| 7/7 [00:00<00:00, 48.83it/s]\n",
            "Test: 100%|██████████| 3/3 [00:00<00:00, 55.11it/s]\n"
          ]
        },
        {
          "output_type": "stream",
          "name": "stdout",
          "text": [
            "\n",
            "Epoch    52\n",
            "Train_cost  = 9.8680 | Test_cost  = 9.6922 | \n"
          ]
        },
        {
          "output_type": "stream",
          "name": "stderr",
          "text": [
            "Train: 100%|██████████| 7/7 [00:00<00:00, 52.48it/s]\n",
            "Test: 100%|██████████| 3/3 [00:00<00:00, 58.05it/s]\n"
          ]
        },
        {
          "output_type": "stream",
          "name": "stdout",
          "text": [
            "\n",
            "Epoch    53\n",
            "Train_cost  = 9.4596 | Test_cost  = 9.2952 | \n"
          ]
        },
        {
          "output_type": "stream",
          "name": "stderr",
          "text": [
            "Train: 100%|██████████| 7/7 [00:00<00:00, 17.53it/s]\n",
            "Test: 100%|██████████| 3/3 [00:00<00:00, 56.40it/s]\n"
          ]
        },
        {
          "output_type": "stream",
          "name": "stdout",
          "text": [
            "\n",
            "Epoch    54\n",
            "Train_cost  = 9.1189 | Test_cost  = 8.9737 | \n"
          ]
        },
        {
          "output_type": "stream",
          "name": "stderr",
          "text": [
            "Train: 100%|██████████| 7/7 [00:00<00:00, 50.45it/s]\n",
            "Test: 100%|██████████| 3/3 [00:00<00:00, 57.48it/s]\n"
          ]
        },
        {
          "output_type": "stream",
          "name": "stdout",
          "text": [
            "\n",
            "Epoch    55\n",
            "Train_cost  = 8.8263 | Test_cost  = 8.6993 | \n"
          ]
        },
        {
          "output_type": "stream",
          "name": "stderr",
          "text": [
            "Train: 100%|██████████| 7/7 [00:00<00:00, 48.02it/s]\n",
            "Test: 100%|██████████| 3/3 [00:00<00:00, 51.05it/s]\n"
          ]
        },
        {
          "output_type": "stream",
          "name": "stdout",
          "text": [
            "\n",
            "Epoch    56\n",
            "Train_cost  = 8.5753 | Test_cost  = 8.4527 | \n"
          ]
        },
        {
          "output_type": "stream",
          "name": "stderr",
          "text": [
            "Train: 100%|██████████| 7/7 [00:00<00:00, 16.62it/s]\n",
            "Test: 100%|██████████| 3/3 [00:00<00:00, 60.94it/s]\n"
          ]
        },
        {
          "output_type": "stream",
          "name": "stdout",
          "text": [
            "\n",
            "Epoch    57\n",
            "Train_cost  = 8.3554 | Test_cost  = 8.2302 | \n"
          ]
        },
        {
          "output_type": "stream",
          "name": "stderr",
          "text": [
            "Train: 100%|██████████| 7/7 [00:00<00:00, 53.66it/s]\n",
            "Test: 100%|██████████| 3/3 [00:00<00:00, 62.39it/s]\n"
          ]
        },
        {
          "output_type": "stream",
          "name": "stdout",
          "text": [
            "\n",
            "Epoch    58\n",
            "Train_cost  = 8.1613 | Test_cost  = 8.0327 | \n"
          ]
        },
        {
          "output_type": "stream",
          "name": "stderr",
          "text": [
            "Train: 100%|██████████| 7/7 [00:00<00:00, 46.34it/s]\n",
            "Test: 100%|██████████| 3/3 [00:00<00:00, 62.92it/s]\n"
          ]
        },
        {
          "output_type": "stream",
          "name": "stdout",
          "text": [
            "\n",
            "Epoch    59\n",
            "Train_cost  = 7.9893 | Test_cost  = 7.8560 | \n"
          ]
        },
        {
          "output_type": "stream",
          "name": "stderr",
          "text": [
            "Train: 100%|██████████| 7/7 [00:00<00:00, 50.75it/s]\n",
            "Test: 100%|██████████| 3/3 [00:00<00:00, 48.65it/s]\n"
          ]
        },
        {
          "output_type": "stream",
          "name": "stdout",
          "text": [
            "\n",
            "Epoch    60\n",
            "Train_cost  = 7.8368 | Test_cost  = 7.6969 | \n"
          ]
        },
        {
          "output_type": "display_data",
          "data": {
            "text/plain": [
              "<Figure size 576x360 with 1 Axes>"
            ],
            "image/png": "[encoded data removed]"
          },
          "metadata": {
            "needs_background": "light"
          }
        },
        {
          "output_type": "stream",
          "name": "stderr",
          "text": [
            "Train: 100%|██████████| 7/7 [00:00<00:00, 54.08it/s]\n",
            "Test: 100%|██████████| 3/3 [00:00<00:00, 59.48it/s]\n"
          ]
        },
        {
          "output_type": "stream",
          "name": "stdout",
          "text": [
            "\n",
            "Epoch    61\n",
            "Train_cost  = 7.7008 | Test_cost  = 7.5548 | \n"
          ]
        },
        {
          "output_type": "stream",
          "name": "stderr",
          "text": [
            "Train: 100%|██████████| 7/7 [00:00<00:00, 51.58it/s]\n",
            "Test: 100%|██████████| 3/3 [00:00<00:00, 61.89it/s]\n"
          ]
        },
        {
          "output_type": "stream",
          "name": "stdout",
          "text": [
            "\n",
            "Epoch    62\n",
            "Train_cost  = 7.5785 | Test_cost  = 7.4259 | \n"
          ]
        },
        {
          "output_type": "stream",
          "name": "stderr",
          "text": [
            "Train: 100%|██████████| 7/7 [00:00<00:00, 48.43it/s]\n",
            "Test: 100%|██████████| 3/3 [00:00<00:00, 53.26it/s]\n"
          ]
        },
        {
          "output_type": "stream",
          "name": "stdout",
          "text": [
            "\n",
            "Epoch    63\n",
            "Train_cost  = 7.4689 | Test_cost  = 7.3079 | \n"
          ]
        },
        {
          "output_type": "stream",
          "name": "stderr",
          "text": [
            "Train: 100%|██████████| 7/7 [00:00<00:00, 52.85it/s]\n",
            "Test: 100%|██████████| 3/3 [00:00<00:00, 52.68it/s]\n"
          ]
        },
        {
          "output_type": "stream",
          "name": "stdout",
          "text": [
            "\n",
            "Epoch    64\n",
            "Train_cost  = 7.3699 | Test_cost  = 7.2010 | \n"
          ]
        },
        {
          "output_type": "stream",
          "name": "stderr",
          "text": [
            "Train: 100%|██████████| 7/7 [00:00<00:00, 54.03it/s]\n",
            "Test: 100%|██████████| 3/3 [00:00<00:00, 51.95it/s]\n"
          ]
        },
        {
          "output_type": "stream",
          "name": "stdout",
          "text": [
            "\n",
            "Epoch    65\n",
            "Train_cost  = 7.2797 | Test_cost  = 7.1039 | \n"
          ]
        },
        {
          "output_type": "stream",
          "name": "stderr",
          "text": [
            "Train: 100%|██████████| 7/7 [00:00<00:00, 52.21it/s]\n",
            "Test: 100%|██████████| 3/3 [00:00<00:00, 61.92it/s]\n"
          ]
        },
        {
          "output_type": "stream",
          "name": "stdout",
          "text": [
            "\n",
            "Epoch    66\n",
            "Train_cost  = 7.1973 | Test_cost  = 7.0149 | \n"
          ]
        },
        {
          "output_type": "stream",
          "name": "stderr",
          "text": [
            "Train: 100%|██████████| 7/7 [00:00<00:00, 49.24it/s]\n",
            "Test: 100%|██████████| 3/3 [00:00<00:00, 49.29it/s]\n"
          ]
        },
        {
          "output_type": "stream",
          "name": "stdout",
          "text": [
            "\n",
            "Epoch    67\n",
            "Train_cost  = 7.1219 | Test_cost  = 6.9333 | \n"
          ]
        },
        {
          "output_type": "stream",
          "name": "stderr",
          "text": [
            "Train: 100%|██████████| 7/7 [00:00<00:00, 50.76it/s]\n",
            "Test: 100%|██████████| 3/3 [00:00<00:00, 54.38it/s]\n"
          ]
        },
        {
          "output_type": "stream",
          "name": "stdout",
          "text": [
            "\n",
            "Epoch    68\n",
            "Train_cost  = 7.0524 | Test_cost  = 6.8580 | \n"
          ]
        },
        {
          "output_type": "stream",
          "name": "stderr",
          "text": [
            "Train: 100%|██████████| 7/7 [00:00<00:00, 50.82it/s]\n",
            "Test: 100%|██████████| 3/3 [00:00<00:00, 49.89it/s]\n"
          ]
        },
        {
          "output_type": "stream",
          "name": "stdout",
          "text": [
            "\n",
            "Epoch    69\n",
            "Train_cost  = 6.9883 | Test_cost  = 6.7877 | \n"
          ]
        },
        {
          "output_type": "stream",
          "name": "stderr",
          "text": [
            "Train: 100%|██████████| 7/7 [00:00<00:00, 51.77it/s]\n",
            "Test: 100%|██████████| 3/3 [00:00<00:00, 46.76it/s]\n"
          ]
        },
        {
          "output_type": "stream",
          "name": "stdout",
          "text": [
            "\n",
            "Epoch    70\n",
            "Train_cost  = 6.9291 | Test_cost  = 6.7223 | \n"
          ]
        },
        {
          "output_type": "stream",
          "name": "stderr",
          "text": [
            "Train: 100%|██████████| 7/7 [00:00<00:00, 53.07it/s]\n",
            "Test: 100%|██████████| 3/3 [00:00<00:00, 51.08it/s]\n"
          ]
        },
        {
          "output_type": "stream",
          "name": "stdout",
          "text": [
            "\n",
            "Epoch    71\n",
            "Train_cost  = 6.8740 | Test_cost  = 6.6610 | \n"
          ]
        },
        {
          "output_type": "stream",
          "name": "stderr",
          "text": [
            "Train: 100%|██████████| 7/7 [00:00<00:00, 50.99it/s]\n",
            "Test: 100%|██████████| 3/3 [00:00<00:00, 62.40it/s]\n"
          ]
        },
        {
          "output_type": "stream",
          "name": "stdout",
          "text": [
            "\n",
            "Epoch    72\n",
            "Train_cost  = 6.8227 | Test_cost  = 6.6032 | \n"
          ]
        },
        {
          "output_type": "stream",
          "name": "stderr",
          "text": [
            "Train: 100%|██████████| 7/7 [00:00<00:00, 49.67it/s]\n",
            "Test: 100%|██████████| 3/3 [00:00<00:00, 47.61it/s]\n"
          ]
        },
        {
          "output_type": "stream",
          "name": "stdout",
          "text": [
            "\n",
            "Epoch    73\n",
            "Train_cost  = 6.7750 | Test_cost  = 6.5486 | \n"
          ]
        },
        {
          "output_type": "stream",
          "name": "stderr",
          "text": [
            "Train: 100%|██████████| 7/7 [00:00<00:00, 52.36it/s]\n",
            "Test: 100%|██████████| 3/3 [00:00<00:00, 59.47it/s]\n"
          ]
        },
        {
          "output_type": "stream",
          "name": "stdout",
          "text": [
            "\n",
            "Epoch    74\n",
            "Train_cost  = 6.7305 | Test_cost  = 6.4971 | \n"
          ]
        },
        {
          "output_type": "stream",
          "name": "stderr",
          "text": [
            "Train: 100%|██████████| 7/7 [00:00<00:00, 54.39it/s]\n",
            "Test: 100%|██████████| 3/3 [00:00<00:00, 67.07it/s]\n"
          ]
        },
        {
          "output_type": "stream",
          "name": "stdout",
          "text": [
            "\n",
            "Epoch    75\n",
            "Train_cost  = 6.6890 | Test_cost  = 6.4484 | \n"
          ]
        },
        {
          "output_type": "stream",
          "name": "stderr",
          "text": [
            "Train: 100%|██████████| 7/7 [00:00<00:00, 51.05it/s]\n",
            "Test: 100%|██████████| 3/3 [00:00<00:00, 57.56it/s]\n"
          ]
        },
        {
          "output_type": "stream",
          "name": "stdout",
          "text": [
            "\n",
            "Epoch    76\n",
            "Train_cost  = 6.6503 | Test_cost  = 6.4025 | \n"
          ]
        },
        {
          "output_type": "stream",
          "name": "stderr",
          "text": [
            "Train: 100%|██████████| 7/7 [00:00<00:00, 50.28it/s]\n",
            "Test: 100%|██████████| 3/3 [00:00<00:00, 62.55it/s]\n"
          ]
        },
        {
          "output_type": "stream",
          "name": "stdout",
          "text": [
            "\n",
            "Epoch    77\n",
            "Train_cost  = 6.6142 | Test_cost  = 6.3594 | \n"
          ]
        },
        {
          "output_type": "stream",
          "name": "stderr",
          "text": [
            "Train: 100%|██████████| 7/7 [00:00<00:00, 54.33it/s]\n",
            "Test: 100%|██████████| 3/3 [00:00<00:00, 54.81it/s]\n"
          ]
        },
        {
          "output_type": "stream",
          "name": "stdout",
          "text": [
            "\n",
            "Epoch    78\n",
            "Train_cost  = 6.5804 | Test_cost  = 6.3187 | \n"
          ]
        },
        {
          "output_type": "stream",
          "name": "stderr",
          "text": [
            "Train: 100%|██████████| 7/7 [00:00<00:00, 51.32it/s]\n",
            "Test: 100%|██████████| 3/3 [00:00<00:00, 56.08it/s]\n"
          ]
        },
        {
          "output_type": "stream",
          "name": "stdout",
          "text": [
            "\n",
            "Epoch    79\n",
            "Train_cost  = 6.5487 | Test_cost  = 6.2802 | \n"
          ]
        },
        {
          "output_type": "stream",
          "name": "stderr",
          "text": [
            "Train: 100%|██████████| 7/7 [00:00<00:00, 49.35it/s]\n",
            "Test: 100%|██████████| 3/3 [00:00<00:00, 55.96it/s]\n"
          ]
        },
        {
          "output_type": "stream",
          "name": "stdout",
          "text": [
            "\n",
            "Epoch    80\n",
            "Train_cost  = 6.5188 | Test_cost  = 6.2439 | \n"
          ]
        },
        {
          "output_type": "display_data",
          "data": {
            "text/plain": [
              "<Figure size 576x360 with 1 Axes>"
            ],
            "image/png": "[encoded data removed]"
          },
          "metadata": {
            "needs_background": "light"
          }
        },
        {
          "output_type": "stream",
          "name": "stderr",
          "text": [
            "Train: 100%|██████████| 7/7 [00:00<00:00, 49.21it/s]\n",
            "Test: 100%|██████████| 3/3 [00:00<00:00, 54.57it/s]\n"
          ]
        },
        {
          "output_type": "stream",
          "name": "stdout",
          "text": [
            "\n",
            "Epoch    81\n",
            "Train_cost  = 6.4905 | Test_cost  = 6.2094 | \n"
          ]
        },
        {
          "output_type": "stream",
          "name": "stderr",
          "text": [
            "Train: 100%|██████████| 7/7 [00:00<00:00, 50.32it/s]\n",
            "Test: 100%|██████████| 3/3 [00:00<00:00, 63.26it/s]\n"
          ]
        },
        {
          "output_type": "stream",
          "name": "stdout",
          "text": [
            "\n",
            "Epoch    82\n",
            "Train_cost  = 6.4636 | Test_cost  = 6.1767 | \n"
          ]
        },
        {
          "output_type": "stream",
          "name": "stderr",
          "text": [
            "Train: 100%|██████████| 7/7 [00:00<00:00, 56.87it/s]\n",
            "Test: 100%|██████████| 3/3 [00:00<00:00, 53.66it/s]\n"
          ]
        },
        {
          "output_type": "stream",
          "name": "stdout",
          "text": [
            "\n",
            "Epoch    83\n",
            "Train_cost  = 6.4380 | Test_cost  = 6.1455 | \n"
          ]
        },
        {
          "output_type": "stream",
          "name": "stderr",
          "text": [
            "Train: 100%|██████████| 7/7 [00:00<00:00, 51.67it/s]\n",
            "Test: 100%|██████████| 3/3 [00:00<00:00, 56.15it/s]\n"
          ]
        },
        {
          "output_type": "stream",
          "name": "stdout",
          "text": [
            "\n",
            "Epoch    84\n",
            "Train_cost  = 6.4136 | Test_cost  = 6.1158 | \n"
          ]
        },
        {
          "output_type": "stream",
          "name": "stderr",
          "text": [
            "Train: 100%|██████████| 7/7 [00:00<00:00, 51.82it/s]\n",
            "Test: 100%|██████████| 3/3 [00:00<00:00, 61.74it/s]"
          ]
        },
        {
          "output_type": "stream",
          "name": "stdout",
          "text": [
            "\n",
            "Epoch    85\n",
            "Train_cost  = 6.3901 | Test_cost  = 6.0875 | \n"
          ]
        },
        {
          "output_type": "stream",
          "name": "stderr",
          "text": [
            "\n",
            "Train: 100%|██████████| 7/7 [00:00<00:00, 56.07it/s]\n",
            "Test: 100%|██████████| 3/3 [00:00<00:00, 56.83it/s]\n"
          ]
        },
        {
          "output_type": "stream",
          "name": "stdout",
          "text": [
            "\n",
            "Epoch    86\n",
            "Train_cost  = 6.3676 | Test_cost  = 6.0606 | \n"
          ]
        },
        {
          "output_type": "stream",
          "name": "stderr",
          "text": [
            "Train: 100%|██████████| 7/7 [00:00<00:00, 54.12it/s]\n",
            "Test: 100%|██████████| 3/3 [00:00<00:00, 53.81it/s]\n"
          ]
        },
        {
          "output_type": "stream",
          "name": "stdout",
          "text": [
            "\n",
            "Epoch    87\n",
            "Train_cost  = 6.3458 | Test_cost  = 6.0349 | \n"
          ]
        },
        {
          "output_type": "stream",
          "name": "stderr",
          "text": [
            "Train: 100%|██████████| 7/7 [00:00<00:00, 52.54it/s]\n",
            "Test: 100%|██████████| 3/3 [00:00<00:00, 54.26it/s]\n"
          ]
        },
        {
          "output_type": "stream",
          "name": "stdout",
          "text": [
            "\n",
            "Epoch    88\n",
            "Train_cost  = 6.3248 | Test_cost  = 6.0104 | \n"
          ]
        },
        {
          "output_type": "stream",
          "name": "stderr",
          "text": [
            "Train: 100%|██████████| 7/7 [00:00<00:00, 50.27it/s]\n",
            "Test: 100%|██████████| 3/3 [00:00<00:00, 54.24it/s]\n"
          ]
        },
        {
          "output_type": "stream",
          "name": "stdout",
          "text": [
            "\n",
            "Epoch    89\n",
            "Train_cost  = 6.3045 | Test_cost  = 5.9872 | \n"
          ]
        },
        {
          "output_type": "stream",
          "name": "stderr",
          "text": [
            "Train: 100%|██████████| 7/7 [00:00<00:00, 48.12it/s]\n",
            "Test: 100%|██████████| 3/3 [00:00<00:00, 43.56it/s]\n"
          ]
        },
        {
          "output_type": "stream",
          "name": "stdout",
          "text": [
            "\n",
            "Epoch    90\n",
            "Train_cost  = 6.2849 | Test_cost  = 5.9651 | \n"
          ]
        },
        {
          "output_type": "stream",
          "name": "stderr",
          "text": [
            "Train: 100%|██████████| 7/7 [00:00<00:00, 49.70it/s]\n",
            "Test: 100%|██████████| 3/3 [00:00<00:00, 51.44it/s]\n"
          ]
        },
        {
          "output_type": "stream",
          "name": "stdout",
          "text": [
            "\n",
            "Epoch    91\n",
            "Train_cost  = 6.2660 | Test_cost  = 5.9440 | \n"
          ]
        },
        {
          "output_type": "stream",
          "name": "stderr",
          "text": [
            "Train: 100%|██████████| 7/7 [00:00<00:00, 51.71it/s]\n",
            "Test: 100%|██████████| 3/3 [00:00<00:00, 54.32it/s]\n"
          ]
        },
        {
          "output_type": "stream",
          "name": "stdout",
          "text": [
            "\n",
            "Epoch    92\n",
            "Train_cost  = 6.2477 | Test_cost  = 5.9238 | \n"
          ]
        },
        {
          "output_type": "stream",
          "name": "stderr",
          "text": [
            "Train: 100%|██████████| 7/7 [00:00<00:00, 50.65it/s]\n",
            "Test: 100%|██████████| 3/3 [00:00<00:00, 64.25it/s]\n"
          ]
        },
        {
          "output_type": "stream",
          "name": "stdout",
          "text": [
            "\n",
            "Epoch    93\n",
            "Train_cost  = 6.2300 | Test_cost  = 5.9047 | \n"
          ]
        },
        {
          "output_type": "stream",
          "name": "stderr",
          "text": [
            "Train: 100%|██████████| 7/7 [00:00<00:00, 52.03it/s]\n",
            "Test: 100%|██████████| 3/3 [00:00<00:00, 53.28it/s]\n"
          ]
        },
        {
          "output_type": "stream",
          "name": "stdout",
          "text": [
            "\n",
            "Epoch    94\n",
            "Train_cost  = 6.2128 | Test_cost  = 5.8865 | \n"
          ]
        },
        {
          "output_type": "stream",
          "name": "stderr",
          "text": [
            "Train: 100%|██████████| 7/7 [00:00<00:00, 52.25it/s]\n",
            "Test: 100%|██████████| 3/3 [00:00<00:00, 58.05it/s]\n"
          ]
        },
        {
          "output_type": "stream",
          "name": "stdout",
          "text": [
            "\n",
            "Epoch    95\n",
            "Train_cost  = 6.1962 | Test_cost  = 5.8692 | \n"
          ]
        },
        {
          "output_type": "stream",
          "name": "stderr",
          "text": [
            "Train: 100%|██████████| 7/7 [00:00<00:00, 49.18it/s]\n",
            "Test: 100%|██████████| 3/3 [00:00<00:00, 64.06it/s]\n"
          ]
        },
        {
          "output_type": "stream",
          "name": "stdout",
          "text": [
            "\n",
            "Epoch    96\n",
            "Train_cost  = 6.1801 | Test_cost  = 5.8527 | \n"
          ]
        },
        {
          "output_type": "stream",
          "name": "stderr",
          "text": [
            "Train: 100%|██████████| 7/7 [00:00<00:00, 53.82it/s]\n",
            "Test: 100%|██████████| 3/3 [00:00<00:00, 63.16it/s]\n"
          ]
        },
        {
          "output_type": "stream",
          "name": "stdout",
          "text": [
            "\n",
            "Epoch    97\n",
            "Train_cost  = 6.1644 | Test_cost  = 5.8370 | \n"
          ]
        },
        {
          "output_type": "stream",
          "name": "stderr",
          "text": [
            "Train: 100%|██████████| 7/7 [00:00<00:00, 52.16it/s]\n",
            "Test: 100%|██████████| 3/3 [00:00<00:00, 56.84it/s]\n"
          ]
        },
        {
          "output_type": "stream",
          "name": "stdout",
          "text": [
            "\n",
            "Epoch    98\n",
            "Train_cost  = 6.1491 | Test_cost  = 5.8220 | \n"
          ]
        },
        {
          "output_type": "stream",
          "name": "stderr",
          "text": [
            "Train: 100%|██████████| 7/7 [00:00<00:00, 49.35it/s]\n",
            "Test: 100%|██████████| 3/3 [00:00<00:00, 50.51it/s]\n"
          ]
        },
        {
          "output_type": "stream",
          "name": "stdout",
          "text": [
            "\n",
            "Epoch    99\n",
            "Train_cost  = 6.1341 | Test_cost  = 5.8077 | \n"
          ]
        },
        {
          "output_type": "stream",
          "name": "stderr",
          "text": [
            "Train: 100%|██████████| 7/7 [00:00<00:00, 52.30it/s]\n",
            "Test: 100%|██████████| 3/3 [00:00<00:00, 57.96it/s]\n"
          ]
        },
        {
          "output_type": "stream",
          "name": "stdout",
          "text": [
            "\n",
            "Epoch   100\n",
            "Train_cost  = 6.1196 | Test_cost  = 5.7940 | \n"
          ]
        },
        {
          "output_type": "display_data",
          "data": {
            "text/plain": [
              "<Figure size 576x360 with 1 Axes>"
            ],
            "image/png": "[encoded data removed]"
          },
          "metadata": {
            "needs_background": "light"
          }
        },
        {
          "output_type": "stream",
          "name": "stderr",
          "text": [
            "Train: 100%|██████████| 7/7 [00:00<00:00, 52.86it/s]\n",
            "Test: 100%|██████████| 3/3 [00:00<00:00, 53.37it/s]\n"
          ]
        },
        {
          "output_type": "stream",
          "name": "stdout",
          "text": [
            "\n",
            "Epoch   101\n",
            "Train_cost  = 6.1054 | Test_cost  = 5.7809 | \n"
          ]
        },
        {
          "output_type": "stream",
          "name": "stderr",
          "text": [
            "Train: 100%|██████████| 7/7 [00:00<00:00, 54.03it/s]\n",
            "Test: 100%|██████████| 3/3 [00:00<00:00, 58.84it/s]\n"
          ]
        },
        {
          "output_type": "stream",
          "name": "stdout",
          "text": [
            "\n",
            "Epoch   102\n",
            "Train_cost  = 6.0915 | Test_cost  = 5.7684 | \n"
          ]
        },
        {
          "output_type": "stream",
          "name": "stderr",
          "text": [
            "Train: 100%|██████████| 7/7 [00:00<00:00, 49.81it/s]\n",
            "Test: 100%|██████████| 3/3 [00:00<00:00, 56.47it/s]\n"
          ]
        },
        {
          "output_type": "stream",
          "name": "stdout",
          "text": [
            "\n",
            "Epoch   103\n",
            "Train_cost  = 6.0779 | Test_cost  = 5.7563 | \n"
          ]
        },
        {
          "output_type": "stream",
          "name": "stderr",
          "text": [
            "Train: 100%|██████████| 7/7 [00:00<00:00, 50.40it/s]\n",
            "Test: 100%|██████████| 3/3 [00:00<00:00, 51.85it/s]\n"
          ]
        },
        {
          "output_type": "stream",
          "name": "stdout",
          "text": [
            "\n",
            "Epoch   104\n",
            "Train_cost  = 6.0646 | Test_cost  = 5.7446 | \n"
          ]
        },
        {
          "output_type": "stream",
          "name": "stderr",
          "text": [
            "Train: 100%|██████████| 7/7 [00:00<00:00, 52.34it/s]\n",
            "Test: 100%|██████████| 3/3 [00:00<00:00, 58.67it/s]\n"
          ]
        },
        {
          "output_type": "stream",
          "name": "stdout",
          "text": [
            "\n",
            "Epoch   105\n",
            "Train_cost  = 6.0515 | Test_cost  = 5.7333 | \n"
          ]
        },
        {
          "output_type": "stream",
          "name": "stderr",
          "text": [
            "Train: 100%|██████████| 7/7 [00:00<00:00, 49.54it/s]\n",
            "Test: 100%|██████████| 3/3 [00:00<00:00, 50.20it/s]\n"
          ]
        },
        {
          "output_type": "stream",
          "name": "stdout",
          "text": [
            "\n",
            "Epoch   106\n",
            "Train_cost  = 6.0388 | Test_cost  = 5.7223 | \n"
          ]
        },
        {
          "output_type": "stream",
          "name": "stderr",
          "text": [
            "Train: 100%|██████████| 7/7 [00:00<00:00, 52.34it/s]\n",
            "Test: 100%|██████████| 3/3 [00:00<00:00, 48.98it/s]\n"
          ]
        },
        {
          "output_type": "stream",
          "name": "stdout",
          "text": [
            "\n",
            "Epoch   107\n",
            "Train_cost  = 6.0262 | Test_cost  = 5.7116 | \n"
          ]
        },
        {
          "output_type": "stream",
          "name": "stderr",
          "text": [
            "Train: 100%|██████████| 7/7 [00:00<00:00, 48.01it/s]\n",
            "Test: 100%|██████████| 3/3 [00:00<00:00, 54.98it/s]\n"
          ]
        },
        {
          "output_type": "stream",
          "name": "stdout",
          "text": [
            "\n",
            "Epoch   108\n",
            "Train_cost  = 6.0139 | Test_cost  = 5.7012 | \n"
          ]
        },
        {
          "output_type": "stream",
          "name": "stderr",
          "text": [
            "Train: 100%|██████████| 7/7 [00:00<00:00, 47.06it/s]\n",
            "Test: 100%|██████████| 3/3 [00:00<00:00, 55.49it/s]\n"
          ]
        },
        {
          "output_type": "stream",
          "name": "stdout",
          "text": [
            "\n",
            "Epoch   109\n",
            "Train_cost  = 6.0017 | Test_cost  = 5.6908 | \n"
          ]
        },
        {
          "output_type": "stream",
          "name": "stderr",
          "text": [
            "Train: 100%|██████████| 7/7 [00:00<00:00, 48.35it/s]\n",
            "Test: 100%|██████████| 3/3 [00:00<00:00, 45.37it/s]\n"
          ]
        },
        {
          "output_type": "stream",
          "name": "stdout",
          "text": [
            "\n",
            "Epoch   110\n",
            "Train_cost  = 5.9898 | Test_cost  = 5.6806 | \n"
          ]
        },
        {
          "output_type": "stream",
          "name": "stderr",
          "text": [
            "Train: 100%|██████████| 7/7 [00:00<00:00, 52.75it/s]\n",
            "Test: 100%|██████████| 3/3 [00:00<00:00, 62.01it/s]\n"
          ]
        },
        {
          "output_type": "stream",
          "name": "stdout",
          "text": [
            "\n",
            "Epoch   111\n",
            "Train_cost  = 5.9779 | Test_cost  = 5.6704 | \n"
          ]
        },
        {
          "output_type": "stream",
          "name": "stderr",
          "text": [
            "Train: 100%|██████████| 7/7 [00:00<00:00, 46.65it/s]\n",
            "Test: 100%|██████████| 3/3 [00:00<00:00, 45.00it/s]\n"
          ]
        },
        {
          "output_type": "stream",
          "name": "stdout",
          "text": [
            "\n",
            "Epoch   112\n",
            "Train_cost  = 5.9661 | Test_cost  = 5.6600 | \n"
          ]
        },
        {
          "output_type": "stream",
          "name": "stderr",
          "text": [
            "Train: 100%|██████████| 7/7 [00:00<00:00, 53.19it/s]\n",
            "Test: 100%|██████████| 3/3 [00:00<00:00, 54.51it/s]\n"
          ]
        },
        {
          "output_type": "stream",
          "name": "stdout",
          "text": [
            "\n",
            "Epoch   113\n",
            "Train_cost  = 5.9545 | Test_cost  = 5.6495 | \n"
          ]
        },
        {
          "output_type": "stream",
          "name": "stderr",
          "text": [
            "Train: 100%|██████████| 7/7 [00:00<00:00, 54.32it/s]\n",
            "Test: 100%|██████████| 3/3 [00:00<00:00, 48.11it/s]\n"
          ]
        },
        {
          "output_type": "stream",
          "name": "stdout",
          "text": [
            "\n",
            "Epoch   114\n",
            "Train_cost  = 5.9430 | Test_cost  = 5.6391 | \n"
          ]
        },
        {
          "output_type": "stream",
          "name": "stderr",
          "text": [
            "Train: 100%|██████████| 7/7 [00:00<00:00, 50.73it/s]\n",
            "Test: 100%|██████████| 3/3 [00:00<00:00, 47.96it/s]\n"
          ]
        },
        {
          "output_type": "stream",
          "name": "stdout",
          "text": [
            "\n",
            "Epoch   115\n",
            "Train_cost  = 5.9320 | Test_cost  = 5.6293 | \n"
          ]
        },
        {
          "output_type": "stream",
          "name": "stderr",
          "text": [
            "Train: 100%|██████████| 7/7 [00:00<00:00, 52.93it/s]\n",
            "Test: 100%|██████████| 3/3 [00:00<00:00, 58.35it/s]\n"
          ]
        },
        {
          "output_type": "stream",
          "name": "stdout",
          "text": [
            "\n",
            "Epoch   116\n",
            "Train_cost  = 5.9214 | Test_cost  = 5.6208 | \n"
          ]
        },
        {
          "output_type": "stream",
          "name": "stderr",
          "text": [
            "Train: 100%|██████████| 7/7 [00:00<00:00, 51.78it/s]\n",
            "Test: 100%|██████████| 3/3 [00:00<00:00, 65.59it/s]\n"
          ]
        },
        {
          "output_type": "stream",
          "name": "stdout",
          "text": [
            "\n",
            "Epoch   117\n",
            "Train_cost  = 5.9113 | Test_cost  = 5.6133 | \n"
          ]
        },
        {
          "output_type": "stream",
          "name": "stderr",
          "text": [
            "Train: 100%|██████████| 7/7 [00:00<00:00, 55.03it/s]\n",
            "Test: 100%|██████████| 3/3 [00:00<00:00, 66.05it/s]\n"
          ]
        },
        {
          "output_type": "stream",
          "name": "stdout",
          "text": [
            "\n",
            "Epoch   118\n",
            "Train_cost  = 5.9012 | Test_cost  = 5.6065 | \n"
          ]
        },
        {
          "output_type": "stream",
          "name": "stderr",
          "text": [
            "Train: 100%|██████████| 7/7 [00:00<00:00, 51.08it/s]\n",
            "Test: 100%|██████████| 3/3 [00:00<00:00, 52.34it/s]\n"
          ]
        },
        {
          "output_type": "stream",
          "name": "stdout",
          "text": [
            "\n",
            "Epoch   119\n",
            "Train_cost  = 5.8912 | Test_cost  = 5.6000 | \n"
          ]
        },
        {
          "output_type": "stream",
          "name": "stderr",
          "text": [
            "Train: 100%|██████████| 7/7 [00:00<00:00, 47.42it/s]\n",
            "Test: 100%|██████████| 3/3 [00:00<00:00, 57.45it/s]\n"
          ]
        },
        {
          "output_type": "stream",
          "name": "stdout",
          "text": [
            "\n",
            "Epoch   120\n",
            "Train_cost  = 5.8811 | Test_cost  = 5.5936 | \n"
          ]
        },
        {
          "output_type": "display_data",
          "data": {
            "text/plain": [
              "<Figure size 576x360 with 1 Axes>"
            ],
            "image/png": "[encoded data removed]"
          },
          "metadata": {
            "needs_background": "light"
          }
        },
        {
          "output_type": "stream",
          "name": "stderr",
          "text": [
            "Train: 100%|██████████| 7/7 [00:00<00:00, 53.00it/s]\n",
            "Test: 100%|██████████| 3/3 [00:00<00:00, 64.13it/s]\n"
          ]
        },
        {
          "output_type": "stream",
          "name": "stdout",
          "text": [
            "\n",
            "Epoch   121\n",
            "Train_cost  = 5.8712 | Test_cost  = 5.5870 | \n"
          ]
        },
        {
          "output_type": "stream",
          "name": "stderr",
          "text": [
            "Train: 100%|██████████| 7/7 [00:00<00:00, 47.56it/s]\n",
            "Test: 100%|██████████| 3/3 [00:00<00:00, 59.97it/s]\n"
          ]
        },
        {
          "output_type": "stream",
          "name": "stdout",
          "text": [
            "\n",
            "Epoch   122\n",
            "Train_cost  = 5.8615 | Test_cost  = 5.5806 | \n"
          ]
        },
        {
          "output_type": "stream",
          "name": "stderr",
          "text": [
            "Train: 100%|██████████| 7/7 [00:00<00:00, 52.86it/s]\n",
            "Test: 100%|██████████| 3/3 [00:00<00:00, 47.74it/s]\n"
          ]
        },
        {
          "output_type": "stream",
          "name": "stdout",
          "text": [
            "\n",
            "Epoch   123\n",
            "Train_cost  = 5.8520 | Test_cost  = 5.5744 | \n"
          ]
        },
        {
          "output_type": "stream",
          "name": "stderr",
          "text": [
            "Train: 100%|██████████| 7/7 [00:00<00:00, 49.87it/s]\n",
            "Test: 100%|██████████| 3/3 [00:00<00:00, 49.41it/s]\n"
          ]
        },
        {
          "output_type": "stream",
          "name": "stdout",
          "text": [
            "\n",
            "Epoch   124\n",
            "Train_cost  = 5.8428 | Test_cost  = 5.5686 | \n"
          ]
        },
        {
          "output_type": "stream",
          "name": "stderr",
          "text": [
            "Train: 100%|██████████| 7/7 [00:00<00:00, 52.37it/s]\n",
            "Test: 100%|██████████| 3/3 [00:00<00:00, 47.79it/s]\n"
          ]
        },
        {
          "output_type": "stream",
          "name": "stdout",
          "text": [
            "\n",
            "Epoch   125\n",
            "Train_cost  = 5.8338 | Test_cost  = 5.5633 | \n"
          ]
        },
        {
          "output_type": "stream",
          "name": "stderr",
          "text": [
            "Train: 100%|██████████| 7/7 [00:00<00:00, 49.54it/s]\n",
            "Test: 100%|██████████| 3/3 [00:00<00:00, 54.99it/s]\n"
          ]
        },
        {
          "output_type": "stream",
          "name": "stdout",
          "text": [
            "\n",
            "Epoch   126\n",
            "Train_cost  = 5.8250 | Test_cost  = 5.5587 | \n"
          ]
        },
        {
          "output_type": "stream",
          "name": "stderr",
          "text": [
            "Train: 100%|██████████| 7/7 [00:00<00:00, 49.41it/s]\n",
            "Test: 100%|██████████| 3/3 [00:00<00:00, 56.81it/s]\n"
          ]
        },
        {
          "output_type": "stream",
          "name": "stdout",
          "text": [
            "\n",
            "Epoch   127\n",
            "Train_cost  = 5.8163 | Test_cost  = 5.5546 | \n"
          ]
        },
        {
          "output_type": "stream",
          "name": "stderr",
          "text": [
            "Train: 100%|██████████| 7/7 [00:00<00:00, 49.68it/s]\n",
            "Test: 100%|██████████| 3/3 [00:00<00:00, 51.43it/s]\n"
          ]
        },
        {
          "output_type": "stream",
          "name": "stdout",
          "text": [
            "\n",
            "Epoch   128\n",
            "Train_cost  = 5.8076 | Test_cost  = 5.5511 | \n"
          ]
        },
        {
          "output_type": "stream",
          "name": "stderr",
          "text": [
            "Train: 100%|██████████| 7/7 [00:00<00:00, 51.76it/s]\n",
            "Test: 100%|██████████| 3/3 [00:00<00:00, 51.41it/s]\n"
          ]
        },
        {
          "output_type": "stream",
          "name": "stdout",
          "text": [
            "\n",
            "Epoch   129\n",
            "Train_cost  = 5.7989 | Test_cost  = 5.5481 | \n"
          ]
        },
        {
          "output_type": "stream",
          "name": "stderr",
          "text": [
            "Train: 100%|██████████| 7/7 [00:00<00:00, 47.72it/s]\n",
            "Test: 100%|██████████| 3/3 [00:00<00:00, 56.57it/s]\n"
          ]
        },
        {
          "output_type": "stream",
          "name": "stdout",
          "text": [
            "\n",
            "Epoch   130\n",
            "Train_cost  = 5.7902 | Test_cost  = 5.5456 | \n"
          ]
        },
        {
          "output_type": "stream",
          "name": "stderr",
          "text": [
            "Train: 100%|██████████| 7/7 [00:00<00:00, 51.68it/s]\n",
            "Test: 100%|██████████| 3/3 [00:00<00:00, 50.45it/s]\n"
          ]
        },
        {
          "output_type": "stream",
          "name": "stdout",
          "text": [
            "\n",
            "Epoch   131\n",
            "Train_cost  = 5.7816 | Test_cost  = 5.5434 | \n"
          ]
        },
        {
          "output_type": "stream",
          "name": "stderr",
          "text": [
            "Train: 100%|██████████| 7/7 [00:00<00:00, 51.54it/s]\n",
            "Test: 100%|██████████| 3/3 [00:00<00:00, 50.15it/s]\n"
          ]
        },
        {
          "output_type": "stream",
          "name": "stdout",
          "text": [
            "\n",
            "Epoch   132\n",
            "Train_cost  = 5.7731 | Test_cost  = 5.5416 | \n"
          ]
        },
        {
          "output_type": "stream",
          "name": "stderr",
          "text": [
            "Train: 100%|██████████| 7/7 [00:00<00:00, 53.81it/s]\n",
            "Test: 100%|██████████| 3/3 [00:00<00:00, 50.89it/s]\n"
          ]
        },
        {
          "output_type": "stream",
          "name": "stdout",
          "text": [
            "\n",
            "Epoch   133\n",
            "Train_cost  = 5.7645 | Test_cost  = 5.5401 | \n"
          ]
        },
        {
          "output_type": "stream",
          "name": "stderr",
          "text": [
            "Train: 100%|██████████| 7/7 [00:00<00:00, 54.88it/s]\n",
            "Test: 100%|██████████| 3/3 [00:00<00:00, 50.36it/s]\n"
          ]
        },
        {
          "output_type": "stream",
          "name": "stdout",
          "text": [
            "\n",
            "Epoch   134\n",
            "Train_cost  = 5.7561 | Test_cost  = 5.5389 | \n"
          ]
        },
        {
          "output_type": "stream",
          "name": "stderr",
          "text": [
            "Train: 100%|██████████| 7/7 [00:00<00:00, 47.44it/s]\n",
            "Test: 100%|██████████| 3/3 [00:00<00:00, 48.09it/s]\n"
          ]
        },
        {
          "output_type": "stream",
          "name": "stdout",
          "text": [
            "\n",
            "Epoch   135\n",
            "Train_cost  = 5.7477 | Test_cost  = 5.5379 | \n"
          ]
        },
        {
          "output_type": "stream",
          "name": "stderr",
          "text": [
            "Train: 100%|██████████| 7/7 [00:00<00:00, 49.03it/s]\n",
            "Test: 100%|██████████| 3/3 [00:00<00:00, 41.99it/s]\n"
          ]
        },
        {
          "output_type": "stream",
          "name": "stdout",
          "text": [
            "\n",
            "Epoch   136\n",
            "Train_cost  = 5.7394 | Test_cost  = 5.5373 | \n"
          ]
        },
        {
          "output_type": "stream",
          "name": "stderr",
          "text": [
            "Train: 100%|██████████| 7/7 [00:00<00:00, 50.55it/s]\n",
            "Test: 100%|██████████| 3/3 [00:00<00:00, 64.35it/s]\n"
          ]
        },
        {
          "output_type": "stream",
          "name": "stdout",
          "text": [
            "\n",
            "Epoch   137\n",
            "Train_cost  = 5.7311 | Test_cost  = 5.5370 | \n"
          ]
        },
        {
          "output_type": "stream",
          "name": "stderr",
          "text": [
            "Train: 100%|██████████| 7/7 [00:00<00:00, 53.82it/s]\n",
            "Test: 100%|██████████| 3/3 [00:00<00:00, 58.92it/s]\n"
          ]
        },
        {
          "output_type": "stream",
          "name": "stdout",
          "text": [
            "\n",
            "Epoch   138\n",
            "Train_cost  = 5.7229 | Test_cost  = 5.5370 | \n",
            "\u001b[31m==> EarlyStop patience =  1 | Best test_cost: 5.5370\u001b[0m\n"
          ]
        },
        {
          "output_type": "stream",
          "name": "stderr",
          "text": [
            "Train: 100%|██████████| 7/7 [00:00<00:00, 48.33it/s]\n",
            "Test: 100%|██████████| 3/3 [00:00<00:00, 49.50it/s]\n"
          ]
        },
        {
          "output_type": "stream",
          "name": "stdout",
          "text": [
            "\n",
            "Epoch   139\n",
            "Train_cost  = 5.7147 | Test_cost  = 5.5374 | \n",
            "\u001b[31m==> EarlyStop patience =  2 | Best test_cost: 5.5370\u001b[0m\n"
          ]
        },
        {
          "output_type": "stream",
          "name": "stderr",
          "text": [
            "Train: 100%|██████████| 7/7 [00:00<00:00, 50.95it/s]\n",
            "Test: 100%|██████████| 3/3 [00:00<00:00, 50.02it/s]\n"
          ]
        },
        {
          "output_type": "stream",
          "name": "stdout",
          "text": [
            "\n",
            "Epoch   140\n",
            "Train_cost  = 5.7066 | Test_cost  = 5.5382 | \n"
          ]
        },
        {
          "output_type": "display_data",
          "data": {
            "text/plain": [
              "<Figure size 576x360 with 1 Axes>"
            ],
            "image/png": "[encoded data removed]"
          },
          "metadata": {
            "needs_background": "light"
          }
        },
        {
          "output_type": "stream",
          "name": "stdout",
          "text": [
            "\u001b[31m==> EarlyStop patience =  3 | Best test_cost: 5.5370\u001b[0m\n"
          ]
        },
        {
          "output_type": "stream",
          "name": "stderr",
          "text": [
            "Train: 100%|██████████| 7/7 [00:00<00:00, 50.82it/s]\n",
            "Test: 100%|██████████| 3/3 [00:00<00:00, 60.00it/s]\n"
          ]
        },
        {
          "output_type": "stream",
          "name": "stdout",
          "text": [
            "\n",
            "Epoch   141\n",
            "Train_cost  = 5.6985 | Test_cost  = 5.5394 | \n",
            "\u001b[31m==> EarlyStop patience =  4 | Best test_cost: 5.5370\u001b[0m\n"
          ]
        },
        {
          "output_type": "stream",
          "name": "stderr",
          "text": [
            "Train: 100%|██████████| 7/7 [00:00<00:00, 47.47it/s]\n",
            "Test: 100%|██████████| 3/3 [00:00<00:00, 58.19it/s]\n"
          ]
        },
        {
          "output_type": "stream",
          "name": "stdout",
          "text": [
            "\n",
            "Epoch   142\n",
            "Train_cost  = 5.6904 | Test_cost  = 5.5409 | \n",
            "\u001b[31m==> EarlyStop patience =  5 | Best test_cost: 5.5370\u001b[0m\n",
            "\u001b[31m==> Execute Early Stopping at epoch: 142 | Best test_cost: 5.5370\u001b[0m\n",
            "\u001b[31m==> Best model is saved at /content/data/model/multivariate\u001b[0m\n"
          ]
        },
        {
          "output_type": "display_data",
          "data": {
            "text/plain": [
              "<Figure size 576x360 with 1 Axes>"
            ],
            "image/png": "[encoded data removed]"
          },
          "metadata": {
            "needs_background": "light"
          }
        }
      ],
      "source": [
        "while True:\n",
        "  train_cost = loop_fn(\"train\", train_set, train_loader, model, criterion, optimizer, device)\n",
        "  with torch.no_grad():\n",
        "    test_cost= loop_fn(\"test\", test_set, test_loader, model, criterion, optimizer, device)\n",
        "\n",
        "  #Logging\n",
        "  callback.log(train_cost, test_cost)\n",
        "\n",
        "  #Checkpoint\n",
        "  callback.save_checkpoint()\n",
        "\n",
        "  #Runtime_plotting\n",
        "  callback.cost_runtime_plotting()\n",
        "\n",
        "  #Early stopping\n",
        "  if callback.early_stopping(model, monitor=\"test_cost\"):\n",
        "        callback.plot_cost()\n",
        "        break"
      ]
    },
    {
      "cell_type": "markdown",
      "id": "voJ9Va2IGfHh",
      "metadata": {
        "id": "voJ9Va2IGfHh"
      },
      "source": [
        "## Sanity Check"
      ]
    },
    {
      "cell_type": "code",
      "execution_count": 25,
      "id": "4hRUhr6bJ1On",
      "metadata": {
        "id": "4hRUhr6bJ1On"
      },
      "outputs": [],
      "source": [
        "# utils\n",
        "def data4pred(model, dataset, dataloader, device):    \n",
        "    preds, targets = [], []\n",
        "    hidden = None\n",
        "    with torch.no_grad():\n",
        "        model.eval()\n",
        "        for inputs, target in dataloader:\n",
        "            inputs = inputs.to(device)\n",
        "            \n",
        "            output, hidden = model(inputs, hidden)\n",
        "            preds += output.flatten().tolist()\n",
        "            targets += target.flatten().tolist()\n",
        "\n",
        "    plt.plot(dataset.target_ticks, targets, 'b-', label=\"data\")\n",
        "    plt.plot(dataset.target_ticks, preds, 'r-', label=\"pred\")\n",
        "    plt.legend()    \n",
        "    \n",
        "def pred4pred(model, dataset, dataloader, device, n_prior=500, n_forecast=200):\n",
        "    preds, targets = [], []\n",
        "    hidden = None    \n",
        "    end = n_prior + n_forecast    \n",
        "    with torch.no_grad():\n",
        "        model.eval()       \n",
        "        for idx, (inputs, target) in enumerate(dataloader):\n",
        "            if idx == end:\n",
        "                break\n",
        "            elif idx > n_prior:\n",
        "                inputs[0, 0, 0] = preds[-1]\n",
        "                \n",
        "            inputs = inputs.to(device)\n",
        "            output, hidden = model(inputs, hidden)\n",
        "            \n",
        "            if idx > n_prior:\n",
        "                preds.append(output.flatten().tolist()[-1])\n",
        "            else:\n",
        "                preds += output.flatten().tolist()   \n",
        "            targets += target.flatten().tolist()\n",
        "\n",
        "    plt.plot(dataset.target_ticks[:n_prior], targets[:n_prior], 'b-', label=\"history_data\")\n",
        "    plt.plot(dataset.target_ticks[n_prior:end], targets[n_prior:], 'b-', label=\"unseen_data\", alpha=0.3)\n",
        "    plt.plot(dataset.target_ticks[:end], preds, 'r-', label=\"prediction\")\n",
        "    plt.axvline(dataset.target_ticks[n_prior], color='k', linestyle=\"--\", linewidth=1)\n",
        "    plt.legend()   "
      ]
    },
    {
      "cell_type": "code",
      "execution_count": 26,
      "id": "FnuDa5BPogRc",
      "metadata": {
        "colab": {
          "base_uri": "https://localhost:8080/"
        },
        "id": "FnuDa5BPogRc",
        "outputId": "85a2940d-3156-49c2-fa9a-95cc029ed8a8"
      },
      "outputs": [
        {
          "output_type": "stream",
          "name": "stdout",
          "text": [
            "(N, S, F): (2736, 1, 5)\n",
            "Note: last \u001b[31m0 data excluded\u001b[0m\n",
            "\n",
            "(N, S, F): (912, 1, 5)\n",
            "Note: last \u001b[31m0 data excluded\u001b[0m\n",
            "\n"
          ]
        }
      ],
      "source": [
        "train_forecast_set = TimeSeriesDataset(ts_train, \"Temp\", 1)\n",
        "trainforecastloader = DataLoader(train_forecast_set)\n",
        "test_forecast_set = TimeSeriesDataset(ts_test, \"Temp\", 1)\n",
        "testforecastloader = DataLoader(test_forecast_set)"
      ]
    },
    {
      "cell_type": "code",
      "execution_count": 27,
      "id": "vjzjhM3zpV-d",
      "metadata": {
        "colab": {
          "base_uri": "https://localhost:8080/",
          "height": 624
        },
        "id": "vjzjhM3zpV-d",
        "outputId": "fd554e69-d509-4e8c-c7aa-effda9e89b38"
      },
      "outputs": [
        {
          "output_type": "execute_result",
          "data": {
            "text/plain": [
              "Text(0.5, 1.0, 'Test')"
            ]
          },
          "metadata": {},
          "execution_count": 27
        },
        {
          "output_type": "display_data",
          "data": {
            "text/plain": [
              "<Figure size 1080x720 with 2 Axes>"
            ],
            "image/png": "[encoded data removed]"
          },
          "metadata": {
            "needs_background": "light"
          }
        }
      ],
      "source": [
        "# Data 4 Pred\n",
        "plt.figure(figsize=(15, 10))\n",
        "\n",
        "plt.subplot(211)\n",
        "data4pred(model, train_forecast_set, trainforecastloader, device)\n",
        "plt.title(\"Train\")\n",
        "\n",
        "plt.subplot(212)\n",
        "data4pred(model, test_forecast_set, testforecastloader, device)\n",
        "plt.title(\"Test\")"
      ]
    },
    {
      "cell_type": "code",
      "execution_count": 28,
      "id": "a9BoJS-Spu-o",
      "metadata": {
        "colab": {
          "base_uri": "https://localhost:8080/",
          "height": 353
        },
        "id": "a9BoJS-Spu-o",
        "outputId": "462bec43-db58-4506-da55-b9bf4631bde2"
      },
      "outputs": [
        {
          "output_type": "execute_result",
          "data": {
            "text/plain": [
              "Text(0.5, 1.0, 'test')"
            ]
          },
          "metadata": {},
          "execution_count": 28
        },
        {
          "output_type": "display_data",
          "data": {
            "text/plain": [
              "<Figure size 1080x360 with 1 Axes>"
            ],
            "image/png": "[encoded data removed]"
          },
          "metadata": {
            "needs_background": "light"
          }
        }
      ],
      "source": [
        "# Pred 4 Pred\n",
        "plt.figure(figsize=(15, 5))\n",
        "pred4pred(model, test_forecast_set, testforecastloader, device)\n",
        "plt.title(\"test\")"
      ]
    }
  ],
  "metadata": {
    "colab": {
      "provenance": [],
      "include_colab_link": true
    },
    "gpuClass": "standard",
    "kernelspec": {
      "display_name": "Python 3",
      "name": "python3"
    },
    "language_info": {
      "name": "python"
    }
  },
  "nbformat": 4,
  "nbformat_minor": 5
}