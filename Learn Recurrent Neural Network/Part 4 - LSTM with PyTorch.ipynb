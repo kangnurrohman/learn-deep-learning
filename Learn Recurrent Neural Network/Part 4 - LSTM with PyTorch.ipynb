{
  "cells": [
    {
      "cell_type": "markdown",
      "metadata": {
        "id": "view-in-github",
        "colab_type": "text"
      },
      "source": [
        "<a href=\"https://colab.research.google.com/github/kangnurrohman/belajar-recurrent-neural-network/blob/main/materi/Part%204%20-%20LSTM%20with%20PyTorch.ipynb\" target=\"_parent\"><img src=\"https://colab.research.google.com/assets/colab-badge.svg\" alt=\"Open In Colab\"/></a>"
      ]
    },
    {
      "cell_type": "code",
      "execution_count": 1,
      "id": "9W0vQINNS8Ds",
      "metadata": {
        "colab": {
          "base_uri": "https://localhost:8080/"
        },
        "id": "9W0vQINNS8Ds",
        "outputId": "615d2cff-ac64-4d2a-e76c-628787b61cf0"
      },
      "outputs": [
        {
          "output_type": "stream",
          "name": "stdout",
          "text": [
            "Mounted at /content/drive\n"
          ]
        }
      ],
      "source": [
        "from google.colab import drive\n",
        "drive.mount('/content/drive')"
      ]
    },
    {
      "cell_type": "code",
      "execution_count": null,
      "id": "Ydw3MUFdYj-L",
      "metadata": {
        "id": "Ydw3MUFdYj-L"
      },
      "outputs": [],
      "source": [
        "pip install jcopdl luwiji"
      ]
    },
    {
      "cell_type": "code",
      "execution_count": 3,
      "id": "C0fhFftrS8jU",
      "metadata": {
        "id": "C0fhFftrS8jU"
      },
      "outputs": [],
      "source": [
        "import zipfile\n",
        "zip_ref = zipfile.ZipFile(\"/content/drive/MyDrive/Colab Notebooks/data/data 4.zip\", 'r')\n",
        "zip_ref.extractall(\"data\")\n",
        "zip_ref.close()"
      ]
    },
    {
      "cell_type": "code",
      "execution_count": 4,
      "id": "XvtCR5eeTAtF",
      "metadata": {
        "id": "XvtCR5eeTAtF"
      },
      "outputs": [],
      "source": [
        "import numpy as np\n",
        "import pandas as pd\n",
        "import matplotlib.pyplot as plt\n",
        "\n",
        "from sklearn.model_selection import train_test_split"
      ]
    },
    {
      "cell_type": "code",
      "execution_count": 5,
      "id": "LDhxJzLf7KGi",
      "metadata": {
        "colab": {
          "base_uri": "https://localhost:8080/"
        },
        "id": "LDhxJzLf7KGi",
        "outputId": "db38c63d-3a05-4e1a-a5fc-94d36da65b95"
      },
      "outputs": [
        {
          "output_type": "execute_result",
          "data": {
            "text/plain": [
              "device(type='cpu')"
            ]
          },
          "metadata": {},
          "execution_count": 5
        }
      ],
      "source": [
        "import torch\n",
        "from torch import nn, optim\n",
        "from jcopdl.callback import Callback, set_config\n",
        "\n",
        "device = torch.device(\"cuda\" if torch.cuda.is_available() else \"cpu\")\n",
        "device"
      ]
    },
    {
      "cell_type": "markdown",
      "id": "fMElUhUqTh0W",
      "metadata": {
        "id": "fMElUhUqTh0W"
      },
      "source": [
        "## Import Data"
      ]
    },
    {
      "cell_type": "code",
      "execution_count": 6,
      "id": "I5ZMcb1iTjQ5",
      "metadata": {
        "colab": {
          "base_uri": "https://localhost:8080/",
          "height": 237
        },
        "id": "I5ZMcb1iTjQ5",
        "outputId": "c63622ad-65a9-4d35-918b-420596975212"
      },
      "outputs": [
        {
          "output_type": "execute_result",
          "data": {
            "text/plain": [
              "            Temp\n",
              "Date            \n",
              "1981-01-01  20.7\n",
              "1981-01-02  17.9\n",
              "1981-01-03  18.8\n",
              "1981-01-04  14.6\n",
              "1981-01-05  15.8"
            ],
            "text/html": [
              "\n",
              "  <div id=\"df-e53caff5-a744-4eb9-8468-6d098cb99f3e\">\n",
              "    <div class=\"colab-df-container\">\n",
              "      <div>\n",
              "<style scoped>\n",
              "    .dataframe tbody tr th:only-of-type {\n",
              "        vertical-align: middle;\n",
              "    }\n",
              "\n",
              "    .dataframe tbody tr th {\n",
              "        vertical-align: top;\n",
              "    }\n",
              "\n",
              "    .dataframe thead th {\n",
              "        text-align: right;\n",
              "    }\n",
              "</style>\n",
              "<table border=\"1\" class=\"dataframe\">\n",
              "  <thead>\n",
              "    <tr style=\"text-align: right;\">\n",
              "      <th></th>\n",
              "      <th>Temp</th>\n",
              "    </tr>\n",
              "    <tr>\n",
              "      <th>Date</th>\n",
              "      <th></th>\n",
              "    </tr>\n",
              "  </thead>\n",
              "  <tbody>\n",
              "    <tr>\n",
              "      <th>1981-01-01</th>\n",
              "      <td>20.7</td>\n",
              "    </tr>\n",
              "    <tr>\n",
              "      <th>1981-01-02</th>\n",
              "      <td>17.9</td>\n",
              "    </tr>\n",
              "    <tr>\n",
              "      <th>1981-01-03</th>\n",
              "      <td>18.8</td>\n",
              "    </tr>\n",
              "    <tr>\n",
              "      <th>1981-01-04</th>\n",
              "      <td>14.6</td>\n",
              "    </tr>\n",
              "    <tr>\n",
              "      <th>1981-01-05</th>\n",
              "      <td>15.8</td>\n",
              "    </tr>\n",
              "  </tbody>\n",
              "</table>\n",
              "</div>\n",
              "      <button class=\"colab-df-convert\" onclick=\"convertToInteractive('df-e53caff5-a744-4eb9-8468-6d098cb99f3e')\"\n",
              "              title=\"Convert this dataframe to an interactive table.\"\n",
              "              style=\"display:none;\">\n",
              "        \n",
              "  <svg xmlns=\"http://www.w3.org/2000/svg\" height=\"24px\"viewBox=\"0 0 24 24\"\n",
              "       width=\"24px\">\n",
              "    <path d=\"M0 0h24v24H0V0z\" fill=\"none\"/>\n",
              "    <path d=\"M18.56 5.44l.94 2.06.94-2.06 2.06-.94-2.06-.94-.94-2.06-.94 2.06-2.06.94zm-11 1L8.5 8.5l.94-2.06 2.06-.94-2.06-.94L8.5 2.5l-.94 2.06-2.06.94zm10 10l.94 2.06.94-2.06 2.06-.94-2.06-.94-.94-2.06-.94 2.06-2.06.94z\"/><path d=\"M17.41 7.96l-1.37-1.37c-.4-.4-.92-.59-1.43-.59-.52 0-1.04.2-1.43.59L10.3 9.45l-7.72 7.72c-.78.78-.78 2.05 0 2.83L4 21.41c.39.39.9.59 1.41.59.51 0 1.02-.2 1.41-.59l7.78-7.78 2.81-2.81c.8-.78.8-2.07 0-2.86zM5.41 20L4 18.59l7.72-7.72 1.47 1.35L5.41 20z\"/>\n",
              "  </svg>\n",
              "      </button>\n",
              "      \n",
              "  <style>\n",
              "    .colab-df-container {\n",
              "      display:flex;\n",
              "      flex-wrap:wrap;\n",
              "      gap: 12px;\n",
              "    }\n",
              "\n",
              "    .colab-df-convert {\n",
              "      background-color: #E8F0FE;\n",
              "      border: none;\n",
              "      border-radius: 50%;\n",
              "      cursor: pointer;\n",
              "      display: none;\n",
              "      fill: #1967D2;\n",
              "      height: 32px;\n",
              "      padding: 0 0 0 0;\n",
              "      width: 32px;\n",
              "    }\n",
              "\n",
              "    .colab-df-convert:hover {\n",
              "      background-color: #E2EBFA;\n",
              "      box-shadow: 0px 1px 2px rgba(60, 64, 67, 0.3), 0px 1px 3px 1px rgba(60, 64, 67, 0.15);\n",
              "      fill: #174EA6;\n",
              "    }\n",
              "\n",
              "    [theme=dark] .colab-df-convert {\n",
              "      background-color: #3B4455;\n",
              "      fill: #D2E3FC;\n",
              "    }\n",
              "\n",
              "    [theme=dark] .colab-df-convert:hover {\n",
              "      background-color: #434B5C;\n",
              "      box-shadow: 0px 1px 3px 1px rgba(0, 0, 0, 0.15);\n",
              "      filter: drop-shadow(0px 1px 2px rgba(0, 0, 0, 0.3));\n",
              "      fill: #FFFFFF;\n",
              "    }\n",
              "  </style>\n",
              "\n",
              "      <script>\n",
              "        const buttonEl =\n",
              "          document.querySelector('#df-e53caff5-a744-4eb9-8468-6d098cb99f3e button.colab-df-convert');\n",
              "        buttonEl.style.display =\n",
              "          google.colab.kernel.accessAllowed ? 'block' : 'none';\n",
              "\n",
              "        async function convertToInteractive(key) {\n",
              "          const element = document.querySelector('#df-e53caff5-a744-4eb9-8468-6d098cb99f3e');\n",
              "          const dataTable =\n",
              "            await google.colab.kernel.invokeFunction('convertToInteractive',\n",
              "                                                     [key], {});\n",
              "          if (!dataTable) return;\n",
              "\n",
              "          const docLinkHtml = 'Like what you see? Visit the ' +\n",
              "            '<a target=\"_blank\" href=https://colab.research.google.com/notebooks/data_table.ipynb>data table notebook</a>'\n",
              "            + ' to learn more about interactive tables.';\n",
              "          element.innerHTML = '';\n",
              "          dataTable['output_type'] = 'display_data';\n",
              "          await google.colab.output.renderOutput(dataTable, element);\n",
              "          const docLink = document.createElement('div');\n",
              "          docLink.innerHTML = docLinkHtml;\n",
              "          element.appendChild(docLink);\n",
              "        }\n",
              "      </script>\n",
              "    </div>\n",
              "  </div>\n",
              "  "
            ]
          },
          "metadata": {},
          "execution_count": 6
        }
      ],
      "source": [
        "df = pd.read_csv(\"/content/data/daily_min_temp.csv\", index_col=\"Date\", parse_dates=[\"Date\"])\n",
        "df.head()"
      ]
    },
    {
      "cell_type": "code",
      "execution_count": 7,
      "id": "rGGOSYlTUQCG",
      "metadata": {
        "colab": {
          "base_uri": "https://localhost:8080/",
          "height": 384
        },
        "id": "rGGOSYlTUQCG",
        "outputId": "0252cdea-df2f-4071-f74b-035605ee1d9e"
      },
      "outputs": [
        {
          "output_type": "execute_result",
          "data": {
            "text/plain": [
              "<matplotlib.axes._subplots.AxesSubplot at 0x7fbe870b9f50>"
            ]
          },
          "metadata": {},
          "execution_count": 7
        },
        {
          "output_type": "display_data",
          "data": {
            "text/plain": [
              "<Figure size 1080x432 with 1 Axes>"
            ],
            "image/png": "[encoded data removed]"
          },
          "metadata": {
            "needs_background": "light"
          }
        }
      ],
      "source": [
        "df.Temp.plot(figsize=(15, 6), color='red')"
      ]
    },
    {
      "cell_type": "markdown",
      "id": "h5dIwcCeUxrf",
      "metadata": {
        "id": "h5dIwcCeUxrf"
      },
      "source": [
        "## Dataset Spliting"
      ]
    },
    {
      "cell_type": "code",
      "execution_count": 8,
      "id": "-mBi2WmTU0Eo",
      "metadata": {
        "colab": {
          "base_uri": "https://localhost:8080/"
        },
        "id": "-mBi2WmTU0Eo",
        "outputId": "e43a6b26-6198-4fb7-8f54-c5873e731b50"
      },
      "outputs": [
        {
          "output_type": "execute_result",
          "data": {
            "text/plain": [
              "((2737, 1), (913, 1))"
            ]
          },
          "metadata": {},
          "execution_count": 8
        }
      ],
      "source": [
        "ts_train, ts_test = train_test_split(df, shuffle=False)\n",
        "ts_train.shape, ts_test.shape"
      ]
    },
    {
      "cell_type": "markdown",
      "id": "Td0ZcWT1YpFu",
      "metadata": {
        "id": "Td0ZcWT1YpFu"
      },
      "source": [
        "## Dataset & Dataloader"
      ]
    },
    {
      "cell_type": "code",
      "execution_count": 9,
      "id": "BZl-nJQuYrXD",
      "metadata": {
        "id": "BZl-nJQuYrXD"
      },
      "outputs": [],
      "source": [
        "from jcopdl.utils import TimeSeriesDataset\n",
        "from torch.utils.data import DataLoader"
      ]
    },
    {
      "cell_type": "code",
      "execution_count": 10,
      "id": "yfpE2GPXY7hQ",
      "metadata": {
        "colab": {
          "base_uri": "https://localhost:8080/"
        },
        "id": "yfpE2GPXY7hQ",
        "outputId": "cfc7958e-8982-4f2c-a457-44b57ce78cc9"
      },
      "outputs": [
        {
          "output_type": "stream",
          "name": "stdout",
          "text": [
            "(N, S, F): (195, 14, 1)\n",
            "Note: last \u001b[31m6 data excluded\u001b[0m\n",
            "\n",
            "(N, S, F): (65, 14, 1)\n",
            "Note: last \u001b[31m2 data excluded\u001b[0m\n",
            "\n"
          ]
        }
      ],
      "source": [
        "seq_len = 14\n",
        "bs = 32\n",
        "\n",
        "train_set = TimeSeriesDataset(ts_train, \"Temp\", seq_len)\n",
        "train_loader = DataLoader(train_set, batch_size=bs, num_workers=2)\n",
        "\n",
        "test_set = TimeSeriesDataset(ts_test, \"Temp\", seq_len)\n",
        "test_loader = DataLoader(test_set, batch_size=bs, num_workers=2)"
      ]
    },
    {
      "cell_type": "markdown",
      "id": "BhoAeI0B3Mo5",
      "metadata": {
        "id": "BhoAeI0B3Mo5"
      },
      "source": [
        "## Arsitektur & Config"
      ]
    },
    {
      "cell_type": "code",
      "execution_count": 15,
      "id": "A8yfxltJ3NaL",
      "metadata": {
        "id": "A8yfxltJ3NaL"
      },
      "outputs": [],
      "source": [
        "class LSTM(nn.Module):\n",
        "  def __init__(self, input_size, output_size, hidden_size, num_layers, dropout):\n",
        "    super().__init__()\n",
        "    self.rnn = nn.LSTM(input_size, hidden_size, num_layers, dropout=dropout, batch_first=True)\n",
        "    self.fc = nn.Linear(hidden_size, output_size)\n",
        "\n",
        "  def forward(self, x, hidden):\n",
        "    x, hidden = self.rnn(x, hidden)\n",
        "    x = self.fc(x)\n",
        "    return x, hidden"
      ]
    },
    {
      "cell_type": "code",
      "execution_count": 16,
      "id": "MP0jR2TkQ-ZJ",
      "metadata": {
        "id": "MP0jR2TkQ-ZJ"
      },
      "outputs": [],
      "source": [
        "config = set_config({\n",
        "    \"input_size\": train_set.n_feature,\n",
        "    \"seq_len\": train_set.n_seq,\n",
        "    \"output_size\": 1,\n",
        "    \"hidden_size\":64,\n",
        "    \"num_layers\": 2,\n",
        "    \"dropout\":0\n",
        "})"
      ]
    },
    {
      "cell_type": "markdown",
      "id": "LkmJLGIpViUd",
      "metadata": {
        "id": "LkmJLGIpViUd"
      },
      "source": [
        "## Training Preparation -> MCOC"
      ]
    },
    {
      "cell_type": "code",
      "execution_count": 17,
      "id": "KV3jIEVpSJa-",
      "metadata": {
        "id": "KV3jIEVpSJa-"
      },
      "outputs": [],
      "source": [
        "model = LSTM(config.input_size, config.output_size, config.hidden_size, config.num_layers, config.dropout).to(device)\n",
        "criterion = nn.MSELoss(reduction=\"mean\")\n",
        "optimizer = optim.AdamW(model.parameters(), lr=0.001)\n",
        "callback = Callback(model, config, outdir='/content/data/model/lstm')"
      ]
    },
    {
      "cell_type": "markdown",
      "id": "WA55OK3MeG_u",
      "metadata": {
        "id": "WA55OK3MeG_u"
      },
      "source": [
        "## Training"
      ]
    },
    {
      "cell_type": "code",
      "execution_count": 18,
      "id": "Ak0uo89seHt4",
      "metadata": {
        "id": "Ak0uo89seHt4"
      },
      "outputs": [],
      "source": [
        "from tqdm import tqdm\n",
        "\n",
        "def loop_fn(mode, dataset, dataloader, model, criterion, optimizer, device):\n",
        "  if mode == 'train':\n",
        "    model.train()\n",
        "  elif mode == 'test':\n",
        "    model.eval()\n",
        "  cost = 0\n",
        "  for feature, target in tqdm(dataloader, desc=mode.title()):\n",
        "    feature, target = feature.to(device), target.to(device)\n",
        "    output, hidden = model(feature, None)\n",
        "    loss = criterion(output, target)\n",
        "\n",
        "    if mode == 'train':\n",
        "      loss.backward()\n",
        "      optimizer.step()\n",
        "      optimizer.zero_grad()\n",
        "\n",
        "    cost += loss.item() * feature.shape[0]\n",
        "  cost = cost / len(dataset)\n",
        "  return cost"
      ]
    },
    {
      "cell_type": "code",
      "execution_count": 19,
      "id": "iATDgvxOfaT2",
      "metadata": {
        "colab": {
          "base_uri": "https://localhost:8080/",
          "height": 1000
        },
        "id": "iATDgvxOfaT2",
        "outputId": "80884d5a-38a9-40bf-ea39-fcd27e4c8fbd"
      },
      "outputs": [
        {
          "output_type": "stream",
          "name": "stderr",
          "text": [
            "Train: 100%|██████████| 7/7 [00:00<00:00, 18.05it/s]\n",
            "Test: 100%|██████████| 3/3 [00:00<00:00, 38.20it/s]\n"
          ]
        },
        {
          "output_type": "stream",
          "name": "stdout",
          "text": [
            "\n",
            "Epoch     1\n",
            "Train_cost  = 133.6253 | Test_cost  = 131.4262 | \n"
          ]
        },
        {
          "output_type": "stream",
          "name": "stderr",
          "text": [
            "Train: 100%|██████████| 7/7 [00:00<00:00, 33.92it/s]\n",
            "Test: 100%|██████████| 3/3 [00:00<00:00, 39.66it/s]\n"
          ]
        },
        {
          "output_type": "stream",
          "name": "stdout",
          "text": [
            "\n",
            "Epoch     2\n",
            "Train_cost  = 122.1308 | Test_cost  = 114.5615 | \n"
          ]
        },
        {
          "output_type": "stream",
          "name": "stderr",
          "text": [
            "Train: 100%|██████████| 7/7 [00:00<00:00, 32.73it/s]\n",
            "Test: 100%|██████████| 3/3 [00:00<00:00, 38.46it/s]\n"
          ]
        },
        {
          "output_type": "stream",
          "name": "stdout",
          "text": [
            "\n",
            "Epoch     3\n",
            "Train_cost  = 103.5677 | Test_cost  = 94.3563 | \n"
          ]
        },
        {
          "output_type": "stream",
          "name": "stderr",
          "text": [
            "Train: 100%|██████████| 7/7 [00:00<00:00, 33.50it/s]\n",
            "Test: 100%|██████████| 3/3 [00:00<00:00, 40.99it/s]\n"
          ]
        },
        {
          "output_type": "stream",
          "name": "stdout",
          "text": [
            "\n",
            "Epoch     4\n",
            "Train_cost  = 84.6403 | Test_cost  = 76.9444 | \n"
          ]
        },
        {
          "output_type": "stream",
          "name": "stderr",
          "text": [
            "Train: 100%|██████████| 7/7 [00:00<00:00, 37.15it/s]\n",
            "Test: 100%|██████████| 3/3 [00:00<00:00, 37.69it/s]\n"
          ]
        },
        {
          "output_type": "stream",
          "name": "stdout",
          "text": [
            "\n",
            "Epoch     5\n",
            "Train_cost  = 69.0669 | Test_cost  = 63.5332 | \n"
          ]
        },
        {
          "output_type": "stream",
          "name": "stderr",
          "text": [
            "Train: 100%|██████████| 7/7 [00:00<00:00, 35.66it/s]\n",
            "Test: 100%|██████████| 3/3 [00:00<00:00, 34.18it/s]\n"
          ]
        },
        {
          "output_type": "stream",
          "name": "stdout",
          "text": [
            "\n",
            "Epoch     6\n",
            "Train_cost  = 57.4506 | Test_cost  = 53.7276 | \n"
          ]
        },
        {
          "output_type": "stream",
          "name": "stderr",
          "text": [
            "Train: 100%|██████████| 7/7 [00:00<00:00, 34.57it/s]\n",
            "Test: 100%|██████████| 3/3 [00:00<00:00, 38.48it/s]\n"
          ]
        },
        {
          "output_type": "stream",
          "name": "stdout",
          "text": [
            "\n",
            "Epoch     7\n",
            "Train_cost  = 48.9770 | Test_cost  = 46.4357 | \n"
          ]
        },
        {
          "output_type": "stream",
          "name": "stderr",
          "text": [
            "Train: 100%|██████████| 7/7 [00:00<00:00, 34.66it/s]\n",
            "Test: 100%|██████████| 3/3 [00:00<00:00, 38.71it/s]\n"
          ]
        },
        {
          "output_type": "stream",
          "name": "stdout",
          "text": [
            "\n",
            "Epoch     8\n",
            "Train_cost  = 42.6069 | Test_cost  = 40.7261 | \n"
          ]
        },
        {
          "output_type": "stream",
          "name": "stderr",
          "text": [
            "Train: 100%|██████████| 7/7 [00:00<00:00, 34.35it/s]\n",
            "Test: 100%|██████████| 3/3 [00:00<00:00, 40.73it/s]\n"
          ]
        },
        {
          "output_type": "stream",
          "name": "stdout",
          "text": [
            "\n",
            "Epoch     9\n",
            "Train_cost  = 37.5596 | Test_cost  = 36.0723 | \n"
          ]
        },
        {
          "output_type": "stream",
          "name": "stderr",
          "text": [
            "Train: 100%|██████████| 7/7 [00:00<00:00, 34.71it/s]\n",
            "Test: 100%|██████████| 3/3 [00:00<00:00, 39.50it/s]\n"
          ]
        },
        {
          "output_type": "stream",
          "name": "stdout",
          "text": [
            "\n",
            "Epoch    10\n",
            "Train_cost  = 33.4733 | Test_cost  = 32.3138 | \n"
          ]
        },
        {
          "output_type": "stream",
          "name": "stderr",
          "text": [
            "Train: 100%|██████████| 7/7 [00:00<00:00, 35.26it/s]\n",
            "Test: 100%|██████████| 3/3 [00:00<00:00, 38.80it/s]\n"
          ]
        },
        {
          "output_type": "stream",
          "name": "stdout",
          "text": [
            "\n",
            "Epoch    11\n",
            "Train_cost  = 30.2033 | Test_cost  = 29.2852 | \n"
          ]
        },
        {
          "output_type": "stream",
          "name": "stderr",
          "text": [
            "Train: 100%|██████████| 7/7 [00:00<00:00, 37.48it/s]\n",
            "Test: 100%|██████████| 3/3 [00:00<00:00, 40.69it/s]\n"
          ]
        },
        {
          "output_type": "stream",
          "name": "stdout",
          "text": [
            "\n",
            "Epoch    12\n",
            "Train_cost  = 27.5830 | Test_cost  = 26.8355 | \n"
          ]
        },
        {
          "output_type": "stream",
          "name": "stderr",
          "text": [
            "Train: 100%|██████████| 7/7 [00:00<00:00, 32.58it/s]\n",
            "Test: 100%|██████████| 3/3 [00:00<00:00, 37.91it/s]\n"
          ]
        },
        {
          "output_type": "stream",
          "name": "stdout",
          "text": [
            "\n",
            "Epoch    13\n",
            "Train_cost  = 25.4809 | Test_cost  = 24.8564 | \n"
          ]
        },
        {
          "output_type": "stream",
          "name": "stderr",
          "text": [
            "Train: 100%|██████████| 7/7 [00:00<00:00, 37.07it/s]\n",
            "Test: 100%|██████████| 3/3 [00:00<00:00, 40.92it/s]\n"
          ]
        },
        {
          "output_type": "stream",
          "name": "stdout",
          "text": [
            "\n",
            "Epoch    14\n",
            "Train_cost  = 23.7993 | Test_cost  = 23.2617 | \n"
          ]
        },
        {
          "output_type": "stream",
          "name": "stderr",
          "text": [
            "Train: 100%|██████████| 7/7 [00:00<00:00, 33.33it/s]\n",
            "Test: 100%|██████████| 3/3 [00:00<00:00, 39.74it/s]\n"
          ]
        },
        {
          "output_type": "stream",
          "name": "stdout",
          "text": [
            "\n",
            "Epoch    15\n",
            "Train_cost  = 22.4590 | Test_cost  = 21.9805 | \n"
          ]
        },
        {
          "output_type": "stream",
          "name": "stderr",
          "text": [
            "Train: 100%|██████████| 7/7 [00:00<00:00, 37.81it/s]\n",
            "Test: 100%|██████████| 3/3 [00:00<00:00, 32.25it/s]\n"
          ]
        },
        {
          "output_type": "stream",
          "name": "stdout",
          "text": [
            "\n",
            "Epoch    16\n",
            "Train_cost  = 21.3947 | Test_cost  = 20.9540 | \n"
          ]
        },
        {
          "output_type": "stream",
          "name": "stderr",
          "text": [
            "Train: 100%|██████████| 7/7 [00:00<00:00, 35.49it/s]\n",
            "Test: 100%|██████████| 3/3 [00:00<00:00, 37.03it/s]\n"
          ]
        },
        {
          "output_type": "stream",
          "name": "stdout",
          "text": [
            "\n",
            "Epoch    17\n",
            "Train_cost  = 20.5525 | Test_cost  = 20.1335 | \n"
          ]
        },
        {
          "output_type": "stream",
          "name": "stderr",
          "text": [
            "Train: 100%|██████████| 7/7 [00:00<00:00, 37.23it/s]\n",
            "Test: 100%|██████████| 3/3 [00:00<00:00, 39.46it/s]\n"
          ]
        },
        {
          "output_type": "stream",
          "name": "stdout",
          "text": [
            "\n",
            "Epoch    18\n",
            "Train_cost  = 19.8880 | Test_cost  = 19.4791 | \n"
          ]
        },
        {
          "output_type": "stream",
          "name": "stderr",
          "text": [
            "Train: 100%|██████████| 7/7 [00:00<00:00, 36.60it/s]\n",
            "Test: 100%|██████████| 3/3 [00:00<00:00, 38.60it/s]\n"
          ]
        },
        {
          "output_type": "stream",
          "name": "stdout",
          "text": [
            "\n",
            "Epoch    19\n",
            "Train_cost  = 19.3652 | Test_cost  = 18.9584 | \n"
          ]
        },
        {
          "output_type": "stream",
          "name": "stderr",
          "text": [
            "Train: 100%|██████████| 7/7 [00:00<00:00, 34.66it/s]\n",
            "Test: 100%|██████████| 3/3 [00:00<00:00, 37.50it/s]\n"
          ]
        },
        {
          "output_type": "stream",
          "name": "stdout",
          "text": [
            "\n",
            "Epoch    20\n",
            "Train_cost  = 18.9547 | Test_cost  = 18.5447 | \n"
          ]
        },
        {
          "output_type": "display_data",
          "data": {
            "text/plain": [
              "<Figure size 576x360 with 1 Axes>"
            ],
            "image/png": "[encoded data removed]"
          },
          "metadata": {
            "needs_background": "light"
          }
        },
        {
          "output_type": "stream",
          "name": "stderr",
          "text": [
            "Train: 100%|██████████| 7/7 [00:00<00:00, 32.65it/s]\n",
            "Test: 100%|██████████| 3/3 [00:00<00:00, 38.17it/s]\n"
          ]
        },
        {
          "output_type": "stream",
          "name": "stdout",
          "text": [
            "\n",
            "Epoch    21\n",
            "Train_cost  = 18.6328 | Test_cost  = 18.2164 | \n"
          ]
        },
        {
          "output_type": "stream",
          "name": "stderr",
          "text": [
            "Train: 100%|██████████| 7/7 [00:00<00:00, 39.63it/s]\n",
            "Test: 100%|██████████| 3/3 [00:00<00:00, 39.44it/s]\n"
          ]
        },
        {
          "output_type": "stream",
          "name": "stdout",
          "text": [
            "\n",
            "Epoch    22\n",
            "Train_cost  = 18.3804 | Test_cost  = 17.9556 | \n"
          ]
        },
        {
          "output_type": "stream",
          "name": "stderr",
          "text": [
            "Train: 100%|██████████| 7/7 [00:00<00:00, 37.69it/s]\n",
            "Test: 100%|██████████| 3/3 [00:00<00:00, 39.73it/s]\n"
          ]
        },
        {
          "output_type": "stream",
          "name": "stdout",
          "text": [
            "\n",
            "Epoch    23\n",
            "Train_cost  = 18.1821 | Test_cost  = 17.7480 | \n"
          ]
        },
        {
          "output_type": "stream",
          "name": "stderr",
          "text": [
            "Train: 100%|██████████| 7/7 [00:00<00:00, 37.66it/s]\n",
            "Test: 100%|██████████| 3/3 [00:00<00:00, 37.63it/s]\n"
          ]
        },
        {
          "output_type": "stream",
          "name": "stdout",
          "text": [
            "\n",
            "Epoch    24\n",
            "Train_cost  = 18.0253 | Test_cost  = 17.5820 | \n"
          ]
        },
        {
          "output_type": "stream",
          "name": "stderr",
          "text": [
            "Train: 100%|██████████| 7/7 [00:00<00:00, 34.15it/s]\n",
            "Test: 100%|██████████| 3/3 [00:00<00:00, 39.79it/s]\n"
          ]
        },
        {
          "output_type": "stream",
          "name": "stdout",
          "text": [
            "\n",
            "Epoch    25\n",
            "Train_cost  = 17.9006 | Test_cost  = 17.4485 | \n"
          ]
        },
        {
          "output_type": "stream",
          "name": "stderr",
          "text": [
            "Train: 100%|██████████| 7/7 [00:00<00:00, 36.02it/s]\n",
            "Test: 100%|██████████| 3/3 [00:00<00:00, 36.00it/s]\n"
          ]
        },
        {
          "output_type": "stream",
          "name": "stdout",
          "text": [
            "\n",
            "Epoch    26\n",
            "Train_cost  = 17.8004 | Test_cost  = 17.3403 | \n"
          ]
        },
        {
          "output_type": "stream",
          "name": "stderr",
          "text": [
            "Train: 100%|██████████| 7/7 [00:00<00:00, 29.48it/s]\n",
            "Test: 100%|██████████| 3/3 [00:00<00:00, 11.93it/s]\n"
          ]
        },
        {
          "output_type": "stream",
          "name": "stdout",
          "text": [
            "\n",
            "Epoch    27\n",
            "Train_cost  = 17.7189 | Test_cost  = 17.2520 | \n"
          ]
        },
        {
          "output_type": "stream",
          "name": "stderr",
          "text": [
            "Train: 100%|██████████| 7/7 [00:00<00:00, 18.59it/s]\n",
            "Test: 100%|██████████| 3/3 [00:00<00:00, 34.00it/s]\n"
          ]
        },
        {
          "output_type": "stream",
          "name": "stdout",
          "text": [
            "\n",
            "Epoch    28\n",
            "Train_cost  = 17.6518 | Test_cost  = 17.1791 | \n"
          ]
        },
        {
          "output_type": "stream",
          "name": "stderr",
          "text": [
            "Train: 100%|██████████| 7/7 [00:00<00:00, 33.54it/s]\n",
            "Test: 100%|██████████| 3/3 [00:00<00:00, 34.24it/s]\n"
          ]
        },
        {
          "output_type": "stream",
          "name": "stdout",
          "text": [
            "\n",
            "Epoch    29\n",
            "Train_cost  = 17.5957 | Test_cost  = 17.1185 | \n"
          ]
        },
        {
          "output_type": "stream",
          "name": "stderr",
          "text": [
            "Train: 100%|██████████| 7/7 [00:00<00:00, 12.77it/s]\n",
            "Test: 100%|██████████| 3/3 [00:00<00:00, 35.95it/s]\n"
          ]
        },
        {
          "output_type": "stream",
          "name": "stdout",
          "text": [
            "\n",
            "Epoch    30\n",
            "Train_cost  = 17.5482 | Test_cost  = 17.0675 | \n"
          ]
        },
        {
          "output_type": "stream",
          "name": "stderr",
          "text": [
            "Train: 100%|██████████| 7/7 [00:00<00:00, 33.80it/s]\n",
            "Test: 100%|██████████| 3/3 [00:00<00:00, 33.29it/s]\n"
          ]
        },
        {
          "output_type": "stream",
          "name": "stdout",
          "text": [
            "\n",
            "Epoch    31\n",
            "Train_cost  = 17.5076 | Test_cost  = 17.0245 | \n"
          ]
        },
        {
          "output_type": "stream",
          "name": "stderr",
          "text": [
            "Train: 100%|██████████| 7/7 [00:00<00:00, 12.18it/s]\n",
            "Test: 100%|██████████| 3/3 [00:00<00:00, 32.33it/s]\n"
          ]
        },
        {
          "output_type": "stream",
          "name": "stdout",
          "text": [
            "\n",
            "Epoch    32\n",
            "Train_cost  = 17.4727 | Test_cost  = 16.9881 | \n"
          ]
        },
        {
          "output_type": "stream",
          "name": "stderr",
          "text": [
            "Train: 100%|██████████| 7/7 [00:00<00:00, 35.09it/s]\n",
            "Test: 100%|██████████| 3/3 [00:00<00:00, 35.30it/s]\n"
          ]
        },
        {
          "output_type": "stream",
          "name": "stdout",
          "text": [
            "\n",
            "Epoch    33\n",
            "Train_cost  = 17.4426 | Test_cost  = 16.9569 | \n"
          ]
        },
        {
          "output_type": "stream",
          "name": "stderr",
          "text": [
            "Train: 100%|██████████| 7/7 [00:00<00:00, 32.33it/s]\n",
            "Test: 100%|██████████| 3/3 [00:00<00:00, 35.31it/s]\n"
          ]
        },
        {
          "output_type": "stream",
          "name": "stdout",
          "text": [
            "\n",
            "Epoch    34\n",
            "Train_cost  = 17.4163 | Test_cost  = 16.9299 | \n"
          ]
        },
        {
          "output_type": "stream",
          "name": "stderr",
          "text": [
            "Train: 100%|██████████| 7/7 [00:00<00:00, 33.42it/s]\n",
            "Test: 100%|██████████| 3/3 [00:00<00:00, 38.53it/s]\n"
          ]
        },
        {
          "output_type": "stream",
          "name": "stdout",
          "text": [
            "\n",
            "Epoch    35\n",
            "Train_cost  = 17.3930 | Test_cost  = 16.9062 | \n"
          ]
        },
        {
          "output_type": "stream",
          "name": "stderr",
          "text": [
            "Train: 100%|██████████| 7/7 [00:00<00:00, 36.99it/s]\n",
            "Test: 100%|██████████| 3/3 [00:00<00:00, 33.47it/s]\n"
          ]
        },
        {
          "output_type": "stream",
          "name": "stdout",
          "text": [
            "\n",
            "Epoch    36\n",
            "Train_cost  = 17.3721 | Test_cost  = 16.8853 | \n"
          ]
        },
        {
          "output_type": "stream",
          "name": "stderr",
          "text": [
            "Train: 100%|██████████| 7/7 [00:00<00:00, 36.35it/s]\n",
            "Test: 100%|██████████| 3/3 [00:00<00:00, 35.02it/s]\n"
          ]
        },
        {
          "output_type": "stream",
          "name": "stdout",
          "text": [
            "\n",
            "Epoch    37\n",
            "Train_cost  = 17.3534 | Test_cost  = 16.8668 | \n"
          ]
        },
        {
          "output_type": "stream",
          "name": "stderr",
          "text": [
            "Train: 100%|██████████| 7/7 [00:00<00:00, 34.80it/s]\n",
            "Test: 100%|██████████| 3/3 [00:00<00:00, 34.68it/s]\n"
          ]
        },
        {
          "output_type": "stream",
          "name": "stdout",
          "text": [
            "\n",
            "Epoch    38\n",
            "Train_cost  = 17.3365 | Test_cost  = 16.8503 | \n"
          ]
        },
        {
          "output_type": "stream",
          "name": "stderr",
          "text": [
            "Train: 100%|██████████| 7/7 [00:00<00:00, 36.18it/s]\n",
            "Test: 100%|██████████| 3/3 [00:00<00:00, 33.25it/s]\n"
          ]
        },
        {
          "output_type": "stream",
          "name": "stdout",
          "text": [
            "\n",
            "Epoch    39\n",
            "Train_cost  = 17.3211 | Test_cost  = 16.8354 | \n"
          ]
        },
        {
          "output_type": "stream",
          "name": "stderr",
          "text": [
            "Train: 100%|██████████| 7/7 [00:00<00:00, 33.97it/s]\n",
            "Test: 100%|██████████| 3/3 [00:00<00:00, 32.41it/s]\n"
          ]
        },
        {
          "output_type": "stream",
          "name": "stdout",
          "text": [
            "\n",
            "Epoch    40\n",
            "Train_cost  = 17.3071 | Test_cost  = 16.8219 | \n"
          ]
        },
        {
          "output_type": "display_data",
          "data": {
            "text/plain": [
              "<Figure size 576x360 with 1 Axes>"
            ],
            "image/png": "[encoded data removed]"
          },
          "metadata": {
            "needs_background": "light"
          }
        },
        {
          "output_type": "stream",
          "name": "stderr",
          "text": [
            "Train: 100%|██████████| 7/7 [00:00<00:00, 35.57it/s]\n",
            "Test: 100%|██████████| 3/3 [00:00<00:00, 38.28it/s]\n"
          ]
        },
        {
          "output_type": "stream",
          "name": "stdout",
          "text": [
            "\n",
            "Epoch    41\n",
            "Train_cost  = 17.2941 | Test_cost  = 16.8096 | \n"
          ]
        },
        {
          "output_type": "stream",
          "name": "stderr",
          "text": [
            "Train: 100%|██████████| 7/7 [00:00<00:00, 35.69it/s]\n",
            "Test: 100%|██████████| 3/3 [00:00<00:00, 31.80it/s]\n"
          ]
        },
        {
          "output_type": "stream",
          "name": "stdout",
          "text": [
            "\n",
            "Epoch    42\n",
            "Train_cost  = 17.2822 | Test_cost  = 16.7984 | \n"
          ]
        },
        {
          "output_type": "stream",
          "name": "stderr",
          "text": [
            "Train: 100%|██████████| 7/7 [00:00<00:00, 35.89it/s]\n",
            "Test: 100%|██████████| 3/3 [00:00<00:00, 29.41it/s]\n"
          ]
        },
        {
          "output_type": "stream",
          "name": "stdout",
          "text": [
            "\n",
            "Epoch    43\n",
            "Train_cost  = 17.2711 | Test_cost  = 16.7880 | \n"
          ]
        },
        {
          "output_type": "stream",
          "name": "stderr",
          "text": [
            "Train: 100%|██████████| 7/7 [00:00<00:00, 37.27it/s]\n",
            "Test: 100%|██████████| 3/3 [00:00<00:00, 35.36it/s]\n"
          ]
        },
        {
          "output_type": "stream",
          "name": "stdout",
          "text": [
            "\n",
            "Epoch    44\n",
            "Train_cost  = 17.2608 | Test_cost  = 16.7783 | \n"
          ]
        },
        {
          "output_type": "stream",
          "name": "stderr",
          "text": [
            "Train: 100%|██████████| 7/7 [00:00<00:00, 35.39it/s]\n",
            "Test: 100%|██████████| 3/3 [00:00<00:00, 36.16it/s]\n"
          ]
        },
        {
          "output_type": "stream",
          "name": "stdout",
          "text": [
            "\n",
            "Epoch    45\n",
            "Train_cost  = 17.2512 | Test_cost  = 16.7693 | \n"
          ]
        },
        {
          "output_type": "stream",
          "name": "stderr",
          "text": [
            "Train: 100%|██████████| 7/7 [00:00<00:00, 33.62it/s]\n",
            "Test: 100%|██████████| 3/3 [00:00<00:00, 33.33it/s]\n"
          ]
        },
        {
          "output_type": "stream",
          "name": "stdout",
          "text": [
            "\n",
            "Epoch    46\n",
            "Train_cost  = 17.2421 | Test_cost  = 16.7610 | \n"
          ]
        },
        {
          "output_type": "stream",
          "name": "stderr",
          "text": [
            "Train: 100%|██████████| 7/7 [00:00<00:00, 33.44it/s]\n",
            "Test: 100%|██████████| 3/3 [00:00<00:00, 32.24it/s]\n"
          ]
        },
        {
          "output_type": "stream",
          "name": "stdout",
          "text": [
            "\n",
            "Epoch    47\n",
            "Train_cost  = 17.2336 | Test_cost  = 16.7531 | \n"
          ]
        },
        {
          "output_type": "stream",
          "name": "stderr",
          "text": [
            "Train: 100%|██████████| 7/7 [00:00<00:00, 35.43it/s]\n",
            "Test: 100%|██████████| 3/3 [00:00<00:00, 35.56it/s]\n"
          ]
        },
        {
          "output_type": "stream",
          "name": "stdout",
          "text": [
            "\n",
            "Epoch    48\n",
            "Train_cost  = 17.2256 | Test_cost  = 16.7457 | \n"
          ]
        },
        {
          "output_type": "stream",
          "name": "stderr",
          "text": [
            "Train: 100%|██████████| 7/7 [00:00<00:00, 31.58it/s]\n",
            "Test: 100%|██████████| 3/3 [00:00<00:00, 38.81it/s]\n"
          ]
        },
        {
          "output_type": "stream",
          "name": "stdout",
          "text": [
            "\n",
            "Epoch    49\n",
            "Train_cost  = 17.2180 | Test_cost  = 16.7387 | \n"
          ]
        },
        {
          "output_type": "stream",
          "name": "stderr",
          "text": [
            "Train: 100%|██████████| 7/7 [00:00<00:00, 35.63it/s]\n",
            "Test: 100%|██████████| 3/3 [00:00<00:00, 37.82it/s]\n"
          ]
        },
        {
          "output_type": "stream",
          "name": "stdout",
          "text": [
            "\n",
            "Epoch    50\n",
            "Train_cost  = 17.2108 | Test_cost  = 16.7321 | \n"
          ]
        },
        {
          "output_type": "stream",
          "name": "stderr",
          "text": [
            "Train: 100%|██████████| 7/7 [00:00<00:00, 33.62it/s]\n",
            "Test: 100%|██████████| 3/3 [00:00<00:00, 36.27it/s]\n"
          ]
        },
        {
          "output_type": "stream",
          "name": "stdout",
          "text": [
            "\n",
            "Epoch    51\n",
            "Train_cost  = 17.2039 | Test_cost  = 16.7258 | \n"
          ]
        },
        {
          "output_type": "stream",
          "name": "stderr",
          "text": [
            "Train: 100%|██████████| 7/7 [00:00<00:00, 30.08it/s]\n",
            "Test: 100%|██████████| 3/3 [00:00<00:00, 33.84it/s]\n"
          ]
        },
        {
          "output_type": "stream",
          "name": "stdout",
          "text": [
            "\n",
            "Epoch    52\n",
            "Train_cost  = 17.1973 | Test_cost  = 16.7198 | \n"
          ]
        },
        {
          "output_type": "stream",
          "name": "stderr",
          "text": [
            "Train: 100%|██████████| 7/7 [00:00<00:00, 27.03it/s]\n",
            "Test: 100%|██████████| 3/3 [00:00<00:00, 23.60it/s]\n"
          ]
        },
        {
          "output_type": "stream",
          "name": "stdout",
          "text": [
            "\n",
            "Epoch    53\n",
            "Train_cost  = 17.1910 | Test_cost  = 16.7140 | \n"
          ]
        },
        {
          "output_type": "stream",
          "name": "stderr",
          "text": [
            "Train: 100%|██████████| 7/7 [00:00<00:00, 27.92it/s]\n",
            "Test: 100%|██████████| 3/3 [00:00<00:00, 30.13it/s]\n"
          ]
        },
        {
          "output_type": "stream",
          "name": "stdout",
          "text": [
            "\n",
            "Epoch    54\n",
            "Train_cost  = 17.1848 | Test_cost  = 16.7084 | \n"
          ]
        },
        {
          "output_type": "stream",
          "name": "stderr",
          "text": [
            "Train: 100%|██████████| 7/7 [00:00<00:00, 27.38it/s]\n",
            "Test: 100%|██████████| 3/3 [00:00<00:00, 31.21it/s]\n"
          ]
        },
        {
          "output_type": "stream",
          "name": "stdout",
          "text": [
            "\n",
            "Epoch    55\n",
            "Train_cost  = 17.1787 | Test_cost  = 16.7029 | \n"
          ]
        },
        {
          "output_type": "stream",
          "name": "stderr",
          "text": [
            "Train: 100%|██████████| 7/7 [00:00<00:00, 33.36it/s]\n",
            "Test: 100%|██████████| 3/3 [00:00<00:00, 32.47it/s]\n"
          ]
        },
        {
          "output_type": "stream",
          "name": "stdout",
          "text": [
            "\n",
            "Epoch    56\n",
            "Train_cost  = 17.1726 | Test_cost  = 16.6974 | \n"
          ]
        },
        {
          "output_type": "stream",
          "name": "stderr",
          "text": [
            "Train: 100%|██████████| 7/7 [00:00<00:00, 34.64it/s]\n",
            "Test: 100%|██████████| 3/3 [00:00<00:00, 35.27it/s]\n"
          ]
        },
        {
          "output_type": "stream",
          "name": "stdout",
          "text": [
            "\n",
            "Epoch    57\n",
            "Train_cost  = 17.1666 | Test_cost  = 16.6921 | \n"
          ]
        },
        {
          "output_type": "stream",
          "name": "stderr",
          "text": [
            "Train: 100%|██████████| 7/7 [00:00<00:00, 33.17it/s]\n",
            "Test: 100%|██████████| 3/3 [00:00<00:00, 35.73it/s]\n"
          ]
        },
        {
          "output_type": "stream",
          "name": "stdout",
          "text": [
            "\n",
            "Epoch    58\n",
            "Train_cost  = 17.1608 | Test_cost  = 16.6872 | \n"
          ]
        },
        {
          "output_type": "stream",
          "name": "stderr",
          "text": [
            "Train: 100%|██████████| 7/7 [00:00<00:00, 35.36it/s]\n",
            "Test: 100%|██████████| 3/3 [00:00<00:00, 36.94it/s]\n"
          ]
        },
        {
          "output_type": "stream",
          "name": "stdout",
          "text": [
            "\n",
            "Epoch    59\n",
            "Train_cost  = 17.1555 | Test_cost  = 16.6825 | \n"
          ]
        },
        {
          "output_type": "stream",
          "name": "stderr",
          "text": [
            "Train: 100%|██████████| 7/7 [00:00<00:00, 31.77it/s]\n",
            "Test: 100%|██████████| 3/3 [00:00<00:00, 34.05it/s]\n"
          ]
        },
        {
          "output_type": "stream",
          "name": "stdout",
          "text": [
            "\n",
            "Epoch    60\n",
            "Train_cost  = 17.1502 | Test_cost  = 16.6779 | \n"
          ]
        },
        {
          "output_type": "display_data",
          "data": {
            "text/plain": [
              "<Figure size 576x360 with 1 Axes>"
            ],
            "image/png": "[encoded data removed]"
          },
          "metadata": {
            "needs_background": "light"
          }
        },
        {
          "output_type": "stream",
          "name": "stderr",
          "text": [
            "Train: 100%|██████████| 7/7 [00:00<00:00, 32.29it/s]\n",
            "Test: 100%|██████████| 3/3 [00:00<00:00, 31.86it/s]\n"
          ]
        },
        {
          "output_type": "stream",
          "name": "stdout",
          "text": [
            "\n",
            "Epoch    61\n",
            "Train_cost  = 17.1449 | Test_cost  = 16.6732 | \n"
          ]
        },
        {
          "output_type": "stream",
          "name": "stderr",
          "text": [
            "Train: 100%|██████████| 7/7 [00:00<00:00, 35.83it/s]\n",
            "Test: 100%|██████████| 3/3 [00:00<00:00, 29.06it/s]\n"
          ]
        },
        {
          "output_type": "stream",
          "name": "stdout",
          "text": [
            "\n",
            "Epoch    62\n",
            "Train_cost  = 17.1396 | Test_cost  = 16.6686 | \n"
          ]
        },
        {
          "output_type": "stream",
          "name": "stderr",
          "text": [
            "Train: 100%|██████████| 7/7 [00:00<00:00, 33.94it/s]\n",
            "Test: 100%|██████████| 3/3 [00:00<00:00, 31.08it/s]\n"
          ]
        },
        {
          "output_type": "stream",
          "name": "stdout",
          "text": [
            "\n",
            "Epoch    63\n",
            "Train_cost  = 17.1341 | Test_cost  = 16.6635 | \n"
          ]
        },
        {
          "output_type": "stream",
          "name": "stderr",
          "text": [
            "Train: 100%|██████████| 7/7 [00:00<00:00, 34.25it/s]\n",
            "Test: 100%|██████████| 3/3 [00:00<00:00, 34.43it/s]\n"
          ]
        },
        {
          "output_type": "stream",
          "name": "stdout",
          "text": [
            "\n",
            "Epoch    64\n",
            "Train_cost  = 17.1281 | Test_cost  = 16.6581 | \n"
          ]
        },
        {
          "output_type": "stream",
          "name": "stderr",
          "text": [
            "Train: 100%|██████████| 7/7 [00:00<00:00, 33.37it/s]\n",
            "Test: 100%|██████████| 3/3 [00:00<00:00, 32.20it/s]\n"
          ]
        },
        {
          "output_type": "stream",
          "name": "stdout",
          "text": [
            "\n",
            "Epoch    65\n",
            "Train_cost  = 17.1217 | Test_cost  = 16.6528 | \n"
          ]
        },
        {
          "output_type": "stream",
          "name": "stderr",
          "text": [
            "Train: 100%|██████████| 7/7 [00:00<00:00, 31.80it/s]\n",
            "Test: 100%|██████████| 3/3 [00:00<00:00, 30.65it/s]\n"
          ]
        },
        {
          "output_type": "stream",
          "name": "stdout",
          "text": [
            "\n",
            "Epoch    66\n",
            "Train_cost  = 17.1141 | Test_cost  = 16.6447 | \n"
          ]
        },
        {
          "output_type": "stream",
          "name": "stderr",
          "text": [
            "Train: 100%|██████████| 7/7 [00:00<00:00, 33.93it/s]\n",
            "Test: 100%|██████████| 3/3 [00:00<00:00, 31.22it/s]\n"
          ]
        },
        {
          "output_type": "stream",
          "name": "stdout",
          "text": [
            "\n",
            "Epoch    67\n",
            "Train_cost  = 17.1010 | Test_cost  = 16.6338 | \n"
          ]
        },
        {
          "output_type": "stream",
          "name": "stderr",
          "text": [
            "Train: 100%|██████████| 7/7 [00:00<00:00, 36.76it/s]\n",
            "Test: 100%|██████████| 3/3 [00:00<00:00, 30.78it/s]\n"
          ]
        },
        {
          "output_type": "stream",
          "name": "stdout",
          "text": [
            "\n",
            "Epoch    68\n",
            "Train_cost  = 17.0910 | Test_cost  = 16.6276 | \n"
          ]
        },
        {
          "output_type": "stream",
          "name": "stderr",
          "text": [
            "Train: 100%|██████████| 7/7 [00:00<00:00, 33.88it/s]\n",
            "Test: 100%|██████████| 3/3 [00:00<00:00, 31.33it/s]\n"
          ]
        },
        {
          "output_type": "stream",
          "name": "stdout",
          "text": [
            "\n",
            "Epoch    69\n",
            "Train_cost  = 17.0786 | Test_cost  = 16.6131 | \n"
          ]
        },
        {
          "output_type": "stream",
          "name": "stderr",
          "text": [
            "Train: 100%|██████████| 7/7 [00:00<00:00, 32.35it/s]\n",
            "Test: 100%|██████████| 3/3 [00:00<00:00, 30.20it/s]\n"
          ]
        },
        {
          "output_type": "stream",
          "name": "stdout",
          "text": [
            "\n",
            "Epoch    70\n",
            "Train_cost  = 17.0574 | Test_cost  = 16.6080 | \n"
          ]
        },
        {
          "output_type": "stream",
          "name": "stderr",
          "text": [
            "Train: 100%|██████████| 7/7 [00:00<00:00, 28.59it/s]\n",
            "Test: 100%|██████████| 3/3 [00:00<00:00, 29.08it/s]\n"
          ]
        },
        {
          "output_type": "stream",
          "name": "stdout",
          "text": [
            "\n",
            "Epoch    71\n",
            "Train_cost  = 17.0460 | Test_cost  = 16.5901 | \n"
          ]
        },
        {
          "output_type": "stream",
          "name": "stderr",
          "text": [
            "Train: 100%|██████████| 7/7 [00:00<00:00, 29.65it/s]\n",
            "Test: 100%|██████████| 3/3 [00:00<00:00, 33.38it/s]\n"
          ]
        },
        {
          "output_type": "stream",
          "name": "stdout",
          "text": [
            "\n",
            "Epoch    72\n",
            "Train_cost  = 17.0231 | Test_cost  = 16.5604 | \n"
          ]
        },
        {
          "output_type": "stream",
          "name": "stderr",
          "text": [
            "Train: 100%|██████████| 7/7 [00:00<00:00, 31.58it/s]\n",
            "Test: 100%|██████████| 3/3 [00:00<00:00, 31.36it/s]\n"
          ]
        },
        {
          "output_type": "stream",
          "name": "stdout",
          "text": [
            "\n",
            "Epoch    73\n",
            "Train_cost  = 16.9899 | Test_cost  = 16.5221 | \n"
          ]
        },
        {
          "output_type": "stream",
          "name": "stderr",
          "text": [
            "Train: 100%|██████████| 7/7 [00:00<00:00, 32.58it/s]\n",
            "Test: 100%|██████████| 3/3 [00:00<00:00, 29.70it/s]\n"
          ]
        },
        {
          "output_type": "stream",
          "name": "stdout",
          "text": [
            "\n",
            "Epoch    74\n",
            "Train_cost  = 16.9338 | Test_cost  = 16.4646 | \n"
          ]
        },
        {
          "output_type": "stream",
          "name": "stderr",
          "text": [
            "Train: 100%|██████████| 7/7 [00:00<00:00, 31.66it/s]\n",
            "Test: 100%|██████████| 3/3 [00:00<00:00, 36.71it/s]\n"
          ]
        },
        {
          "output_type": "stream",
          "name": "stdout",
          "text": [
            "\n",
            "Epoch    75\n",
            "Train_cost  = 16.8410 | Test_cost  = 16.2958 | \n"
          ]
        },
        {
          "output_type": "stream",
          "name": "stderr",
          "text": [
            "Train: 100%|██████████| 7/7 [00:00<00:00, 34.37it/s]\n",
            "Test: 100%|██████████| 3/3 [00:00<00:00, 36.20it/s]\n"
          ]
        },
        {
          "output_type": "stream",
          "name": "stdout",
          "text": [
            "\n",
            "Epoch    76\n",
            "Train_cost  = 16.5043 | Test_cost  = 15.6872 | \n"
          ]
        },
        {
          "output_type": "stream",
          "name": "stderr",
          "text": [
            "Train: 100%|██████████| 7/7 [00:00<00:00, 33.70it/s]\n",
            "Test: 100%|██████████| 3/3 [00:00<00:00, 29.51it/s]\n"
          ]
        },
        {
          "output_type": "stream",
          "name": "stdout",
          "text": [
            "\n",
            "Epoch    77\n",
            "Train_cost  = 15.5164 | Test_cost  = 14.4690 | \n"
          ]
        },
        {
          "output_type": "stream",
          "name": "stderr",
          "text": [
            "Train: 100%|██████████| 7/7 [00:00<00:00, 32.84it/s]\n",
            "Test: 100%|██████████| 3/3 [00:00<00:00, 33.09it/s]\n"
          ]
        },
        {
          "output_type": "stream",
          "name": "stdout",
          "text": [
            "\n",
            "Epoch    78\n",
            "Train_cost  = 13.9415 | Test_cost  = 13.3597 | \n"
          ]
        },
        {
          "output_type": "stream",
          "name": "stderr",
          "text": [
            "Train: 100%|██████████| 7/7 [00:00<00:00, 34.97it/s]\n",
            "Test: 100%|██████████| 3/3 [00:00<00:00, 37.36it/s]\n"
          ]
        },
        {
          "output_type": "stream",
          "name": "stdout",
          "text": [
            "\n",
            "Epoch    79\n",
            "Train_cost  = 13.0040 | Test_cost  = 12.4790 | \n"
          ]
        },
        {
          "output_type": "stream",
          "name": "stderr",
          "text": [
            "Train: 100%|██████████| 7/7 [00:00<00:00, 32.76it/s]\n",
            "Test: 100%|██████████| 3/3 [00:00<00:00, 36.00it/s]\n"
          ]
        },
        {
          "output_type": "stream",
          "name": "stdout",
          "text": [
            "\n",
            "Epoch    80\n",
            "Train_cost  = 12.1791 | Test_cost  = 11.9006 | \n"
          ]
        },
        {
          "output_type": "display_data",
          "data": {
            "text/plain": [
              "<Figure size 576x360 with 1 Axes>"
            ],
            "image/png": "[encoded data removed]"
          },
          "metadata": {
            "needs_background": "light"
          }
        },
        {
          "output_type": "stream",
          "name": "stderr",
          "text": [
            "Train: 100%|██████████| 7/7 [00:00<00:00, 31.63it/s]\n",
            "Test: 100%|██████████| 3/3 [00:00<00:00, 32.17it/s]\n"
          ]
        },
        {
          "output_type": "stream",
          "name": "stdout",
          "text": [
            "\n",
            "Epoch    81\n",
            "Train_cost  = 11.5607 | Test_cost  = 10.9729 | \n"
          ]
        },
        {
          "output_type": "stream",
          "name": "stderr",
          "text": [
            "Train: 100%|██████████| 7/7 [00:00<00:00, 29.69it/s]\n",
            "Test: 100%|██████████| 3/3 [00:00<00:00, 28.60it/s]\n"
          ]
        },
        {
          "output_type": "stream",
          "name": "stdout",
          "text": [
            "\n",
            "Epoch    82\n",
            "Train_cost  = 10.8505 | Test_cost  = 10.5533 | \n"
          ]
        },
        {
          "output_type": "stream",
          "name": "stderr",
          "text": [
            "Train: 100%|██████████| 7/7 [00:00<00:00, 34.19it/s]\n",
            "Test: 100%|██████████| 3/3 [00:00<00:00, 32.21it/s]\n"
          ]
        },
        {
          "output_type": "stream",
          "name": "stdout",
          "text": [
            "\n",
            "Epoch    83\n",
            "Train_cost  = 10.2509 | Test_cost  = 9.9687 | \n"
          ]
        },
        {
          "output_type": "stream",
          "name": "stderr",
          "text": [
            "Train: 100%|██████████| 7/7 [00:00<00:00, 34.35it/s]\n",
            "Test: 100%|██████████| 3/3 [00:00<00:00, 29.36it/s]\n"
          ]
        },
        {
          "output_type": "stream",
          "name": "stdout",
          "text": [
            "\n",
            "Epoch    84\n",
            "Train_cost  = 9.8305 | Test_cost  = 9.5554 | \n"
          ]
        },
        {
          "output_type": "stream",
          "name": "stderr",
          "text": [
            "Train: 100%|██████████| 7/7 [00:00<00:00, 31.08it/s]\n",
            "Test: 100%|██████████| 3/3 [00:00<00:00, 26.51it/s]\n"
          ]
        },
        {
          "output_type": "stream",
          "name": "stdout",
          "text": [
            "\n",
            "Epoch    85\n",
            "Train_cost  = 9.4349 | Test_cost  = 9.2494 | \n"
          ]
        },
        {
          "output_type": "stream",
          "name": "stderr",
          "text": [
            "Train: 100%|██████████| 7/7 [00:00<00:00, 30.90it/s]\n",
            "Test: 100%|██████████| 3/3 [00:00<00:00, 28.98it/s]\n"
          ]
        },
        {
          "output_type": "stream",
          "name": "stdout",
          "text": [
            "\n",
            "Epoch    86\n",
            "Train_cost  = 9.1147 | Test_cost  = 8.8862 | \n"
          ]
        },
        {
          "output_type": "stream",
          "name": "stderr",
          "text": [
            "Train: 100%|██████████| 7/7 [00:00<00:00, 33.17it/s]\n",
            "Test: 100%|██████████| 3/3 [00:00<00:00, 34.35it/s]\n"
          ]
        },
        {
          "output_type": "stream",
          "name": "stdout",
          "text": [
            "\n",
            "Epoch    87\n",
            "Train_cost  = 8.8531 | Test_cost  = 8.6199 | \n"
          ]
        },
        {
          "output_type": "stream",
          "name": "stderr",
          "text": [
            "Train: 100%|██████████| 7/7 [00:00<00:00, 31.31it/s]\n",
            "Test: 100%|██████████| 3/3 [00:00<00:00, 31.74it/s]\n"
          ]
        },
        {
          "output_type": "stream",
          "name": "stdout",
          "text": [
            "\n",
            "Epoch    88\n",
            "Train_cost  = 8.6193 | Test_cost  = 8.4049 | \n"
          ]
        },
        {
          "output_type": "stream",
          "name": "stderr",
          "text": [
            "Train: 100%|██████████| 7/7 [00:00<00:00, 31.13it/s]\n",
            "Test: 100%|██████████| 3/3 [00:00<00:00, 32.13it/s]\n"
          ]
        },
        {
          "output_type": "stream",
          "name": "stdout",
          "text": [
            "\n",
            "Epoch    89\n",
            "Train_cost  = 8.4095 | Test_cost  = 8.2054 | \n"
          ]
        },
        {
          "output_type": "stream",
          "name": "stderr",
          "text": [
            "Train: 100%|██████████| 7/7 [00:00<00:00, 29.90it/s]\n",
            "Test: 100%|██████████| 3/3 [00:00<00:00, 32.03it/s]\n"
          ]
        },
        {
          "output_type": "stream",
          "name": "stdout",
          "text": [
            "\n",
            "Epoch    90\n",
            "Train_cost  = 8.2466 | Test_cost  = 8.0293 | \n"
          ]
        },
        {
          "output_type": "stream",
          "name": "stderr",
          "text": [
            "Train: 100%|██████████| 7/7 [00:00<00:00, 32.38it/s]\n",
            "Test: 100%|██████████| 3/3 [00:00<00:00, 33.55it/s]\n"
          ]
        },
        {
          "output_type": "stream",
          "name": "stdout",
          "text": [
            "\n",
            "Epoch    91\n",
            "Train_cost  = 8.0977 | Test_cost  = 7.8689 | \n"
          ]
        },
        {
          "output_type": "stream",
          "name": "stderr",
          "text": [
            "Train: 100%|██████████| 7/7 [00:00<00:00, 33.28it/s]\n",
            "Test: 100%|██████████| 3/3 [00:00<00:00, 28.42it/s]\n"
          ]
        },
        {
          "output_type": "stream",
          "name": "stdout",
          "text": [
            "\n",
            "Epoch    92\n",
            "Train_cost  = 7.9599 | Test_cost  = 7.7383 | \n"
          ]
        },
        {
          "output_type": "stream",
          "name": "stderr",
          "text": [
            "Train: 100%|██████████| 7/7 [00:00<00:00, 33.70it/s]\n",
            "Test: 100%|██████████| 3/3 [00:00<00:00, 32.48it/s]\n"
          ]
        },
        {
          "output_type": "stream",
          "name": "stdout",
          "text": [
            "\n",
            "Epoch    93\n",
            "Train_cost  = 7.8435 | Test_cost  = 7.6160 | \n"
          ]
        },
        {
          "output_type": "stream",
          "name": "stderr",
          "text": [
            "Train: 100%|██████████| 7/7 [00:00<00:00, 29.36it/s]\n",
            "Test: 100%|██████████| 3/3 [00:00<00:00, 28.94it/s]\n"
          ]
        },
        {
          "output_type": "stream",
          "name": "stdout",
          "text": [
            "\n",
            "Epoch    94\n",
            "Train_cost  = 7.7453 | Test_cost  = 7.4965 | \n"
          ]
        },
        {
          "output_type": "stream",
          "name": "stderr",
          "text": [
            "Train: 100%|██████████| 7/7 [00:00<00:00, 25.79it/s]\n",
            "Test: 100%|██████████| 3/3 [00:00<00:00, 26.94it/s]\n"
          ]
        },
        {
          "output_type": "stream",
          "name": "stdout",
          "text": [
            "\n",
            "Epoch    95\n",
            "Train_cost  = 7.6514 | Test_cost  = 7.3985 | \n"
          ]
        },
        {
          "output_type": "stream",
          "name": "stderr",
          "text": [
            "Train: 100%|██████████| 7/7 [00:00<00:00, 30.33it/s]\n",
            "Test: 100%|██████████| 3/3 [00:00<00:00, 18.75it/s]\n"
          ]
        },
        {
          "output_type": "stream",
          "name": "stdout",
          "text": [
            "\n",
            "Epoch    96\n",
            "Train_cost  = 7.5635 | Test_cost  = 7.3171 | \n"
          ]
        },
        {
          "output_type": "stream",
          "name": "stderr",
          "text": [
            "Train: 100%|██████████| 7/7 [00:00<00:00, 29.08it/s]\n",
            "Test: 100%|██████████| 3/3 [00:00<00:00, 31.75it/s]\n"
          ]
        },
        {
          "output_type": "stream",
          "name": "stdout",
          "text": [
            "\n",
            "Epoch    97\n",
            "Train_cost  = 7.4887 | Test_cost  = 7.2253 | \n"
          ]
        },
        {
          "output_type": "stream",
          "name": "stderr",
          "text": [
            "Train: 100%|██████████| 7/7 [00:00<00:00, 28.55it/s]\n",
            "Test: 100%|██████████| 3/3 [00:00<00:00, 31.68it/s]\n"
          ]
        },
        {
          "output_type": "stream",
          "name": "stdout",
          "text": [
            "\n",
            "Epoch    98\n",
            "Train_cost  = 7.4234 | Test_cost  = 7.1491 | \n"
          ]
        },
        {
          "output_type": "stream",
          "name": "stderr",
          "text": [
            "Train: 100%|██████████| 7/7 [00:00<00:00, 29.39it/s]\n",
            "Test: 100%|██████████| 3/3 [00:00<00:00, 31.89it/s]\n"
          ]
        },
        {
          "output_type": "stream",
          "name": "stdout",
          "text": [
            "\n",
            "Epoch    99\n",
            "Train_cost  = 7.3584 | Test_cost  = 7.0871 | \n"
          ]
        },
        {
          "output_type": "stream",
          "name": "stderr",
          "text": [
            "Train: 100%|██████████| 7/7 [00:00<00:00, 33.82it/s]\n",
            "Test: 100%|██████████| 3/3 [00:00<00:00, 33.25it/s]\n"
          ]
        },
        {
          "output_type": "stream",
          "name": "stdout",
          "text": [
            "\n",
            "Epoch   100\n",
            "Train_cost  = 7.2988 | Test_cost  = 7.0231 | \n"
          ]
        },
        {
          "output_type": "display_data",
          "data": {
            "text/plain": [
              "<Figure size 576x360 with 1 Axes>"
            ],
            "image/png": "[encoded data removed]"
          },
          "metadata": {
            "needs_background": "light"
          }
        },
        {
          "output_type": "stream",
          "name": "stderr",
          "text": [
            "Train: 100%|██████████| 7/7 [00:00<00:00, 31.84it/s]\n",
            "Test: 100%|██████████| 3/3 [00:00<00:00, 30.76it/s]\n"
          ]
        },
        {
          "output_type": "stream",
          "name": "stdout",
          "text": [
            "\n",
            "Epoch   101\n",
            "Train_cost  = 7.2489 | Test_cost  = 6.9595 | \n"
          ]
        },
        {
          "output_type": "stream",
          "name": "stderr",
          "text": [
            "Train: 100%|██████████| 7/7 [00:00<00:00, 30.72it/s]\n",
            "Test: 100%|██████████| 3/3 [00:00<00:00, 36.38it/s]\n"
          ]
        },
        {
          "output_type": "stream",
          "name": "stdout",
          "text": [
            "\n",
            "Epoch   102\n",
            "Train_cost  = 7.2008 | Test_cost  = 6.9083 | \n"
          ]
        },
        {
          "output_type": "stream",
          "name": "stderr",
          "text": [
            "Train: 100%|██████████| 7/7 [00:00<00:00, 32.14it/s]\n",
            "Test: 100%|██████████| 3/3 [00:00<00:00, 28.06it/s]\n"
          ]
        },
        {
          "output_type": "stream",
          "name": "stdout",
          "text": [
            "\n",
            "Epoch   103\n",
            "Train_cost  = 7.1540 | Test_cost  = 6.8618 | \n"
          ]
        },
        {
          "output_type": "stream",
          "name": "stderr",
          "text": [
            "Train: 100%|██████████| 7/7 [00:00<00:00, 26.54it/s]\n",
            "Test: 100%|██████████| 3/3 [00:00<00:00, 29.30it/s]\n"
          ]
        },
        {
          "output_type": "stream",
          "name": "stdout",
          "text": [
            "\n",
            "Epoch   104\n",
            "Train_cost  = 7.1134 | Test_cost  = 6.8112 | \n"
          ]
        },
        {
          "output_type": "stream",
          "name": "stderr",
          "text": [
            "Train: 100%|██████████| 7/7 [00:00<00:00, 30.46it/s]\n",
            "Test: 100%|██████████| 3/3 [00:00<00:00, 22.57it/s]\n"
          ]
        },
        {
          "output_type": "stream",
          "name": "stdout",
          "text": [
            "\n",
            "Epoch   105\n",
            "Train_cost  = 7.0761 | Test_cost  = 6.7680 | \n"
          ]
        },
        {
          "output_type": "stream",
          "name": "stderr",
          "text": [
            "Train: 100%|██████████| 7/7 [00:00<00:00, 28.92it/s]\n",
            "Test: 100%|██████████| 3/3 [00:00<00:00, 27.53it/s]\n"
          ]
        },
        {
          "output_type": "stream",
          "name": "stdout",
          "text": [
            "\n",
            "Epoch   106\n",
            "Train_cost  = 7.0392 | Test_cost  = 6.7306 | \n"
          ]
        },
        {
          "output_type": "stream",
          "name": "stderr",
          "text": [
            "Train: 100%|██████████| 7/7 [00:00<00:00, 32.77it/s]\n",
            "Test: 100%|██████████| 3/3 [00:00<00:00, 30.28it/s]\n"
          ]
        },
        {
          "output_type": "stream",
          "name": "stdout",
          "text": [
            "\n",
            "Epoch   107\n",
            "Train_cost  = 7.0051 | Test_cost  = 6.6920 | \n"
          ]
        },
        {
          "output_type": "stream",
          "name": "stderr",
          "text": [
            "Train: 100%|██████████| 7/7 [00:00<00:00, 30.86it/s]\n",
            "Test: 100%|██████████| 3/3 [00:00<00:00, 30.02it/s]\n"
          ]
        },
        {
          "output_type": "stream",
          "name": "stdout",
          "text": [
            "\n",
            "Epoch   108\n",
            "Train_cost  = 6.9745 | Test_cost  = 6.6550 | \n"
          ]
        },
        {
          "output_type": "stream",
          "name": "stderr",
          "text": [
            "Train: 100%|██████████| 7/7 [00:00<00:00, 34.24it/s]\n",
            "Test: 100%|██████████| 3/3 [00:00<00:00, 28.02it/s]\n"
          ]
        },
        {
          "output_type": "stream",
          "name": "stdout",
          "text": [
            "\n",
            "Epoch   109\n",
            "Train_cost  = 6.9445 | Test_cost  = 6.6231 | \n"
          ]
        },
        {
          "output_type": "stream",
          "name": "stderr",
          "text": [
            "Train: 100%|██████████| 7/7 [00:00<00:00, 35.33it/s]\n",
            "Test: 100%|██████████| 3/3 [00:00<00:00, 31.73it/s]\n"
          ]
        },
        {
          "output_type": "stream",
          "name": "stdout",
          "text": [
            "\n",
            "Epoch   110\n",
            "Train_cost  = 6.9154 | Test_cost  = 6.5927 | \n"
          ]
        },
        {
          "output_type": "stream",
          "name": "stderr",
          "text": [
            "Train: 100%|██████████| 7/7 [00:00<00:00, 34.93it/s]\n",
            "Test: 100%|██████████| 3/3 [00:00<00:00, 32.03it/s]\n"
          ]
        },
        {
          "output_type": "stream",
          "name": "stdout",
          "text": [
            "\n",
            "Epoch   111\n",
            "Train_cost  = 6.8890 | Test_cost  = 6.5613 | \n"
          ]
        },
        {
          "output_type": "stream",
          "name": "stderr",
          "text": [
            "Train: 100%|██████████| 7/7 [00:00<00:00, 33.63it/s]\n",
            "Test: 100%|██████████| 3/3 [00:00<00:00, 26.82it/s]\n"
          ]
        },
        {
          "output_type": "stream",
          "name": "stdout",
          "text": [
            "\n",
            "Epoch   112\n",
            "Train_cost  = 6.8636 | Test_cost  = 6.5331 | \n"
          ]
        },
        {
          "output_type": "stream",
          "name": "stderr",
          "text": [
            "Train: 100%|██████████| 7/7 [00:00<00:00, 31.59it/s]\n",
            "Test: 100%|██████████| 3/3 [00:00<00:00, 30.78it/s]\n"
          ]
        },
        {
          "output_type": "stream",
          "name": "stdout",
          "text": [
            "\n",
            "Epoch   113\n",
            "Train_cost  = 6.8386 | Test_cost  = 6.5074 | \n"
          ]
        },
        {
          "output_type": "stream",
          "name": "stderr",
          "text": [
            "Train: 100%|██████████| 7/7 [00:00<00:00, 30.62it/s]\n",
            "Test: 100%|██████████| 3/3 [00:00<00:00, 28.35it/s]\n"
          ]
        },
        {
          "output_type": "stream",
          "name": "stdout",
          "text": [
            "\n",
            "Epoch   114\n",
            "Train_cost  = 6.8148 | Test_cost  = 6.4810 | \n"
          ]
        },
        {
          "output_type": "stream",
          "name": "stderr",
          "text": [
            "Train: 100%|██████████| 7/7 [00:00<00:00, 30.05it/s]\n",
            "Test: 100%|██████████| 3/3 [00:00<00:00, 20.99it/s]\n"
          ]
        },
        {
          "output_type": "stream",
          "name": "stdout",
          "text": [
            "\n",
            "Epoch   115\n",
            "Train_cost  = 6.7924 | Test_cost  = 6.4557 | \n"
          ]
        },
        {
          "output_type": "stream",
          "name": "stderr",
          "text": [
            "Train: 100%|██████████| 7/7 [00:00<00:00, 30.49it/s]\n",
            "Test: 100%|██████████| 3/3 [00:00<00:00, 26.94it/s]\n"
          ]
        },
        {
          "output_type": "stream",
          "name": "stdout",
          "text": [
            "\n",
            "Epoch   116\n",
            "Train_cost  = 6.7704 | Test_cost  = 6.4326 | \n"
          ]
        },
        {
          "output_type": "stream",
          "name": "stderr",
          "text": [
            "Train: 100%|██████████| 7/7 [00:00<00:00, 32.45it/s]\n",
            "Test: 100%|██████████| 3/3 [00:00<00:00, 31.49it/s]\n"
          ]
        },
        {
          "output_type": "stream",
          "name": "stdout",
          "text": [
            "\n",
            "Epoch   117\n",
            "Train_cost  = 6.7487 | Test_cost  = 6.4101 | \n"
          ]
        },
        {
          "output_type": "stream",
          "name": "stderr",
          "text": [
            "Train: 100%|██████████| 7/7 [00:00<00:00, 34.00it/s]\n",
            "Test: 100%|██████████| 3/3 [00:00<00:00, 31.88it/s]\n"
          ]
        },
        {
          "output_type": "stream",
          "name": "stdout",
          "text": [
            "\n",
            "Epoch   118\n",
            "Train_cost  = 6.7283 | Test_cost  = 6.3874 | \n"
          ]
        },
        {
          "output_type": "stream",
          "name": "stderr",
          "text": [
            "Train: 100%|██████████| 7/7 [00:00<00:00, 28.82it/s]\n",
            "Test: 100%|██████████| 3/3 [00:00<00:00, 33.36it/s]\n"
          ]
        },
        {
          "output_type": "stream",
          "name": "stdout",
          "text": [
            "\n",
            "Epoch   119\n",
            "Train_cost  = 6.7083 | Test_cost  = 6.3662 | \n"
          ]
        },
        {
          "output_type": "stream",
          "name": "stderr",
          "text": [
            "Train: 100%|██████████| 7/7 [00:00<00:00, 32.75it/s]\n",
            "Test: 100%|██████████| 3/3 [00:00<00:00, 33.99it/s]\n"
          ]
        },
        {
          "output_type": "stream",
          "name": "stdout",
          "text": [
            "\n",
            "Epoch   120\n",
            "Train_cost  = 6.6885 | Test_cost  = 6.3460 | \n"
          ]
        },
        {
          "output_type": "display_data",
          "data": {
            "text/plain": [
              "<Figure size 576x360 with 1 Axes>"
            ],
            "image/png": "[encoded data removed]"
          },
          "metadata": {
            "needs_background": "light"
          }
        },
        {
          "output_type": "stream",
          "name": "stderr",
          "text": [
            "Train: 100%|██████████| 7/7 [00:00<00:00, 34.18it/s]\n",
            "Test: 100%|██████████| 3/3 [00:00<00:00, 33.09it/s]\n"
          ]
        },
        {
          "output_type": "stream",
          "name": "stdout",
          "text": [
            "\n",
            "Epoch   121\n",
            "Train_cost  = 6.6693 | Test_cost  = 6.3259 | \n"
          ]
        },
        {
          "output_type": "stream",
          "name": "stderr",
          "text": [
            "Train: 100%|██████████| 7/7 [00:00<00:00, 32.10it/s]\n",
            "Test: 100%|██████████| 3/3 [00:00<00:00, 33.70it/s]\n"
          ]
        },
        {
          "output_type": "stream",
          "name": "stdout",
          "text": [
            "\n",
            "Epoch   122\n",
            "Train_cost  = 6.6508 | Test_cost  = 6.3064 | \n"
          ]
        },
        {
          "output_type": "stream",
          "name": "stderr",
          "text": [
            "Train: 100%|██████████| 7/7 [00:00<00:00, 28.40it/s]\n",
            "Test: 100%|██████████| 3/3 [00:00<00:00, 30.00it/s]\n"
          ]
        },
        {
          "output_type": "stream",
          "name": "stdout",
          "text": [
            "\n",
            "Epoch   123\n",
            "Train_cost  = 6.6325 | Test_cost  = 6.2878 | \n"
          ]
        },
        {
          "output_type": "stream",
          "name": "stderr",
          "text": [
            "Train: 100%|██████████| 7/7 [00:00<00:00, 30.22it/s]\n",
            "Test: 100%|██████████| 3/3 [00:00<00:00, 30.69it/s]\n"
          ]
        },
        {
          "output_type": "stream",
          "name": "stdout",
          "text": [
            "\n",
            "Epoch   124\n",
            "Train_cost  = 6.6145 | Test_cost  = 6.2698 | \n"
          ]
        },
        {
          "output_type": "stream",
          "name": "stderr",
          "text": [
            "Train: 100%|██████████| 7/7 [00:00<00:00, 31.59it/s]\n",
            "Test: 100%|██████████| 3/3 [00:00<00:00, 33.25it/s]\n"
          ]
        },
        {
          "output_type": "stream",
          "name": "stdout",
          "text": [
            "\n",
            "Epoch   125\n",
            "Train_cost  = 6.5972 | Test_cost  = 6.2522 | \n"
          ]
        },
        {
          "output_type": "stream",
          "name": "stderr",
          "text": [
            "Train: 100%|██████████| 7/7 [00:00<00:00, 29.31it/s]\n",
            "Test: 100%|██████████| 3/3 [00:00<00:00, 31.08it/s]\n"
          ]
        },
        {
          "output_type": "stream",
          "name": "stdout",
          "text": [
            "\n",
            "Epoch   126\n",
            "Train_cost  = 6.5802 | Test_cost  = 6.2352 | \n"
          ]
        },
        {
          "output_type": "stream",
          "name": "stderr",
          "text": [
            "Train: 100%|██████████| 7/7 [00:00<00:00, 31.76it/s]\n",
            "Test: 100%|██████████| 3/3 [00:00<00:00, 33.93it/s]\n"
          ]
        },
        {
          "output_type": "stream",
          "name": "stdout",
          "text": [
            "\n",
            "Epoch   127\n",
            "Train_cost  = 6.5636 | Test_cost  = 6.2188 | \n"
          ]
        },
        {
          "output_type": "stream",
          "name": "stderr",
          "text": [
            "Train: 100%|██████████| 7/7 [00:00<00:00, 33.04it/s]\n",
            "Test: 100%|██████████| 3/3 [00:00<00:00, 28.77it/s]\n"
          ]
        },
        {
          "output_type": "stream",
          "name": "stdout",
          "text": [
            "\n",
            "Epoch   128\n",
            "Train_cost  = 6.5474 | Test_cost  = 6.2030 | \n"
          ]
        },
        {
          "output_type": "stream",
          "name": "stderr",
          "text": [
            "Train: 100%|██████████| 7/7 [00:00<00:00, 29.35it/s]\n",
            "Test: 100%|██████████| 3/3 [00:00<00:00, 22.17it/s]\n"
          ]
        },
        {
          "output_type": "stream",
          "name": "stdout",
          "text": [
            "\n",
            "Epoch   129\n",
            "Train_cost  = 6.5316 | Test_cost  = 6.1877 | \n"
          ]
        },
        {
          "output_type": "stream",
          "name": "stderr",
          "text": [
            "Train: 100%|██████████| 7/7 [00:00<00:00, 32.20it/s]\n",
            "Test: 100%|██████████| 3/3 [00:00<00:00, 35.09it/s]\n"
          ]
        },
        {
          "output_type": "stream",
          "name": "stdout",
          "text": [
            "\n",
            "Epoch   130\n",
            "Train_cost  = 6.5162 | Test_cost  = 6.1728 | \n"
          ]
        },
        {
          "output_type": "stream",
          "name": "stderr",
          "text": [
            "Train: 100%|██████████| 7/7 [00:00<00:00, 32.79it/s]\n",
            "Test: 100%|██████████| 3/3 [00:00<00:00, 34.14it/s]\n"
          ]
        },
        {
          "output_type": "stream",
          "name": "stdout",
          "text": [
            "\n",
            "Epoch   131\n",
            "Train_cost  = 6.5012 | Test_cost  = 6.1584 | \n"
          ]
        },
        {
          "output_type": "stream",
          "name": "stderr",
          "text": [
            "Train: 100%|██████████| 7/7 [00:00<00:00, 29.69it/s]\n",
            "Test: 100%|██████████| 3/3 [00:00<00:00, 33.18it/s]\n"
          ]
        },
        {
          "output_type": "stream",
          "name": "stdout",
          "text": [
            "\n",
            "Epoch   132\n",
            "Train_cost  = 6.4865 | Test_cost  = 6.1445 | \n"
          ]
        },
        {
          "output_type": "stream",
          "name": "stderr",
          "text": [
            "Train: 100%|██████████| 7/7 [00:00<00:00, 31.38it/s]\n",
            "Test: 100%|██████████| 3/3 [00:00<00:00, 28.32it/s]\n"
          ]
        },
        {
          "output_type": "stream",
          "name": "stdout",
          "text": [
            "\n",
            "Epoch   133\n",
            "Train_cost  = 6.4721 | Test_cost  = 6.1311 | \n"
          ]
        },
        {
          "output_type": "stream",
          "name": "stderr",
          "text": [
            "Train: 100%|██████████| 7/7 [00:00<00:00, 28.68it/s]\n",
            "Test: 100%|██████████| 3/3 [00:00<00:00, 27.34it/s]\n"
          ]
        },
        {
          "output_type": "stream",
          "name": "stdout",
          "text": [
            "\n",
            "Epoch   134\n",
            "Train_cost  = 6.4581 | Test_cost  = 6.1182 | \n"
          ]
        },
        {
          "output_type": "stream",
          "name": "stderr",
          "text": [
            "Train: 100%|██████████| 7/7 [00:00<00:00, 30.31it/s]\n",
            "Test: 100%|██████████| 3/3 [00:00<00:00, 32.34it/s]\n"
          ]
        },
        {
          "output_type": "stream",
          "name": "stdout",
          "text": [
            "\n",
            "Epoch   135\n",
            "Train_cost  = 6.4444 | Test_cost  = 6.1057 | \n"
          ]
        },
        {
          "output_type": "stream",
          "name": "stderr",
          "text": [
            "Train: 100%|██████████| 7/7 [00:00<00:00, 31.73it/s]\n",
            "Test: 100%|██████████| 3/3 [00:00<00:00, 32.69it/s]\n"
          ]
        },
        {
          "output_type": "stream",
          "name": "stdout",
          "text": [
            "\n",
            "Epoch   136\n",
            "Train_cost  = 6.4311 | Test_cost  = 6.0937 | \n"
          ]
        },
        {
          "output_type": "stream",
          "name": "stderr",
          "text": [
            "Train: 100%|██████████| 7/7 [00:00<00:00, 29.99it/s]\n",
            "Test: 100%|██████████| 3/3 [00:00<00:00, 28.86it/s]\n"
          ]
        },
        {
          "output_type": "stream",
          "name": "stdout",
          "text": [
            "\n",
            "Epoch   137\n",
            "Train_cost  = 6.4180 | Test_cost  = 6.0822 | \n"
          ]
        },
        {
          "output_type": "stream",
          "name": "stderr",
          "text": [
            "Train: 100%|██████████| 7/7 [00:00<00:00, 32.11it/s]\n",
            "Test: 100%|██████████| 3/3 [00:00<00:00, 32.35it/s]\n"
          ]
        },
        {
          "output_type": "stream",
          "name": "stdout",
          "text": [
            "\n",
            "Epoch   138\n",
            "Train_cost  = 6.4052 | Test_cost  = 6.0710 | \n"
          ]
        },
        {
          "output_type": "stream",
          "name": "stderr",
          "text": [
            "Train: 100%|██████████| 7/7 [00:00<00:00, 31.75it/s]\n",
            "Test: 100%|██████████| 3/3 [00:00<00:00, 32.79it/s]\n"
          ]
        },
        {
          "output_type": "stream",
          "name": "stdout",
          "text": [
            "\n",
            "Epoch   139\n",
            "Train_cost  = 6.3928 | Test_cost  = 6.0602 | \n"
          ]
        },
        {
          "output_type": "stream",
          "name": "stderr",
          "text": [
            "Train: 100%|██████████| 7/7 [00:00<00:00, 33.17it/s]\n",
            "Test: 100%|██████████| 3/3 [00:00<00:00, 30.33it/s]\n"
          ]
        },
        {
          "output_type": "stream",
          "name": "stdout",
          "text": [
            "\n",
            "Epoch   140\n",
            "Train_cost  = 6.3805 | Test_cost  = 6.0497 | \n"
          ]
        },
        {
          "output_type": "display_data",
          "data": {
            "text/plain": [
              "<Figure size 576x360 with 1 Axes>"
            ],
            "image/png": "[encoded data removed]"
          },
          "metadata": {
            "needs_background": "light"
          }
        },
        {
          "output_type": "stream",
          "name": "stderr",
          "text": [
            "Train: 100%|██████████| 7/7 [00:00<00:00, 34.74it/s]\n",
            "Test: 100%|██████████| 3/3 [00:00<00:00, 31.05it/s]\n"
          ]
        },
        {
          "output_type": "stream",
          "name": "stdout",
          "text": [
            "\n",
            "Epoch   141\n",
            "Train_cost  = 6.3685 | Test_cost  = 6.0395 | \n"
          ]
        },
        {
          "output_type": "stream",
          "name": "stderr",
          "text": [
            "Train: 100%|██████████| 7/7 [00:00<00:00, 28.74it/s]\n",
            "Test: 100%|██████████| 3/3 [00:00<00:00, 29.25it/s]\n"
          ]
        },
        {
          "output_type": "stream",
          "name": "stdout",
          "text": [
            "\n",
            "Epoch   142\n",
            "Train_cost  = 6.3567 | Test_cost  = 6.0295 | \n"
          ]
        },
        {
          "output_type": "stream",
          "name": "stderr",
          "text": [
            "Train: 100%|██████████| 7/7 [00:00<00:00, 30.49it/s]\n",
            "Test: 100%|██████████| 3/3 [00:00<00:00, 27.84it/s]\n"
          ]
        },
        {
          "output_type": "stream",
          "name": "stdout",
          "text": [
            "\n",
            "Epoch   143\n",
            "Train_cost  = 6.3451 | Test_cost  = 6.0197 | \n"
          ]
        },
        {
          "output_type": "stream",
          "name": "stderr",
          "text": [
            "Train: 100%|██████████| 7/7 [00:00<00:00, 30.34it/s]\n",
            "Test: 100%|██████████| 3/3 [00:00<00:00, 30.95it/s]\n"
          ]
        },
        {
          "output_type": "stream",
          "name": "stdout",
          "text": [
            "\n",
            "Epoch   144\n",
            "Train_cost  = 6.3336 | Test_cost  = 6.0102 | \n"
          ]
        },
        {
          "output_type": "stream",
          "name": "stderr",
          "text": [
            "Train: 100%|██████████| 7/7 [00:00<00:00, 28.32it/s]\n",
            "Test: 100%|██████████| 3/3 [00:00<00:00, 22.74it/s]\n"
          ]
        },
        {
          "output_type": "stream",
          "name": "stdout",
          "text": [
            "\n",
            "Epoch   145\n",
            "Train_cost  = 6.3222 | Test_cost  = 6.0008 | \n"
          ]
        },
        {
          "output_type": "stream",
          "name": "stderr",
          "text": [
            "Train: 100%|██████████| 7/7 [00:00<00:00, 32.11it/s]\n",
            "Test: 100%|██████████| 3/3 [00:00<00:00, 28.29it/s]\n"
          ]
        },
        {
          "output_type": "stream",
          "name": "stdout",
          "text": [
            "\n",
            "Epoch   146\n",
            "Train_cost  = 6.3109 | Test_cost  = 5.9917 | \n"
          ]
        },
        {
          "output_type": "stream",
          "name": "stderr",
          "text": [
            "Train: 100%|██████████| 7/7 [00:00<00:00, 32.78it/s]\n",
            "Test: 100%|██████████| 3/3 [00:00<00:00, 29.26it/s]\n"
          ]
        },
        {
          "output_type": "stream",
          "name": "stdout",
          "text": [
            "\n",
            "Epoch   147\n",
            "Train_cost  = 6.2996 | Test_cost  = 5.9829 | \n"
          ]
        },
        {
          "output_type": "stream",
          "name": "stderr",
          "text": [
            "Train: 100%|██████████| 7/7 [00:00<00:00, 30.69it/s]\n",
            "Test: 100%|██████████| 3/3 [00:00<00:00, 29.28it/s]\n"
          ]
        },
        {
          "output_type": "stream",
          "name": "stdout",
          "text": [
            "\n",
            "Epoch   148\n",
            "Train_cost  = 6.2883 | Test_cost  = 5.9745 | \n"
          ]
        },
        {
          "output_type": "stream",
          "name": "stderr",
          "text": [
            "Train: 100%|██████████| 7/7 [00:00<00:00, 31.68it/s]\n",
            "Test: 100%|██████████| 3/3 [00:00<00:00, 32.02it/s]\n"
          ]
        },
        {
          "output_type": "stream",
          "name": "stdout",
          "text": [
            "\n",
            "Epoch   149\n",
            "Train_cost  = 6.2768 | Test_cost  = 5.9670 | \n"
          ]
        },
        {
          "output_type": "stream",
          "name": "stderr",
          "text": [
            "Train: 100%|██████████| 7/7 [00:00<00:00, 32.06it/s]\n",
            "Test: 100%|██████████| 3/3 [00:00<00:00, 29.31it/s]\n"
          ]
        },
        {
          "output_type": "stream",
          "name": "stdout",
          "text": [
            "\n",
            "Epoch   150\n",
            "Train_cost  = 6.2656 | Test_cost  = 5.9611 | \n"
          ]
        },
        {
          "output_type": "stream",
          "name": "stderr",
          "text": [
            "Train: 100%|██████████| 7/7 [00:00<00:00, 30.40it/s]\n",
            "Test: 100%|██████████| 3/3 [00:00<00:00, 33.12it/s]\n"
          ]
        },
        {
          "output_type": "stream",
          "name": "stdout",
          "text": [
            "\n",
            "Epoch   151\n",
            "Train_cost  = 6.2552 | Test_cost  = 5.9576 | \n"
          ]
        },
        {
          "output_type": "stream",
          "name": "stderr",
          "text": [
            "Train: 100%|██████████| 7/7 [00:00<00:00, 30.79it/s]\n",
            "Test: 100%|██████████| 3/3 [00:00<00:00, 28.30it/s]\n"
          ]
        },
        {
          "output_type": "stream",
          "name": "stdout",
          "text": [
            "\n",
            "Epoch   152\n",
            "Train_cost  = 6.2463 | Test_cost  = 5.9554 | \n"
          ]
        },
        {
          "output_type": "stream",
          "name": "stderr",
          "text": [
            "Train: 100%|██████████| 7/7 [00:00<00:00, 33.36it/s]\n",
            "Test: 100%|██████████| 3/3 [00:00<00:00, 31.28it/s]\n"
          ]
        },
        {
          "output_type": "stream",
          "name": "stdout",
          "text": [
            "\n",
            "Epoch   153\n",
            "Train_cost  = 6.2378 | Test_cost  = 5.9511 | \n"
          ]
        },
        {
          "output_type": "stream",
          "name": "stderr",
          "text": [
            "Train: 100%|██████████| 7/7 [00:00<00:00, 28.50it/s]\n",
            "Test: 100%|██████████| 3/3 [00:00<00:00, 31.68it/s]\n"
          ]
        },
        {
          "output_type": "stream",
          "name": "stdout",
          "text": [
            "\n",
            "Epoch   154\n",
            "Train_cost  = 6.2287 | Test_cost  = 5.9429 | \n"
          ]
        },
        {
          "output_type": "stream",
          "name": "stderr",
          "text": [
            "Train: 100%|██████████| 7/7 [00:00<00:00, 27.51it/s]\n",
            "Test: 100%|██████████| 3/3 [00:00<00:00, 26.27it/s]\n"
          ]
        },
        {
          "output_type": "stream",
          "name": "stdout",
          "text": [
            "\n",
            "Epoch   155\n",
            "Train_cost  = 6.2174 | Test_cost  = 5.9321 | \n"
          ]
        },
        {
          "output_type": "stream",
          "name": "stderr",
          "text": [
            "Train: 100%|██████████| 7/7 [00:00<00:00, 27.12it/s]\n",
            "Test: 100%|██████████| 3/3 [00:00<00:00, 20.87it/s]\n"
          ]
        },
        {
          "output_type": "stream",
          "name": "stdout",
          "text": [
            "\n",
            "Epoch   156\n",
            "Train_cost  = 6.2054 | Test_cost  = 5.9219 | \n"
          ]
        },
        {
          "output_type": "stream",
          "name": "stderr",
          "text": [
            "Train: 100%|██████████| 7/7 [00:00<00:00, 31.05it/s]\n",
            "Test: 100%|██████████| 3/3 [00:00<00:00, 29.55it/s]\n"
          ]
        },
        {
          "output_type": "stream",
          "name": "stdout",
          "text": [
            "\n",
            "Epoch   157\n",
            "Train_cost  = 6.1920 | Test_cost  = 5.9133 | \n"
          ]
        },
        {
          "output_type": "stream",
          "name": "stderr",
          "text": [
            "Train: 100%|██████████| 7/7 [00:00<00:00, 32.86it/s]\n",
            "Test: 100%|██████████| 3/3 [00:00<00:00, 33.22it/s]\n"
          ]
        },
        {
          "output_type": "stream",
          "name": "stdout",
          "text": [
            "\n",
            "Epoch   158\n",
            "Train_cost  = 6.1820 | Test_cost  = 5.9067 | \n"
          ]
        },
        {
          "output_type": "stream",
          "name": "stderr",
          "text": [
            "Train: 100%|██████████| 7/7 [00:00<00:00, 26.48it/s]\n",
            "Test: 100%|██████████| 3/3 [00:00<00:00, 28.61it/s]\n"
          ]
        },
        {
          "output_type": "stream",
          "name": "stdout",
          "text": [
            "\n",
            "Epoch   159\n",
            "Train_cost  = 6.1725 | Test_cost  = 5.8941 | \n"
          ]
        },
        {
          "output_type": "stream",
          "name": "stderr",
          "text": [
            "Train: 100%|██████████| 7/7 [00:00<00:00, 31.20it/s]\n",
            "Test: 100%|██████████| 3/3 [00:00<00:00, 29.26it/s]\n"
          ]
        },
        {
          "output_type": "stream",
          "name": "stdout",
          "text": [
            "\n",
            "Epoch   160\n",
            "Train_cost  = 6.1727 | Test_cost  = 5.8981 | \n"
          ]
        },
        {
          "output_type": "display_data",
          "data": {
            "text/plain": [
              "<Figure size 576x360 with 1 Axes>"
            ],
            "image/png": "[encoded data removed]"
          },
          "metadata": {
            "needs_background": "light"
          }
        },
        {
          "output_type": "stream",
          "name": "stdout",
          "text": [
            "\u001b[31m==> EarlyStop patience =  1 | Best test_cost: 5.8941\u001b[0m\n"
          ]
        },
        {
          "output_type": "stream",
          "name": "stderr",
          "text": [
            "Train: 100%|██████████| 7/7 [00:00<00:00, 28.76it/s]\n",
            "Test: 100%|██████████| 3/3 [00:00<00:00, 32.51it/s]\n"
          ]
        },
        {
          "output_type": "stream",
          "name": "stdout",
          "text": [
            "\n",
            "Epoch   161\n",
            "Train_cost  = 6.1612 | Test_cost  = 5.8765 | \n"
          ]
        },
        {
          "output_type": "stream",
          "name": "stderr",
          "text": [
            "Train: 100%|██████████| 7/7 [00:00<00:00, 28.52it/s]\n",
            "Test: 100%|██████████| 3/3 [00:00<00:00, 31.79it/s]\n"
          ]
        },
        {
          "output_type": "stream",
          "name": "stdout",
          "text": [
            "\n",
            "Epoch   162\n",
            "Train_cost  = 6.1500 | Test_cost  = 5.8891 | \n",
            "\u001b[31m==> EarlyStop patience =  1 | Best test_cost: 5.8765\u001b[0m\n"
          ]
        },
        {
          "output_type": "stream",
          "name": "stderr",
          "text": [
            "Train: 100%|██████████| 7/7 [00:00<00:00, 29.26it/s]\n",
            "Test: 100%|██████████| 3/3 [00:00<00:00, 28.22it/s]\n"
          ]
        },
        {
          "output_type": "stream",
          "name": "stdout",
          "text": [
            "\n",
            "Epoch   163\n",
            "Train_cost  = 6.1379 | Test_cost  = 5.8730 | \n"
          ]
        },
        {
          "output_type": "stream",
          "name": "stderr",
          "text": [
            "Train: 100%|██████████| 7/7 [00:00<00:00, 27.81it/s]\n",
            "Test: 100%|██████████| 3/3 [00:00<00:00, 27.30it/s]\n"
          ]
        },
        {
          "output_type": "stream",
          "name": "stdout",
          "text": [
            "\n",
            "Epoch   164\n",
            "Train_cost  = 6.1295 | Test_cost  = 5.8779 | \n",
            "\u001b[31m==> EarlyStop patience =  1 | Best test_cost: 5.8730\u001b[0m\n"
          ]
        },
        {
          "output_type": "stream",
          "name": "stderr",
          "text": [
            "Train: 100%|██████████| 7/7 [00:00<00:00, 28.78it/s]\n",
            "Test: 100%|██████████| 3/3 [00:00<00:00, 31.49it/s]\n"
          ]
        },
        {
          "output_type": "stream",
          "name": "stdout",
          "text": [
            "\n",
            "Epoch   165\n",
            "Train_cost  = 6.1199 | Test_cost  = 5.8594 | \n"
          ]
        },
        {
          "output_type": "stream",
          "name": "stderr",
          "text": [
            "Train: 100%|██████████| 7/7 [00:00<00:00, 28.06it/s]\n",
            "Test: 100%|██████████| 3/3 [00:00<00:00, 28.92it/s]\n"
          ]
        },
        {
          "output_type": "stream",
          "name": "stdout",
          "text": [
            "\n",
            "Epoch   166\n",
            "Train_cost  = 6.1158 | Test_cost  = 5.8776 | \n",
            "\u001b[31m==> EarlyStop patience =  1 | Best test_cost: 5.8594\u001b[0m\n"
          ]
        },
        {
          "output_type": "stream",
          "name": "stderr",
          "text": [
            "Train: 100%|██████████| 7/7 [00:00<00:00, 31.71it/s]\n",
            "Test: 100%|██████████| 3/3 [00:00<00:00, 29.85it/s]\n"
          ]
        },
        {
          "output_type": "stream",
          "name": "stdout",
          "text": [
            "\n",
            "Epoch   167\n",
            "Train_cost  = 6.1076 | Test_cost  = 5.8446 | \n"
          ]
        },
        {
          "output_type": "stream",
          "name": "stderr",
          "text": [
            "Train: 100%|██████████| 7/7 [00:00<00:00, 33.42it/s]\n",
            "Test: 100%|██████████| 3/3 [00:00<00:00, 30.38it/s]\n"
          ]
        },
        {
          "output_type": "stream",
          "name": "stdout",
          "text": [
            "\n",
            "Epoch   168\n",
            "Train_cost  = 6.0935 | Test_cost  = 5.8644 | \n",
            "\u001b[31m==> EarlyStop patience =  1 | Best test_cost: 5.8446\u001b[0m\n"
          ]
        },
        {
          "output_type": "stream",
          "name": "stderr",
          "text": [
            "Train: 100%|██████████| 7/7 [00:00<00:00, 30.78it/s]\n",
            "Test: 100%|██████████| 3/3 [00:00<00:00, 29.12it/s]\n"
          ]
        },
        {
          "output_type": "stream",
          "name": "stdout",
          "text": [
            "\n",
            "Epoch   169\n",
            "Train_cost  = 6.0859 | Test_cost  = 5.8418 | \n"
          ]
        },
        {
          "output_type": "stream",
          "name": "stderr",
          "text": [
            "Train: 100%|██████████| 7/7 [00:00<00:00, 34.36it/s]\n",
            "Test: 100%|██████████| 3/3 [00:00<00:00, 28.87it/s]\n"
          ]
        },
        {
          "output_type": "stream",
          "name": "stdout",
          "text": [
            "\n",
            "Epoch   170\n",
            "Train_cost  = 6.0730 | Test_cost  = 5.8466 | \n",
            "\u001b[31m==> EarlyStop patience =  1 | Best test_cost: 5.8418\u001b[0m\n"
          ]
        },
        {
          "output_type": "stream",
          "name": "stderr",
          "text": [
            "Train: 100%|██████████| 7/7 [00:00<00:00, 32.26it/s]\n",
            "Test: 100%|██████████| 3/3 [00:00<00:00, 28.25it/s]\n"
          ]
        },
        {
          "output_type": "stream",
          "name": "stdout",
          "text": [
            "\n",
            "Epoch   171\n",
            "Train_cost  = 6.0670 | Test_cost  = 5.8310 | \n"
          ]
        },
        {
          "output_type": "stream",
          "name": "stderr",
          "text": [
            "Train: 100%|██████████| 7/7 [00:00<00:00, 29.17it/s]\n",
            "Test: 100%|██████████| 3/3 [00:00<00:00, 28.91it/s]\n"
          ]
        },
        {
          "output_type": "stream",
          "name": "stdout",
          "text": [
            "\n",
            "Epoch   172\n",
            "Train_cost  = 6.0582 | Test_cost  = 5.8384 | \n",
            "\u001b[31m==> EarlyStop patience =  1 | Best test_cost: 5.8310\u001b[0m\n"
          ]
        },
        {
          "output_type": "stream",
          "name": "stderr",
          "text": [
            "Train: 100%|██████████| 7/7 [00:00<00:00, 26.93it/s]\n",
            "Test: 100%|██████████| 3/3 [00:00<00:00, 28.58it/s]\n"
          ]
        },
        {
          "output_type": "stream",
          "name": "stdout",
          "text": [
            "\n",
            "Epoch   173\n",
            "Train_cost  = 6.0517 | Test_cost  = 5.8164 | \n"
          ]
        },
        {
          "output_type": "stream",
          "name": "stderr",
          "text": [
            "Train: 100%|██████████| 7/7 [00:00<00:00, 27.02it/s]\n",
            "Test: 100%|██████████| 3/3 [00:00<00:00, 29.25it/s]\n"
          ]
        },
        {
          "output_type": "stream",
          "name": "stdout",
          "text": [
            "\n",
            "Epoch   174\n",
            "Train_cost  = 6.0435 | Test_cost  = 5.8375 | \n",
            "\u001b[31m==> EarlyStop patience =  1 | Best test_cost: 5.8164\u001b[0m\n"
          ]
        },
        {
          "output_type": "stream",
          "name": "stderr",
          "text": [
            "Train: 100%|██████████| 7/7 [00:00<00:00, 28.59it/s]\n",
            "Test: 100%|██████████| 3/3 [00:00<00:00, 29.39it/s]\n"
          ]
        },
        {
          "output_type": "stream",
          "name": "stdout",
          "text": [
            "\n",
            "Epoch   175\n",
            "Train_cost  = 6.0395 | Test_cost  = 5.8085 | \n"
          ]
        },
        {
          "output_type": "stream",
          "name": "stderr",
          "text": [
            "Train: 100%|██████████| 7/7 [00:00<00:00, 28.49it/s]\n",
            "Test: 100%|██████████| 3/3 [00:00<00:00, 29.84it/s]\n"
          ]
        },
        {
          "output_type": "stream",
          "name": "stdout",
          "text": [
            "\n",
            "Epoch   176\n",
            "Train_cost  = 6.0267 | Test_cost  = 5.8301 | \n",
            "\u001b[31m==> EarlyStop patience =  1 | Best test_cost: 5.8085\u001b[0m\n"
          ]
        },
        {
          "output_type": "stream",
          "name": "stderr",
          "text": [
            "Train: 100%|██████████| 7/7 [00:00<00:00, 28.45it/s]\n",
            "Test: 100%|██████████| 3/3 [00:00<00:00, 27.18it/s]\n"
          ]
        },
        {
          "output_type": "stream",
          "name": "stdout",
          "text": [
            "\n",
            "Epoch   177\n",
            "Train_cost  = 6.0224 | Test_cost  = 5.8050 | \n"
          ]
        },
        {
          "output_type": "stream",
          "name": "stderr",
          "text": [
            "Train: 100%|██████████| 7/7 [00:00<00:00, 31.04it/s]\n",
            "Test: 100%|██████████| 3/3 [00:00<00:00, 26.83it/s]\n"
          ]
        },
        {
          "output_type": "stream",
          "name": "stdout",
          "text": [
            "\n",
            "Epoch   178\n",
            "Train_cost  = 6.0093 | Test_cost  = 5.8174 | \n",
            "\u001b[31m==> EarlyStop patience =  1 | Best test_cost: 5.8050\u001b[0m\n"
          ]
        },
        {
          "output_type": "stream",
          "name": "stderr",
          "text": [
            "Train: 100%|██████████| 7/7 [00:00<00:00, 33.33it/s]\n",
            "Test: 100%|██████████| 3/3 [00:00<00:00, 28.97it/s]\n"
          ]
        },
        {
          "output_type": "stream",
          "name": "stdout",
          "text": [
            "\n",
            "Epoch   179\n",
            "Train_cost  = 6.0057 | Test_cost  = 5.8015 | \n"
          ]
        },
        {
          "output_type": "stream",
          "name": "stderr",
          "text": [
            "Train: 100%|██████████| 7/7 [00:00<00:00, 33.35it/s]\n",
            "Test: 100%|██████████| 3/3 [00:00<00:00, 24.12it/s]\n"
          ]
        },
        {
          "output_type": "stream",
          "name": "stdout",
          "text": [
            "\n",
            "Epoch   180\n",
            "Train_cost  = 5.9899 | Test_cost  = 5.8125 | \n"
          ]
        },
        {
          "output_type": "display_data",
          "data": {
            "text/plain": [
              "<Figure size 576x360 with 1 Axes>"
            ],
            "image/png": "[encoded data removed]"
          },
          "metadata": {
            "needs_background": "light"
          }
        },
        {
          "output_type": "stream",
          "name": "stdout",
          "text": [
            "\u001b[31m==> EarlyStop patience =  1 | Best test_cost: 5.8015\u001b[0m\n"
          ]
        },
        {
          "output_type": "stream",
          "name": "stderr",
          "text": [
            "Train: 100%|██████████| 7/7 [00:00<00:00, 30.43it/s]\n",
            "Test: 100%|██████████| 3/3 [00:00<00:00, 29.92it/s]\n"
          ]
        },
        {
          "output_type": "stream",
          "name": "stdout",
          "text": [
            "\n",
            "Epoch   181\n",
            "Train_cost  = 5.9937 | Test_cost  = 5.8046 | \n",
            "\u001b[31m==> EarlyStop patience =  2 | Best test_cost: 5.8015\u001b[0m\n"
          ]
        },
        {
          "output_type": "stream",
          "name": "stderr",
          "text": [
            "Train: 100%|██████████| 7/7 [00:00<00:00, 28.45it/s]\n",
            "Test: 100%|██████████| 3/3 [00:00<00:00, 31.10it/s]\n"
          ]
        },
        {
          "output_type": "stream",
          "name": "stdout",
          "text": [
            "\n",
            "Epoch   182\n",
            "Train_cost  = 5.9784 | Test_cost  = 5.8176 | \n",
            "\u001b[31m==> EarlyStop patience =  3 | Best test_cost: 5.8015\u001b[0m\n"
          ]
        },
        {
          "output_type": "stream",
          "name": "stderr",
          "text": [
            "Train: 100%|██████████| 7/7 [00:00<00:00, 32.93it/s]\n",
            "Test: 100%|██████████| 3/3 [00:00<00:00, 29.51it/s]\n"
          ]
        },
        {
          "output_type": "stream",
          "name": "stdout",
          "text": [
            "\n",
            "Epoch   183\n",
            "Train_cost  = 5.9837 | Test_cost  = 5.8033 | \n",
            "\u001b[31m==> EarlyStop patience =  4 | Best test_cost: 5.8015\u001b[0m\n"
          ]
        },
        {
          "output_type": "stream",
          "name": "stderr",
          "text": [
            "Train: 100%|██████████| 7/7 [00:00<00:00, 32.18it/s]\n",
            "Test: 100%|██████████| 3/3 [00:00<00:00, 28.23it/s]\n"
          ]
        },
        {
          "output_type": "stream",
          "name": "stdout",
          "text": [
            "\n",
            "Epoch   184\n",
            "Train_cost  = 5.9736 | Test_cost  = 5.8203 | \n",
            "\u001b[31m==> EarlyStop patience =  5 | Best test_cost: 5.8015\u001b[0m\n",
            "\u001b[31m==> Execute Early Stopping at epoch: 184 | Best test_cost: 5.8015\u001b[0m\n",
            "\u001b[31m==> Best model is saved at /content/data/model/lstm\u001b[0m\n"
          ]
        },
        {
          "output_type": "display_data",
          "data": {
            "text/plain": [
              "<Figure size 576x360 with 1 Axes>"
            ],
            "image/png": "[encoded data removed]"
          },
          "metadata": {
            "needs_background": "light"
          }
        }
      ],
      "source": [
        "while True:\n",
        "  train_cost = loop_fn(\"train\", train_set, train_loader, model, criterion, optimizer, device)\n",
        "  with torch.no_grad():\n",
        "    test_cost= loop_fn(\"test\", test_set, test_loader, model, criterion, optimizer, device)\n",
        "\n",
        "  #Logging\n",
        "  callback.log(train_cost, test_cost)\n",
        "\n",
        "  #Checkpoint\n",
        "  callback.save_checkpoint()\n",
        "\n",
        "  #Runtime_plotting\n",
        "  callback.cost_runtime_plotting()\n",
        "\n",
        "  #Early stopping\n",
        "  if callback.early_stopping(model, monitor=\"test_cost\"):\n",
        "        callback.plot_cost()\n",
        "        break"
      ]
    },
    {
      "cell_type": "markdown",
      "id": "voJ9Va2IGfHh",
      "metadata": {
        "id": "voJ9Va2IGfHh"
      },
      "source": [
        "## Sanity Check"
      ]
    },
    {
      "cell_type": "code",
      "execution_count": 21,
      "id": "4hRUhr6bJ1On",
      "metadata": {
        "id": "4hRUhr6bJ1On"
      },
      "outputs": [],
      "source": [
        "# utils\n",
        "def data4pred(model, dataset, dataloader, device):    \n",
        "    preds, targets = [], []\n",
        "    hidden = None\n",
        "    with torch.no_grad():\n",
        "        model.eval()\n",
        "        for inputs, target in dataloader:\n",
        "            inputs = inputs.to(device)\n",
        "            \n",
        "            output, hidden = model(inputs, hidden)\n",
        "            preds += output.flatten().tolist()\n",
        "            targets += target.flatten().tolist()\n",
        "\n",
        "    plt.plot(dataset.target_ticks, targets, 'b-', label=\"data\")\n",
        "    plt.plot(dataset.target_ticks, preds, 'r-', label=\"pred\")\n",
        "    plt.legend()    \n",
        "    \n",
        "def pred4pred(model, dataset, dataloader, device, n_prior=500, n_forecast=200):\n",
        "    preds, targets = [], []\n",
        "    hidden = None    \n",
        "    end = n_prior + n_forecast    \n",
        "    with torch.no_grad():\n",
        "        model.eval()       \n",
        "        for idx, (inputs, target) in enumerate(dataloader):\n",
        "            if idx == end:\n",
        "                break\n",
        "            elif idx > n_prior:\n",
        "                inputs[0, 0, 0] = preds[-1]\n",
        "                \n",
        "            inputs = inputs.to(device)\n",
        "            output, hidden = model(inputs, hidden)\n",
        "            \n",
        "            if idx > n_prior:\n",
        "                preds.append(output.flatten().tolist()[-1])\n",
        "            else:\n",
        "                preds += output.flatten().tolist()   \n",
        "            targets += target.flatten().tolist()\n",
        "\n",
        "    plt.plot(dataset.target_ticks[:n_prior], targets[:n_prior], 'b-', label=\"history_data\")\n",
        "    plt.plot(dataset.target_ticks[n_prior:end], targets[n_prior:], 'b-', label=\"unseen_data\", alpha=0.3)\n",
        "    plt.plot(dataset.target_ticks[:end], preds, 'r-', label=\"prediction\")\n",
        "    plt.axvline(dataset.target_ticks[n_prior], color='k', linestyle=\"--\", linewidth=1)\n",
        "    plt.legend()   "
      ]
    },
    {
      "cell_type": "code",
      "execution_count": 22,
      "id": "FnuDa5BPogRc",
      "metadata": {
        "colab": {
          "base_uri": "https://localhost:8080/"
        },
        "id": "FnuDa5BPogRc",
        "outputId": "e22c49ea-a3db-4afe-eb25-af48ffc1508b"
      },
      "outputs": [
        {
          "output_type": "stream",
          "name": "stdout",
          "text": [
            "(N, S, F): (2736, 1, 1)\n",
            "Note: last \u001b[31m0 data excluded\u001b[0m\n",
            "\n",
            "(N, S, F): (912, 1, 1)\n",
            "Note: last \u001b[31m0 data excluded\u001b[0m\n",
            "\n"
          ]
        }
      ],
      "source": [
        "train_forecast_set = TimeSeriesDataset(ts_train, \"Temp\", 1)\n",
        "trainforecastloader = DataLoader(train_forecast_set)\n",
        "test_forecast_set = TimeSeriesDataset(ts_test, \"Temp\", 1)\n",
        "testforecastloader = DataLoader(test_forecast_set)"
      ]
    },
    {
      "cell_type": "code",
      "execution_count": 23,
      "id": "vjzjhM3zpV-d",
      "metadata": {
        "colab": {
          "base_uri": "https://localhost:8080/",
          "height": 624
        },
        "id": "vjzjhM3zpV-d",
        "outputId": "354837d7-7ee3-4b32-9de4-f9fd9919af96"
      },
      "outputs": [
        {
          "output_type": "execute_result",
          "data": {
            "text/plain": [
              "Text(0.5, 1.0, 'Test')"
            ]
          },
          "metadata": {},
          "execution_count": 23
        },
        {
          "output_type": "display_data",
          "data": {
            "text/plain": [
              "<Figure size 1080x720 with 2 Axes>"
            ],
            "image/png": "[encoded data removed]"
          },
          "metadata": {
            "needs_background": "light"
          }
        }
      ],
      "source": [
        "# Data 4 Pred\n",
        "plt.figure(figsize=(15, 10))\n",
        "\n",
        "plt.subplot(211)\n",
        "data4pred(model, train_forecast_set, trainforecastloader, device)\n",
        "plt.title(\"Train\")\n",
        "\n",
        "plt.subplot(212)\n",
        "data4pred(model, test_forecast_set, testforecastloader, device)\n",
        "plt.title(\"Test\")"
      ]
    },
    {
      "cell_type": "code",
      "execution_count": 24,
      "id": "a9BoJS-Spu-o",
      "metadata": {
        "colab": {
          "base_uri": "https://localhost:8080/",
          "height": 353
        },
        "id": "a9BoJS-Spu-o",
        "outputId": "4fe00d9c-1280-4a40-d176-e9b3c7a772cb"
      },
      "outputs": [
        {
          "output_type": "execute_result",
          "data": {
            "text/plain": [
              "Text(0.5, 1.0, 'test')"
            ]
          },
          "metadata": {},
          "execution_count": 24
        },
        {
          "output_type": "display_data",
          "data": {
            "text/plain": [
              "<Figure size 1080x360 with 1 Axes>"
            ],
            "image/png": "[encoded data removed]"
          },
          "metadata": {
            "needs_background": "light"
          }
        }
      ],
      "source": [
        "# Pred 4 Pred\n",
        "plt.figure(figsize=(15, 5))\n",
        "pred4pred(model, test_forecast_set, testforecastloader, device)\n",
        "plt.title(\"test\")"
      ]
    }
  ],
  "metadata": {
    "colab": {
      "provenance": [],
      "include_colab_link": true
    },
    "gpuClass": "standard",
    "kernelspec": {
      "display_name": "Python 3",
      "name": "python3"
    },
    "language_info": {
      "name": "python"
    }
  },
  "nbformat": 4,
  "nbformat_minor": 5
}