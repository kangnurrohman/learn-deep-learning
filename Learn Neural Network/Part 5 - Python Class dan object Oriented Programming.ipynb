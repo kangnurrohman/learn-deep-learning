{
  "cells": [
    {
      "cell_type": "markdown",
      "metadata": {
        "id": "view-in-github",
        "colab_type": "text"
      },
      "source": [
        "<a href=\"https://colab.research.google.com/github/kangnurrohman/belajar-neural-network/blob/main/materi/Part%205%20-%20Python%20Class%20dan%20object%20Oriented%20Programming.ipynb\" target=\"_parent\"><img src=\"https://colab.research.google.com/assets/colab-badge.svg\" alt=\"Open In Colab\"/></a>"
      ]
    },
    {
      "cell_type": "code",
      "source": [
        "class Kendaraan():\n",
        "  def __init__(self, jenis_kendaraan, merk_kendaraan, bahan_bakar, warna = \"hitam\"):\n",
        "    self.jenis_kendaraan = jenis_kendaraan\n",
        "    self.merk_kendaraan = merk_kendaraan\n",
        "    self.bahan_bakar = bahan_bakar\n",
        "    self.warna = warna\n",
        "  def warna_motor(self, warna):\n",
        "    self.warna = warna\n",
        "    print(f\"Warna motor berubah menjadi {warna}\")"
      ],
      "metadata": {
        "id": "6-kflvkYYbYu"
      },
      "id": "6-kflvkYYbYu",
      "execution_count": 1,
      "outputs": []
    },
    {
      "cell_type": "code",
      "source": [
        "motor = Kendaraan(\"motor\", \"honda\", \"premium\")"
      ],
      "metadata": {
        "id": "ONJuWr3QY1jn"
      },
      "id": "ONJuWr3QY1jn",
      "execution_count": 2,
      "outputs": []
    },
    {
      "cell_type": "code",
      "source": [
        "motor.jenis_kendaraan"
      ],
      "metadata": {
        "colab": {
          "base_uri": "https://localhost:8080/",
          "height": 35
        },
        "id": "5-c9GdN4ZPw_",
        "outputId": "0a563e8d-8846-4828-e05c-74815665c722"
      },
      "id": "5-c9GdN4ZPw_",
      "execution_count": 3,
      "outputs": [
        {
          "output_type": "execute_result",
          "data": {
            "text/plain": [
              "'motor'"
            ],
            "application/vnd.google.colaboratory.intrinsic+json": {
              "type": "string"
            }
          },
          "metadata": {},
          "execution_count": 3
        }
      ]
    },
    {
      "cell_type": "code",
      "source": [
        "motor.merk_kendaraan"
      ],
      "metadata": {
        "colab": {
          "base_uri": "https://localhost:8080/",
          "height": 35
        },
        "id": "wb8n43YlZi-6",
        "outputId": "f91773c0-03fd-41e3-f4a8-93a73ffe0614"
      },
      "id": "wb8n43YlZi-6",
      "execution_count": 4,
      "outputs": [
        {
          "output_type": "execute_result",
          "data": {
            "text/plain": [
              "'honda'"
            ],
            "application/vnd.google.colaboratory.intrinsic+json": {
              "type": "string"
            }
          },
          "metadata": {},
          "execution_count": 4
        }
      ]
    },
    {
      "cell_type": "code",
      "source": [
        "motor.bahan_bakar"
      ],
      "metadata": {
        "colab": {
          "base_uri": "https://localhost:8080/",
          "height": 35
        },
        "id": "tCztWCkYZ0FB",
        "outputId": "a4f10919-801a-4490-9e5f-e56f3efeb8b0"
      },
      "id": "tCztWCkYZ0FB",
      "execution_count": 5,
      "outputs": [
        {
          "output_type": "execute_result",
          "data": {
            "text/plain": [
              "'premium'"
            ],
            "application/vnd.google.colaboratory.intrinsic+json": {
              "type": "string"
            }
          },
          "metadata": {},
          "execution_count": 5
        }
      ]
    },
    {
      "cell_type": "code",
      "source": [
        "motor.warna"
      ],
      "metadata": {
        "colab": {
          "base_uri": "https://localhost:8080/",
          "height": 35
        },
        "id": "YMZxmVB2aKdM",
        "outputId": "78218d36-bbc5-41a2-ae10-8da107d4eeff"
      },
      "id": "YMZxmVB2aKdM",
      "execution_count": 6,
      "outputs": [
        {
          "output_type": "execute_result",
          "data": {
            "text/plain": [
              "'hitam'"
            ],
            "application/vnd.google.colaboratory.intrinsic+json": {
              "type": "string"
            }
          },
          "metadata": {},
          "execution_count": 6
        }
      ]
    },
    {
      "cell_type": "code",
      "source": [
        "motor.warna_motor('merah')"
      ],
      "metadata": {
        "colab": {
          "base_uri": "https://localhost:8080/"
        },
        "id": "uoMzNfjLaQRQ",
        "outputId": "e90f52d2-1d40-46ae-edc2-04ec866f56e9"
      },
      "id": "uoMzNfjLaQRQ",
      "execution_count": 7,
      "outputs": [
        {
          "output_type": "stream",
          "name": "stdout",
          "text": [
            "Warna motor berubah menjadi merah\n"
          ]
        }
      ]
    },
    {
      "cell_type": "code",
      "source": [
        "motor.warna"
      ],
      "metadata": {
        "colab": {
          "base_uri": "https://localhost:8080/",
          "height": 35
        },
        "id": "qRFe9Qv0aniH",
        "outputId": "9305112f-d3b2-4f43-ad6b-940550c25f73"
      },
      "id": "qRFe9Qv0aniH",
      "execution_count": 8,
      "outputs": [
        {
          "output_type": "execute_result",
          "data": {
            "text/plain": [
              "'merah'"
            ],
            "application/vnd.google.colaboratory.intrinsic+json": {
              "type": "string"
            }
          },
          "metadata": {},
          "execution_count": 8
        }
      ]
    },
    {
      "cell_type": "markdown",
      "source": [
        "##Inheritance"
      ],
      "metadata": {
        "id": "9JC32Fdydef8"
      },
      "id": "9JC32Fdydef8"
    },
    {
      "cell_type": "code",
      "source": [
        "class Kendaraan_Berat(Kendaraan):\n",
        "  def __init__(self, jenis_kendaraan, merk_kendaraan, bahan_bakar, warna, muatan):\n",
        "    super().__init__(jenis_kendaraan, merk_kendaraan, bahan_bakar, warna)\n",
        "    self.muatan = muatan\n",
        "  def upgrade_muatan(self, muatan):\n",
        "    self.muatan = muatan"
      ],
      "metadata": {
        "id": "-NYsjddvb1kz"
      },
      "id": "-NYsjddvb1kz",
      "execution_count": 9,
      "outputs": []
    },
    {
      "cell_type": "code",
      "source": [
        "Truck = Kendaraan_Berat(\"Truck\", \"Fuso\", \"Solar\", \"Kuning\", 1000)"
      ],
      "metadata": {
        "id": "hxjZ1oQcc18u"
      },
      "id": "hxjZ1oQcc18u",
      "execution_count": 10,
      "outputs": []
    },
    {
      "cell_type": "code",
      "source": [
        "Truck.muatan"
      ],
      "metadata": {
        "colab": {
          "base_uri": "https://localhost:8080/"
        },
        "id": "bONHiFPfeOOd",
        "outputId": "75e61396-fddb-4014-afc5-3a282faca758"
      },
      "id": "bONHiFPfeOOd",
      "execution_count": 11,
      "outputs": [
        {
          "output_type": "execute_result",
          "data": {
            "text/plain": [
              "1000"
            ]
          },
          "metadata": {},
          "execution_count": 11
        }
      ]
    },
    {
      "cell_type": "code",
      "source": [
        "Truck.upgrade_muatan(9000)\n",
        "Truck.muatan"
      ],
      "metadata": {
        "colab": {
          "base_uri": "https://localhost:8080/"
        },
        "id": "mOFaoc9gewaH",
        "outputId": "cf5e94da-29ee-49e4-dcc4-518ec4fd8d8f"
      },
      "id": "mOFaoc9gewaH",
      "execution_count": 12,
      "outputs": [
        {
          "output_type": "execute_result",
          "data": {
            "text/plain": [
              "9000"
            ]
          },
          "metadata": {},
          "execution_count": 12
        }
      ]
    },
    {
      "cell_type": "markdown",
      "source": [
        "##PyTorch NN Module"
      ],
      "metadata": {
        "id": "d5VEqcZsgyeK"
      },
      "id": "d5VEqcZsgyeK"
    },
    {
      "cell_type": "code",
      "source": [
        "import torch\n",
        "from torch import nn"
      ],
      "metadata": {
        "id": "ryOqoz9yg07o"
      },
      "id": "ryOqoz9yg07o",
      "execution_count": 13,
      "outputs": []
    },
    {
      "cell_type": "code",
      "source": [
        "??nn.Module"
      ],
      "metadata": {
        "id": "1voCur3sg9SJ"
      },
      "id": "1voCur3sg9SJ",
      "execution_count": 14,
      "outputs": []
    },
    {
      "cell_type": "code",
      "source": [
        "#sequential\n",
        "class CustomNN(nn.Module):\n",
        "  def __init__(self, input_size, output_size):\n",
        "    super().__init__()\n",
        "    self.fc = nn.Sequential(\n",
        "        nn.Linear(input_size, 16),\n",
        "        nn.ReLU(),\n",
        "        nn.Linear(16, 8),\n",
        "        nn.ReLU(),\n",
        "        nn.Linear(8, output_size),\n",
        "        nn.Sigmoid()\n",
        "    )\n",
        "  def forward(self, x):\n",
        "    return self.fc(x)"
      ],
      "metadata": {
        "id": "dBbHZBNClGKB"
      },
      "id": "dBbHZBNClGKB",
      "execution_count": 44,
      "outputs": []
    },
    {
      "cell_type": "code",
      "source": [
        "#multiclass\n",
        "class FaceBiometric(nn.Module):\n",
        "  def __init__(self, input_size, output_size):\n",
        "    super().__init__()\n",
        "    self.fc = nn.Sequential(\n",
        "        nn.Linear(input_size, 16),\n",
        "        nn.ReLU(),\n",
        "    )\n",
        "    self.reg = nn.Linear(16, 4),\n",
        "    self.clf = nn.Sequential(\n",
        "        nn.Linear(16, 4),\n",
        "        nn.Sigmoid()\n",
        "    )\n",
        "    def forward(self, x):\n",
        "      x = self.fc(x)\n",
        "      pred_reg = self.reg(x)\n",
        "      pred_clf = self.clf(x)\n",
        "      return pred_reg, pred_clf"
      ],
      "metadata": {
        "id": "LWnMRPr5sBNn"
      },
      "id": "LWnMRPr5sBNn",
      "execution_count": 16,
      "outputs": []
    },
    {
      "cell_type": "code",
      "source": [
        "model = CustomNN(7, 1)"
      ],
      "metadata": {
        "id": "G_A9qsuLvNJD"
      },
      "id": "G_A9qsuLvNJD",
      "execution_count": 45,
      "outputs": []
    },
    {
      "cell_type": "code",
      "source": [
        "contoh_data = torch.rand(100, 7)"
      ],
      "metadata": {
        "id": "LNTvcRKTwyF3"
      },
      "id": "LNTvcRKTwyF3",
      "execution_count": 35,
      "outputs": []
    },
    {
      "cell_type": "code",
      "source": [
        "output = model(contoh_data)\n",
        "output"
      ],
      "metadata": {
        "id": "K0FJQyB8w607",
        "outputId": "83d0d0a2-342e-4836-d7da-4cac80e28387",
        "colab": {
          "base_uri": "https://localhost:8080/"
        }
      },
      "id": "K0FJQyB8w607",
      "execution_count": 50,
      "outputs": [
        {
          "output_type": "execute_result",
          "data": {
            "text/plain": [
              "tensor([[0.4673],\n",
              "        [0.4631],\n",
              "        [0.4771],\n",
              "        [0.4723],\n",
              "        [0.4719],\n",
              "        [0.4674],\n",
              "        [0.4778],\n",
              "        [0.4641],\n",
              "        [0.4719],\n",
              "        [0.4782],\n",
              "        [0.4710],\n",
              "        [0.4817],\n",
              "        [0.4743],\n",
              "        [0.4776],\n",
              "        [0.4719],\n",
              "        [0.4597],\n",
              "        [0.4604],\n",
              "        [0.4635],\n",
              "        [0.4695],\n",
              "        [0.4798],\n",
              "        [0.4738],\n",
              "        [0.4570],\n",
              "        [0.4674],\n",
              "        [0.4689],\n",
              "        [0.4667],\n",
              "        [0.4689],\n",
              "        [0.4805],\n",
              "        [0.4782],\n",
              "        [0.4709],\n",
              "        [0.4709],\n",
              "        [0.4687],\n",
              "        [0.4821],\n",
              "        [0.4745],\n",
              "        [0.4584],\n",
              "        [0.4640],\n",
              "        [0.4722],\n",
              "        [0.4682],\n",
              "        [0.4663],\n",
              "        [0.4702],\n",
              "        [0.4714],\n",
              "        [0.4699],\n",
              "        [0.4807],\n",
              "        [0.4817],\n",
              "        [0.4711],\n",
              "        [0.4657],\n",
              "        [0.4667],\n",
              "        [0.4803],\n",
              "        [0.4666],\n",
              "        [0.4765],\n",
              "        [0.4651],\n",
              "        [0.4813],\n",
              "        [0.4707],\n",
              "        [0.4721],\n",
              "        [0.4741],\n",
              "        [0.4701],\n",
              "        [0.4770],\n",
              "        [0.4599],\n",
              "        [0.4590],\n",
              "        [0.4764],\n",
              "        [0.4642],\n",
              "        [0.4629],\n",
              "        [0.4620],\n",
              "        [0.4634],\n",
              "        [0.4701],\n",
              "        [0.4726],\n",
              "        [0.4619],\n",
              "        [0.4695],\n",
              "        [0.4752],\n",
              "        [0.4728],\n",
              "        [0.4760],\n",
              "        [0.4772],\n",
              "        [0.4645],\n",
              "        [0.4680],\n",
              "        [0.4647],\n",
              "        [0.4733],\n",
              "        [0.4797],\n",
              "        [0.4635],\n",
              "        [0.4634],\n",
              "        [0.4677],\n",
              "        [0.4729],\n",
              "        [0.4593],\n",
              "        [0.4661],\n",
              "        [0.4674],\n",
              "        [0.4714],\n",
              "        [0.4727],\n",
              "        [0.4649],\n",
              "        [0.4599],\n",
              "        [0.4769],\n",
              "        [0.4690],\n",
              "        [0.4841],\n",
              "        [0.4705],\n",
              "        [0.4611],\n",
              "        [0.4684],\n",
              "        [0.4711],\n",
              "        [0.4600],\n",
              "        [0.4872],\n",
              "        [0.4822],\n",
              "        [0.4766],\n",
              "        [0.4759],\n",
              "        [0.4661]], grad_fn=<SigmoidBackward0>)"
            ]
          },
          "metadata": {},
          "execution_count": 50
        }
      ]
    }
  ],
  "metadata": {
    "colab": {
      "provenance": [],
      "include_colab_link": true
    },
    "language_info": {
      "name": "python"
    },
    "kernelspec": {
      "name": "python3",
      "display_name": "Python 3"
    },
    "gpuClass": "standard"
  },
  "nbformat": 4,
  "nbformat_minor": 5
}